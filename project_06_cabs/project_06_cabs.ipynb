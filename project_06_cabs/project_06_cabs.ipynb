{
 "cells": [
  {
   "cell_type": "markdown",
   "id": "9af50be7",
   "metadata": {},
   "source": [
    "# Pendahuluan"
   ]
  },
  {
   "cell_type": "markdown",
   "id": "1e92eedb",
   "metadata": {},
   "source": [
    "Dari dataset yang ada :\n",
    "\n",
    "1. result01, data mengenai jumlah perjalanan dan nama perusahaan taksi pada tanggal 15-16 November 2017.\n",
    "\n",
    "2. result04, data mengenai jumlah rata-rata perjalanan yang berakhir di wilayah Chicago pada bulan November 2017.\n",
    "\n",
    "3. result07, data merupakan informasi semua perjalanan yang dilakukan pada hari sabtu bulan November 2017 yang dimulai di Loop dan berakhir di O'Hare.\n",
    "\n",
    "Akan diolah untuk mendapatkan informasi yang ada.\n",
    "\n",
    "Dan akan dilakukan pengujian hipotesis untuk menjawab pertanyaan yang diajukan, apakah durasi rata-rata perjalanan dari Loop ke Bandara Internasional O'Hare berubah pada hari-hari Sabtu yang hujan ?\n",
    " "
   ]
  },
  {
   "cell_type": "markdown",
   "id": "223eb0ea",
   "metadata": {},
   "source": [
    "# Inisialisasi"
   ]
  },
  {
   "cell_type": "code",
   "execution_count": 1,
   "id": "fed8e49a",
   "metadata": {},
   "outputs": [],
   "source": [
    "# memuat library\n",
    "import pandas as pd\n",
    "import numpy as np\n",
    "from scipy import stats as st"
   ]
  },
  {
   "cell_type": "code",
   "execution_count": 2,
   "id": "73867801",
   "metadata": {},
   "outputs": [],
   "source": [
    "# Fungsi menampilkan semua kolom\n",
    "pd.set_option('display.max_columns', None)"
   ]
  },
  {
   "cell_type": "markdown",
   "id": "b1b19750",
   "metadata": {},
   "source": [
    "# Memuat data"
   ]
  },
  {
   "cell_type": "code",
   "execution_count": 3,
   "id": "e93e4ace",
   "metadata": {},
   "outputs": [],
   "source": [
    "#Memuat data\n",
    "\n",
    "try :\n",
    "    result01 = pd.read_csv(r'C:\\Users\\vidop\\Documents\\Practicum\\Sprint 6\\File\\moved_project_sql_result_01.csv')\n",
    "    result04 = pd.read_csv(r'C:\\Users\\vidop\\Documents\\Practicum\\Sprint 6\\File\\moved_project_sql_result_04.csv')\n",
    "    result07 = pd.read_csv(r'C:\\Users\\vidop\\Documents\\Practicum\\Sprint 6\\File\\moved_project_sql_result_07.csv')\n",
    "\n",
    "except :\n",
    "    result01 = pd.read_csv('/datasets/project_sql_result_01.csv')\n",
    "    result04 = pd.read_csv('/datasets/project_sql_result_04.csv')\n",
    "    result07 = pd.read_csv('/datasets/project_sql_result_07.csv')"
   ]
  },
  {
   "cell_type": "markdown",
   "id": "f98dd837",
   "metadata": {},
   "source": [
    "# Mempersiapkan dan memperbaiki data"
   ]
  },
  {
   "cell_type": "markdown",
   "id": "8ef10045",
   "metadata": {},
   "source": [
    "Untuk mempermudah melihat informasi dan mengidentifikasi masalah yang terdapat pada data, dibuatkan fungsi karena akan dilakukan secara berulang."
   ]
  },
  {
   "cell_type": "code",
   "execution_count": 4,
   "id": "b94bc904",
   "metadata": {},
   "outputs": [],
   "source": [
    "# Fungsi informasi data\n",
    "\n",
    "def info(file) :\n",
    "    nacheck = file.isna().sum().sum()\n",
    "    dupcheck = file.duplicated().sum()\n",
    "    print('jumlah baris dan kolom :', file.shape)\n",
    "    print()\n",
    "    print(file.info())\n",
    "    print()\n",
    "    print(file.describe())\n",
    "    print()\n",
    "    if dupcheck > 0 :\n",
    "        print('Terdapat duplikat eksplisit :', dupcheck, 'Baris')\n",
    "    else :\n",
    "        print('Tidak terdapat duplikat eksplisit')\n",
    "    print()\n",
    "    if nacheck > 0 :\n",
    "        print('Terdapat nilai yang hilang pada :')\n",
    "        print(file.isna().sum())\n",
    "    else :\n",
    "        print('Tidak terdapat nilai yang hilang')\n",
    "    "
   ]
  },
  {
   "cell_type": "markdown",
   "id": "5c27c7f5",
   "metadata": {},
   "source": [
    "## result01"
   ]
  },
  {
   "cell_type": "markdown",
   "id": "5350e2c8",
   "metadata": {},
   "source": [
    "### Informasi umum"
   ]
  },
  {
   "cell_type": "code",
   "execution_count": 5,
   "id": "91661a49",
   "metadata": {},
   "outputs": [
    {
     "name": "stdout",
     "output_type": "stream",
     "text": [
      "jumlah baris dan kolom : (64, 2)\n",
      "\n",
      "<class 'pandas.core.frame.DataFrame'>\n",
      "RangeIndex: 64 entries, 0 to 63\n",
      "Data columns (total 2 columns):\n",
      " #   Column        Non-Null Count  Dtype \n",
      "---  ------        --------------  ----- \n",
      " 0   company_name  64 non-null     object\n",
      " 1   trips_amount  64 non-null     int64 \n",
      "dtypes: int64(1), object(1)\n",
      "memory usage: 1.1+ KB\n",
      "None\n",
      "\n",
      "       trips_amount\n",
      "count     64.000000\n",
      "mean    2145.484375\n",
      "std     3812.310186\n",
      "min        2.000000\n",
      "25%       20.750000\n",
      "50%      178.500000\n",
      "75%     2106.500000\n",
      "max    19558.000000\n",
      "\n",
      "Tidak terdapat duplikat eksplisit\n",
      "\n",
      "Tidak terdapat nilai yang hilang\n"
     ]
    }
   ],
   "source": [
    "info(result01)"
   ]
  },
  {
   "cell_type": "code",
   "execution_count": 6,
   "id": "6d60faf1",
   "metadata": {},
   "outputs": [
    {
     "data": {
      "text/html": [
       "<div>\n",
       "<style scoped>\n",
       "    .dataframe tbody tr th:only-of-type {\n",
       "        vertical-align: middle;\n",
       "    }\n",
       "\n",
       "    .dataframe tbody tr th {\n",
       "        vertical-align: top;\n",
       "    }\n",
       "\n",
       "    .dataframe thead th {\n",
       "        text-align: right;\n",
       "    }\n",
       "</style>\n",
       "<table border=\"1\" class=\"dataframe\">\n",
       "  <thead>\n",
       "    <tr style=\"text-align: right;\">\n",
       "      <th></th>\n",
       "      <th>company_name</th>\n",
       "      <th>trips_amount</th>\n",
       "    </tr>\n",
       "  </thead>\n",
       "  <tbody>\n",
       "    <tr>\n",
       "      <th>0</th>\n",
       "      <td>Flash Cab</td>\n",
       "      <td>19558</td>\n",
       "    </tr>\n",
       "    <tr>\n",
       "      <th>1</th>\n",
       "      <td>Taxi Affiliation Services</td>\n",
       "      <td>11422</td>\n",
       "    </tr>\n",
       "    <tr>\n",
       "      <th>2</th>\n",
       "      <td>Medallion Leasin</td>\n",
       "      <td>10367</td>\n",
       "    </tr>\n",
       "    <tr>\n",
       "      <th>3</th>\n",
       "      <td>Yellow Cab</td>\n",
       "      <td>9888</td>\n",
       "    </tr>\n",
       "    <tr>\n",
       "      <th>4</th>\n",
       "      <td>Taxi Affiliation Service Yellow</td>\n",
       "      <td>9299</td>\n",
       "    </tr>\n",
       "  </tbody>\n",
       "</table>\n",
       "</div>"
      ],
      "text/plain": [
       "                      company_name  trips_amount\n",
       "0                        Flash Cab         19558\n",
       "1        Taxi Affiliation Services         11422\n",
       "2                 Medallion Leasin         10367\n",
       "3                       Yellow Cab          9888\n",
       "4  Taxi Affiliation Service Yellow          9299"
      ]
     },
     "execution_count": 6,
     "metadata": {},
     "output_type": "execute_result"
    }
   ],
   "source": [
    "result01.head()"
   ]
  },
  {
   "cell_type": "markdown",
   "id": "3197e7d5",
   "metadata": {},
   "source": [
    "Informasi yang terdapat pada kolomnya :\n",
    "\n",
    "`company_name`: nama perusahaan taksi.\n",
    "\n",
    "`trips_amount`: jumlah perjalanan untuk setiap perusahaan taksi pada tanggal 15-16 November 2017."
   ]
  },
  {
   "cell_type": "markdown",
   "id": "4e5cdadc",
   "metadata": {},
   "source": [
    "## result04"
   ]
  },
  {
   "cell_type": "markdown",
   "id": "d5cb1e87",
   "metadata": {},
   "source": [
    "### Informasi umum"
   ]
  },
  {
   "cell_type": "code",
   "execution_count": 7,
   "id": "5fe339f5",
   "metadata": {},
   "outputs": [
    {
     "name": "stdout",
     "output_type": "stream",
     "text": [
      "jumlah baris dan kolom : (94, 2)\n",
      "\n",
      "<class 'pandas.core.frame.DataFrame'>\n",
      "RangeIndex: 94 entries, 0 to 93\n",
      "Data columns (total 2 columns):\n",
      " #   Column                 Non-Null Count  Dtype  \n",
      "---  ------                 --------------  -----  \n",
      " 0   dropoff_location_name  94 non-null     object \n",
      " 1   average_trips          94 non-null     float64\n",
      "dtypes: float64(1), object(1)\n",
      "memory usage: 1.6+ KB\n",
      "None\n",
      "\n",
      "       average_trips\n",
      "count      94.000000\n",
      "mean      599.953728\n",
      "std      1714.591098\n",
      "min         1.800000\n",
      "25%        14.266667\n",
      "50%        52.016667\n",
      "75%       298.858333\n",
      "max     10727.466667\n",
      "\n",
      "Tidak terdapat duplikat eksplisit\n",
      "\n",
      "Tidak terdapat nilai yang hilang\n"
     ]
    }
   ],
   "source": [
    "info(result04)"
   ]
  },
  {
   "cell_type": "code",
   "execution_count": 8,
   "id": "c13c44f9",
   "metadata": {},
   "outputs": [
    {
     "data": {
      "text/html": [
       "<div>\n",
       "<style scoped>\n",
       "    .dataframe tbody tr th:only-of-type {\n",
       "        vertical-align: middle;\n",
       "    }\n",
       "\n",
       "    .dataframe tbody tr th {\n",
       "        vertical-align: top;\n",
       "    }\n",
       "\n",
       "    .dataframe thead th {\n",
       "        text-align: right;\n",
       "    }\n",
       "</style>\n",
       "<table border=\"1\" class=\"dataframe\">\n",
       "  <thead>\n",
       "    <tr style=\"text-align: right;\">\n",
       "      <th></th>\n",
       "      <th>dropoff_location_name</th>\n",
       "      <th>average_trips</th>\n",
       "    </tr>\n",
       "  </thead>\n",
       "  <tbody>\n",
       "    <tr>\n",
       "      <th>0</th>\n",
       "      <td>Loop</td>\n",
       "      <td>10727.466667</td>\n",
       "    </tr>\n",
       "    <tr>\n",
       "      <th>1</th>\n",
       "      <td>River North</td>\n",
       "      <td>9523.666667</td>\n",
       "    </tr>\n",
       "    <tr>\n",
       "      <th>2</th>\n",
       "      <td>Streeterville</td>\n",
       "      <td>6664.666667</td>\n",
       "    </tr>\n",
       "    <tr>\n",
       "      <th>3</th>\n",
       "      <td>West Loop</td>\n",
       "      <td>5163.666667</td>\n",
       "    </tr>\n",
       "    <tr>\n",
       "      <th>4</th>\n",
       "      <td>O'Hare</td>\n",
       "      <td>2546.900000</td>\n",
       "    </tr>\n",
       "  </tbody>\n",
       "</table>\n",
       "</div>"
      ],
      "text/plain": [
       "  dropoff_location_name  average_trips\n",
       "0                  Loop   10727.466667\n",
       "1           River North    9523.666667\n",
       "2         Streeterville    6664.666667\n",
       "3             West Loop    5163.666667\n",
       "4                O'Hare    2546.900000"
      ]
     },
     "execution_count": 8,
     "metadata": {},
     "output_type": "execute_result"
    }
   ],
   "source": [
    "result04.head(5)"
   ]
  },
  {
   "cell_type": "markdown",
   "id": "2c8fb86e",
   "metadata": {},
   "source": [
    "Informasi yang terdapat dalam kolomnya :\n",
    "\n",
    "`dropoff_location_name`: nama wilayah di Chicago tempat perjalanan berakhir.\n",
    "\n",
    "`average_trips`: jumlah rata-rata perjalanan yang berakhir di setiap wilayah pada bulan November 2017."
   ]
  },
  {
   "cell_type": "markdown",
   "id": "8fe60d7e",
   "metadata": {},
   "source": [
    "## result07"
   ]
  },
  {
   "cell_type": "markdown",
   "id": "fc378e1d",
   "metadata": {},
   "source": [
    "### Informasi umum"
   ]
  },
  {
   "cell_type": "code",
   "execution_count": 9,
   "id": "80361191",
   "metadata": {},
   "outputs": [
    {
     "name": "stdout",
     "output_type": "stream",
     "text": [
      "jumlah baris dan kolom : (1068, 3)\n",
      "\n",
      "<class 'pandas.core.frame.DataFrame'>\n",
      "RangeIndex: 1068 entries, 0 to 1067\n",
      "Data columns (total 3 columns):\n",
      " #   Column              Non-Null Count  Dtype  \n",
      "---  ------              --------------  -----  \n",
      " 0   start_ts            1068 non-null   object \n",
      " 1   weather_conditions  1068 non-null   object \n",
      " 2   duration_seconds    1068 non-null   float64\n",
      "dtypes: float64(1), object(2)\n",
      "memory usage: 25.2+ KB\n",
      "None\n",
      "\n",
      "       duration_seconds\n",
      "count       1068.000000\n",
      "mean        2071.731273\n",
      "std          769.461125\n",
      "min            0.000000\n",
      "25%         1438.250000\n",
      "50%         1980.000000\n",
      "75%         2580.000000\n",
      "max         7440.000000\n",
      "\n",
      "Terdapat duplikat eksplisit : 197 Baris\n",
      "\n",
      "Tidak terdapat nilai yang hilang\n"
     ]
    }
   ],
   "source": [
    "info(result07)"
   ]
  },
  {
   "cell_type": "code",
   "execution_count": 10,
   "id": "63e59eb8",
   "metadata": {},
   "outputs": [
    {
     "data": {
      "text/html": [
       "<div>\n",
       "<style scoped>\n",
       "    .dataframe tbody tr th:only-of-type {\n",
       "        vertical-align: middle;\n",
       "    }\n",
       "\n",
       "    .dataframe tbody tr th {\n",
       "        vertical-align: top;\n",
       "    }\n",
       "\n",
       "    .dataframe thead th {\n",
       "        text-align: right;\n",
       "    }\n",
       "</style>\n",
       "<table border=\"1\" class=\"dataframe\">\n",
       "  <thead>\n",
       "    <tr style=\"text-align: right;\">\n",
       "      <th></th>\n",
       "      <th>start_ts</th>\n",
       "      <th>weather_conditions</th>\n",
       "      <th>duration_seconds</th>\n",
       "    </tr>\n",
       "  </thead>\n",
       "  <tbody>\n",
       "    <tr>\n",
       "      <th>0</th>\n",
       "      <td>2017-11-25 16:00:00</td>\n",
       "      <td>Good</td>\n",
       "      <td>2410.0</td>\n",
       "    </tr>\n",
       "    <tr>\n",
       "      <th>1</th>\n",
       "      <td>2017-11-25 14:00:00</td>\n",
       "      <td>Good</td>\n",
       "      <td>1920.0</td>\n",
       "    </tr>\n",
       "    <tr>\n",
       "      <th>2</th>\n",
       "      <td>2017-11-25 12:00:00</td>\n",
       "      <td>Good</td>\n",
       "      <td>1543.0</td>\n",
       "    </tr>\n",
       "    <tr>\n",
       "      <th>3</th>\n",
       "      <td>2017-11-04 10:00:00</td>\n",
       "      <td>Good</td>\n",
       "      <td>2512.0</td>\n",
       "    </tr>\n",
       "    <tr>\n",
       "      <th>4</th>\n",
       "      <td>2017-11-11 07:00:00</td>\n",
       "      <td>Good</td>\n",
       "      <td>1440.0</td>\n",
       "    </tr>\n",
       "  </tbody>\n",
       "</table>\n",
       "</div>"
      ],
      "text/plain": [
       "              start_ts weather_conditions  duration_seconds\n",
       "0  2017-11-25 16:00:00               Good            2410.0\n",
       "1  2017-11-25 14:00:00               Good            1920.0\n",
       "2  2017-11-25 12:00:00               Good            1543.0\n",
       "3  2017-11-04 10:00:00               Good            2512.0\n",
       "4  2017-11-11 07:00:00               Good            1440.0"
      ]
     },
     "execution_count": 10,
     "metadata": {},
     "output_type": "execute_result"
    }
   ],
   "source": [
    "result07.head(5)"
   ]
  },
  {
   "cell_type": "code",
   "execution_count": 11,
   "id": "90d189e0",
   "metadata": {},
   "outputs": [
    {
     "data": {
      "text/plain": [
       "array(['Good', 'Bad'], dtype=object)"
      ]
     },
     "execution_count": 11,
     "metadata": {},
     "output_type": "execute_result"
    }
   ],
   "source": [
    "result07['weather_conditions'].unique()"
   ]
  },
  {
   "cell_type": "markdown",
   "id": "58ac7d95",
   "metadata": {},
   "source": [
    "Data merupakan informasi semua perjalanan yang dilakukan pada hari sabtu yang dimulai di Loop dan berakhir di O'Hare. Dengan kondisi cuaca yang dibagi menjadi 2 kategori :\n",
    "\n",
    "1. *Bad* cuaca hujan dan badai.\n",
    "\n",
    "2. *Good* cuaca cerah.\n",
    "\n",
    "Informasi yang terdapat pada kolomnya :\n",
    "\n",
    "`start_ts` — tanggal dan waktu penjemputan.\n",
    "\n",
    "`weather_conditions` — kondisi cuaca saat perjalanan dimulai.\n",
    "\n",
    "`duration_seconds` — durasi perjalanan dalam satuan detik."
   ]
  },
  {
   "cell_type": "markdown",
   "id": "b268a3b8",
   "metadata": {},
   "source": [
    "Masalah yang terdapat pada data result07 :\n",
    "\n",
    "1. `start_ts` mempunyai format object.\n",
    "2. Terdapat duplikat eksplisit sebanyak 197 baris.\n",
    "3. Terdapat `duration_seconds` dengan durasi 0 detik."
   ]
  },
  {
   "cell_type": "markdown",
   "id": "5af9cbaf",
   "metadata": {},
   "source": [
    "### Memperbaiki data"
   ]
  },
  {
   "cell_type": "markdown",
   "id": "f186eb0c",
   "metadata": {},
   "source": [
    "#### Memperbaiki format `start_ts`"
   ]
  },
  {
   "cell_type": "code",
   "execution_count": 12,
   "id": "2bf74124",
   "metadata": {},
   "outputs": [],
   "source": [
    "result07['start_ts'] = pd.to_datetime(result07['start_ts'],format='%Y-%m-%d %H:%M:%S' )"
   ]
  },
  {
   "cell_type": "code",
   "execution_count": 13,
   "id": "2782c80f",
   "metadata": {},
   "outputs": [
    {
     "name": "stdout",
     "output_type": "stream",
     "text": [
      "<class 'pandas.core.frame.DataFrame'>\n",
      "RangeIndex: 1068 entries, 0 to 1067\n",
      "Data columns (total 3 columns):\n",
      " #   Column              Non-Null Count  Dtype         \n",
      "---  ------              --------------  -----         \n",
      " 0   start_ts            1068 non-null   datetime64[ns]\n",
      " 1   weather_conditions  1068 non-null   object        \n",
      " 2   duration_seconds    1068 non-null   float64       \n",
      "dtypes: datetime64[ns](1), float64(1), object(1)\n",
      "memory usage: 25.2+ KB\n"
     ]
    }
   ],
   "source": [
    "# Cek perubahan data\n",
    "result07.info()"
   ]
  },
  {
   "cell_type": "markdown",
   "id": "8e535968",
   "metadata": {},
   "source": [
    "Data dalam kolom `start_ts` dirubah menjadi format datetime yang sebelumnya memiliki format object."
   ]
  },
  {
   "cell_type": "markdown",
   "id": "3b0ff662",
   "metadata": {},
   "source": [
    "#### Menghapus duplikat eksplisit"
   ]
  },
  {
   "cell_type": "code",
   "execution_count": 14,
   "id": "1befe111",
   "metadata": {},
   "outputs": [],
   "source": [
    "result07 = result07.drop_duplicates()"
   ]
  },
  {
   "cell_type": "code",
   "execution_count": 15,
   "id": "2aad2a5d",
   "metadata": {},
   "outputs": [
    {
     "data": {
      "text/plain": [
       "0"
      ]
     },
     "execution_count": 15,
     "metadata": {},
     "output_type": "execute_result"
    }
   ],
   "source": [
    "# Cek baris duplikat\n",
    "result07.duplicated().sum()"
   ]
  },
  {
   "cell_type": "markdown",
   "id": "a061cfac",
   "metadata": {},
   "source": [
    "Data sudah tidak memiliki duplikat eksplisit setelah duplikat eksplisit dihapus."
   ]
  },
  {
   "cell_type": "markdown",
   "id": "697427fd",
   "metadata": {},
   "source": [
    "#### Menghapus data `duration_seconds` dengan durasi 0 detik"
   ]
  },
  {
   "cell_type": "code",
   "execution_count": 16,
   "id": "4e93957e",
   "metadata": {},
   "outputs": [
    {
     "data": {
      "text/html": [
       "<div>\n",
       "<style scoped>\n",
       "    .dataframe tbody tr th:only-of-type {\n",
       "        vertical-align: middle;\n",
       "    }\n",
       "\n",
       "    .dataframe tbody tr th {\n",
       "        vertical-align: top;\n",
       "    }\n",
       "\n",
       "    .dataframe thead th {\n",
       "        text-align: right;\n",
       "    }\n",
       "</style>\n",
       "<table border=\"1\" class=\"dataframe\">\n",
       "  <thead>\n",
       "    <tr style=\"text-align: right;\">\n",
       "      <th></th>\n",
       "      <th>start_ts</th>\n",
       "      <th>weather_conditions</th>\n",
       "      <th>duration_seconds</th>\n",
       "    </tr>\n",
       "  </thead>\n",
       "  <tbody>\n",
       "    <tr>\n",
       "      <th>163</th>\n",
       "      <td>2017-11-11 09:00:00</td>\n",
       "      <td>Good</td>\n",
       "      <td>0.0</td>\n",
       "    </tr>\n",
       "    <tr>\n",
       "      <th>168</th>\n",
       "      <td>2017-11-11 07:00:00</td>\n",
       "      <td>Good</td>\n",
       "      <td>0.0</td>\n",
       "    </tr>\n",
       "    <tr>\n",
       "      <th>204</th>\n",
       "      <td>2017-11-18 19:00:00</td>\n",
       "      <td>Good</td>\n",
       "      <td>0.0</td>\n",
       "    </tr>\n",
       "    <tr>\n",
       "      <th>552</th>\n",
       "      <td>2017-11-04 01:00:00</td>\n",
       "      <td>Good</td>\n",
       "      <td>0.0</td>\n",
       "    </tr>\n",
       "    <tr>\n",
       "      <th>801</th>\n",
       "      <td>2017-11-04 09:00:00</td>\n",
       "      <td>Good</td>\n",
       "      <td>0.0</td>\n",
       "    </tr>\n",
       "    <tr>\n",
       "      <th>1063</th>\n",
       "      <td>2017-11-25 11:00:00</td>\n",
       "      <td>Good</td>\n",
       "      <td>0.0</td>\n",
       "    </tr>\n",
       "  </tbody>\n",
       "</table>\n",
       "</div>"
      ],
      "text/plain": [
       "                start_ts weather_conditions  duration_seconds\n",
       "163  2017-11-11 09:00:00               Good               0.0\n",
       "168  2017-11-11 07:00:00               Good               0.0\n",
       "204  2017-11-18 19:00:00               Good               0.0\n",
       "552  2017-11-04 01:00:00               Good               0.0\n",
       "801  2017-11-04 09:00:00               Good               0.0\n",
       "1063 2017-11-25 11:00:00               Good               0.0"
      ]
     },
     "execution_count": 16,
     "metadata": {},
     "output_type": "execute_result"
    }
   ],
   "source": [
    "# Cek data dengan durasi 0 detik\n",
    "result07.query('duration_seconds == 0')"
   ]
  },
  {
   "cell_type": "code",
   "execution_count": 17,
   "id": "c0d1692d",
   "metadata": {},
   "outputs": [],
   "source": [
    "# Filter data tanpa durasi 0 detik\n",
    "result07 = result07.query('duration_seconds != 0')"
   ]
  },
  {
   "cell_type": "code",
   "execution_count": 18,
   "id": "6f16b739",
   "metadata": {},
   "outputs": [
    {
     "data": {
      "text/plain": [
       "0"
      ]
     },
     "execution_count": 18,
     "metadata": {},
     "output_type": "execute_result"
    }
   ],
   "source": [
    "# Cek jumlah baris data dengan durasi 0 detik\n",
    "result07.query('duration_seconds == 0')['start_ts'].count()"
   ]
  },
  {
   "cell_type": "markdown",
   "id": "03839492",
   "metadata": {},
   "source": [
    "Data pada kolom `duration_seconds` sebanyak 6 baris dengan durasi 0 detik dihapus karena akan mempengaruhi nilai rata-rata durasi perjalanan."
   ]
  },
  {
   "cell_type": "markdown",
   "id": "756d0313",
   "metadata": {},
   "source": [
    "#### Ringkasan perbaikan"
   ]
  },
  {
   "cell_type": "code",
   "execution_count": 19,
   "id": "b34eeff2",
   "metadata": {},
   "outputs": [
    {
     "name": "stdout",
     "output_type": "stream",
     "text": [
      "<class 'pandas.core.frame.DataFrame'>\n",
      "Index: 865 entries, 0 to 1067\n",
      "Data columns (total 3 columns):\n",
      " #   Column              Non-Null Count  Dtype         \n",
      "---  ------              --------------  -----         \n",
      " 0   start_ts            865 non-null    datetime64[ns]\n",
      " 1   weather_conditions  865 non-null    object        \n",
      " 2   duration_seconds    865 non-null    float64       \n",
      "dtypes: datetime64[ns](1), float64(1), object(1)\n",
      "memory usage: 27.0+ KB\n"
     ]
    }
   ],
   "source": [
    "result07.info()"
   ]
  },
  {
   "cell_type": "markdown",
   "id": "4d9882d2",
   "metadata": {},
   "source": [
    "Perbaikan yang dilakukan pada data result07 :\n",
    "\n",
    "1. `start_ts` dirubah menjadi format datetime.\n",
    "\n",
    "2. Menghapus duplikat eksplisit sebanyak 197 baris.\n",
    "\n",
    "3. Menghapus data `duration_seconds` dengan durasi 0 detik.\n",
    "\n"
   ]
  },
  {
   "cell_type": "markdown",
   "id": "17f151eb",
   "metadata": {},
   "source": [
    "# Eksplorasi data"
   ]
  },
  {
   "cell_type": "markdown",
   "id": "6b33ed96",
   "metadata": {},
   "source": [
    "## Perusahaan taksi dengan jumlah perjalanan tertinggi"
   ]
  },
  {
   "cell_type": "code",
   "execution_count": 20,
   "id": "dc6b5517",
   "metadata": {},
   "outputs": [
    {
     "data": {
      "text/html": [
       "<div>\n",
       "<style scoped>\n",
       "    .dataframe tbody tr th:only-of-type {\n",
       "        vertical-align: middle;\n",
       "    }\n",
       "\n",
       "    .dataframe tbody tr th {\n",
       "        vertical-align: top;\n",
       "    }\n",
       "\n",
       "    .dataframe thead th {\n",
       "        text-align: right;\n",
       "    }\n",
       "</style>\n",
       "<table border=\"1\" class=\"dataframe\">\n",
       "  <thead>\n",
       "    <tr style=\"text-align: right;\">\n",
       "      <th></th>\n",
       "      <th>company_name</th>\n",
       "      <th>trips_amount</th>\n",
       "    </tr>\n",
       "  </thead>\n",
       "  <tbody>\n",
       "    <tr>\n",
       "      <th>0</th>\n",
       "      <td>Flash Cab</td>\n",
       "      <td>19558</td>\n",
       "    </tr>\n",
       "    <tr>\n",
       "      <th>1</th>\n",
       "      <td>Taxi Affiliation Services</td>\n",
       "      <td>11422</td>\n",
       "    </tr>\n",
       "    <tr>\n",
       "      <th>2</th>\n",
       "      <td>Medallion Leasin</td>\n",
       "      <td>10367</td>\n",
       "    </tr>\n",
       "    <tr>\n",
       "      <th>3</th>\n",
       "      <td>Yellow Cab</td>\n",
       "      <td>9888</td>\n",
       "    </tr>\n",
       "    <tr>\n",
       "      <th>4</th>\n",
       "      <td>Taxi Affiliation Service Yellow</td>\n",
       "      <td>9299</td>\n",
       "    </tr>\n",
       "    <tr>\n",
       "      <th>5</th>\n",
       "      <td>Chicago Carriage Cab Corp</td>\n",
       "      <td>9181</td>\n",
       "    </tr>\n",
       "    <tr>\n",
       "      <th>6</th>\n",
       "      <td>City Service</td>\n",
       "      <td>8448</td>\n",
       "    </tr>\n",
       "    <tr>\n",
       "      <th>7</th>\n",
       "      <td>Sun Taxi</td>\n",
       "      <td>7701</td>\n",
       "    </tr>\n",
       "    <tr>\n",
       "      <th>8</th>\n",
       "      <td>Star North Management LLC</td>\n",
       "      <td>7455</td>\n",
       "    </tr>\n",
       "    <tr>\n",
       "      <th>9</th>\n",
       "      <td>Blue Ribbon Taxi Association Inc.</td>\n",
       "      <td>5953</td>\n",
       "    </tr>\n",
       "  </tbody>\n",
       "</table>\n",
       "</div>"
      ],
      "text/plain": [
       "                        company_name  trips_amount\n",
       "0                          Flash Cab         19558\n",
       "1          Taxi Affiliation Services         11422\n",
       "2                   Medallion Leasin         10367\n",
       "3                         Yellow Cab          9888\n",
       "4    Taxi Affiliation Service Yellow          9299\n",
       "5          Chicago Carriage Cab Corp          9181\n",
       "6                       City Service          8448\n",
       "7                           Sun Taxi          7701\n",
       "8          Star North Management LLC          7455\n",
       "9  Blue Ribbon Taxi Association Inc.          5953"
      ]
     },
     "execution_count": 20,
     "metadata": {},
     "output_type": "execute_result"
    }
   ],
   "source": [
    "# Top 10 perusahaan taksi dengan jumlah perjalanan tertinggi\n",
    "top10_taxi = result01.sort_values('trips_amount', ascending = False).head(10)\n",
    "top10_taxi"
   ]
  },
  {
   "cell_type": "code",
   "execution_count": 21,
   "id": "586a5950",
   "metadata": {},
   "outputs": [
    {
     "data": {
      "text/plain": [
       "<Axes: xlabel='company_name'>"
      ]
     },
     "execution_count": 21,
     "metadata": {},
     "output_type": "execute_result"
    },
    {
     "data": {
      "image/png": "[encoded data removed]",
      "text/plain": [
       "<Figure size 1500x500 with 1 Axes>"
      ]
     },
     "metadata": {},
     "output_type": "display_data"
    }
   ],
   "source": [
    "# Grafik batang\n",
    "top10_taxi.set_index('company_name').plot(kind='bar', figsize=(15,5), rot=15)"
   ]
  },
  {
   "cell_type": "markdown",
   "id": "6b59d252",
   "metadata": {},
   "source": [
    "3 perusahaan taksi dengan jumlah perjalanan tertinggi yaitu, Flash Cab, Taxi Affiliation Services dan Medallion Leasin."
   ]
  },
  {
   "cell_type": "markdown",
   "id": "3b190319",
   "metadata": {},
   "source": [
    "## Wilayah titik pengantaran tertinggi"
   ]
  },
  {
   "cell_type": "code",
   "execution_count": 22,
   "id": "23419e10",
   "metadata": {},
   "outputs": [
    {
     "data": {
      "text/html": [
       "<div>\n",
       "<style scoped>\n",
       "    .dataframe tbody tr th:only-of-type {\n",
       "        vertical-align: middle;\n",
       "    }\n",
       "\n",
       "    .dataframe tbody tr th {\n",
       "        vertical-align: top;\n",
       "    }\n",
       "\n",
       "    .dataframe thead th {\n",
       "        text-align: right;\n",
       "    }\n",
       "</style>\n",
       "<table border=\"1\" class=\"dataframe\">\n",
       "  <thead>\n",
       "    <tr style=\"text-align: right;\">\n",
       "      <th></th>\n",
       "      <th>dropoff_location_name</th>\n",
       "      <th>average_trips</th>\n",
       "    </tr>\n",
       "  </thead>\n",
       "  <tbody>\n",
       "    <tr>\n",
       "      <th>0</th>\n",
       "      <td>Loop</td>\n",
       "      <td>10727.466667</td>\n",
       "    </tr>\n",
       "    <tr>\n",
       "      <th>1</th>\n",
       "      <td>River North</td>\n",
       "      <td>9523.666667</td>\n",
       "    </tr>\n",
       "    <tr>\n",
       "      <th>2</th>\n",
       "      <td>Streeterville</td>\n",
       "      <td>6664.666667</td>\n",
       "    </tr>\n",
       "    <tr>\n",
       "      <th>3</th>\n",
       "      <td>West Loop</td>\n",
       "      <td>5163.666667</td>\n",
       "    </tr>\n",
       "    <tr>\n",
       "      <th>4</th>\n",
       "      <td>O'Hare</td>\n",
       "      <td>2546.900000</td>\n",
       "    </tr>\n",
       "    <tr>\n",
       "      <th>5</th>\n",
       "      <td>Lake View</td>\n",
       "      <td>2420.966667</td>\n",
       "    </tr>\n",
       "    <tr>\n",
       "      <th>6</th>\n",
       "      <td>Grant Park</td>\n",
       "      <td>2068.533333</td>\n",
       "    </tr>\n",
       "    <tr>\n",
       "      <th>7</th>\n",
       "      <td>Museum Campus</td>\n",
       "      <td>1510.000000</td>\n",
       "    </tr>\n",
       "    <tr>\n",
       "      <th>8</th>\n",
       "      <td>Gold Coast</td>\n",
       "      <td>1364.233333</td>\n",
       "    </tr>\n",
       "    <tr>\n",
       "      <th>9</th>\n",
       "      <td>Sheffield &amp; DePaul</td>\n",
       "      <td>1259.766667</td>\n",
       "    </tr>\n",
       "  </tbody>\n",
       "</table>\n",
       "</div>"
      ],
      "text/plain": [
       "  dropoff_location_name  average_trips\n",
       "0                  Loop   10727.466667\n",
       "1           River North    9523.666667\n",
       "2         Streeterville    6664.666667\n",
       "3             West Loop    5163.666667\n",
       "4                O'Hare    2546.900000\n",
       "5             Lake View    2420.966667\n",
       "6            Grant Park    2068.533333\n",
       "7         Museum Campus    1510.000000\n",
       "8            Gold Coast    1364.233333\n",
       "9    Sheffield & DePaul    1259.766667"
      ]
     },
     "execution_count": 22,
     "metadata": {},
     "output_type": "execute_result"
    }
   ],
   "source": [
    "# 10 Wilayah titik pengantaran tertinggi\n",
    "top10_dropoff = result04.sort_values('average_trips', ascending = False).head(10)\n",
    "top10_dropoff"
   ]
  },
  {
   "cell_type": "code",
   "execution_count": 23,
   "id": "01c6b09c",
   "metadata": {},
   "outputs": [
    {
     "data": {
      "text/plain": [
       "<Axes: xlabel='dropoff_location_name'>"
      ]
     },
     "execution_count": 23,
     "metadata": {},
     "output_type": "execute_result"
    },
    {
     "data": {
      "image/png": "[encoded data removed]",
      "text/plain": [
       "<Figure size 1500x500 with 1 Axes>"
      ]
     },
     "metadata": {},
     "output_type": "display_data"
    }
   ],
   "source": [
    "# Grafik batang\n",
    "top10_dropoff.set_index('dropoff_location_name').plot(kind='bar', figsize=(15,5), rot=0)"
   ]
  },
  {
   "cell_type": "markdown",
   "id": "00a31e5d",
   "metadata": {},
   "source": [
    "3 wilayah titik pengantaran tertinggi yaitu : Loop, River North dan Streeterville."
   ]
  },
  {
   "cell_type": "markdown",
   "id": "051534db",
   "metadata": {},
   "source": [
    "# Pengujian hipotesis"
   ]
  },
  {
   "cell_type": "markdown",
   "id": "000fa534",
   "metadata": {},
   "source": [
    "Apakah durasi rata-rata perjalanan dari Loop ke Bandara Internasional O'Hare berubah pada hari-hari Sabtu yang hujan ?"
   ]
  },
  {
   "cell_type": "markdown",
   "id": "6a07a0ff",
   "metadata": {},
   "source": [
    "H0 = Durasi rata-rata perjalanan dari Loop ke Bandara Internasional O'Hare pada hari Sabtu yang cerah sama dengan Sabtu yang hujan.\n",
    "\n",
    "Ha = Durasi rata-rata perjalanan dari Loop ke Bandara Internasional O'Hare pada hari Sabtu yang cerah tidak sama dengan Sabtu yang hujan."
   ]
  },
  {
   "cell_type": "code",
   "execution_count": 24,
   "id": "c4361c2c",
   "metadata": {},
   "outputs": [
    {
     "name": "stdout",
     "output_type": "stream",
     "text": [
      "Varians bad_weather : 592537.9385865615\n",
      "Varians good_weather : 328261.9811548303\n"
     ]
    }
   ],
   "source": [
    "# Filter data dan varians\n",
    "bad_weather = result07.query('weather_conditions == \"Bad\"').groupby('start_ts')['duration_seconds'].mean()\n",
    "good_weather = result07.query('weather_conditions == \"Good\"').groupby('start_ts')['duration_seconds'].mean()\n",
    "print('Varians bad_weather :', np.var(bad_weather))\n",
    "print('Varians good_weather :', np.var(good_weather))"
   ]
  },
  {
   "cell_type": "code",
   "execution_count": 25,
   "id": "da382290",
   "metadata": {},
   "outputs": [
    {
     "name": "stdout",
     "output_type": "stream",
     "text": [
      "p-value: 0.43867419746507197\n",
      "Kita tidak dapat menolak hipotesis nol\n"
     ]
    }
   ],
   "source": [
    "# Uji hipotesis\n",
    "result = st.ttest_ind(bad_weather, good_weather, equal_var=False)\n",
    "\n",
    "# Pengujian hipotesis\n",
    "alpha = 0.05\n",
    "\n",
    "print('p-value:', result.pvalue)\n",
    "\n",
    "if result.pvalue < alpha : \n",
    "    print(\"Kita menolak hipotesis nol\")\n",
    "else:\n",
    "    print(\"Kita tidak dapat menolak hipotesis nol\")"
   ]
  },
  {
   "cell_type": "markdown",
   "id": "bb5fb2c9",
   "metadata": {},
   "source": [
    "Durasi rata-rata perjalanan dari Loop ke Bandara Internasional O'Hare pada hari Sabtu yang cerah sama dengan Sabtu yang hujan."
   ]
  },
  {
   "cell_type": "markdown",
   "id": "02add00a",
   "metadata": {},
   "source": [
    "# Kesimpulan"
   ]
  },
  {
   "cell_type": "markdown",
   "id": "c095a06f",
   "metadata": {},
   "source": [
    "Terdapat 3 dataset :\n",
    "\n",
    "1. result01, data mengenai jumlah perjalanan dan nama perusahaan taksi pada tanggal 15-16 November 2017.\n",
    "\n",
    "    informasi yang terdapat pada kolomnya :\n",
    "\n",
    "    `company_name`: nama perusahaan taksi.\n",
    "\n",
    "    `trips_amount`: jumlah perjalanan.\n",
    "\n",
    "2. result04, data mengenai jumlah rata-rata perjalanan yang berakhir di wilayah Chicago pada bulan November 2017. \n",
    "\n",
    "    Informasi yang terdapat dalam kolomnya :\n",
    "\n",
    "    `dropoff_location_name`: nama wilayah di Chicago tempat perjalanan berakhir.\n",
    "\n",
    "    `average_trips`: jumlah rata-rata perjalanan.\n",
    "\n",
    "3. result07, data merupakan informasi semua perjalanan yang dilakukan pada hari sabtu bulan November 2017 yang dimulai di Loop dan berakhir di O'Hare. Dengan kondisi cuaca yang dibagi menjadi 2 kategori :\n",
    "\n",
    "    1. *Bad* cuaca hujan dan badai.\n",
    "\n",
    "    2. *Good* cuaca cerah.\n",
    "\n",
    "    Informasi yang terdapat pada kolomnya :\n",
    "\n",
    "    `start_ts` — tanggal dan waktu penjemputan.\n",
    "\n",
    "    `weather_conditions` — kondisi cuaca saat perjalanan dimulai.\n",
    "\n",
    "    `duration_seconds` — durasi perjalanan dalam satuan detik.\n",
    "\n",
    "Perbaikan yang dilakukan pada data result07 :\n",
    "\n",
    "1. `start_ts` dirubah menjadi format datetime.\n",
    "\n",
    "2. Menghapus duplikat eksplisit sebanyak 197 baris.\n",
    "\n",
    "3. Menghapus data `duration_seconds` dengan durasi 0 detik."
   ]
  },
  {
   "cell_type": "markdown",
   "id": "67e26419",
   "metadata": {},
   "source": [
    "Dari dataset result01 didapatkan informasi Top 10 perusahaan taksi dengan jumlah perjalanan tertinggi :\n"
   ]
  },
  {
   "cell_type": "code",
   "execution_count": 26,
   "id": "6366d035",
   "metadata": {},
   "outputs": [
    {
     "data": {
      "text/html": [
       "<div>\n",
       "<style scoped>\n",
       "    .dataframe tbody tr th:only-of-type {\n",
       "        vertical-align: middle;\n",
       "    }\n",
       "\n",
       "    .dataframe tbody tr th {\n",
       "        vertical-align: top;\n",
       "    }\n",
       "\n",
       "    .dataframe thead th {\n",
       "        text-align: right;\n",
       "    }\n",
       "</style>\n",
       "<table border=\"1\" class=\"dataframe\">\n",
       "  <thead>\n",
       "    <tr style=\"text-align: right;\">\n",
       "      <th></th>\n",
       "      <th>company_name</th>\n",
       "      <th>trips_amount</th>\n",
       "    </tr>\n",
       "  </thead>\n",
       "  <tbody>\n",
       "    <tr>\n",
       "      <th>0</th>\n",
       "      <td>Flash Cab</td>\n",
       "      <td>19558</td>\n",
       "    </tr>\n",
       "    <tr>\n",
       "      <th>1</th>\n",
       "      <td>Taxi Affiliation Services</td>\n",
       "      <td>11422</td>\n",
       "    </tr>\n",
       "    <tr>\n",
       "      <th>2</th>\n",
       "      <td>Medallion Leasin</td>\n",
       "      <td>10367</td>\n",
       "    </tr>\n",
       "    <tr>\n",
       "      <th>3</th>\n",
       "      <td>Yellow Cab</td>\n",
       "      <td>9888</td>\n",
       "    </tr>\n",
       "    <tr>\n",
       "      <th>4</th>\n",
       "      <td>Taxi Affiliation Service Yellow</td>\n",
       "      <td>9299</td>\n",
       "    </tr>\n",
       "    <tr>\n",
       "      <th>5</th>\n",
       "      <td>Chicago Carriage Cab Corp</td>\n",
       "      <td>9181</td>\n",
       "    </tr>\n",
       "    <tr>\n",
       "      <th>6</th>\n",
       "      <td>City Service</td>\n",
       "      <td>8448</td>\n",
       "    </tr>\n",
       "    <tr>\n",
       "      <th>7</th>\n",
       "      <td>Sun Taxi</td>\n",
       "      <td>7701</td>\n",
       "    </tr>\n",
       "    <tr>\n",
       "      <th>8</th>\n",
       "      <td>Star North Management LLC</td>\n",
       "      <td>7455</td>\n",
       "    </tr>\n",
       "    <tr>\n",
       "      <th>9</th>\n",
       "      <td>Blue Ribbon Taxi Association Inc.</td>\n",
       "      <td>5953</td>\n",
       "    </tr>\n",
       "  </tbody>\n",
       "</table>\n",
       "</div>"
      ],
      "text/plain": [
       "                        company_name  trips_amount\n",
       "0                          Flash Cab         19558\n",
       "1          Taxi Affiliation Services         11422\n",
       "2                   Medallion Leasin         10367\n",
       "3                         Yellow Cab          9888\n",
       "4    Taxi Affiliation Service Yellow          9299\n",
       "5          Chicago Carriage Cab Corp          9181\n",
       "6                       City Service          8448\n",
       "7                           Sun Taxi          7701\n",
       "8          Star North Management LLC          7455\n",
       "9  Blue Ribbon Taxi Association Inc.          5953"
      ]
     },
     "execution_count": 26,
     "metadata": {},
     "output_type": "execute_result"
    }
   ],
   "source": [
    "top10_taxi"
   ]
  },
  {
   "cell_type": "markdown",
   "id": "d5d72cc7",
   "metadata": {},
   "source": [
    "Dengan 3 perusahaan tertinggi yaitu : Flash Cab, Taxi Affiliation Services dan Medallion Leasin.\n"
   ]
  },
  {
   "cell_type": "markdown",
   "id": "69d84b2f",
   "metadata": {},
   "source": [
    "Dari dataset resul04 didapatkan informasi Top 10 wilayah titik pengantaran tertinggi di Chicago :"
   ]
  },
  {
   "cell_type": "code",
   "execution_count": 27,
   "id": "f003bc42",
   "metadata": {},
   "outputs": [
    {
     "data": {
      "text/html": [
       "<div>\n",
       "<style scoped>\n",
       "    .dataframe tbody tr th:only-of-type {\n",
       "        vertical-align: middle;\n",
       "    }\n",
       "\n",
       "    .dataframe tbody tr th {\n",
       "        vertical-align: top;\n",
       "    }\n",
       "\n",
       "    .dataframe thead th {\n",
       "        text-align: right;\n",
       "    }\n",
       "</style>\n",
       "<table border=\"1\" class=\"dataframe\">\n",
       "  <thead>\n",
       "    <tr style=\"text-align: right;\">\n",
       "      <th></th>\n",
       "      <th>dropoff_location_name</th>\n",
       "      <th>average_trips</th>\n",
       "    </tr>\n",
       "  </thead>\n",
       "  <tbody>\n",
       "    <tr>\n",
       "      <th>0</th>\n",
       "      <td>Loop</td>\n",
       "      <td>10727.5</td>\n",
       "    </tr>\n",
       "    <tr>\n",
       "      <th>1</th>\n",
       "      <td>River North</td>\n",
       "      <td>9523.7</td>\n",
       "    </tr>\n",
       "    <tr>\n",
       "      <th>2</th>\n",
       "      <td>Streeterville</td>\n",
       "      <td>6664.7</td>\n",
       "    </tr>\n",
       "    <tr>\n",
       "      <th>3</th>\n",
       "      <td>West Loop</td>\n",
       "      <td>5163.7</td>\n",
       "    </tr>\n",
       "    <tr>\n",
       "      <th>4</th>\n",
       "      <td>O'Hare</td>\n",
       "      <td>2546.9</td>\n",
       "    </tr>\n",
       "    <tr>\n",
       "      <th>5</th>\n",
       "      <td>Lake View</td>\n",
       "      <td>2421.0</td>\n",
       "    </tr>\n",
       "    <tr>\n",
       "      <th>6</th>\n",
       "      <td>Grant Park</td>\n",
       "      <td>2068.5</td>\n",
       "    </tr>\n",
       "    <tr>\n",
       "      <th>7</th>\n",
       "      <td>Museum Campus</td>\n",
       "      <td>1510.0</td>\n",
       "    </tr>\n",
       "    <tr>\n",
       "      <th>8</th>\n",
       "      <td>Gold Coast</td>\n",
       "      <td>1364.2</td>\n",
       "    </tr>\n",
       "    <tr>\n",
       "      <th>9</th>\n",
       "      <td>Sheffield &amp; DePaul</td>\n",
       "      <td>1259.8</td>\n",
       "    </tr>\n",
       "  </tbody>\n",
       "</table>\n",
       "</div>"
      ],
      "text/plain": [
       "  dropoff_location_name  average_trips\n",
       "0                  Loop        10727.5\n",
       "1           River North         9523.7\n",
       "2         Streeterville         6664.7\n",
       "3             West Loop         5163.7\n",
       "4                O'Hare         2546.9\n",
       "5             Lake View         2421.0\n",
       "6            Grant Park         2068.5\n",
       "7         Museum Campus         1510.0\n",
       "8            Gold Coast         1364.2\n",
       "9    Sheffield & DePaul         1259.8"
      ]
     },
     "execution_count": 27,
     "metadata": {},
     "output_type": "execute_result"
    }
   ],
   "source": [
    "round(top10_dropoff,1)"
   ]
  },
  {
   "cell_type": "markdown",
   "id": "264ca886",
   "metadata": {},
   "source": [
    "Dengan 3 wilayah tertinggi : Loop, River North dan Streeterville.\n",
    "\n",
    "Dari dataset result07 dilakukan pengujian hipotesis yang menunjukkan bahwa durasi rata-rata perjalanan dari Loop ke Bandara Internasional O'Hare pada hari Sabtu yang cerah sama dengan Sabtu yang hujan."
   ]
  },
  {
   "cell_type": "code",
   "execution_count": null,
   "id": "d76bc76a",
   "metadata": {},
   "outputs": [],
   "source": []
  }
 ],
 "metadata": {
  "kernelspec": {
   "display_name": "Python 3 (ipykernel)",
   "language": "python",
   "name": "python3"
  },
  "language_info": {
   "codemirror_mode": {
    "name": "ipython",
    "version": 3
   },
   "file_extension": ".py",
   "mimetype": "text/x-python",
   "name": "python",
   "nbconvert_exporter": "python",
   "pygments_lexer": "ipython3",
   "version": "3.10.11"
  },
  "toc": {
   "base_numbering": 1,
   "nav_menu": {},
   "number_sections": true,
   "sideBar": true,
   "skip_h1_title": false,
   "title_cell": "Table of Contents",
   "title_sidebar": "Contents",
   "toc_cell": false,
   "toc_position": {
    "height": "calc(100% - 180px)",
    "left": "10px",
    "top": "150px",
    "width": "384px"
   },
   "toc_section_display": true,
   "toc_window_display": true
  }
 },
 "nbformat": 4,
 "nbformat_minor": 5
}
