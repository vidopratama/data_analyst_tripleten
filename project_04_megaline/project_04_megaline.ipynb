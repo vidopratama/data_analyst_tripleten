{
 "cells": [
  {
   "cell_type": "markdown",
   "id": "d6defda7",
   "metadata": {},
   "source": [
    "# Paket Prabayar Manakah yang Lebih Baik?\n"
   ]
  },
  {
   "cell_type": "markdown",
   "id": "0a00c8e3",
   "metadata": {},
   "source": [
    "Pada tahun 2018, Megaline menawarkan kliennya dua jenis paket prabayar, yaitu paket Surf dan paket Ultimate. Departemen periklanan ingin mengetahui paket prabayar mana yang menghasilkan lebih banyak pendapatan, sehingga mereka bisa membuat anggaran iklan yang sesuai.\n",
    "\n",
    "Untuk menjawab pertanyaan ini maka akan dilakukan :\n",
    "\n",
    " 1. Memeriksa dan memperbaiki data yang diberikan.\n",
    " 2. Menambah informasi pada tiap data agar lebih mudah dianalisa.\n",
    " 3. Mempelajari syarat dan ketentuan tiap paket dan informasi yang didapat dari data.\n",
    " 4. Mengagregasikan data ke dalam satu dataframe untuk mempermudah analisa.\n",
    " 5. Mempelajari perilaku pengguna di kedua paket.\n",
    " 6. Menguji hipotesis statistik atas pertanyaan yang diajukan :\n",
    " \n",
    "    a. Apakah pendapatan rata-rata dari pengguna paket ultimate dan surf berbeda ?\n",
    "    \n",
    "    b. Apakah pendapatan rata-rata pengguna wilayah NY-NJ-PA berbeda ?\n",
    "\n",
    "\n",
    "\n",
    " 7. Menjawab pertanyaan utama, paket prabayar manakah yang lebih menguntungkan di tahun 2018.\n",
    "\n",
    "\n",
    "\n"
   ]
  },
  {
   "cell_type": "markdown",
   "id": "b404d4e7",
   "metadata": {},
   "source": [
    "## Inisialisasi"
   ]
  },
  {
   "cell_type": "code",
   "execution_count": 1,
   "id": "2ddd78f2",
   "metadata": {},
   "outputs": [],
   "source": [
    "# Muat semua library\n",
    "\n",
    "import pandas as pd\n",
    "import numpy as np\n",
    "import matplotlib.pyplot as plt\n",
    "from scipy import stats as st\n"
   ]
  },
  {
   "cell_type": "markdown",
   "id": "07a3d42e",
   "metadata": {},
   "source": [
    "## Memuat Data"
   ]
  },
  {
   "cell_type": "code",
   "execution_count": 2,
   "id": "b974c9a5",
   "metadata": {},
   "outputs": [],
   "source": [
    "# Muat file data ke dalam DataFrame yang berbeda\n",
    "\n",
    "try :\n",
    "    calls = pd.read_csv(r'C:\\Users\\vidop\\Documents\\Practicum\\Sprint 4\\Megaline\\megaline_calls.csv')\n",
    "    internet = pd.read_csv(r'C:\\Users\\vidop\\Documents\\Practicum\\Sprint 4\\Megaline\\megaline_internet.csv')\n",
    "    messages = pd.read_csv(r'C:\\Users\\vidop\\Documents\\Practicum\\Sprint 4\\Megaline\\megaline_messages.csv')\n",
    "    plans = pd.read_csv(r'C:\\Users\\vidop\\Documents\\Practicum\\Sprint 4\\Megaline\\megaline_plans.csv')\n",
    "    users = pd.read_csv(r'C:\\Users\\vidop\\Documents\\Practicum\\Sprint 4\\Megaline\\megaline_users.csv')\n",
    "\n",
    "except :\n",
    "    calls = pd.read_csv('/datasets/megaline_calls.csv')\n",
    "    internet = pd.read_csv('/datasets/megaline_internet.csv')\n",
    "    messages = pd.read_csv('/datasets/megaline_messages.csv')\n",
    "    plans = pd.read_csv('/datasets/megaline_plans.csv')\n",
    "    users = pd.read_csv('/datasets/megaline_users.csv')\n",
    "    "
   ]
  },
  {
   "cell_type": "markdown",
   "id": "1a51db66",
   "metadata": {},
   "source": [
    "## Mempersiapkan Data"
   ]
  },
  {
   "cell_type": "code",
   "execution_count": 3,
   "id": "2cef3ff0",
   "metadata": {},
   "outputs": [],
   "source": [
    "# Fungsi informasi umum Data Frame\n",
    "\n",
    "def info(file):\n",
    "    print('Jumlah baris dan kolom :', file.shape)\n",
    "    print()\n",
    "    print(file.info())\n",
    "    print()\n",
    "    print(file.describe())\n",
    "    print()\n",
    "    if file.duplicated().sum() > 0:\n",
    "        print('Terdapat duplikat eksplisit sebanyak :', file.duplicated.sum(),' baris')\n",
    "    else :\n",
    "        print('Tidak terdapat duplikat eksplisit')\n",
    "    print()\n",
    "    if file.isna().sum().sum() > 0 :\n",
    "        print('Terdapat nilai yang hilang pada kolom :')\n",
    "        print(file.isna().sum())\n",
    "    else :\n",
    "        print('Tidak terdapat nilai yang hilang dalam data')\n",
    "        "
   ]
  },
  {
   "cell_type": "code",
   "execution_count": 4,
   "id": "7550ed4b",
   "metadata": {},
   "outputs": [],
   "source": [
    "# Fungsi menampilkan semua kolom\n",
    "pd.set_option('display.max_columns', None)"
   ]
  },
  {
   "cell_type": "markdown",
   "id": "1b5f608c",
   "metadata": {},
   "source": [
    "## Paket Prabayar (plans)"
   ]
  },
  {
   "cell_type": "code",
   "execution_count": 5,
   "id": "aa2defde",
   "metadata": {},
   "outputs": [
    {
     "name": "stdout",
     "output_type": "stream",
     "text": [
      "Jumlah baris dan kolom : (2, 8)\n",
      "\n",
      "<class 'pandas.core.frame.DataFrame'>\n",
      "RangeIndex: 2 entries, 0 to 1\n",
      "Data columns (total 8 columns):\n",
      " #   Column                 Non-Null Count  Dtype  \n",
      "---  ------                 --------------  -----  \n",
      " 0   messages_included      2 non-null      int64  \n",
      " 1   mb_per_month_included  2 non-null      int64  \n",
      " 2   minutes_included       2 non-null      int64  \n",
      " 3   usd_monthly_pay        2 non-null      int64  \n",
      " 4   usd_per_gb             2 non-null      int64  \n",
      " 5   usd_per_message        2 non-null      float64\n",
      " 6   usd_per_minute         2 non-null      float64\n",
      " 7   plan_name              2 non-null      object \n",
      "dtypes: float64(2), int64(5), object(1)\n",
      "memory usage: 256.0+ bytes\n",
      "None\n",
      "\n",
      "       messages_included  mb_per_month_included  minutes_included  \\\n",
      "count           2.000000               2.000000          2.000000   \n",
      "mean          525.000000           23040.000000       1750.000000   \n",
      "std           671.751442           10861.160159       1767.766953   \n",
      "min            50.000000           15360.000000        500.000000   \n",
      "25%           287.500000           19200.000000       1125.000000   \n",
      "50%           525.000000           23040.000000       1750.000000   \n",
      "75%           762.500000           26880.000000       2375.000000   \n",
      "max          1000.000000           30720.000000       3000.000000   \n",
      "\n",
      "       usd_monthly_pay  usd_per_gb  usd_per_message  usd_per_minute  \n",
      "count         2.000000     2.00000         2.000000        2.000000  \n",
      "mean         45.000000     8.50000         0.020000        0.020000  \n",
      "std          35.355339     2.12132         0.014142        0.014142  \n",
      "min          20.000000     7.00000         0.010000        0.010000  \n",
      "25%          32.500000     7.75000         0.015000        0.015000  \n",
      "50%          45.000000     8.50000         0.020000        0.020000  \n",
      "75%          57.500000     9.25000         0.025000        0.025000  \n",
      "max          70.000000    10.00000         0.030000        0.030000  \n",
      "\n",
      "Tidak terdapat duplikat eksplisit\n",
      "\n",
      "Tidak terdapat nilai yang hilang dalam data\n"
     ]
    }
   ],
   "source": [
    "# Tampilkan informasi/rangkuman umum tentang DataFrame paket-paket prabayar\n",
    "info(plans)\n"
   ]
  },
  {
   "cell_type": "code",
   "execution_count": 6,
   "id": "97c18ac7",
   "metadata": {},
   "outputs": [
    {
     "data": {
      "text/html": [
       "<div>\n",
       "<style scoped>\n",
       "    .dataframe tbody tr th:only-of-type {\n",
       "        vertical-align: middle;\n",
       "    }\n",
       "\n",
       "    .dataframe tbody tr th {\n",
       "        vertical-align: top;\n",
       "    }\n",
       "\n",
       "    .dataframe thead th {\n",
       "        text-align: right;\n",
       "    }\n",
       "</style>\n",
       "<table border=\"1\" class=\"dataframe\">\n",
       "  <thead>\n",
       "    <tr style=\"text-align: right;\">\n",
       "      <th></th>\n",
       "      <th>messages_included</th>\n",
       "      <th>mb_per_month_included</th>\n",
       "      <th>minutes_included</th>\n",
       "      <th>usd_monthly_pay</th>\n",
       "      <th>usd_per_gb</th>\n",
       "      <th>usd_per_message</th>\n",
       "      <th>usd_per_minute</th>\n",
       "      <th>plan_name</th>\n",
       "    </tr>\n",
       "  </thead>\n",
       "  <tbody>\n",
       "    <tr>\n",
       "      <th>0</th>\n",
       "      <td>50</td>\n",
       "      <td>15360</td>\n",
       "      <td>500</td>\n",
       "      <td>20</td>\n",
       "      <td>10</td>\n",
       "      <td>0.03</td>\n",
       "      <td>0.03</td>\n",
       "      <td>surf</td>\n",
       "    </tr>\n",
       "    <tr>\n",
       "      <th>1</th>\n",
       "      <td>1000</td>\n",
       "      <td>30720</td>\n",
       "      <td>3000</td>\n",
       "      <td>70</td>\n",
       "      <td>7</td>\n",
       "      <td>0.01</td>\n",
       "      <td>0.01</td>\n",
       "      <td>ultimate</td>\n",
       "    </tr>\n",
       "  </tbody>\n",
       "</table>\n",
       "</div>"
      ],
      "text/plain": [
       "   messages_included  mb_per_month_included  minutes_included  \\\n",
       "0                 50                  15360               500   \n",
       "1               1000                  30720              3000   \n",
       "\n",
       "   usd_monthly_pay  usd_per_gb  usd_per_message  usd_per_minute plan_name  \n",
       "0               20          10             0.03            0.03      surf  \n",
       "1               70           7             0.01            0.01  ultimate  "
      ]
     },
     "execution_count": 6,
     "metadata": {},
     "output_type": "execute_result"
    }
   ],
   "source": [
    "# Tampilkan sampel data untuk paket-paket tersebut\n",
    "\n",
    "plans\n"
   ]
  },
  {
   "cell_type": "markdown",
   "id": "38dd539b",
   "metadata": {},
   "source": [
    "Informasi yang terdapat pada kolomnya :\n",
    "\n",
    "**plan_name** — nama paket telepon.\n",
    "\n",
    "**usd_monthly_fee** — biaya bulanan dalam dolar AS.\n",
    "\n",
    "**minutes_included** — alokasi menit panggilan bulanan.\n",
    "\n",
    "**messages_included** — alokasi SMS bulanan.\n",
    "\n",
    "**mb_per_month_included** — alokasi volume data bulanan (dalam megabita).\n",
    "\n",
    "**usd_per_minute** — harga per menit jika telah melebihi batas alokasi paket.\n",
    "\n",
    "**usd_per_message** — harga per SMS jika telah melebihi batas alokasi paket.\n",
    "\n",
    "**usd_per_gb** — harga per ekstra gigabita data jika telah melebihi batas alokasi paket (1 GB = 1024 megabita).\n",
    "\n",
    "Megaline memiliki 2 paket prabayar yaitu :\n",
    "\n",
    "1. **Surf**\n",
    "\n",
    "       Biaya bulanan: $20\n",
    "500 menit durasi panggilan per bulan, 50 SMS, dan 15 GB data\n",
    "Setelah melebihi batas paket, akan dikenakan:\n",
    "1 menit: 3 sen\n",
    "1 SMS: 3 sen\n",
    "1 GB data: $10\n",
    "\n",
    "2. **Ultimate**\n",
    "\n",
    "       Biaya bulanan: $70\n",
    "3000 menit durasi panggilan per bulan, 1000 SMS, dan 30 GB data\n",
    "Setelah melebihi batas paket, akan dikenakan:\n",
    "1 menit: 1 sen\n",
    "1 SMS: 1 sen\n",
    "1 GB data: $7\n",
    "\n",
    "**Catatan :** Megaline membulatkan detik ke menit, serta membulatkan megabita ke gigabita. Untuk panggilan, setiap panggilan individual dibulatkan ke atas: bahkan jika panggilan tersebut berlangsung hanya satu detik, ia akan dihitung sebagai satu menit. Untuk lalu lintas web, setiap sesi web tidak dibulatkan ke atas. Akan tetapi, total untuk sebulan dibulatkan ke atas. Jika seorang pengguna menghabiskan 1025 megabita bulan ini, maka ia akan dikenai biaya untuk 2 gigabita."
   ]
  },
  {
   "cell_type": "markdown",
   "id": "05df9d11",
   "metadata": {},
   "source": [
    " "
   ]
  },
  {
   "cell_type": "markdown",
   "id": "3eb0e2a2",
   "metadata": {},
   "source": [
    "## Memperbaiki Data"
   ]
  },
  {
   "cell_type": "code",
   "execution_count": null,
   "id": "51516738",
   "metadata": {},
   "outputs": [],
   "source": []
  },
  {
   "cell_type": "markdown",
   "id": "4dc32075",
   "metadata": {},
   "source": [
    "\n",
    "## Memperkaya Kualitas Data"
   ]
  },
  {
   "cell_type": "markdown",
   "id": "714a3929",
   "metadata": {},
   "source": [
    "Penambahan kolom **gb_per_month_included**"
   ]
  },
  {
   "cell_type": "code",
   "execution_count": 7,
   "id": "f5d49cff",
   "metadata": {},
   "outputs": [],
   "source": [
    "# Menambah kolom gb_per_month_included\n",
    "plans['gb_per_month_included'] = plans['mb_per_month_included'] / 1024"
   ]
  },
  {
   "cell_type": "code",
   "execution_count": 8,
   "id": "3d482475",
   "metadata": {},
   "outputs": [
    {
     "data": {
      "text/html": [
       "<div>\n",
       "<style scoped>\n",
       "    .dataframe tbody tr th:only-of-type {\n",
       "        vertical-align: middle;\n",
       "    }\n",
       "\n",
       "    .dataframe tbody tr th {\n",
       "        vertical-align: top;\n",
       "    }\n",
       "\n",
       "    .dataframe thead th {\n",
       "        text-align: right;\n",
       "    }\n",
       "</style>\n",
       "<table border=\"1\" class=\"dataframe\">\n",
       "  <thead>\n",
       "    <tr style=\"text-align: right;\">\n",
       "      <th></th>\n",
       "      <th>messages_included</th>\n",
       "      <th>mb_per_month_included</th>\n",
       "      <th>minutes_included</th>\n",
       "      <th>usd_monthly_pay</th>\n",
       "      <th>usd_per_gb</th>\n",
       "      <th>usd_per_message</th>\n",
       "      <th>usd_per_minute</th>\n",
       "      <th>plan_name</th>\n",
       "      <th>gb_per_month_included</th>\n",
       "    </tr>\n",
       "  </thead>\n",
       "  <tbody>\n",
       "    <tr>\n",
       "      <th>0</th>\n",
       "      <td>50</td>\n",
       "      <td>15360</td>\n",
       "      <td>500</td>\n",
       "      <td>20</td>\n",
       "      <td>10</td>\n",
       "      <td>0.03</td>\n",
       "      <td>0.03</td>\n",
       "      <td>surf</td>\n",
       "      <td>15.0</td>\n",
       "    </tr>\n",
       "    <tr>\n",
       "      <th>1</th>\n",
       "      <td>1000</td>\n",
       "      <td>30720</td>\n",
       "      <td>3000</td>\n",
       "      <td>70</td>\n",
       "      <td>7</td>\n",
       "      <td>0.01</td>\n",
       "      <td>0.01</td>\n",
       "      <td>ultimate</td>\n",
       "      <td>30.0</td>\n",
       "    </tr>\n",
       "  </tbody>\n",
       "</table>\n",
       "</div>"
      ],
      "text/plain": [
       "   messages_included  mb_per_month_included  minutes_included  \\\n",
       "0                 50                  15360               500   \n",
       "1               1000                  30720              3000   \n",
       "\n",
       "   usd_monthly_pay  usd_per_gb  usd_per_message  usd_per_minute plan_name  \\\n",
       "0               20          10             0.03            0.03      surf   \n",
       "1               70           7             0.01            0.01  ultimate   \n",
       "\n",
       "   gb_per_month_included  \n",
       "0                   15.0  \n",
       "1                   30.0  "
      ]
     },
     "execution_count": 8,
     "metadata": {},
     "output_type": "execute_result"
    }
   ],
   "source": [
    "# Cek penambahan kolom\n",
    "plans"
   ]
  },
  {
   "cell_type": "code",
   "execution_count": 9,
   "id": "e5eaf485",
   "metadata": {},
   "outputs": [
    {
     "name": "stdout",
     "output_type": "stream",
     "text": [
      "<class 'pandas.core.frame.DataFrame'>\n",
      "RangeIndex: 2 entries, 0 to 1\n",
      "Data columns (total 9 columns):\n",
      " #   Column                 Non-Null Count  Dtype  \n",
      "---  ------                 --------------  -----  \n",
      " 0   messages_included      2 non-null      int64  \n",
      " 1   mb_per_month_included  2 non-null      int64  \n",
      " 2   minutes_included       2 non-null      int64  \n",
      " 3   usd_monthly_pay        2 non-null      int64  \n",
      " 4   usd_per_gb             2 non-null      int64  \n",
      " 5   usd_per_message        2 non-null      float64\n",
      " 6   usd_per_minute         2 non-null      float64\n",
      " 7   plan_name              2 non-null      object \n",
      " 8   gb_per_month_included  2 non-null      float64\n",
      "dtypes: float64(3), int64(5), object(1)\n",
      "memory usage: 272.0+ bytes\n"
     ]
    }
   ],
   "source": [
    "plans.info()"
   ]
  },
  {
   "cell_type": "markdown",
   "id": "92b950c9",
   "metadata": {},
   "source": [
    "**Ringkasan :**\n",
    "\n",
    "Penambahan informasi pada data **plans** :\n",
    "\n",
    "1. Menambah kolom gb_per_month_included."
   ]
  },
  {
   "cell_type": "markdown",
   "id": "0b60bf7a",
   "metadata": {},
   "source": [
    "## Pengguna (users)"
   ]
  },
  {
   "cell_type": "code",
   "execution_count": 10,
   "id": "81c32dff",
   "metadata": {},
   "outputs": [
    {
     "name": "stdout",
     "output_type": "stream",
     "text": [
      "Jumlah baris dan kolom : (500, 8)\n",
      "\n",
      "<class 'pandas.core.frame.DataFrame'>\n",
      "RangeIndex: 500 entries, 0 to 499\n",
      "Data columns (total 8 columns):\n",
      " #   Column      Non-Null Count  Dtype \n",
      "---  ------      --------------  ----- \n",
      " 0   user_id     500 non-null    int64 \n",
      " 1   first_name  500 non-null    object\n",
      " 2   last_name   500 non-null    object\n",
      " 3   age         500 non-null    int64 \n",
      " 4   city        500 non-null    object\n",
      " 5   reg_date    500 non-null    object\n",
      " 6   plan        500 non-null    object\n",
      " 7   churn_date  34 non-null     object\n",
      "dtypes: int64(2), object(6)\n",
      "memory usage: 31.4+ KB\n",
      "None\n",
      "\n",
      "           user_id         age\n",
      "count   500.000000  500.000000\n",
      "mean   1249.500000   45.486000\n",
      "std     144.481833   16.972269\n",
      "min    1000.000000   18.000000\n",
      "25%    1124.750000   30.000000\n",
      "50%    1249.500000   46.000000\n",
      "75%    1374.250000   61.000000\n",
      "max    1499.000000   75.000000\n",
      "\n",
      "Tidak terdapat duplikat eksplisit\n",
      "\n",
      "Terdapat nilai yang hilang pada kolom :\n",
      "user_id         0\n",
      "first_name      0\n",
      "last_name       0\n",
      "age             0\n",
      "city            0\n",
      "reg_date        0\n",
      "plan            0\n",
      "churn_date    466\n",
      "dtype: int64\n"
     ]
    }
   ],
   "source": [
    "# Tampilkan informasi/rangkuman umum tentang DataFrame pengguna\n",
    "info(users)\n"
   ]
  },
  {
   "cell_type": "code",
   "execution_count": 11,
   "id": "665d5153",
   "metadata": {},
   "outputs": [
    {
     "data": {
      "text/html": [
       "<div>\n",
       "<style scoped>\n",
       "    .dataframe tbody tr th:only-of-type {\n",
       "        vertical-align: middle;\n",
       "    }\n",
       "\n",
       "    .dataframe tbody tr th {\n",
       "        vertical-align: top;\n",
       "    }\n",
       "\n",
       "    .dataframe thead th {\n",
       "        text-align: right;\n",
       "    }\n",
       "</style>\n",
       "<table border=\"1\" class=\"dataframe\">\n",
       "  <thead>\n",
       "    <tr style=\"text-align: right;\">\n",
       "      <th></th>\n",
       "      <th>user_id</th>\n",
       "      <th>first_name</th>\n",
       "      <th>last_name</th>\n",
       "      <th>age</th>\n",
       "      <th>city</th>\n",
       "      <th>reg_date</th>\n",
       "      <th>plan</th>\n",
       "      <th>churn_date</th>\n",
       "    </tr>\n",
       "  </thead>\n",
       "  <tbody>\n",
       "    <tr>\n",
       "      <th>0</th>\n",
       "      <td>1000</td>\n",
       "      <td>Anamaria</td>\n",
       "      <td>Bauer</td>\n",
       "      <td>45</td>\n",
       "      <td>Atlanta-Sandy Springs-Roswell, GA MSA</td>\n",
       "      <td>2018-12-24</td>\n",
       "      <td>ultimate</td>\n",
       "      <td>NaN</td>\n",
       "    </tr>\n",
       "    <tr>\n",
       "      <th>1</th>\n",
       "      <td>1001</td>\n",
       "      <td>Mickey</td>\n",
       "      <td>Wilkerson</td>\n",
       "      <td>28</td>\n",
       "      <td>Seattle-Tacoma-Bellevue, WA MSA</td>\n",
       "      <td>2018-08-13</td>\n",
       "      <td>surf</td>\n",
       "      <td>NaN</td>\n",
       "    </tr>\n",
       "    <tr>\n",
       "      <th>2</th>\n",
       "      <td>1002</td>\n",
       "      <td>Carlee</td>\n",
       "      <td>Hoffman</td>\n",
       "      <td>36</td>\n",
       "      <td>Las Vegas-Henderson-Paradise, NV MSA</td>\n",
       "      <td>2018-10-21</td>\n",
       "      <td>surf</td>\n",
       "      <td>NaN</td>\n",
       "    </tr>\n",
       "    <tr>\n",
       "      <th>3</th>\n",
       "      <td>1003</td>\n",
       "      <td>Reynaldo</td>\n",
       "      <td>Jenkins</td>\n",
       "      <td>52</td>\n",
       "      <td>Tulsa, OK MSA</td>\n",
       "      <td>2018-01-28</td>\n",
       "      <td>surf</td>\n",
       "      <td>NaN</td>\n",
       "    </tr>\n",
       "    <tr>\n",
       "      <th>4</th>\n",
       "      <td>1004</td>\n",
       "      <td>Leonila</td>\n",
       "      <td>Thompson</td>\n",
       "      <td>40</td>\n",
       "      <td>Seattle-Tacoma-Bellevue, WA MSA</td>\n",
       "      <td>2018-05-23</td>\n",
       "      <td>surf</td>\n",
       "      <td>NaN</td>\n",
       "    </tr>\n",
       "    <tr>\n",
       "      <th>5</th>\n",
       "      <td>1005</td>\n",
       "      <td>Livia</td>\n",
       "      <td>Shields</td>\n",
       "      <td>31</td>\n",
       "      <td>Dallas-Fort Worth-Arlington, TX MSA</td>\n",
       "      <td>2018-11-29</td>\n",
       "      <td>surf</td>\n",
       "      <td>NaN</td>\n",
       "    </tr>\n",
       "    <tr>\n",
       "      <th>6</th>\n",
       "      <td>1006</td>\n",
       "      <td>Jesusa</td>\n",
       "      <td>Bradford</td>\n",
       "      <td>73</td>\n",
       "      <td>San Francisco-Oakland-Berkeley, CA MSA</td>\n",
       "      <td>2018-11-27</td>\n",
       "      <td>ultimate</td>\n",
       "      <td>2018-12-18</td>\n",
       "    </tr>\n",
       "    <tr>\n",
       "      <th>7</th>\n",
       "      <td>1007</td>\n",
       "      <td>Eusebio</td>\n",
       "      <td>Welch</td>\n",
       "      <td>42</td>\n",
       "      <td>Grand Rapids-Kentwood, MI MSA</td>\n",
       "      <td>2018-07-11</td>\n",
       "      <td>surf</td>\n",
       "      <td>NaN</td>\n",
       "    </tr>\n",
       "    <tr>\n",
       "      <th>8</th>\n",
       "      <td>1008</td>\n",
       "      <td>Emely</td>\n",
       "      <td>Hoffman</td>\n",
       "      <td>53</td>\n",
       "      <td>Orlando-Kissimmee-Sanford, FL MSA</td>\n",
       "      <td>2018-08-03</td>\n",
       "      <td>ultimate</td>\n",
       "      <td>NaN</td>\n",
       "    </tr>\n",
       "    <tr>\n",
       "      <th>9</th>\n",
       "      <td>1009</td>\n",
       "      <td>Gerry</td>\n",
       "      <td>Little</td>\n",
       "      <td>19</td>\n",
       "      <td>San Jose-Sunnyvale-Santa Clara, CA MSA</td>\n",
       "      <td>2018-04-22</td>\n",
       "      <td>surf</td>\n",
       "      <td>NaN</td>\n",
       "    </tr>\n",
       "  </tbody>\n",
       "</table>\n",
       "</div>"
      ],
      "text/plain": [
       "   user_id first_name  last_name  age                                    city  \\\n",
       "0     1000   Anamaria      Bauer   45   Atlanta-Sandy Springs-Roswell, GA MSA   \n",
       "1     1001     Mickey  Wilkerson   28         Seattle-Tacoma-Bellevue, WA MSA   \n",
       "2     1002     Carlee    Hoffman   36    Las Vegas-Henderson-Paradise, NV MSA   \n",
       "3     1003   Reynaldo    Jenkins   52                           Tulsa, OK MSA   \n",
       "4     1004    Leonila   Thompson   40         Seattle-Tacoma-Bellevue, WA MSA   \n",
       "5     1005      Livia    Shields   31     Dallas-Fort Worth-Arlington, TX MSA   \n",
       "6     1006     Jesusa   Bradford   73  San Francisco-Oakland-Berkeley, CA MSA   \n",
       "7     1007    Eusebio      Welch   42           Grand Rapids-Kentwood, MI MSA   \n",
       "8     1008      Emely    Hoffman   53       Orlando-Kissimmee-Sanford, FL MSA   \n",
       "9     1009      Gerry     Little   19  San Jose-Sunnyvale-Santa Clara, CA MSA   \n",
       "\n",
       "     reg_date      plan  churn_date  \n",
       "0  2018-12-24  ultimate         NaN  \n",
       "1  2018-08-13      surf         NaN  \n",
       "2  2018-10-21      surf         NaN  \n",
       "3  2018-01-28      surf         NaN  \n",
       "4  2018-05-23      surf         NaN  \n",
       "5  2018-11-29      surf         NaN  \n",
       "6  2018-11-27  ultimate  2018-12-18  \n",
       "7  2018-07-11      surf         NaN  \n",
       "8  2018-08-03  ultimate         NaN  \n",
       "9  2018-04-22      surf         NaN  "
      ]
     },
     "execution_count": 11,
     "metadata": {},
     "output_type": "execute_result"
    }
   ],
   "source": [
    "# Tampilkan sampel data pengguna\n",
    "\n",
    "users.head(10)"
   ]
  },
  {
   "cell_type": "markdown",
   "id": "4dd559c3",
   "metadata": {},
   "source": [
    "Informasi yang terdapat pada kolomnya :\n",
    "            \n",
    "**user_id** — ID pengguna.\n",
    "\n",
    "**first_name** — nama depan pengguna.\n",
    "\n",
    "**last_name** — nama belakang pengguna.\n",
    "\n",
    "**age** — usia pengguna (tahun).\n",
    "\n",
    "**reg_date** — tanggal mulai berlangganan (yy, mm, dd).\n",
    "\n",
    "**churn_date** — tanggal pengguna berhenti menggunakan layanan (jika nilainya hilang atau tidak ada, berarti paket layanan sedang digunakan saat data ini dibuat).\n",
    "\n",
    "**city** — kota tempat tinggal pengguna.\n",
    "\n",
    "**plan** — nama paket telepon."
   ]
  },
  {
   "cell_type": "markdown",
   "id": "34469f5e",
   "metadata": {},
   "source": [
    "Masalah pada data **users** :\n",
    "\n",
    "1. **churn_date** mempunyai nilai yang hilang.\n",
    "2. **churn_date** bertipe data object.\n",
    "3. **reg_date** bertipe data object."
   ]
  },
  {
   "cell_type": "markdown",
   "id": "c37755e2",
   "metadata": {},
   "source": [
    "### Memperbaiki Data"
   ]
  },
  {
   "cell_type": "markdown",
   "id": "7f778290",
   "metadata": {},
   "source": [
    "1. Memperbaiki nilai yang hilang pada kolom **churn_date**"
   ]
  },
  {
   "cell_type": "code",
   "execution_count": 12,
   "id": "b63ffa56",
   "metadata": {},
   "outputs": [
    {
     "data": {
      "text/plain": [
       "54     2018-12-31\n",
       "186    2018-12-31\n",
       "40     2018-12-30\n",
       "129    2018-12-27\n",
       "402    2018-12-26\n",
       "Name: churn_date, dtype: object"
      ]
     },
     "execution_count": 12,
     "metadata": {},
     "output_type": "execute_result"
    }
   ],
   "source": [
    "# Cek tanggal terakhir data users\n",
    "users['churn_date'].sort_values(ascending=False).head()"
   ]
  },
  {
   "cell_type": "code",
   "execution_count": 13,
   "id": "bd499030",
   "metadata": {},
   "outputs": [],
   "source": [
    "# Mengganti nilai yang hilang dengan tanggal terakhir data users\n",
    "users['churn_date'] = users['churn_date'].fillna('2018-12-31')"
   ]
  },
  {
   "cell_type": "code",
   "execution_count": 14,
   "id": "37cad63a",
   "metadata": {},
   "outputs": [
    {
     "data": {
      "text/plain": [
       "user_id       0\n",
       "first_name    0\n",
       "last_name     0\n",
       "age           0\n",
       "city          0\n",
       "reg_date      0\n",
       "plan          0\n",
       "churn_date    0\n",
       "dtype: int64"
      ]
     },
     "execution_count": 14,
     "metadata": {},
     "output_type": "execute_result"
    }
   ],
   "source": [
    "# Cek nilai yang hilang\n",
    "users.isna().sum()"
   ]
  },
  {
   "cell_type": "markdown",
   "id": "81a1d079",
   "metadata": {},
   "source": [
    "2. Merubah tipe data kolom **churn_date**"
   ]
  },
  {
   "cell_type": "code",
   "execution_count": 15,
   "id": "b71a3053",
   "metadata": {},
   "outputs": [],
   "source": [
    "# Merubah tipe data kolom churn_date\n",
    "users['churn_date'] = pd.to_datetime(users['churn_date'], format = '%Y-%m-%d')"
   ]
  },
  {
   "cell_type": "markdown",
   "id": "d3e22462",
   "metadata": {},
   "source": [
    "3. Merubah tipe data kolom **reg_date**"
   ]
  },
  {
   "cell_type": "code",
   "execution_count": 16,
   "id": "f28f9732",
   "metadata": {},
   "outputs": [],
   "source": [
    "# Merubah tipe data kolom reg_date\n",
    "users['reg_date'] = pd.to_datetime(users['reg_date'], format = '%Y-%m-%d')"
   ]
  },
  {
   "cell_type": "code",
   "execution_count": 17,
   "id": "e5b96971",
   "metadata": {},
   "outputs": [
    {
     "name": "stdout",
     "output_type": "stream",
     "text": [
      "<class 'pandas.core.frame.DataFrame'>\n",
      "RangeIndex: 500 entries, 0 to 499\n",
      "Data columns (total 8 columns):\n",
      " #   Column      Non-Null Count  Dtype         \n",
      "---  ------      --------------  -----         \n",
      " 0   user_id     500 non-null    int64         \n",
      " 1   first_name  500 non-null    object        \n",
      " 2   last_name   500 non-null    object        \n",
      " 3   age         500 non-null    int64         \n",
      " 4   city        500 non-null    object        \n",
      " 5   reg_date    500 non-null    datetime64[ns]\n",
      " 6   plan        500 non-null    object        \n",
      " 7   churn_date  500 non-null    datetime64[ns]\n",
      "dtypes: datetime64[ns](2), int64(2), object(4)\n",
      "memory usage: 31.4+ KB\n"
     ]
    }
   ],
   "source": [
    "# Cek perubahan data users\n",
    "users.info()"
   ]
  },
  {
   "cell_type": "markdown",
   "id": "87e35e4c",
   "metadata": {},
   "source": [
    "**Ringkasan :**\n",
    "\n",
    "Perbaikan pada data **users** :\n",
    "\n",
    "1. Nilai yang hilang pada kolom **churn_date** diganti dengan tanggal 2018-12-31.\n",
    "2. Perubahan tipe data kolom **churn_date** menjadi datetime.\n",
    "3. Perubahan tipe data kolom **reg_date** menjadi datetime.\n",
    "\n",
    "Kemungkinan nilai yang hilang pada kolom **churn_date** karena paket masih aktif pada saat data dibuat. Nilai ini diganti dengan tanggal akhir periode data. "
   ]
  },
  {
   "cell_type": "markdown",
   "id": "200a0cde",
   "metadata": {},
   "source": [
    "### Memperkaya Kualitas Data"
   ]
  },
  {
   "cell_type": "markdown",
   "id": "aa4b478c",
   "metadata": {},
   "source": [
    "1. Penambahan kolom **msa**. "
   ]
  },
  {
   "cell_type": "code",
   "execution_count": 18,
   "id": "54fc0f57",
   "metadata": {},
   "outputs": [],
   "source": [
    "# Memisahkan state id dari kolom city\n",
    "x = users['city'].str.split(', ', expand=True)"
   ]
  },
  {
   "cell_type": "code",
   "execution_count": 19,
   "id": "0a62a20a",
   "metadata": {},
   "outputs": [],
   "source": [
    "# Memisahkan MSA\n",
    "x = x[1].str.split(None, expand=True)"
   ]
  },
  {
   "cell_type": "code",
   "execution_count": 20,
   "id": "7645b511",
   "metadata": {},
   "outputs": [],
   "source": [
    "# Menambahkan kolom msa ke data users\n",
    "users['msa'] = x[0]"
   ]
  },
  {
   "cell_type": "code",
   "execution_count": 21,
   "id": "bf4d4a54",
   "metadata": {},
   "outputs": [
    {
     "data": {
      "text/html": [
       "<div>\n",
       "<style scoped>\n",
       "    .dataframe tbody tr th:only-of-type {\n",
       "        vertical-align: middle;\n",
       "    }\n",
       "\n",
       "    .dataframe tbody tr th {\n",
       "        vertical-align: top;\n",
       "    }\n",
       "\n",
       "    .dataframe thead th {\n",
       "        text-align: right;\n",
       "    }\n",
       "</style>\n",
       "<table border=\"1\" class=\"dataframe\">\n",
       "  <thead>\n",
       "    <tr style=\"text-align: right;\">\n",
       "      <th></th>\n",
       "      <th>user_id</th>\n",
       "      <th>first_name</th>\n",
       "      <th>last_name</th>\n",
       "      <th>age</th>\n",
       "      <th>city</th>\n",
       "      <th>reg_date</th>\n",
       "      <th>plan</th>\n",
       "      <th>churn_date</th>\n",
       "      <th>msa</th>\n",
       "    </tr>\n",
       "  </thead>\n",
       "  <tbody>\n",
       "    <tr>\n",
       "      <th>0</th>\n",
       "      <td>1000</td>\n",
       "      <td>Anamaria</td>\n",
       "      <td>Bauer</td>\n",
       "      <td>45</td>\n",
       "      <td>Atlanta-Sandy Springs-Roswell, GA MSA</td>\n",
       "      <td>2018-12-24</td>\n",
       "      <td>ultimate</td>\n",
       "      <td>2018-12-31</td>\n",
       "      <td>GA</td>\n",
       "    </tr>\n",
       "    <tr>\n",
       "      <th>1</th>\n",
       "      <td>1001</td>\n",
       "      <td>Mickey</td>\n",
       "      <td>Wilkerson</td>\n",
       "      <td>28</td>\n",
       "      <td>Seattle-Tacoma-Bellevue, WA MSA</td>\n",
       "      <td>2018-08-13</td>\n",
       "      <td>surf</td>\n",
       "      <td>2018-12-31</td>\n",
       "      <td>WA</td>\n",
       "    </tr>\n",
       "    <tr>\n",
       "      <th>2</th>\n",
       "      <td>1002</td>\n",
       "      <td>Carlee</td>\n",
       "      <td>Hoffman</td>\n",
       "      <td>36</td>\n",
       "      <td>Las Vegas-Henderson-Paradise, NV MSA</td>\n",
       "      <td>2018-10-21</td>\n",
       "      <td>surf</td>\n",
       "      <td>2018-12-31</td>\n",
       "      <td>NV</td>\n",
       "    </tr>\n",
       "    <tr>\n",
       "      <th>3</th>\n",
       "      <td>1003</td>\n",
       "      <td>Reynaldo</td>\n",
       "      <td>Jenkins</td>\n",
       "      <td>52</td>\n",
       "      <td>Tulsa, OK MSA</td>\n",
       "      <td>2018-01-28</td>\n",
       "      <td>surf</td>\n",
       "      <td>2018-12-31</td>\n",
       "      <td>OK</td>\n",
       "    </tr>\n",
       "    <tr>\n",
       "      <th>4</th>\n",
       "      <td>1004</td>\n",
       "      <td>Leonila</td>\n",
       "      <td>Thompson</td>\n",
       "      <td>40</td>\n",
       "      <td>Seattle-Tacoma-Bellevue, WA MSA</td>\n",
       "      <td>2018-05-23</td>\n",
       "      <td>surf</td>\n",
       "      <td>2018-12-31</td>\n",
       "      <td>WA</td>\n",
       "    </tr>\n",
       "  </tbody>\n",
       "</table>\n",
       "</div>"
      ],
      "text/plain": [
       "   user_id first_name  last_name  age                                   city  \\\n",
       "0     1000   Anamaria      Bauer   45  Atlanta-Sandy Springs-Roswell, GA MSA   \n",
       "1     1001     Mickey  Wilkerson   28        Seattle-Tacoma-Bellevue, WA MSA   \n",
       "2     1002     Carlee    Hoffman   36   Las Vegas-Henderson-Paradise, NV MSA   \n",
       "3     1003   Reynaldo    Jenkins   52                          Tulsa, OK MSA   \n",
       "4     1004    Leonila   Thompson   40        Seattle-Tacoma-Bellevue, WA MSA   \n",
       "\n",
       "    reg_date      plan churn_date msa  \n",
       "0 2018-12-24  ultimate 2018-12-31  GA  \n",
       "1 2018-08-13      surf 2018-12-31  WA  \n",
       "2 2018-10-21      surf 2018-12-31  NV  \n",
       "3 2018-01-28      surf 2018-12-31  OK  \n",
       "4 2018-05-23      surf 2018-12-31  WA  "
      ]
     },
     "execution_count": 21,
     "metadata": {},
     "output_type": "execute_result"
    }
   ],
   "source": [
    "# Cek perubahan data\n",
    "users.head()"
   ]
  },
  {
   "cell_type": "code",
   "execution_count": 22,
   "id": "ad18160d",
   "metadata": {
    "scrolled": false
   },
   "outputs": [
    {
     "name": "stdout",
     "output_type": "stream",
     "text": [
      "<class 'pandas.core.frame.DataFrame'>\n",
      "RangeIndex: 500 entries, 0 to 499\n",
      "Data columns (total 9 columns):\n",
      " #   Column      Non-Null Count  Dtype         \n",
      "---  ------      --------------  -----         \n",
      " 0   user_id     500 non-null    int64         \n",
      " 1   first_name  500 non-null    object        \n",
      " 2   last_name   500 non-null    object        \n",
      " 3   age         500 non-null    int64         \n",
      " 4   city        500 non-null    object        \n",
      " 5   reg_date    500 non-null    datetime64[ns]\n",
      " 6   plan        500 non-null    object        \n",
      " 7   churn_date  500 non-null    datetime64[ns]\n",
      " 8   msa         500 non-null    object        \n",
      "dtypes: datetime64[ns](2), int64(2), object(5)\n",
      "memory usage: 35.3+ KB\n"
     ]
    }
   ],
   "source": [
    "# Perubahan final data users\n",
    "users.info()"
   ]
  },
  {
   "cell_type": "markdown",
   "id": "628eaf4a",
   "metadata": {},
   "source": [
    "**Ringkasan :**\n",
    "\n",
    "Penambahan informasi pada data **users** :\n",
    "\n",
    "1. Penambahan kolom area **msa**.\n"
   ]
  },
  {
   "cell_type": "markdown",
   "id": "1f433c3c",
   "metadata": {},
   "source": [
    "## Panggilan (calls)"
   ]
  },
  {
   "cell_type": "code",
   "execution_count": 23,
   "id": "6d7fb996",
   "metadata": {
    "scrolled": false
   },
   "outputs": [
    {
     "name": "stdout",
     "output_type": "stream",
     "text": [
      "Jumlah baris dan kolom : (137735, 4)\n",
      "\n",
      "<class 'pandas.core.frame.DataFrame'>\n",
      "RangeIndex: 137735 entries, 0 to 137734\n",
      "Data columns (total 4 columns):\n",
      " #   Column     Non-Null Count   Dtype  \n",
      "---  ------     --------------   -----  \n",
      " 0   id         137735 non-null  object \n",
      " 1   user_id    137735 non-null  int64  \n",
      " 2   call_date  137735 non-null  object \n",
      " 3   duration   137735 non-null  float64\n",
      "dtypes: float64(1), int64(1), object(2)\n",
      "memory usage: 4.2+ MB\n",
      "None\n",
      "\n",
      "             user_id       duration\n",
      "count  137735.000000  137735.000000\n",
      "mean     1247.658046       6.745927\n",
      "std       139.416268       5.839241\n",
      "min      1000.000000       0.000000\n",
      "25%      1128.000000       1.290000\n",
      "50%      1247.000000       5.980000\n",
      "75%      1365.000000      10.690000\n",
      "max      1499.000000      37.600000\n",
      "\n",
      "Tidak terdapat duplikat eksplisit\n",
      "\n",
      "Tidak terdapat nilai yang hilang dalam data\n"
     ]
    }
   ],
   "source": [
    "# Tampilkan informasi/rangkuman umum tentang DataFrame panggilan\n",
    "info(calls)"
   ]
  },
  {
   "cell_type": "code",
   "execution_count": 24,
   "id": "116b861e",
   "metadata": {},
   "outputs": [
    {
     "name": "stdout",
     "output_type": "stream",
     "text": [
      "Jumlah baris duration yang memiliki nilai 0 : 26834  baris, 19.48  %\n"
     ]
    }
   ],
   "source": [
    "# Cek duration = 0\n",
    "duration0 = calls.query('duration == 0')['id'].count()\n",
    "print('Jumlah baris duration yang memiliki nilai 0 :', duration0,' baris,', round(duration0/calls['id'].count() * 100, 2),' %')"
   ]
  },
  {
   "cell_type": "code",
   "execution_count": 25,
   "id": "195f5b8f",
   "metadata": {},
   "outputs": [
    {
     "data": {
      "text/html": [
       "<div>\n",
       "<style scoped>\n",
       "    .dataframe tbody tr th:only-of-type {\n",
       "        vertical-align: middle;\n",
       "    }\n",
       "\n",
       "    .dataframe tbody tr th {\n",
       "        vertical-align: top;\n",
       "    }\n",
       "\n",
       "    .dataframe thead th {\n",
       "        text-align: right;\n",
       "    }\n",
       "</style>\n",
       "<table border=\"1\" class=\"dataframe\">\n",
       "  <thead>\n",
       "    <tr style=\"text-align: right;\">\n",
       "      <th></th>\n",
       "      <th>id</th>\n",
       "      <th>user_id</th>\n",
       "      <th>call_date</th>\n",
       "      <th>duration</th>\n",
       "    </tr>\n",
       "  </thead>\n",
       "  <tbody>\n",
       "    <tr>\n",
       "      <th>0</th>\n",
       "      <td>1000_93</td>\n",
       "      <td>1000</td>\n",
       "      <td>2018-12-27</td>\n",
       "      <td>8.52</td>\n",
       "    </tr>\n",
       "    <tr>\n",
       "      <th>1</th>\n",
       "      <td>1000_145</td>\n",
       "      <td>1000</td>\n",
       "      <td>2018-12-27</td>\n",
       "      <td>13.66</td>\n",
       "    </tr>\n",
       "    <tr>\n",
       "      <th>2</th>\n",
       "      <td>1000_247</td>\n",
       "      <td>1000</td>\n",
       "      <td>2018-12-27</td>\n",
       "      <td>14.48</td>\n",
       "    </tr>\n",
       "    <tr>\n",
       "      <th>3</th>\n",
       "      <td>1000_309</td>\n",
       "      <td>1000</td>\n",
       "      <td>2018-12-28</td>\n",
       "      <td>5.76</td>\n",
       "    </tr>\n",
       "    <tr>\n",
       "      <th>4</th>\n",
       "      <td>1000_380</td>\n",
       "      <td>1000</td>\n",
       "      <td>2018-12-30</td>\n",
       "      <td>4.22</td>\n",
       "    </tr>\n",
       "    <tr>\n",
       "      <th>5</th>\n",
       "      <td>1000_388</td>\n",
       "      <td>1000</td>\n",
       "      <td>2018-12-31</td>\n",
       "      <td>2.20</td>\n",
       "    </tr>\n",
       "    <tr>\n",
       "      <th>6</th>\n",
       "      <td>1000_510</td>\n",
       "      <td>1000</td>\n",
       "      <td>2018-12-27</td>\n",
       "      <td>5.75</td>\n",
       "    </tr>\n",
       "    <tr>\n",
       "      <th>7</th>\n",
       "      <td>1000_521</td>\n",
       "      <td>1000</td>\n",
       "      <td>2018-12-28</td>\n",
       "      <td>14.18</td>\n",
       "    </tr>\n",
       "    <tr>\n",
       "      <th>8</th>\n",
       "      <td>1000_530</td>\n",
       "      <td>1000</td>\n",
       "      <td>2018-12-28</td>\n",
       "      <td>5.77</td>\n",
       "    </tr>\n",
       "    <tr>\n",
       "      <th>9</th>\n",
       "      <td>1000_544</td>\n",
       "      <td>1000</td>\n",
       "      <td>2018-12-26</td>\n",
       "      <td>4.40</td>\n",
       "    </tr>\n",
       "  </tbody>\n",
       "</table>\n",
       "</div>"
      ],
      "text/plain": [
       "         id  user_id   call_date  duration\n",
       "0   1000_93     1000  2018-12-27      8.52\n",
       "1  1000_145     1000  2018-12-27     13.66\n",
       "2  1000_247     1000  2018-12-27     14.48\n",
       "3  1000_309     1000  2018-12-28      5.76\n",
       "4  1000_380     1000  2018-12-30      4.22\n",
       "5  1000_388     1000  2018-12-31      2.20\n",
       "6  1000_510     1000  2018-12-27      5.75\n",
       "7  1000_521     1000  2018-12-28     14.18\n",
       "8  1000_530     1000  2018-12-28      5.77\n",
       "9  1000_544     1000  2018-12-26      4.40"
      ]
     },
     "execution_count": 25,
     "metadata": {},
     "output_type": "execute_result"
    }
   ],
   "source": [
    "# Tampilkan sampel data berisi panggilan\n",
    "calls.head(10)\n"
   ]
  },
  {
   "cell_type": "markdown",
   "id": "53ef5a01",
   "metadata": {},
   "source": [
    "Informasi yang terdapat pada kolomnya :\n",
    "\n",
    "**id** — ID sesi web unik.\n",
    "\n",
    "**call_date** — tanggal panggilan.\n",
    "\n",
    "**duration** — durasi panggilan (dalam menit).\n",
    "\n",
    "**user_id** — ID pengguna yang melakukan panggilan.\n"
   ]
  },
  {
   "cell_type": "markdown",
   "id": "45cdf8f5",
   "metadata": {},
   "source": [
    "Masalah pada data **calls** :\n",
    "\n",
    "1. **call_date** bertipe data object.\n",
    "2. **duration** terdapat durasi 0 sebanyak 26834 baris, 19.48% dari total baris data."
   ]
  },
  {
   "cell_type": "markdown",
   "id": "257acc71",
   "metadata": {},
   "source": [
    " "
   ]
  },
  {
   "cell_type": "markdown",
   "id": "b2d62be3",
   "metadata": {},
   "source": [
    "### Memperbaiki Data"
   ]
  },
  {
   "cell_type": "markdown",
   "id": "9f303eb6",
   "metadata": {},
   "source": [
    "1. Merubah tipe data kolom **call_date**"
   ]
  },
  {
   "cell_type": "code",
   "execution_count": 26,
   "id": "a54fecb5",
   "metadata": {},
   "outputs": [],
   "source": [
    "# Merubah tipe data kolom call_date\n",
    "calls['call_date'] = pd.to_datetime(calls['call_date'], format = '%Y-%m-%d')"
   ]
  },
  {
   "cell_type": "code",
   "execution_count": 27,
   "id": "a94d3349",
   "metadata": {},
   "outputs": [
    {
     "name": "stdout",
     "output_type": "stream",
     "text": [
      "<class 'pandas.core.frame.DataFrame'>\n",
      "RangeIndex: 137735 entries, 0 to 137734\n",
      "Data columns (total 4 columns):\n",
      " #   Column     Non-Null Count   Dtype         \n",
      "---  ------     --------------   -----         \n",
      " 0   id         137735 non-null  object        \n",
      " 1   user_id    137735 non-null  int64         \n",
      " 2   call_date  137735 non-null  datetime64[ns]\n",
      " 3   duration   137735 non-null  float64       \n",
      "dtypes: datetime64[ns](1), float64(1), int64(1), object(1)\n",
      "memory usage: 4.2+ MB\n"
     ]
    }
   ],
   "source": [
    "# Cek perubahan tipe data\n",
    "calls.info()"
   ]
  },
  {
   "cell_type": "markdown",
   "id": "1c9656ae",
   "metadata": {},
   "source": [
    "2. Filter data **calls** dengan **duration** lebih dari 0"
   ]
  },
  {
   "cell_type": "code",
   "execution_count": 28,
   "id": "7e06fec5",
   "metadata": {},
   "outputs": [],
   "source": [
    "# Filter data ke calls_filtered\n",
    "calls_filtered = calls.query('duration > 0')"
   ]
  },
  {
   "cell_type": "code",
   "execution_count": 29,
   "id": "a1e41673",
   "metadata": {},
   "outputs": [
    {
     "name": "stdout",
     "output_type": "stream",
     "text": [
      "Rata - rata duration berubah dari 6.75 menjadi 8.38\n"
     ]
    }
   ],
   "source": [
    "# Membandingkan rata - rata duration\n",
    "mean = round(calls['duration'].mean(), 2)\n",
    "mean1 = round(calls_filtered['duration'].mean(), 2)\n",
    "\n",
    "print('Rata - rata duration berubah dari', mean,'menjadi', mean1)"
   ]
  },
  {
   "cell_type": "code",
   "execution_count": 30,
   "id": "04ea5dcd",
   "metadata": {},
   "outputs": [
    {
     "name": "stdout",
     "output_type": "stream",
     "text": [
      "<class 'pandas.core.frame.DataFrame'>\n",
      "Index: 110901 entries, 0 to 137734\n",
      "Data columns (total 4 columns):\n",
      " #   Column     Non-Null Count   Dtype         \n",
      "---  ------     --------------   -----         \n",
      " 0   id         110901 non-null  object        \n",
      " 1   user_id    110901 non-null  int64         \n",
      " 2   call_date  110901 non-null  datetime64[ns]\n",
      " 3   duration   110901 non-null  float64       \n",
      "dtypes: datetime64[ns](1), float64(1), int64(1), object(1)\n",
      "memory usage: 4.2+ MB\n"
     ]
    }
   ],
   "source": [
    "# cek perubahan data\n",
    "calls_filtered.info()"
   ]
  },
  {
   "cell_type": "markdown",
   "id": "67e2ac8c",
   "metadata": {},
   "source": [
    "**Ringkasan :**\n",
    "\n",
    "Perbaikan pada data **calls** :\n",
    "\n",
    "1. Perubahan tipe data kolom **call_date** menjadi datetime.\n",
    "2. Filter data **calls** dengan **duration** lebih dari 0 ke data baru **calls_filtered**. Data ini di filter karena mempengaruhi nilai rata - rata **duration** dari 6.75 menit menjadi 8.38 menit."
   ]
  },
  {
   "cell_type": "markdown",
   "id": "7219d66b",
   "metadata": {},
   "source": [
    "### Memperkaya Kualitas Data"
   ]
  },
  {
   "cell_type": "markdown",
   "id": "f797a0c1",
   "metadata": {},
   "source": [
    "1. Penambahan kolom **month**"
   ]
  },
  {
   "cell_type": "code",
   "execution_count": 31,
   "id": "f9ad3e97",
   "metadata": {},
   "outputs": [
    {
     "name": "stderr",
     "output_type": "stream",
     "text": [
      "C:\\Users\\vidop\\AppData\\Local\\Temp\\ipykernel_13384\\1252997406.py:2: SettingWithCopyWarning: \n",
      "A value is trying to be set on a copy of a slice from a DataFrame.\n",
      "Try using .loc[row_indexer,col_indexer] = value instead\n",
      "\n",
      "See the caveats in the documentation: https://pandas.pydata.org/pandas-docs/stable/user_guide/indexing.html#returning-a-view-versus-a-copy\n",
      "  calls_filtered['month'] = calls_filtered['call_date'].dt.month\n"
     ]
    }
   ],
   "source": [
    "# Penambahan kolom month\n",
    "calls_filtered['month'] = calls_filtered['call_date'].dt.month"
   ]
  },
  {
   "cell_type": "code",
   "execution_count": 32,
   "id": "16ad436e",
   "metadata": {},
   "outputs": [
    {
     "data": {
      "text/html": [
       "<div>\n",
       "<style scoped>\n",
       "    .dataframe tbody tr th:only-of-type {\n",
       "        vertical-align: middle;\n",
       "    }\n",
       "\n",
       "    .dataframe tbody tr th {\n",
       "        vertical-align: top;\n",
       "    }\n",
       "\n",
       "    .dataframe thead th {\n",
       "        text-align: right;\n",
       "    }\n",
       "</style>\n",
       "<table border=\"1\" class=\"dataframe\">\n",
       "  <thead>\n",
       "    <tr style=\"text-align: right;\">\n",
       "      <th></th>\n",
       "      <th>id</th>\n",
       "      <th>user_id</th>\n",
       "      <th>call_date</th>\n",
       "      <th>duration</th>\n",
       "      <th>month</th>\n",
       "    </tr>\n",
       "  </thead>\n",
       "  <tbody>\n",
       "    <tr>\n",
       "      <th>0</th>\n",
       "      <td>1000_93</td>\n",
       "      <td>1000</td>\n",
       "      <td>2018-12-27</td>\n",
       "      <td>8.52</td>\n",
       "      <td>12</td>\n",
       "    </tr>\n",
       "    <tr>\n",
       "      <th>1</th>\n",
       "      <td>1000_145</td>\n",
       "      <td>1000</td>\n",
       "      <td>2018-12-27</td>\n",
       "      <td>13.66</td>\n",
       "      <td>12</td>\n",
       "    </tr>\n",
       "    <tr>\n",
       "      <th>2</th>\n",
       "      <td>1000_247</td>\n",
       "      <td>1000</td>\n",
       "      <td>2018-12-27</td>\n",
       "      <td>14.48</td>\n",
       "      <td>12</td>\n",
       "    </tr>\n",
       "    <tr>\n",
       "      <th>3</th>\n",
       "      <td>1000_309</td>\n",
       "      <td>1000</td>\n",
       "      <td>2018-12-28</td>\n",
       "      <td>5.76</td>\n",
       "      <td>12</td>\n",
       "    </tr>\n",
       "    <tr>\n",
       "      <th>4</th>\n",
       "      <td>1000_380</td>\n",
       "      <td>1000</td>\n",
       "      <td>2018-12-30</td>\n",
       "      <td>4.22</td>\n",
       "      <td>12</td>\n",
       "    </tr>\n",
       "  </tbody>\n",
       "</table>\n",
       "</div>"
      ],
      "text/plain": [
       "         id  user_id  call_date  duration  month\n",
       "0   1000_93     1000 2018-12-27      8.52     12\n",
       "1  1000_145     1000 2018-12-27     13.66     12\n",
       "2  1000_247     1000 2018-12-27     14.48     12\n",
       "3  1000_309     1000 2018-12-28      5.76     12\n",
       "4  1000_380     1000 2018-12-30      4.22     12"
      ]
     },
     "execution_count": 32,
     "metadata": {},
     "output_type": "execute_result"
    }
   ],
   "source": [
    "# Cek penambahan data\n",
    "calls_filtered.head()"
   ]
  },
  {
   "cell_type": "markdown",
   "id": "5aaeffaf",
   "metadata": {},
   "source": [
    "2. Penambahan kolom **duration_rndup**"
   ]
  },
  {
   "cell_type": "code",
   "execution_count": 33,
   "id": "fd060b28",
   "metadata": {},
   "outputs": [
    {
     "name": "stderr",
     "output_type": "stream",
     "text": [
      "C:\\Users\\vidop\\AppData\\Local\\Temp\\ipykernel_13384\\2630398497.py:3: SettingWithCopyWarning: \n",
      "A value is trying to be set on a copy of a slice from a DataFrame.\n",
      "Try using .loc[row_indexer,col_indexer] = value instead\n",
      "\n",
      "See the caveats in the documentation: https://pandas.pydata.org/pandas-docs/stable/user_guide/indexing.html#returning-a-view-versus-a-copy\n",
      "  calls_filtered['duration_rndup'] = np.ceil(calls_filtered['duration'])\n"
     ]
    }
   ],
   "source": [
    "# Penambahan kolom duration_rndup\n",
    "\n",
    "calls_filtered['duration_rndup'] = np.ceil(calls_filtered['duration'])"
   ]
  },
  {
   "cell_type": "code",
   "execution_count": 34,
   "id": "11b7abe4",
   "metadata": {},
   "outputs": [
    {
     "data": {
      "text/html": [
       "<div>\n",
       "<style scoped>\n",
       "    .dataframe tbody tr th:only-of-type {\n",
       "        vertical-align: middle;\n",
       "    }\n",
       "\n",
       "    .dataframe tbody tr th {\n",
       "        vertical-align: top;\n",
       "    }\n",
       "\n",
       "    .dataframe thead th {\n",
       "        text-align: right;\n",
       "    }\n",
       "</style>\n",
       "<table border=\"1\" class=\"dataframe\">\n",
       "  <thead>\n",
       "    <tr style=\"text-align: right;\">\n",
       "      <th></th>\n",
       "      <th>id</th>\n",
       "      <th>user_id</th>\n",
       "      <th>call_date</th>\n",
       "      <th>duration</th>\n",
       "      <th>month</th>\n",
       "      <th>duration_rndup</th>\n",
       "    </tr>\n",
       "  </thead>\n",
       "  <tbody>\n",
       "    <tr>\n",
       "      <th>0</th>\n",
       "      <td>1000_93</td>\n",
       "      <td>1000</td>\n",
       "      <td>2018-12-27</td>\n",
       "      <td>8.52</td>\n",
       "      <td>12</td>\n",
       "      <td>9.0</td>\n",
       "    </tr>\n",
       "    <tr>\n",
       "      <th>1</th>\n",
       "      <td>1000_145</td>\n",
       "      <td>1000</td>\n",
       "      <td>2018-12-27</td>\n",
       "      <td>13.66</td>\n",
       "      <td>12</td>\n",
       "      <td>14.0</td>\n",
       "    </tr>\n",
       "    <tr>\n",
       "      <th>2</th>\n",
       "      <td>1000_247</td>\n",
       "      <td>1000</td>\n",
       "      <td>2018-12-27</td>\n",
       "      <td>14.48</td>\n",
       "      <td>12</td>\n",
       "      <td>15.0</td>\n",
       "    </tr>\n",
       "    <tr>\n",
       "      <th>3</th>\n",
       "      <td>1000_309</td>\n",
       "      <td>1000</td>\n",
       "      <td>2018-12-28</td>\n",
       "      <td>5.76</td>\n",
       "      <td>12</td>\n",
       "      <td>6.0</td>\n",
       "    </tr>\n",
       "    <tr>\n",
       "      <th>4</th>\n",
       "      <td>1000_380</td>\n",
       "      <td>1000</td>\n",
       "      <td>2018-12-30</td>\n",
       "      <td>4.22</td>\n",
       "      <td>12</td>\n",
       "      <td>5.0</td>\n",
       "    </tr>\n",
       "  </tbody>\n",
       "</table>\n",
       "</div>"
      ],
      "text/plain": [
       "         id  user_id  call_date  duration  month  duration_rndup\n",
       "0   1000_93     1000 2018-12-27      8.52     12             9.0\n",
       "1  1000_145     1000 2018-12-27     13.66     12            14.0\n",
       "2  1000_247     1000 2018-12-27     14.48     12            15.0\n",
       "3  1000_309     1000 2018-12-28      5.76     12             6.0\n",
       "4  1000_380     1000 2018-12-30      4.22     12             5.0"
      ]
     },
     "execution_count": 34,
     "metadata": {},
     "output_type": "execute_result"
    }
   ],
   "source": [
    "# Cek penambahan data\n",
    "calls_filtered.head()"
   ]
  },
  {
   "cell_type": "markdown",
   "id": "12df58e1",
   "metadata": {},
   "source": [
    "3. Penambahan informasi dari data **users** ke data **calls_filtered**"
   ]
  },
  {
   "cell_type": "code",
   "execution_count": 35,
   "id": "35c984d4",
   "metadata": {},
   "outputs": [],
   "source": [
    "# Menggabungkan users ke calls_filtered\n",
    "calls_filtered = calls_filtered.join(users.set_index('user_id'), on=('user_id'))"
   ]
  },
  {
   "cell_type": "code",
   "execution_count": 36,
   "id": "2da9fd1f",
   "metadata": {},
   "outputs": [
    {
     "data": {
      "text/html": [
       "<div>\n",
       "<style scoped>\n",
       "    .dataframe tbody tr th:only-of-type {\n",
       "        vertical-align: middle;\n",
       "    }\n",
       "\n",
       "    .dataframe tbody tr th {\n",
       "        vertical-align: top;\n",
       "    }\n",
       "\n",
       "    .dataframe thead th {\n",
       "        text-align: right;\n",
       "    }\n",
       "</style>\n",
       "<table border=\"1\" class=\"dataframe\">\n",
       "  <thead>\n",
       "    <tr style=\"text-align: right;\">\n",
       "      <th></th>\n",
       "      <th>id</th>\n",
       "      <th>user_id</th>\n",
       "      <th>call_date</th>\n",
       "      <th>duration</th>\n",
       "      <th>month</th>\n",
       "      <th>duration_rndup</th>\n",
       "      <th>first_name</th>\n",
       "      <th>last_name</th>\n",
       "      <th>age</th>\n",
       "      <th>city</th>\n",
       "      <th>reg_date</th>\n",
       "      <th>plan</th>\n",
       "      <th>churn_date</th>\n",
       "      <th>msa</th>\n",
       "    </tr>\n",
       "  </thead>\n",
       "  <tbody>\n",
       "    <tr>\n",
       "      <th>0</th>\n",
       "      <td>1000_93</td>\n",
       "      <td>1000</td>\n",
       "      <td>2018-12-27</td>\n",
       "      <td>8.52</td>\n",
       "      <td>12</td>\n",
       "      <td>9.0</td>\n",
       "      <td>Anamaria</td>\n",
       "      <td>Bauer</td>\n",
       "      <td>45</td>\n",
       "      <td>Atlanta-Sandy Springs-Roswell, GA MSA</td>\n",
       "      <td>2018-12-24</td>\n",
       "      <td>ultimate</td>\n",
       "      <td>2018-12-31</td>\n",
       "      <td>GA</td>\n",
       "    </tr>\n",
       "    <tr>\n",
       "      <th>1</th>\n",
       "      <td>1000_145</td>\n",
       "      <td>1000</td>\n",
       "      <td>2018-12-27</td>\n",
       "      <td>13.66</td>\n",
       "      <td>12</td>\n",
       "      <td>14.0</td>\n",
       "      <td>Anamaria</td>\n",
       "      <td>Bauer</td>\n",
       "      <td>45</td>\n",
       "      <td>Atlanta-Sandy Springs-Roswell, GA MSA</td>\n",
       "      <td>2018-12-24</td>\n",
       "      <td>ultimate</td>\n",
       "      <td>2018-12-31</td>\n",
       "      <td>GA</td>\n",
       "    </tr>\n",
       "    <tr>\n",
       "      <th>2</th>\n",
       "      <td>1000_247</td>\n",
       "      <td>1000</td>\n",
       "      <td>2018-12-27</td>\n",
       "      <td>14.48</td>\n",
       "      <td>12</td>\n",
       "      <td>15.0</td>\n",
       "      <td>Anamaria</td>\n",
       "      <td>Bauer</td>\n",
       "      <td>45</td>\n",
       "      <td>Atlanta-Sandy Springs-Roswell, GA MSA</td>\n",
       "      <td>2018-12-24</td>\n",
       "      <td>ultimate</td>\n",
       "      <td>2018-12-31</td>\n",
       "      <td>GA</td>\n",
       "    </tr>\n",
       "    <tr>\n",
       "      <th>3</th>\n",
       "      <td>1000_309</td>\n",
       "      <td>1000</td>\n",
       "      <td>2018-12-28</td>\n",
       "      <td>5.76</td>\n",
       "      <td>12</td>\n",
       "      <td>6.0</td>\n",
       "      <td>Anamaria</td>\n",
       "      <td>Bauer</td>\n",
       "      <td>45</td>\n",
       "      <td>Atlanta-Sandy Springs-Roswell, GA MSA</td>\n",
       "      <td>2018-12-24</td>\n",
       "      <td>ultimate</td>\n",
       "      <td>2018-12-31</td>\n",
       "      <td>GA</td>\n",
       "    </tr>\n",
       "    <tr>\n",
       "      <th>4</th>\n",
       "      <td>1000_380</td>\n",
       "      <td>1000</td>\n",
       "      <td>2018-12-30</td>\n",
       "      <td>4.22</td>\n",
       "      <td>12</td>\n",
       "      <td>5.0</td>\n",
       "      <td>Anamaria</td>\n",
       "      <td>Bauer</td>\n",
       "      <td>45</td>\n",
       "      <td>Atlanta-Sandy Springs-Roswell, GA MSA</td>\n",
       "      <td>2018-12-24</td>\n",
       "      <td>ultimate</td>\n",
       "      <td>2018-12-31</td>\n",
       "      <td>GA</td>\n",
       "    </tr>\n",
       "  </tbody>\n",
       "</table>\n",
       "</div>"
      ],
      "text/plain": [
       "         id  user_id  call_date  duration  month  duration_rndup first_name  \\\n",
       "0   1000_93     1000 2018-12-27      8.52     12             9.0   Anamaria   \n",
       "1  1000_145     1000 2018-12-27     13.66     12            14.0   Anamaria   \n",
       "2  1000_247     1000 2018-12-27     14.48     12            15.0   Anamaria   \n",
       "3  1000_309     1000 2018-12-28      5.76     12             6.0   Anamaria   \n",
       "4  1000_380     1000 2018-12-30      4.22     12             5.0   Anamaria   \n",
       "\n",
       "  last_name  age                                   city   reg_date      plan  \\\n",
       "0     Bauer   45  Atlanta-Sandy Springs-Roswell, GA MSA 2018-12-24  ultimate   \n",
       "1     Bauer   45  Atlanta-Sandy Springs-Roswell, GA MSA 2018-12-24  ultimate   \n",
       "2     Bauer   45  Atlanta-Sandy Springs-Roswell, GA MSA 2018-12-24  ultimate   \n",
       "3     Bauer   45  Atlanta-Sandy Springs-Roswell, GA MSA 2018-12-24  ultimate   \n",
       "4     Bauer   45  Atlanta-Sandy Springs-Roswell, GA MSA 2018-12-24  ultimate   \n",
       "\n",
       "  churn_date msa  \n",
       "0 2018-12-31  GA  \n",
       "1 2018-12-31  GA  \n",
       "2 2018-12-31  GA  \n",
       "3 2018-12-31  GA  \n",
       "4 2018-12-31  GA  "
      ]
     },
     "execution_count": 36,
     "metadata": {},
     "output_type": "execute_result"
    }
   ],
   "source": [
    "calls_filtered.head()"
   ]
  },
  {
   "cell_type": "markdown",
   "id": "80602c69",
   "metadata": {},
   "source": [
    "4. Penambahan kolom **plan_status**"
   ]
  },
  {
   "cell_type": "code",
   "execution_count": 37,
   "id": "408ff49b",
   "metadata": {},
   "outputs": [],
   "source": [
    "# Penambahan kolom plan_status\n",
    "calls_filtered['plan_status'] = 'nonactive'\n",
    "calls_filtered['plan_status'] = calls_filtered['plan_status'].where(calls_filtered['call_date'].dt.month > calls_filtered['churn_date'].dt.month, 'active')"
   ]
  },
  {
   "cell_type": "code",
   "execution_count": 38,
   "id": "e7fd96f0",
   "metadata": {},
   "outputs": [
    {
     "data": {
      "text/plain": [
       "plan_status\n",
       "active       109106\n",
       "nonactive      1795\n",
       "Name: count, dtype: int64"
      ]
     },
     "execution_count": 38,
     "metadata": {},
     "output_type": "execute_result"
    }
   ],
   "source": [
    "# Cek sebaran data plan_status\n",
    "calls_filtered.value_counts('plan_status')"
   ]
  },
  {
   "cell_type": "code",
   "execution_count": 39,
   "id": "ba074035",
   "metadata": {
    "scrolled": false
   },
   "outputs": [
    {
     "data": {
      "text/html": [
       "<div>\n",
       "<style scoped>\n",
       "    .dataframe tbody tr th:only-of-type {\n",
       "        vertical-align: middle;\n",
       "    }\n",
       "\n",
       "    .dataframe tbody tr th {\n",
       "        vertical-align: top;\n",
       "    }\n",
       "\n",
       "    .dataframe thead th {\n",
       "        text-align: right;\n",
       "    }\n",
       "</style>\n",
       "<table border=\"1\" class=\"dataframe\">\n",
       "  <thead>\n",
       "    <tr style=\"text-align: right;\">\n",
       "      <th></th>\n",
       "      <th>id</th>\n",
       "      <th>user_id</th>\n",
       "      <th>call_date</th>\n",
       "      <th>duration</th>\n",
       "      <th>month</th>\n",
       "      <th>duration_rndup</th>\n",
       "      <th>first_name</th>\n",
       "      <th>last_name</th>\n",
       "      <th>age</th>\n",
       "      <th>city</th>\n",
       "      <th>reg_date</th>\n",
       "      <th>plan</th>\n",
       "      <th>churn_date</th>\n",
       "      <th>msa</th>\n",
       "      <th>plan_status</th>\n",
       "    </tr>\n",
       "  </thead>\n",
       "  <tbody>\n",
       "    <tr>\n",
       "      <th>3562</th>\n",
       "      <td>1012_2</td>\n",
       "      <td>1012</td>\n",
       "      <td>2018-12-23</td>\n",
       "      <td>2.53</td>\n",
       "      <td>12</td>\n",
       "      <td>3.0</td>\n",
       "      <td>Jonelle</td>\n",
       "      <td>Mcbride</td>\n",
       "      <td>59</td>\n",
       "      <td>Chicago-Naperville-Elgin, IL-IN-WI MSA</td>\n",
       "      <td>2018-06-28</td>\n",
       "      <td>surf</td>\n",
       "      <td>2018-11-16</td>\n",
       "      <td>IL-IN-WI</td>\n",
       "      <td>nonactive</td>\n",
       "    </tr>\n",
       "    <tr>\n",
       "      <th>3566</th>\n",
       "      <td>1012_6</td>\n",
       "      <td>1012</td>\n",
       "      <td>2018-12-24</td>\n",
       "      <td>9.47</td>\n",
       "      <td>12</td>\n",
       "      <td>10.0</td>\n",
       "      <td>Jonelle</td>\n",
       "      <td>Mcbride</td>\n",
       "      <td>59</td>\n",
       "      <td>Chicago-Naperville-Elgin, IL-IN-WI MSA</td>\n",
       "      <td>2018-06-28</td>\n",
       "      <td>surf</td>\n",
       "      <td>2018-11-16</td>\n",
       "      <td>IL-IN-WI</td>\n",
       "      <td>nonactive</td>\n",
       "    </tr>\n",
       "    <tr>\n",
       "      <th>3567</th>\n",
       "      <td>1012_7</td>\n",
       "      <td>1012</td>\n",
       "      <td>2018-12-25</td>\n",
       "      <td>6.60</td>\n",
       "      <td>12</td>\n",
       "      <td>7.0</td>\n",
       "      <td>Jonelle</td>\n",
       "      <td>Mcbride</td>\n",
       "      <td>59</td>\n",
       "      <td>Chicago-Naperville-Elgin, IL-IN-WI MSA</td>\n",
       "      <td>2018-06-28</td>\n",
       "      <td>surf</td>\n",
       "      <td>2018-11-16</td>\n",
       "      <td>IL-IN-WI</td>\n",
       "      <td>nonactive</td>\n",
       "    </tr>\n",
       "    <tr>\n",
       "      <th>3568</th>\n",
       "      <td>1012_8</td>\n",
       "      <td>1012</td>\n",
       "      <td>2018-12-23</td>\n",
       "      <td>5.48</td>\n",
       "      <td>12</td>\n",
       "      <td>6.0</td>\n",
       "      <td>Jonelle</td>\n",
       "      <td>Mcbride</td>\n",
       "      <td>59</td>\n",
       "      <td>Chicago-Naperville-Elgin, IL-IN-WI MSA</td>\n",
       "      <td>2018-06-28</td>\n",
       "      <td>surf</td>\n",
       "      <td>2018-11-16</td>\n",
       "      <td>IL-IN-WI</td>\n",
       "      <td>nonactive</td>\n",
       "    </tr>\n",
       "    <tr>\n",
       "      <th>3569</th>\n",
       "      <td>1012_9</td>\n",
       "      <td>1012</td>\n",
       "      <td>2018-12-11</td>\n",
       "      <td>4.49</td>\n",
       "      <td>12</td>\n",
       "      <td>5.0</td>\n",
       "      <td>Jonelle</td>\n",
       "      <td>Mcbride</td>\n",
       "      <td>59</td>\n",
       "      <td>Chicago-Naperville-Elgin, IL-IN-WI MSA</td>\n",
       "      <td>2018-06-28</td>\n",
       "      <td>surf</td>\n",
       "      <td>2018-11-16</td>\n",
       "      <td>IL-IN-WI</td>\n",
       "      <td>nonactive</td>\n",
       "    </tr>\n",
       "  </tbody>\n",
       "</table>\n",
       "</div>"
      ],
      "text/plain": [
       "          id  user_id  call_date  duration  month  duration_rndup first_name  \\\n",
       "3562  1012_2     1012 2018-12-23      2.53     12             3.0    Jonelle   \n",
       "3566  1012_6     1012 2018-12-24      9.47     12            10.0    Jonelle   \n",
       "3567  1012_7     1012 2018-12-25      6.60     12             7.0    Jonelle   \n",
       "3568  1012_8     1012 2018-12-23      5.48     12             6.0    Jonelle   \n",
       "3569  1012_9     1012 2018-12-11      4.49     12             5.0    Jonelle   \n",
       "\n",
       "     last_name  age                                    city   reg_date  plan  \\\n",
       "3562   Mcbride   59  Chicago-Naperville-Elgin, IL-IN-WI MSA 2018-06-28  surf   \n",
       "3566   Mcbride   59  Chicago-Naperville-Elgin, IL-IN-WI MSA 2018-06-28  surf   \n",
       "3567   Mcbride   59  Chicago-Naperville-Elgin, IL-IN-WI MSA 2018-06-28  surf   \n",
       "3568   Mcbride   59  Chicago-Naperville-Elgin, IL-IN-WI MSA 2018-06-28  surf   \n",
       "3569   Mcbride   59  Chicago-Naperville-Elgin, IL-IN-WI MSA 2018-06-28  surf   \n",
       "\n",
       "     churn_date       msa plan_status  \n",
       "3562 2018-11-16  IL-IN-WI   nonactive  \n",
       "3566 2018-11-16  IL-IN-WI   nonactive  \n",
       "3567 2018-11-16  IL-IN-WI   nonactive  \n",
       "3568 2018-11-16  IL-IN-WI   nonactive  \n",
       "3569 2018-11-16  IL-IN-WI   nonactive  "
      ]
     },
     "execution_count": 39,
     "metadata": {},
     "output_type": "execute_result"
    }
   ],
   "source": [
    "# Cek data plan_status\n",
    "calls_filtered.query('plan_status == \"nonactive\"').head()"
   ]
  },
  {
   "cell_type": "code",
   "execution_count": 40,
   "id": "eb0171d5",
   "metadata": {},
   "outputs": [
    {
     "name": "stdout",
     "output_type": "stream",
     "text": [
      "<class 'pandas.core.frame.DataFrame'>\n",
      "Index: 110901 entries, 0 to 137734\n",
      "Data columns (total 15 columns):\n",
      " #   Column          Non-Null Count   Dtype         \n",
      "---  ------          --------------   -----         \n",
      " 0   id              110901 non-null  object        \n",
      " 1   user_id         110901 non-null  int64         \n",
      " 2   call_date       110901 non-null  datetime64[ns]\n",
      " 3   duration        110901 non-null  float64       \n",
      " 4   month           110901 non-null  int32         \n",
      " 5   duration_rndup  110901 non-null  float64       \n",
      " 6   first_name      110901 non-null  object        \n",
      " 7   last_name       110901 non-null  object        \n",
      " 8   age             110901 non-null  int64         \n",
      " 9   city            110901 non-null  object        \n",
      " 10  reg_date        110901 non-null  datetime64[ns]\n",
      " 11  plan            110901 non-null  object        \n",
      " 12  churn_date      110901 non-null  datetime64[ns]\n",
      " 13  msa             110901 non-null  object        \n",
      " 14  plan_status     110901 non-null  object        \n",
      "dtypes: datetime64[ns](3), float64(2), int32(1), int64(2), object(7)\n",
      "memory usage: 13.1+ MB\n"
     ]
    }
   ],
   "source": [
    "# Cek perubahan final data calls_filtered\n",
    "calls_filtered.info()"
   ]
  },
  {
   "cell_type": "markdown",
   "id": "5be4ed92",
   "metadata": {},
   "source": [
    "**Ringkasan :**\n",
    "\n",
    "Penambahan informasi pada data **calls_filtered** :\n",
    "\n",
    "1. Penambahan informasi bulan kolom **month**.\n",
    "2. Penambahan informasi pembulatan pemakaian kolom **duration_rndup**.\n",
    "3. Penambahan informasi dari data **users** ke **calls_filtered**.\n",
    "4. Penambahan informasi status paket kolom **plan_status**, karena terdapat pemakaian diatas batas bulan aktif paket **churn_date**."
   ]
  },
  {
   "cell_type": "markdown",
   "id": "1c99b4df",
   "metadata": {},
   "source": [
    "## Pesan/SMS (messages)"
   ]
  },
  {
   "cell_type": "code",
   "execution_count": 41,
   "id": "45a2fcdb",
   "metadata": {},
   "outputs": [
    {
     "name": "stdout",
     "output_type": "stream",
     "text": [
      "Jumlah baris dan kolom : (76051, 3)\n",
      "\n",
      "<class 'pandas.core.frame.DataFrame'>\n",
      "RangeIndex: 76051 entries, 0 to 76050\n",
      "Data columns (total 3 columns):\n",
      " #   Column        Non-Null Count  Dtype \n",
      "---  ------        --------------  ----- \n",
      " 0   id            76051 non-null  object\n",
      " 1   user_id       76051 non-null  int64 \n",
      " 2   message_date  76051 non-null  object\n",
      "dtypes: int64(1), object(2)\n",
      "memory usage: 1.7+ MB\n",
      "None\n",
      "\n",
      "            user_id\n",
      "count  76051.000000\n",
      "mean    1245.972768\n",
      "std      139.843635\n",
      "min     1000.000000\n",
      "25%     1123.000000\n",
      "50%     1251.000000\n",
      "75%     1362.000000\n",
      "max     1497.000000\n",
      "\n",
      "Tidak terdapat duplikat eksplisit\n",
      "\n",
      "Tidak terdapat nilai yang hilang dalam data\n"
     ]
    }
   ],
   "source": [
    "# Tampilkan informasi/rangkuman umum tentang DataFrame SMS\n",
    "info(messages)"
   ]
  },
  {
   "cell_type": "code",
   "execution_count": 42,
   "id": "30cbe6a1",
   "metadata": {},
   "outputs": [
    {
     "data": {
      "text/html": [
       "<div>\n",
       "<style scoped>\n",
       "    .dataframe tbody tr th:only-of-type {\n",
       "        vertical-align: middle;\n",
       "    }\n",
       "\n",
       "    .dataframe tbody tr th {\n",
       "        vertical-align: top;\n",
       "    }\n",
       "\n",
       "    .dataframe thead th {\n",
       "        text-align: right;\n",
       "    }\n",
       "</style>\n",
       "<table border=\"1\" class=\"dataframe\">\n",
       "  <thead>\n",
       "    <tr style=\"text-align: right;\">\n",
       "      <th></th>\n",
       "      <th>id</th>\n",
       "      <th>user_id</th>\n",
       "      <th>message_date</th>\n",
       "    </tr>\n",
       "  </thead>\n",
       "  <tbody>\n",
       "    <tr>\n",
       "      <th>0</th>\n",
       "      <td>1000_125</td>\n",
       "      <td>1000</td>\n",
       "      <td>2018-12-27</td>\n",
       "    </tr>\n",
       "    <tr>\n",
       "      <th>1</th>\n",
       "      <td>1000_160</td>\n",
       "      <td>1000</td>\n",
       "      <td>2018-12-31</td>\n",
       "    </tr>\n",
       "    <tr>\n",
       "      <th>2</th>\n",
       "      <td>1000_223</td>\n",
       "      <td>1000</td>\n",
       "      <td>2018-12-31</td>\n",
       "    </tr>\n",
       "    <tr>\n",
       "      <th>3</th>\n",
       "      <td>1000_251</td>\n",
       "      <td>1000</td>\n",
       "      <td>2018-12-27</td>\n",
       "    </tr>\n",
       "    <tr>\n",
       "      <th>4</th>\n",
       "      <td>1000_255</td>\n",
       "      <td>1000</td>\n",
       "      <td>2018-12-26</td>\n",
       "    </tr>\n",
       "    <tr>\n",
       "      <th>5</th>\n",
       "      <td>1000_346</td>\n",
       "      <td>1000</td>\n",
       "      <td>2018-12-29</td>\n",
       "    </tr>\n",
       "    <tr>\n",
       "      <th>6</th>\n",
       "      <td>1000_386</td>\n",
       "      <td>1000</td>\n",
       "      <td>2018-12-30</td>\n",
       "    </tr>\n",
       "    <tr>\n",
       "      <th>7</th>\n",
       "      <td>1000_413</td>\n",
       "      <td>1000</td>\n",
       "      <td>2018-12-31</td>\n",
       "    </tr>\n",
       "    <tr>\n",
       "      <th>8</th>\n",
       "      <td>1000_502</td>\n",
       "      <td>1000</td>\n",
       "      <td>2018-12-27</td>\n",
       "    </tr>\n",
       "    <tr>\n",
       "      <th>9</th>\n",
       "      <td>1000_525</td>\n",
       "      <td>1000</td>\n",
       "      <td>2018-12-28</td>\n",
       "    </tr>\n",
       "  </tbody>\n",
       "</table>\n",
       "</div>"
      ],
      "text/plain": [
       "         id  user_id message_date\n",
       "0  1000_125     1000   2018-12-27\n",
       "1  1000_160     1000   2018-12-31\n",
       "2  1000_223     1000   2018-12-31\n",
       "3  1000_251     1000   2018-12-27\n",
       "4  1000_255     1000   2018-12-26\n",
       "5  1000_346     1000   2018-12-29\n",
       "6  1000_386     1000   2018-12-30\n",
       "7  1000_413     1000   2018-12-31\n",
       "8  1000_502     1000   2018-12-27\n",
       "9  1000_525     1000   2018-12-28"
      ]
     },
     "execution_count": 42,
     "metadata": {},
     "output_type": "execute_result"
    }
   ],
   "source": [
    "# Tampilkan sampel data untuk SMS\n",
    "messages.head(10)\n"
   ]
  },
  {
   "cell_type": "markdown",
   "id": "bea93066",
   "metadata": {},
   "source": [
    "Informasi yang terdapat dalam kolomnya :\n",
    "\n",
    "**id** — ID SMS unik.\n",
    "\n",
    "**message_date** — tanggal SMS dikirim.\n",
    "\n",
    "**user_id** — ID pengguna yang mengirim SMS.\n"
   ]
  },
  {
   "cell_type": "markdown",
   "id": "cf9972e2",
   "metadata": {},
   "source": [
    "Masalah pada data **messages** :\n",
    "\n",
    "1. Kolom **message_date** bertipe kolom object."
   ]
  },
  {
   "cell_type": "markdown",
   "id": "5bd299a0",
   "metadata": {},
   "source": [
    " "
   ]
  },
  {
   "cell_type": "markdown",
   "id": "e3399332",
   "metadata": {},
   "source": [
    "### Memperbaiki Data"
   ]
  },
  {
   "cell_type": "markdown",
   "id": "91fbe18e",
   "metadata": {},
   "source": [
    "1. Merubah tipe data kolom **message_date**"
   ]
  },
  {
   "cell_type": "code",
   "execution_count": 43,
   "id": "56b63843",
   "metadata": {},
   "outputs": [],
   "source": [
    "# Merubah tipe data kolom message_date\n",
    "messages['message_date'] = pd.to_datetime(messages['message_date'], format = '%Y-%m-%d')"
   ]
  },
  {
   "cell_type": "code",
   "execution_count": 44,
   "id": "17c1a44a",
   "metadata": {},
   "outputs": [
    {
     "name": "stdout",
     "output_type": "stream",
     "text": [
      "<class 'pandas.core.frame.DataFrame'>\n",
      "RangeIndex: 76051 entries, 0 to 76050\n",
      "Data columns (total 3 columns):\n",
      " #   Column        Non-Null Count  Dtype         \n",
      "---  ------        --------------  -----         \n",
      " 0   id            76051 non-null  object        \n",
      " 1   user_id       76051 non-null  int64         \n",
      " 2   message_date  76051 non-null  datetime64[ns]\n",
      "dtypes: datetime64[ns](1), int64(1), object(1)\n",
      "memory usage: 1.7+ MB\n"
     ]
    }
   ],
   "source": [
    "# Cek perubahan data\n",
    "messages.info()"
   ]
  },
  {
   "cell_type": "markdown",
   "id": "be9f33bf",
   "metadata": {},
   "source": [
    "**Ringkasan :**\n",
    "\n",
    "Perbaikan pada data **messages** :\n",
    "\n",
    "1. Perubahan tipe data kolom **message_date** menjadi datetime."
   ]
  },
  {
   "cell_type": "markdown",
   "id": "78cbe603",
   "metadata": {},
   "source": [
    "### Memperkaya Kualitas Data"
   ]
  },
  {
   "cell_type": "markdown",
   "id": "2b90d10e",
   "metadata": {},
   "source": [
    "1. Penambahan kolom **month**."
   ]
  },
  {
   "cell_type": "code",
   "execution_count": 45,
   "id": "3e425ec4",
   "metadata": {},
   "outputs": [],
   "source": [
    "# Penambahan kolom month\n",
    "messages['month'] = messages['message_date'].dt.month"
   ]
  },
  {
   "cell_type": "code",
   "execution_count": 46,
   "id": "370c66a9",
   "metadata": {},
   "outputs": [
    {
     "data": {
      "text/html": [
       "<div>\n",
       "<style scoped>\n",
       "    .dataframe tbody tr th:only-of-type {\n",
       "        vertical-align: middle;\n",
       "    }\n",
       "\n",
       "    .dataframe tbody tr th {\n",
       "        vertical-align: top;\n",
       "    }\n",
       "\n",
       "    .dataframe thead th {\n",
       "        text-align: right;\n",
       "    }\n",
       "</style>\n",
       "<table border=\"1\" class=\"dataframe\">\n",
       "  <thead>\n",
       "    <tr style=\"text-align: right;\">\n",
       "      <th></th>\n",
       "      <th>id</th>\n",
       "      <th>user_id</th>\n",
       "      <th>message_date</th>\n",
       "      <th>month</th>\n",
       "    </tr>\n",
       "  </thead>\n",
       "  <tbody>\n",
       "    <tr>\n",
       "      <th>0</th>\n",
       "      <td>1000_125</td>\n",
       "      <td>1000</td>\n",
       "      <td>2018-12-27</td>\n",
       "      <td>12</td>\n",
       "    </tr>\n",
       "    <tr>\n",
       "      <th>1</th>\n",
       "      <td>1000_160</td>\n",
       "      <td>1000</td>\n",
       "      <td>2018-12-31</td>\n",
       "      <td>12</td>\n",
       "    </tr>\n",
       "    <tr>\n",
       "      <th>2</th>\n",
       "      <td>1000_223</td>\n",
       "      <td>1000</td>\n",
       "      <td>2018-12-31</td>\n",
       "      <td>12</td>\n",
       "    </tr>\n",
       "    <tr>\n",
       "      <th>3</th>\n",
       "      <td>1000_251</td>\n",
       "      <td>1000</td>\n",
       "      <td>2018-12-27</td>\n",
       "      <td>12</td>\n",
       "    </tr>\n",
       "    <tr>\n",
       "      <th>4</th>\n",
       "      <td>1000_255</td>\n",
       "      <td>1000</td>\n",
       "      <td>2018-12-26</td>\n",
       "      <td>12</td>\n",
       "    </tr>\n",
       "  </tbody>\n",
       "</table>\n",
       "</div>"
      ],
      "text/plain": [
       "         id  user_id message_date  month\n",
       "0  1000_125     1000   2018-12-27     12\n",
       "1  1000_160     1000   2018-12-31     12\n",
       "2  1000_223     1000   2018-12-31     12\n",
       "3  1000_251     1000   2018-12-27     12\n",
       "4  1000_255     1000   2018-12-26     12"
      ]
     },
     "execution_count": 46,
     "metadata": {},
     "output_type": "execute_result"
    }
   ],
   "source": [
    "# Cek penambahan data\n",
    "messages.head()"
   ]
  },
  {
   "cell_type": "markdown",
   "id": "37aad395",
   "metadata": {},
   "source": [
    "2. Penambahan informasi dari data **users** ke **messages**."
   ]
  },
  {
   "cell_type": "code",
   "execution_count": 47,
   "id": "6ef353d4",
   "metadata": {},
   "outputs": [],
   "source": [
    "# Menggabungkan users ke messages\n",
    "messages = messages.join(users.set_index('user_id'), on=('user_id'))"
   ]
  },
  {
   "cell_type": "code",
   "execution_count": 48,
   "id": "c86d44a2",
   "metadata": {},
   "outputs": [
    {
     "data": {
      "text/html": [
       "<div>\n",
       "<style scoped>\n",
       "    .dataframe tbody tr th:only-of-type {\n",
       "        vertical-align: middle;\n",
       "    }\n",
       "\n",
       "    .dataframe tbody tr th {\n",
       "        vertical-align: top;\n",
       "    }\n",
       "\n",
       "    .dataframe thead th {\n",
       "        text-align: right;\n",
       "    }\n",
       "</style>\n",
       "<table border=\"1\" class=\"dataframe\">\n",
       "  <thead>\n",
       "    <tr style=\"text-align: right;\">\n",
       "      <th></th>\n",
       "      <th>id</th>\n",
       "      <th>user_id</th>\n",
       "      <th>message_date</th>\n",
       "      <th>month</th>\n",
       "      <th>first_name</th>\n",
       "      <th>last_name</th>\n",
       "      <th>age</th>\n",
       "      <th>city</th>\n",
       "      <th>reg_date</th>\n",
       "      <th>plan</th>\n",
       "      <th>churn_date</th>\n",
       "      <th>msa</th>\n",
       "    </tr>\n",
       "  </thead>\n",
       "  <tbody>\n",
       "    <tr>\n",
       "      <th>0</th>\n",
       "      <td>1000_125</td>\n",
       "      <td>1000</td>\n",
       "      <td>2018-12-27</td>\n",
       "      <td>12</td>\n",
       "      <td>Anamaria</td>\n",
       "      <td>Bauer</td>\n",
       "      <td>45</td>\n",
       "      <td>Atlanta-Sandy Springs-Roswell, GA MSA</td>\n",
       "      <td>2018-12-24</td>\n",
       "      <td>ultimate</td>\n",
       "      <td>2018-12-31</td>\n",
       "      <td>GA</td>\n",
       "    </tr>\n",
       "    <tr>\n",
       "      <th>1</th>\n",
       "      <td>1000_160</td>\n",
       "      <td>1000</td>\n",
       "      <td>2018-12-31</td>\n",
       "      <td>12</td>\n",
       "      <td>Anamaria</td>\n",
       "      <td>Bauer</td>\n",
       "      <td>45</td>\n",
       "      <td>Atlanta-Sandy Springs-Roswell, GA MSA</td>\n",
       "      <td>2018-12-24</td>\n",
       "      <td>ultimate</td>\n",
       "      <td>2018-12-31</td>\n",
       "      <td>GA</td>\n",
       "    </tr>\n",
       "    <tr>\n",
       "      <th>2</th>\n",
       "      <td>1000_223</td>\n",
       "      <td>1000</td>\n",
       "      <td>2018-12-31</td>\n",
       "      <td>12</td>\n",
       "      <td>Anamaria</td>\n",
       "      <td>Bauer</td>\n",
       "      <td>45</td>\n",
       "      <td>Atlanta-Sandy Springs-Roswell, GA MSA</td>\n",
       "      <td>2018-12-24</td>\n",
       "      <td>ultimate</td>\n",
       "      <td>2018-12-31</td>\n",
       "      <td>GA</td>\n",
       "    </tr>\n",
       "    <tr>\n",
       "      <th>3</th>\n",
       "      <td>1000_251</td>\n",
       "      <td>1000</td>\n",
       "      <td>2018-12-27</td>\n",
       "      <td>12</td>\n",
       "      <td>Anamaria</td>\n",
       "      <td>Bauer</td>\n",
       "      <td>45</td>\n",
       "      <td>Atlanta-Sandy Springs-Roswell, GA MSA</td>\n",
       "      <td>2018-12-24</td>\n",
       "      <td>ultimate</td>\n",
       "      <td>2018-12-31</td>\n",
       "      <td>GA</td>\n",
       "    </tr>\n",
       "    <tr>\n",
       "      <th>4</th>\n",
       "      <td>1000_255</td>\n",
       "      <td>1000</td>\n",
       "      <td>2018-12-26</td>\n",
       "      <td>12</td>\n",
       "      <td>Anamaria</td>\n",
       "      <td>Bauer</td>\n",
       "      <td>45</td>\n",
       "      <td>Atlanta-Sandy Springs-Roswell, GA MSA</td>\n",
       "      <td>2018-12-24</td>\n",
       "      <td>ultimate</td>\n",
       "      <td>2018-12-31</td>\n",
       "      <td>GA</td>\n",
       "    </tr>\n",
       "  </tbody>\n",
       "</table>\n",
       "</div>"
      ],
      "text/plain": [
       "         id  user_id message_date  month first_name last_name  age  \\\n",
       "0  1000_125     1000   2018-12-27     12   Anamaria     Bauer   45   \n",
       "1  1000_160     1000   2018-12-31     12   Anamaria     Bauer   45   \n",
       "2  1000_223     1000   2018-12-31     12   Anamaria     Bauer   45   \n",
       "3  1000_251     1000   2018-12-27     12   Anamaria     Bauer   45   \n",
       "4  1000_255     1000   2018-12-26     12   Anamaria     Bauer   45   \n",
       "\n",
       "                                    city   reg_date      plan churn_date msa  \n",
       "0  Atlanta-Sandy Springs-Roswell, GA MSA 2018-12-24  ultimate 2018-12-31  GA  \n",
       "1  Atlanta-Sandy Springs-Roswell, GA MSA 2018-12-24  ultimate 2018-12-31  GA  \n",
       "2  Atlanta-Sandy Springs-Roswell, GA MSA 2018-12-24  ultimate 2018-12-31  GA  \n",
       "3  Atlanta-Sandy Springs-Roswell, GA MSA 2018-12-24  ultimate 2018-12-31  GA  \n",
       "4  Atlanta-Sandy Springs-Roswell, GA MSA 2018-12-24  ultimate 2018-12-31  GA  "
      ]
     },
     "execution_count": 48,
     "metadata": {},
     "output_type": "execute_result"
    }
   ],
   "source": [
    "# Cek penambahan informasi\n",
    "messages.head()"
   ]
  },
  {
   "cell_type": "markdown",
   "id": "d9f9003b",
   "metadata": {},
   "source": [
    "3. Penambahan kolom **plan_status**"
   ]
  },
  {
   "cell_type": "code",
   "execution_count": 49,
   "id": "f5a1cedf",
   "metadata": {},
   "outputs": [],
   "source": [
    "# Penambahan kolom plan_status\n",
    "messages['plan_status'] = 'nonactive'\n",
    "messages['plan_status'] = messages['plan_status'].where(messages['message_date'].dt.month > messages['churn_date'].dt.month, 'active')"
   ]
  },
  {
   "cell_type": "code",
   "execution_count": 50,
   "id": "8138753f",
   "metadata": {},
   "outputs": [
    {
     "data": {
      "text/plain": [
       "plan_status\n",
       "active       74922\n",
       "nonactive     1129\n",
       "Name: count, dtype: int64"
      ]
     },
     "execution_count": 50,
     "metadata": {},
     "output_type": "execute_result"
    }
   ],
   "source": [
    "# Cek sebaran data plan_status\n",
    "messages.value_counts('plan_status')"
   ]
  },
  {
   "cell_type": "code",
   "execution_count": 51,
   "id": "a8751523",
   "metadata": {
    "scrolled": false
   },
   "outputs": [
    {
     "data": {
      "text/html": [
       "<div>\n",
       "<style scoped>\n",
       "    .dataframe tbody tr th:only-of-type {\n",
       "        vertical-align: middle;\n",
       "    }\n",
       "\n",
       "    .dataframe tbody tr th {\n",
       "        vertical-align: top;\n",
       "    }\n",
       "\n",
       "    .dataframe thead th {\n",
       "        text-align: right;\n",
       "    }\n",
       "</style>\n",
       "<table border=\"1\" class=\"dataframe\">\n",
       "  <thead>\n",
       "    <tr style=\"text-align: right;\">\n",
       "      <th></th>\n",
       "      <th>id</th>\n",
       "      <th>user_id</th>\n",
       "      <th>message_date</th>\n",
       "      <th>month</th>\n",
       "      <th>first_name</th>\n",
       "      <th>last_name</th>\n",
       "      <th>age</th>\n",
       "      <th>city</th>\n",
       "      <th>reg_date</th>\n",
       "      <th>plan</th>\n",
       "      <th>churn_date</th>\n",
       "      <th>msa</th>\n",
       "      <th>plan_status</th>\n",
       "    </tr>\n",
       "  </thead>\n",
       "  <tbody>\n",
       "    <tr>\n",
       "      <th>9171</th>\n",
       "      <td>1067_8</td>\n",
       "      <td>1067</td>\n",
       "      <td>2018-12-26</td>\n",
       "      <td>12</td>\n",
       "      <td>Robt</td>\n",
       "      <td>Allen</td>\n",
       "      <td>37</td>\n",
       "      <td>Grand Rapids-Kentwood, MI MSA</td>\n",
       "      <td>2018-09-24</td>\n",
       "      <td>surf</td>\n",
       "      <td>2018-11-24</td>\n",
       "      <td>MI</td>\n",
       "      <td>nonactive</td>\n",
       "    </tr>\n",
       "    <tr>\n",
       "      <th>9173</th>\n",
       "      <td>1067_11</td>\n",
       "      <td>1067</td>\n",
       "      <td>2018-12-04</td>\n",
       "      <td>12</td>\n",
       "      <td>Robt</td>\n",
       "      <td>Allen</td>\n",
       "      <td>37</td>\n",
       "      <td>Grand Rapids-Kentwood, MI MSA</td>\n",
       "      <td>2018-09-24</td>\n",
       "      <td>surf</td>\n",
       "      <td>2018-11-24</td>\n",
       "      <td>MI</td>\n",
       "      <td>nonactive</td>\n",
       "    </tr>\n",
       "    <tr>\n",
       "      <th>9175</th>\n",
       "      <td>1067_15</td>\n",
       "      <td>1067</td>\n",
       "      <td>2018-12-03</td>\n",
       "      <td>12</td>\n",
       "      <td>Robt</td>\n",
       "      <td>Allen</td>\n",
       "      <td>37</td>\n",
       "      <td>Grand Rapids-Kentwood, MI MSA</td>\n",
       "      <td>2018-09-24</td>\n",
       "      <td>surf</td>\n",
       "      <td>2018-11-24</td>\n",
       "      <td>MI</td>\n",
       "      <td>nonactive</td>\n",
       "    </tr>\n",
       "    <tr>\n",
       "      <th>9178</th>\n",
       "      <td>1067_22</td>\n",
       "      <td>1067</td>\n",
       "      <td>2018-12-07</td>\n",
       "      <td>12</td>\n",
       "      <td>Robt</td>\n",
       "      <td>Allen</td>\n",
       "      <td>37</td>\n",
       "      <td>Grand Rapids-Kentwood, MI MSA</td>\n",
       "      <td>2018-09-24</td>\n",
       "      <td>surf</td>\n",
       "      <td>2018-11-24</td>\n",
       "      <td>MI</td>\n",
       "      <td>nonactive</td>\n",
       "    </tr>\n",
       "    <tr>\n",
       "      <th>9181</th>\n",
       "      <td>1067_25</td>\n",
       "      <td>1067</td>\n",
       "      <td>2018-12-16</td>\n",
       "      <td>12</td>\n",
       "      <td>Robt</td>\n",
       "      <td>Allen</td>\n",
       "      <td>37</td>\n",
       "      <td>Grand Rapids-Kentwood, MI MSA</td>\n",
       "      <td>2018-09-24</td>\n",
       "      <td>surf</td>\n",
       "      <td>2018-11-24</td>\n",
       "      <td>MI</td>\n",
       "      <td>nonactive</td>\n",
       "    </tr>\n",
       "  </tbody>\n",
       "</table>\n",
       "</div>"
      ],
      "text/plain": [
       "           id  user_id message_date  month first_name last_name  age  \\\n",
       "9171   1067_8     1067   2018-12-26     12       Robt     Allen   37   \n",
       "9173  1067_11     1067   2018-12-04     12       Robt     Allen   37   \n",
       "9175  1067_15     1067   2018-12-03     12       Robt     Allen   37   \n",
       "9178  1067_22     1067   2018-12-07     12       Robt     Allen   37   \n",
       "9181  1067_25     1067   2018-12-16     12       Robt     Allen   37   \n",
       "\n",
       "                               city   reg_date  plan churn_date msa  \\\n",
       "9171  Grand Rapids-Kentwood, MI MSA 2018-09-24  surf 2018-11-24  MI   \n",
       "9173  Grand Rapids-Kentwood, MI MSA 2018-09-24  surf 2018-11-24  MI   \n",
       "9175  Grand Rapids-Kentwood, MI MSA 2018-09-24  surf 2018-11-24  MI   \n",
       "9178  Grand Rapids-Kentwood, MI MSA 2018-09-24  surf 2018-11-24  MI   \n",
       "9181  Grand Rapids-Kentwood, MI MSA 2018-09-24  surf 2018-11-24  MI   \n",
       "\n",
       "     plan_status  \n",
       "9171   nonactive  \n",
       "9173   nonactive  \n",
       "9175   nonactive  \n",
       "9178   nonactive  \n",
       "9181   nonactive  "
      ]
     },
     "execution_count": 51,
     "metadata": {},
     "output_type": "execute_result"
    }
   ],
   "source": [
    "# Cek data plan_status\n",
    "messages.query('plan_status == \"nonactive\"').head()"
   ]
  },
  {
   "cell_type": "code",
   "execution_count": 52,
   "id": "f7c7e013",
   "metadata": {},
   "outputs": [
    {
     "name": "stdout",
     "output_type": "stream",
     "text": [
      "<class 'pandas.core.frame.DataFrame'>\n",
      "RangeIndex: 76051 entries, 0 to 76050\n",
      "Data columns (total 13 columns):\n",
      " #   Column        Non-Null Count  Dtype         \n",
      "---  ------        --------------  -----         \n",
      " 0   id            76051 non-null  object        \n",
      " 1   user_id       76051 non-null  int64         \n",
      " 2   message_date  76051 non-null  datetime64[ns]\n",
      " 3   month         76051 non-null  int32         \n",
      " 4   first_name    76051 non-null  object        \n",
      " 5   last_name     76051 non-null  object        \n",
      " 6   age           76051 non-null  int64         \n",
      " 7   city          76051 non-null  object        \n",
      " 8   reg_date      76051 non-null  datetime64[ns]\n",
      " 9   plan          76051 non-null  object        \n",
      " 10  churn_date    76051 non-null  datetime64[ns]\n",
      " 11  msa           76051 non-null  object        \n",
      " 12  plan_status   76051 non-null  object        \n",
      "dtypes: datetime64[ns](3), int32(1), int64(2), object(7)\n",
      "memory usage: 7.3+ MB\n"
     ]
    }
   ],
   "source": [
    "messages.info()"
   ]
  },
  {
   "cell_type": "markdown",
   "id": "e1ee85f4",
   "metadata": {},
   "source": [
    "**Ringkasan :**\n",
    "\n",
    "Penambahan informasi pada data **messages** :\n",
    "\n",
    "1. Penambahan informasi bulan kolom **month**.\n",
    "3. Penambahan informasi dari data **users** ke **messages**.\n",
    "4. Penambahan informasi status paket kolom **plan_status**, karena terdapat pemakaian diatas batas bulan aktif paket **churn_date**."
   ]
  },
  {
   "cell_type": "markdown",
   "id": "5d1d1b22",
   "metadata": {},
   "source": [
    "## Internet"
   ]
  },
  {
   "cell_type": "code",
   "execution_count": 53,
   "id": "6f50e9a2",
   "metadata": {},
   "outputs": [
    {
     "name": "stdout",
     "output_type": "stream",
     "text": [
      "Jumlah baris dan kolom : (104825, 4)\n",
      "\n",
      "<class 'pandas.core.frame.DataFrame'>\n",
      "RangeIndex: 104825 entries, 0 to 104824\n",
      "Data columns (total 4 columns):\n",
      " #   Column        Non-Null Count   Dtype  \n",
      "---  ------        --------------   -----  \n",
      " 0   id            104825 non-null  object \n",
      " 1   user_id       104825 non-null  int64  \n",
      " 2   session_date  104825 non-null  object \n",
      " 3   mb_used       104825 non-null  float64\n",
      "dtypes: float64(1), int64(1), object(2)\n",
      "memory usage: 3.2+ MB\n",
      "None\n",
      "\n",
      "             user_id        mb_used\n",
      "count  104825.000000  104825.000000\n",
      "mean     1242.496361     366.713701\n",
      "std       142.053913     277.170542\n",
      "min      1000.000000       0.000000\n",
      "25%      1122.000000     136.080000\n",
      "50%      1236.000000     343.980000\n",
      "75%      1367.000000     554.610000\n",
      "max      1499.000000    1693.470000\n",
      "\n",
      "Tidak terdapat duplikat eksplisit\n",
      "\n",
      "Tidak terdapat nilai yang hilang dalam data\n"
     ]
    }
   ],
   "source": [
    "# Tampilkan informasi/rangkuman umum tentang DataFrame internet\n",
    "info(internet)"
   ]
  },
  {
   "cell_type": "code",
   "execution_count": 54,
   "id": "d8c22cb1",
   "metadata": {},
   "outputs": [
    {
     "data": {
      "text/html": [
       "<div>\n",
       "<style scoped>\n",
       "    .dataframe tbody tr th:only-of-type {\n",
       "        vertical-align: middle;\n",
       "    }\n",
       "\n",
       "    .dataframe tbody tr th {\n",
       "        vertical-align: top;\n",
       "    }\n",
       "\n",
       "    .dataframe thead th {\n",
       "        text-align: right;\n",
       "    }\n",
       "</style>\n",
       "<table border=\"1\" class=\"dataframe\">\n",
       "  <thead>\n",
       "    <tr style=\"text-align: right;\">\n",
       "      <th></th>\n",
       "      <th>id</th>\n",
       "      <th>user_id</th>\n",
       "      <th>session_date</th>\n",
       "      <th>mb_used</th>\n",
       "    </tr>\n",
       "  </thead>\n",
       "  <tbody>\n",
       "    <tr>\n",
       "      <th>0</th>\n",
       "      <td>1000_13</td>\n",
       "      <td>1000</td>\n",
       "      <td>2018-12-29</td>\n",
       "      <td>89.86</td>\n",
       "    </tr>\n",
       "    <tr>\n",
       "      <th>1</th>\n",
       "      <td>1000_204</td>\n",
       "      <td>1000</td>\n",
       "      <td>2018-12-31</td>\n",
       "      <td>0.00</td>\n",
       "    </tr>\n",
       "    <tr>\n",
       "      <th>2</th>\n",
       "      <td>1000_379</td>\n",
       "      <td>1000</td>\n",
       "      <td>2018-12-28</td>\n",
       "      <td>660.40</td>\n",
       "    </tr>\n",
       "    <tr>\n",
       "      <th>3</th>\n",
       "      <td>1000_413</td>\n",
       "      <td>1000</td>\n",
       "      <td>2018-12-26</td>\n",
       "      <td>270.99</td>\n",
       "    </tr>\n",
       "    <tr>\n",
       "      <th>4</th>\n",
       "      <td>1000_442</td>\n",
       "      <td>1000</td>\n",
       "      <td>2018-12-27</td>\n",
       "      <td>880.22</td>\n",
       "    </tr>\n",
       "    <tr>\n",
       "      <th>5</th>\n",
       "      <td>1001_0</td>\n",
       "      <td>1001</td>\n",
       "      <td>2018-08-24</td>\n",
       "      <td>284.68</td>\n",
       "    </tr>\n",
       "    <tr>\n",
       "      <th>6</th>\n",
       "      <td>1001_3</td>\n",
       "      <td>1001</td>\n",
       "      <td>2018-12-09</td>\n",
       "      <td>656.04</td>\n",
       "    </tr>\n",
       "    <tr>\n",
       "      <th>7</th>\n",
       "      <td>1001_4</td>\n",
       "      <td>1001</td>\n",
       "      <td>2018-11-04</td>\n",
       "      <td>16.97</td>\n",
       "    </tr>\n",
       "    <tr>\n",
       "      <th>8</th>\n",
       "      <td>1001_10</td>\n",
       "      <td>1001</td>\n",
       "      <td>2018-11-27</td>\n",
       "      <td>135.18</td>\n",
       "    </tr>\n",
       "    <tr>\n",
       "      <th>9</th>\n",
       "      <td>1001_15</td>\n",
       "      <td>1001</td>\n",
       "      <td>2018-12-13</td>\n",
       "      <td>761.92</td>\n",
       "    </tr>\n",
       "  </tbody>\n",
       "</table>\n",
       "</div>"
      ],
      "text/plain": [
       "         id  user_id session_date  mb_used\n",
       "0   1000_13     1000   2018-12-29    89.86\n",
       "1  1000_204     1000   2018-12-31     0.00\n",
       "2  1000_379     1000   2018-12-28   660.40\n",
       "3  1000_413     1000   2018-12-26   270.99\n",
       "4  1000_442     1000   2018-12-27   880.22\n",
       "5    1001_0     1001   2018-08-24   284.68\n",
       "6    1001_3     1001   2018-12-09   656.04\n",
       "7    1001_4     1001   2018-11-04    16.97\n",
       "8   1001_10     1001   2018-11-27   135.18\n",
       "9   1001_15     1001   2018-12-13   761.92"
      ]
     },
     "execution_count": 54,
     "metadata": {},
     "output_type": "execute_result"
    }
   ],
   "source": [
    "# Tampilkan sampel data untuk traffic internet\n",
    "internet.head(10)"
   ]
  },
  {
   "cell_type": "markdown",
   "id": "f3ae2ad6",
   "metadata": {},
   "source": [
    "Informasi yang terdapat dalam kolomnya :\n",
    "\n",
    "**id** — ID sesi web unik.\n",
    "\n",
    "**mb_used** — volume data yang dihabiskan selama sesi (dalam megabita).\n",
    "\n",
    "**session_date** — tanggal sesi web.\n",
    "\n",
    "**user_id** — ID pengguna."
   ]
  },
  {
   "cell_type": "markdown",
   "id": "93dc29c1",
   "metadata": {},
   "source": [
    "Masalah pada data **internet** :\n",
    "\n",
    "1. Kolom **session_date** bertipe kolom object."
   ]
  },
  {
   "cell_type": "markdown",
   "id": "ee637f11",
   "metadata": {},
   "source": [
    " "
   ]
  },
  {
   "cell_type": "markdown",
   "id": "f3654ea6",
   "metadata": {},
   "source": [
    "### Memperbaiki Data"
   ]
  },
  {
   "cell_type": "markdown",
   "id": "84dadac6",
   "metadata": {},
   "source": [
    "1. Merubah tipe data kolom **session_date**"
   ]
  },
  {
   "cell_type": "code",
   "execution_count": 55,
   "id": "6a3d07a9",
   "metadata": {},
   "outputs": [],
   "source": [
    "# Merubah tipe data kolom session_date\n",
    "internet['session_date'] = pd.to_datetime(internet['session_date'], format = '%Y-%m-%d')"
   ]
  },
  {
   "cell_type": "code",
   "execution_count": 56,
   "id": "c2a0fc78",
   "metadata": {},
   "outputs": [
    {
     "name": "stdout",
     "output_type": "stream",
     "text": [
      "<class 'pandas.core.frame.DataFrame'>\n",
      "RangeIndex: 104825 entries, 0 to 104824\n",
      "Data columns (total 4 columns):\n",
      " #   Column        Non-Null Count   Dtype         \n",
      "---  ------        --------------   -----         \n",
      " 0   id            104825 non-null  object        \n",
      " 1   user_id       104825 non-null  int64         \n",
      " 2   session_date  104825 non-null  datetime64[ns]\n",
      " 3   mb_used       104825 non-null  float64       \n",
      "dtypes: datetime64[ns](1), float64(1), int64(1), object(1)\n",
      "memory usage: 3.2+ MB\n"
     ]
    }
   ],
   "source": [
    "# Cek perubahan data\n",
    "internet.info()"
   ]
  },
  {
   "cell_type": "markdown",
   "id": "8ec52ebe",
   "metadata": {},
   "source": [
    "**Ringkasan :**\n",
    "\n",
    "Perbaikan pada data **internet** :\n",
    "\n",
    "1. Perubahan tipe data kolom **session_date** menjadi datetime."
   ]
  },
  {
   "cell_type": "markdown",
   "id": "0fac89f0",
   "metadata": {},
   "source": [
    "### Memperkaya Kualitas Data"
   ]
  },
  {
   "cell_type": "markdown",
   "id": "0bb58a34",
   "metadata": {},
   "source": [
    "1. Penambahan kolom **month**."
   ]
  },
  {
   "cell_type": "code",
   "execution_count": 57,
   "id": "c7b4bd20",
   "metadata": {},
   "outputs": [],
   "source": [
    "# Penambahan kolom month\n",
    "internet['month'] = internet['session_date'].dt.month"
   ]
  },
  {
   "cell_type": "code",
   "execution_count": 58,
   "id": "6a14a72b",
   "metadata": {},
   "outputs": [
    {
     "data": {
      "text/html": [
       "<div>\n",
       "<style scoped>\n",
       "    .dataframe tbody tr th:only-of-type {\n",
       "        vertical-align: middle;\n",
       "    }\n",
       "\n",
       "    .dataframe tbody tr th {\n",
       "        vertical-align: top;\n",
       "    }\n",
       "\n",
       "    .dataframe thead th {\n",
       "        text-align: right;\n",
       "    }\n",
       "</style>\n",
       "<table border=\"1\" class=\"dataframe\">\n",
       "  <thead>\n",
       "    <tr style=\"text-align: right;\">\n",
       "      <th></th>\n",
       "      <th>id</th>\n",
       "      <th>user_id</th>\n",
       "      <th>session_date</th>\n",
       "      <th>mb_used</th>\n",
       "      <th>month</th>\n",
       "    </tr>\n",
       "  </thead>\n",
       "  <tbody>\n",
       "    <tr>\n",
       "      <th>0</th>\n",
       "      <td>1000_13</td>\n",
       "      <td>1000</td>\n",
       "      <td>2018-12-29</td>\n",
       "      <td>89.86</td>\n",
       "      <td>12</td>\n",
       "    </tr>\n",
       "    <tr>\n",
       "      <th>1</th>\n",
       "      <td>1000_204</td>\n",
       "      <td>1000</td>\n",
       "      <td>2018-12-31</td>\n",
       "      <td>0.00</td>\n",
       "      <td>12</td>\n",
       "    </tr>\n",
       "    <tr>\n",
       "      <th>2</th>\n",
       "      <td>1000_379</td>\n",
       "      <td>1000</td>\n",
       "      <td>2018-12-28</td>\n",
       "      <td>660.40</td>\n",
       "      <td>12</td>\n",
       "    </tr>\n",
       "    <tr>\n",
       "      <th>3</th>\n",
       "      <td>1000_413</td>\n",
       "      <td>1000</td>\n",
       "      <td>2018-12-26</td>\n",
       "      <td>270.99</td>\n",
       "      <td>12</td>\n",
       "    </tr>\n",
       "    <tr>\n",
       "      <th>4</th>\n",
       "      <td>1000_442</td>\n",
       "      <td>1000</td>\n",
       "      <td>2018-12-27</td>\n",
       "      <td>880.22</td>\n",
       "      <td>12</td>\n",
       "    </tr>\n",
       "  </tbody>\n",
       "</table>\n",
       "</div>"
      ],
      "text/plain": [
       "         id  user_id session_date  mb_used  month\n",
       "0   1000_13     1000   2018-12-29    89.86     12\n",
       "1  1000_204     1000   2018-12-31     0.00     12\n",
       "2  1000_379     1000   2018-12-28   660.40     12\n",
       "3  1000_413     1000   2018-12-26   270.99     12\n",
       "4  1000_442     1000   2018-12-27   880.22     12"
      ]
     },
     "execution_count": 58,
     "metadata": {},
     "output_type": "execute_result"
    }
   ],
   "source": [
    "# Cek penambahan data\n",
    "internet.head()"
   ]
  },
  {
   "cell_type": "markdown",
   "id": "17926950",
   "metadata": {},
   "source": [
    "2. Penambahan informasi dari data **users** ke **internet**."
   ]
  },
  {
   "cell_type": "code",
   "execution_count": 59,
   "id": "ccd88d34",
   "metadata": {},
   "outputs": [],
   "source": [
    "# Menggabungkan users ke internet\n",
    "internet = internet.join(users.set_index('user_id'), on=('user_id'))"
   ]
  },
  {
   "cell_type": "code",
   "execution_count": 60,
   "id": "b9314ef6",
   "metadata": {},
   "outputs": [
    {
     "data": {
      "text/html": [
       "<div>\n",
       "<style scoped>\n",
       "    .dataframe tbody tr th:only-of-type {\n",
       "        vertical-align: middle;\n",
       "    }\n",
       "\n",
       "    .dataframe tbody tr th {\n",
       "        vertical-align: top;\n",
       "    }\n",
       "\n",
       "    .dataframe thead th {\n",
       "        text-align: right;\n",
       "    }\n",
       "</style>\n",
       "<table border=\"1\" class=\"dataframe\">\n",
       "  <thead>\n",
       "    <tr style=\"text-align: right;\">\n",
       "      <th></th>\n",
       "      <th>id</th>\n",
       "      <th>user_id</th>\n",
       "      <th>session_date</th>\n",
       "      <th>mb_used</th>\n",
       "      <th>month</th>\n",
       "      <th>first_name</th>\n",
       "      <th>last_name</th>\n",
       "      <th>age</th>\n",
       "      <th>city</th>\n",
       "      <th>reg_date</th>\n",
       "      <th>plan</th>\n",
       "      <th>churn_date</th>\n",
       "      <th>msa</th>\n",
       "    </tr>\n",
       "  </thead>\n",
       "  <tbody>\n",
       "    <tr>\n",
       "      <th>0</th>\n",
       "      <td>1000_13</td>\n",
       "      <td>1000</td>\n",
       "      <td>2018-12-29</td>\n",
       "      <td>89.86</td>\n",
       "      <td>12</td>\n",
       "      <td>Anamaria</td>\n",
       "      <td>Bauer</td>\n",
       "      <td>45</td>\n",
       "      <td>Atlanta-Sandy Springs-Roswell, GA MSA</td>\n",
       "      <td>2018-12-24</td>\n",
       "      <td>ultimate</td>\n",
       "      <td>2018-12-31</td>\n",
       "      <td>GA</td>\n",
       "    </tr>\n",
       "    <tr>\n",
       "      <th>1</th>\n",
       "      <td>1000_204</td>\n",
       "      <td>1000</td>\n",
       "      <td>2018-12-31</td>\n",
       "      <td>0.00</td>\n",
       "      <td>12</td>\n",
       "      <td>Anamaria</td>\n",
       "      <td>Bauer</td>\n",
       "      <td>45</td>\n",
       "      <td>Atlanta-Sandy Springs-Roswell, GA MSA</td>\n",
       "      <td>2018-12-24</td>\n",
       "      <td>ultimate</td>\n",
       "      <td>2018-12-31</td>\n",
       "      <td>GA</td>\n",
       "    </tr>\n",
       "    <tr>\n",
       "      <th>2</th>\n",
       "      <td>1000_379</td>\n",
       "      <td>1000</td>\n",
       "      <td>2018-12-28</td>\n",
       "      <td>660.40</td>\n",
       "      <td>12</td>\n",
       "      <td>Anamaria</td>\n",
       "      <td>Bauer</td>\n",
       "      <td>45</td>\n",
       "      <td>Atlanta-Sandy Springs-Roswell, GA MSA</td>\n",
       "      <td>2018-12-24</td>\n",
       "      <td>ultimate</td>\n",
       "      <td>2018-12-31</td>\n",
       "      <td>GA</td>\n",
       "    </tr>\n",
       "    <tr>\n",
       "      <th>3</th>\n",
       "      <td>1000_413</td>\n",
       "      <td>1000</td>\n",
       "      <td>2018-12-26</td>\n",
       "      <td>270.99</td>\n",
       "      <td>12</td>\n",
       "      <td>Anamaria</td>\n",
       "      <td>Bauer</td>\n",
       "      <td>45</td>\n",
       "      <td>Atlanta-Sandy Springs-Roswell, GA MSA</td>\n",
       "      <td>2018-12-24</td>\n",
       "      <td>ultimate</td>\n",
       "      <td>2018-12-31</td>\n",
       "      <td>GA</td>\n",
       "    </tr>\n",
       "    <tr>\n",
       "      <th>4</th>\n",
       "      <td>1000_442</td>\n",
       "      <td>1000</td>\n",
       "      <td>2018-12-27</td>\n",
       "      <td>880.22</td>\n",
       "      <td>12</td>\n",
       "      <td>Anamaria</td>\n",
       "      <td>Bauer</td>\n",
       "      <td>45</td>\n",
       "      <td>Atlanta-Sandy Springs-Roswell, GA MSA</td>\n",
       "      <td>2018-12-24</td>\n",
       "      <td>ultimate</td>\n",
       "      <td>2018-12-31</td>\n",
       "      <td>GA</td>\n",
       "    </tr>\n",
       "  </tbody>\n",
       "</table>\n",
       "</div>"
      ],
      "text/plain": [
       "         id  user_id session_date  mb_used  month first_name last_name  age  \\\n",
       "0   1000_13     1000   2018-12-29    89.86     12   Anamaria     Bauer   45   \n",
       "1  1000_204     1000   2018-12-31     0.00     12   Anamaria     Bauer   45   \n",
       "2  1000_379     1000   2018-12-28   660.40     12   Anamaria     Bauer   45   \n",
       "3  1000_413     1000   2018-12-26   270.99     12   Anamaria     Bauer   45   \n",
       "4  1000_442     1000   2018-12-27   880.22     12   Anamaria     Bauer   45   \n",
       "\n",
       "                                    city   reg_date      plan churn_date msa  \n",
       "0  Atlanta-Sandy Springs-Roswell, GA MSA 2018-12-24  ultimate 2018-12-31  GA  \n",
       "1  Atlanta-Sandy Springs-Roswell, GA MSA 2018-12-24  ultimate 2018-12-31  GA  \n",
       "2  Atlanta-Sandy Springs-Roswell, GA MSA 2018-12-24  ultimate 2018-12-31  GA  \n",
       "3  Atlanta-Sandy Springs-Roswell, GA MSA 2018-12-24  ultimate 2018-12-31  GA  \n",
       "4  Atlanta-Sandy Springs-Roswell, GA MSA 2018-12-24  ultimate 2018-12-31  GA  "
      ]
     },
     "execution_count": 60,
     "metadata": {},
     "output_type": "execute_result"
    }
   ],
   "source": [
    "# Cek penambahan informasi\n",
    "internet.head()"
   ]
  },
  {
   "cell_type": "markdown",
   "id": "27924af2",
   "metadata": {},
   "source": [
    "3. Penambahan kolom **plan_status**"
   ]
  },
  {
   "cell_type": "code",
   "execution_count": 61,
   "id": "1d19a82e",
   "metadata": {},
   "outputs": [],
   "source": [
    "# Penambahan kolom plan_status\n",
    "internet['plan_status'] = 'nonactive'\n",
    "internet['plan_status'] = internet['plan_status'].where(internet['session_date'].dt.month > internet['churn_date'].dt.month, 'active')"
   ]
  },
  {
   "cell_type": "code",
   "execution_count": 62,
   "id": "35b24059",
   "metadata": {},
   "outputs": [
    {
     "data": {
      "text/plain": [
       "plan_status\n",
       "active       102973\n",
       "nonactive      1852\n",
       "Name: count, dtype: int64"
      ]
     },
     "execution_count": 62,
     "metadata": {},
     "output_type": "execute_result"
    }
   ],
   "source": [
    "# Cek sebaran data plan_status\n",
    "internet.value_counts('plan_status')"
   ]
  },
  {
   "cell_type": "code",
   "execution_count": 63,
   "id": "2d53c5f8",
   "metadata": {
    "scrolled": false
   },
   "outputs": [
    {
     "data": {
      "text/html": [
       "<div>\n",
       "<style scoped>\n",
       "    .dataframe tbody tr th:only-of-type {\n",
       "        vertical-align: middle;\n",
       "    }\n",
       "\n",
       "    .dataframe tbody tr th {\n",
       "        vertical-align: top;\n",
       "    }\n",
       "\n",
       "    .dataframe thead th {\n",
       "        text-align: right;\n",
       "    }\n",
       "</style>\n",
       "<table border=\"1\" class=\"dataframe\">\n",
       "  <thead>\n",
       "    <tr style=\"text-align: right;\">\n",
       "      <th></th>\n",
       "      <th>id</th>\n",
       "      <th>user_id</th>\n",
       "      <th>session_date</th>\n",
       "      <th>mb_used</th>\n",
       "      <th>month</th>\n",
       "      <th>first_name</th>\n",
       "      <th>last_name</th>\n",
       "      <th>age</th>\n",
       "      <th>city</th>\n",
       "      <th>reg_date</th>\n",
       "      <th>plan</th>\n",
       "      <th>churn_date</th>\n",
       "      <th>msa</th>\n",
       "      <th>plan_status</th>\n",
       "    </tr>\n",
       "  </thead>\n",
       "  <tbody>\n",
       "    <tr>\n",
       "      <th>2670</th>\n",
       "      <td>1012_0</td>\n",
       "      <td>1012</td>\n",
       "      <td>2018-12-28</td>\n",
       "      <td>171.06</td>\n",
       "      <td>12</td>\n",
       "      <td>Jonelle</td>\n",
       "      <td>Mcbride</td>\n",
       "      <td>59</td>\n",
       "      <td>Chicago-Naperville-Elgin, IL-IN-WI MSA</td>\n",
       "      <td>2018-06-28</td>\n",
       "      <td>surf</td>\n",
       "      <td>2018-11-16</td>\n",
       "      <td>IL-IN-WI</td>\n",
       "      <td>nonactive</td>\n",
       "    </tr>\n",
       "    <tr>\n",
       "      <th>2671</th>\n",
       "      <td>1012_1</td>\n",
       "      <td>1012</td>\n",
       "      <td>2018-12-08</td>\n",
       "      <td>0.00</td>\n",
       "      <td>12</td>\n",
       "      <td>Jonelle</td>\n",
       "      <td>Mcbride</td>\n",
       "      <td>59</td>\n",
       "      <td>Chicago-Naperville-Elgin, IL-IN-WI MSA</td>\n",
       "      <td>2018-06-28</td>\n",
       "      <td>surf</td>\n",
       "      <td>2018-11-16</td>\n",
       "      <td>IL-IN-WI</td>\n",
       "      <td>nonactive</td>\n",
       "    </tr>\n",
       "    <tr>\n",
       "      <th>2672</th>\n",
       "      <td>1012_2</td>\n",
       "      <td>1012</td>\n",
       "      <td>2018-12-07</td>\n",
       "      <td>706.90</td>\n",
       "      <td>12</td>\n",
       "      <td>Jonelle</td>\n",
       "      <td>Mcbride</td>\n",
       "      <td>59</td>\n",
       "      <td>Chicago-Naperville-Elgin, IL-IN-WI MSA</td>\n",
       "      <td>2018-06-28</td>\n",
       "      <td>surf</td>\n",
       "      <td>2018-11-16</td>\n",
       "      <td>IL-IN-WI</td>\n",
       "      <td>nonactive</td>\n",
       "    </tr>\n",
       "    <tr>\n",
       "      <th>2675</th>\n",
       "      <td>1012_5</td>\n",
       "      <td>1012</td>\n",
       "      <td>2018-12-24</td>\n",
       "      <td>210.11</td>\n",
       "      <td>12</td>\n",
       "      <td>Jonelle</td>\n",
       "      <td>Mcbride</td>\n",
       "      <td>59</td>\n",
       "      <td>Chicago-Naperville-Elgin, IL-IN-WI MSA</td>\n",
       "      <td>2018-06-28</td>\n",
       "      <td>surf</td>\n",
       "      <td>2018-11-16</td>\n",
       "      <td>IL-IN-WI</td>\n",
       "      <td>nonactive</td>\n",
       "    </tr>\n",
       "    <tr>\n",
       "      <th>2676</th>\n",
       "      <td>1012_6</td>\n",
       "      <td>1012</td>\n",
       "      <td>2018-12-09</td>\n",
       "      <td>337.39</td>\n",
       "      <td>12</td>\n",
       "      <td>Jonelle</td>\n",
       "      <td>Mcbride</td>\n",
       "      <td>59</td>\n",
       "      <td>Chicago-Naperville-Elgin, IL-IN-WI MSA</td>\n",
       "      <td>2018-06-28</td>\n",
       "      <td>surf</td>\n",
       "      <td>2018-11-16</td>\n",
       "      <td>IL-IN-WI</td>\n",
       "      <td>nonactive</td>\n",
       "    </tr>\n",
       "  </tbody>\n",
       "</table>\n",
       "</div>"
      ],
      "text/plain": [
       "          id  user_id session_date  mb_used  month first_name last_name  age  \\\n",
       "2670  1012_0     1012   2018-12-28   171.06     12    Jonelle   Mcbride   59   \n",
       "2671  1012_1     1012   2018-12-08     0.00     12    Jonelle   Mcbride   59   \n",
       "2672  1012_2     1012   2018-12-07   706.90     12    Jonelle   Mcbride   59   \n",
       "2675  1012_5     1012   2018-12-24   210.11     12    Jonelle   Mcbride   59   \n",
       "2676  1012_6     1012   2018-12-09   337.39     12    Jonelle   Mcbride   59   \n",
       "\n",
       "                                        city   reg_date  plan churn_date  \\\n",
       "2670  Chicago-Naperville-Elgin, IL-IN-WI MSA 2018-06-28  surf 2018-11-16   \n",
       "2671  Chicago-Naperville-Elgin, IL-IN-WI MSA 2018-06-28  surf 2018-11-16   \n",
       "2672  Chicago-Naperville-Elgin, IL-IN-WI MSA 2018-06-28  surf 2018-11-16   \n",
       "2675  Chicago-Naperville-Elgin, IL-IN-WI MSA 2018-06-28  surf 2018-11-16   \n",
       "2676  Chicago-Naperville-Elgin, IL-IN-WI MSA 2018-06-28  surf 2018-11-16   \n",
       "\n",
       "           msa plan_status  \n",
       "2670  IL-IN-WI   nonactive  \n",
       "2671  IL-IN-WI   nonactive  \n",
       "2672  IL-IN-WI   nonactive  \n",
       "2675  IL-IN-WI   nonactive  \n",
       "2676  IL-IN-WI   nonactive  "
      ]
     },
     "execution_count": 63,
     "metadata": {},
     "output_type": "execute_result"
    }
   ],
   "source": [
    "# Cek data plan_status\n",
    "internet.query('plan_status == \"nonactive\"').head()"
   ]
  },
  {
   "cell_type": "code",
   "execution_count": 64,
   "id": "83df1ca6",
   "metadata": {},
   "outputs": [
    {
     "name": "stdout",
     "output_type": "stream",
     "text": [
      "<class 'pandas.core.frame.DataFrame'>\n",
      "RangeIndex: 104825 entries, 0 to 104824\n",
      "Data columns (total 14 columns):\n",
      " #   Column        Non-Null Count   Dtype         \n",
      "---  ------        --------------   -----         \n",
      " 0   id            104825 non-null  object        \n",
      " 1   user_id       104825 non-null  int64         \n",
      " 2   session_date  104825 non-null  datetime64[ns]\n",
      " 3   mb_used       104825 non-null  float64       \n",
      " 4   month         104825 non-null  int32         \n",
      " 5   first_name    104825 non-null  object        \n",
      " 6   last_name     104825 non-null  object        \n",
      " 7   age           104825 non-null  int64         \n",
      " 8   city          104825 non-null  object        \n",
      " 9   reg_date      104825 non-null  datetime64[ns]\n",
      " 10  plan          104825 non-null  object        \n",
      " 11  churn_date    104825 non-null  datetime64[ns]\n",
      " 12  msa           104825 non-null  object        \n",
      " 13  plan_status   104825 non-null  object        \n",
      "dtypes: datetime64[ns](3), float64(1), int32(1), int64(2), object(7)\n",
      "memory usage: 10.8+ MB\n"
     ]
    }
   ],
   "source": [
    "# cek perubahan data\n",
    "internet.info()"
   ]
  },
  {
   "cell_type": "markdown",
   "id": "5f813824",
   "metadata": {},
   "source": [
    "**Ringkasan :**\n",
    "\n",
    "Penambahan informasi pada data **internet** :\n",
    "\n",
    "1. Penambahan informasi bulan kolom **month**.\n",
    "3. Penambahan informasi dari data **users** ke **internet**.\n",
    "4. Penambahan informasi status paket kolom **plan_status**, karena terdapat pemakaian diatas batas bulan aktif paket **churn_date**."
   ]
  },
  {
   "cell_type": "markdown",
   "id": "d5d7fa95",
   "metadata": {},
   "source": [
    "## Mempelajari Syarat dan Kondisi Terkait Paket Prabayar"
   ]
  },
  {
   "cell_type": "markdown",
   "id": "df5d1739",
   "metadata": {},
   "source": [
    "Megaline memiliki 2 paket prabayar yaitu :\n",
    "\n",
    "1. **Surf**\n",
    "\n",
    "       Biaya bulanan: $20\n",
    "500 menit durasi panggilan per bulan, 50 SMS, dan 15 GB data\n",
    "Setelah melebihi batas paket, akan dikenakan:\n",
    "1 menit: 3 sen\n",
    "1 SMS: 3 sen\n",
    "1 GB data: $10\n",
    "\n",
    "2. **Ultimate**\n",
    "\n",
    "       Biaya bulanan: $70\n",
    "3000 menit durasi panggilan per bulan, 1000 SMS, dan 30 GB data\n",
    "Setelah melebihi batas paket, akan dikenakan:\n",
    "1 menit: 1 sen\n",
    "1 SMS: 1 sen\n",
    "1 GB data: $7\n",
    "\n",
    "**Catatan :** Megaline membulatkan detik ke menit, serta membulatkan megabita ke gigabita. Untuk panggilan, setiap panggilan individual dibulatkan ke atas: bahkan jika panggilan tersebut berlangsung hanya satu detik, ia akan dihitung sebagai satu menit. Untuk lalu lintas web, setiap sesi web tidak dibulatkan ke atas. Akan tetapi, total untuk sebulan dibulatkan ke atas. Jika seorang pengguna menghabiskan 1025 megabita bulan ini, maka ia akan dikenai biaya untuk 2 gigabita."
   ]
  },
  {
   "cell_type": "code",
   "execution_count": 65,
   "id": "643a7280",
   "metadata": {},
   "outputs": [
    {
     "data": {
      "text/html": [
       "<div>\n",
       "<style scoped>\n",
       "    .dataframe tbody tr th:only-of-type {\n",
       "        vertical-align: middle;\n",
       "    }\n",
       "\n",
       "    .dataframe tbody tr th {\n",
       "        vertical-align: top;\n",
       "    }\n",
       "\n",
       "    .dataframe thead th {\n",
       "        text-align: right;\n",
       "    }\n",
       "</style>\n",
       "<table border=\"1\" class=\"dataframe\">\n",
       "  <thead>\n",
       "    <tr style=\"text-align: right;\">\n",
       "      <th></th>\n",
       "      <th>messages_included</th>\n",
       "      <th>mb_per_month_included</th>\n",
       "      <th>minutes_included</th>\n",
       "      <th>usd_monthly_pay</th>\n",
       "      <th>usd_per_gb</th>\n",
       "      <th>usd_per_message</th>\n",
       "      <th>usd_per_minute</th>\n",
       "      <th>plan_name</th>\n",
       "      <th>gb_per_month_included</th>\n",
       "    </tr>\n",
       "  </thead>\n",
       "  <tbody>\n",
       "    <tr>\n",
       "      <th>0</th>\n",
       "      <td>50</td>\n",
       "      <td>15360</td>\n",
       "      <td>500</td>\n",
       "      <td>20</td>\n",
       "      <td>10</td>\n",
       "      <td>0.03</td>\n",
       "      <td>0.03</td>\n",
       "      <td>surf</td>\n",
       "      <td>15.0</td>\n",
       "    </tr>\n",
       "    <tr>\n",
       "      <th>1</th>\n",
       "      <td>1000</td>\n",
       "      <td>30720</td>\n",
       "      <td>3000</td>\n",
       "      <td>70</td>\n",
       "      <td>7</td>\n",
       "      <td>0.01</td>\n",
       "      <td>0.01</td>\n",
       "      <td>ultimate</td>\n",
       "      <td>30.0</td>\n",
       "    </tr>\n",
       "  </tbody>\n",
       "</table>\n",
       "</div>"
      ],
      "text/plain": [
       "   messages_included  mb_per_month_included  minutes_included  \\\n",
       "0                 50                  15360               500   \n",
       "1               1000                  30720              3000   \n",
       "\n",
       "   usd_monthly_pay  usd_per_gb  usd_per_message  usd_per_minute plan_name  \\\n",
       "0               20          10             0.03            0.03      surf   \n",
       "1               70           7             0.01            0.01  ultimate   \n",
       "\n",
       "   gb_per_month_included  \n",
       "0                   15.0  \n",
       "1                   30.0  "
      ]
     },
     "execution_count": 65,
     "metadata": {},
     "output_type": "execute_result"
    }
   ],
   "source": [
    "# Tampilkan persyaratan paket prabayar dan pastikan Anda memahaminya\n",
    "plans"
   ]
  },
  {
   "cell_type": "markdown",
   "id": "da4b9e12",
   "metadata": {},
   "source": [
    "## Mengagregasi Data per Pengguna\n"
   ]
  },
  {
   "cell_type": "markdown",
   "id": "6a9f9b27",
   "metadata": {},
   "source": [
    "1. Agregasi data jumlah panggilan dari **calls_filtered** menjadi data **call_count**."
   ]
  },
  {
   "cell_type": "code",
   "execution_count": 66,
   "id": "0c54f006",
   "metadata": {},
   "outputs": [],
   "source": [
    "# Hitung jumlah panggilan yang dilakukan oleh setiap pengguna per bulan. Simpan hasilnya.\n",
    "call_count = calls_filtered.pivot_table(index=['user_id', 'month', 'plan_status'], values='duration_rndup', aggfunc='count').reset_index()"
   ]
  },
  {
   "cell_type": "code",
   "execution_count": 67,
   "id": "f54db791",
   "metadata": {},
   "outputs": [],
   "source": [
    "# Merubah nama kolom duration_rndup menjadi call_count\n",
    "call_count = call_count.rename(columns={\"duration_rndup\" : \"call_count\"})"
   ]
  },
  {
   "cell_type": "code",
   "execution_count": 68,
   "id": "d0efb178",
   "metadata": {},
   "outputs": [
    {
     "data": {
      "text/html": [
       "<div>\n",
       "<style scoped>\n",
       "    .dataframe tbody tr th:only-of-type {\n",
       "        vertical-align: middle;\n",
       "    }\n",
       "\n",
       "    .dataframe tbody tr th {\n",
       "        vertical-align: top;\n",
       "    }\n",
       "\n",
       "    .dataframe thead th {\n",
       "        text-align: right;\n",
       "    }\n",
       "</style>\n",
       "<table border=\"1\" class=\"dataframe\">\n",
       "  <thead>\n",
       "    <tr style=\"text-align: right;\">\n",
       "      <th></th>\n",
       "      <th>user_id</th>\n",
       "      <th>month</th>\n",
       "      <th>plan_status</th>\n",
       "      <th>call_count</th>\n",
       "    </tr>\n",
       "  </thead>\n",
       "  <tbody>\n",
       "    <tr>\n",
       "      <th>0</th>\n",
       "      <td>1000</td>\n",
       "      <td>12</td>\n",
       "      <td>active</td>\n",
       "      <td>16</td>\n",
       "    </tr>\n",
       "    <tr>\n",
       "      <th>1</th>\n",
       "      <td>1001</td>\n",
       "      <td>8</td>\n",
       "      <td>active</td>\n",
       "      <td>22</td>\n",
       "    </tr>\n",
       "    <tr>\n",
       "      <th>2</th>\n",
       "      <td>1001</td>\n",
       "      <td>9</td>\n",
       "      <td>active</td>\n",
       "      <td>38</td>\n",
       "    </tr>\n",
       "    <tr>\n",
       "      <th>3</th>\n",
       "      <td>1001</td>\n",
       "      <td>10</td>\n",
       "      <td>active</td>\n",
       "      <td>47</td>\n",
       "    </tr>\n",
       "    <tr>\n",
       "      <th>4</th>\n",
       "      <td>1001</td>\n",
       "      <td>11</td>\n",
       "      <td>active</td>\n",
       "      <td>49</td>\n",
       "    </tr>\n",
       "  </tbody>\n",
       "</table>\n",
       "</div>"
      ],
      "text/plain": [
       "   user_id  month plan_status  call_count\n",
       "0     1000     12      active          16\n",
       "1     1001      8      active          22\n",
       "2     1001      9      active          38\n",
       "3     1001     10      active          47\n",
       "4     1001     11      active          49"
      ]
     },
     "execution_count": 68,
     "metadata": {},
     "output_type": "execute_result"
    }
   ],
   "source": [
    "# Cek data call_count\n",
    "call_count.head()"
   ]
  },
  {
   "cell_type": "markdown",
   "id": "364ed49f",
   "metadata": {},
   "source": [
    "2. Agregasi data durasi panggilan dari **calls_filtered** menjadi data **call_duration**."
   ]
  },
  {
   "cell_type": "code",
   "execution_count": 69,
   "id": "aa1e76c5",
   "metadata": {},
   "outputs": [],
   "source": [
    "# Hitung jumlah menit yang dihabiskan oleh setiap pengguna untuk melakukan panggilan per bulan. Simpan hasilnya.\n",
    "call_duration = calls_filtered.pivot_table(index=['user_id', 'month', 'plan_status'], values='duration_rndup', aggfunc='sum').reset_index()"
   ]
  },
  {
   "cell_type": "code",
   "execution_count": 70,
   "id": "08d9e96a",
   "metadata": {},
   "outputs": [
    {
     "data": {
      "text/html": [
       "<div>\n",
       "<style scoped>\n",
       "    .dataframe tbody tr th:only-of-type {\n",
       "        vertical-align: middle;\n",
       "    }\n",
       "\n",
       "    .dataframe tbody tr th {\n",
       "        vertical-align: top;\n",
       "    }\n",
       "\n",
       "    .dataframe thead th {\n",
       "        text-align: right;\n",
       "    }\n",
       "</style>\n",
       "<table border=\"1\" class=\"dataframe\">\n",
       "  <thead>\n",
       "    <tr style=\"text-align: right;\">\n",
       "      <th></th>\n",
       "      <th>user_id</th>\n",
       "      <th>month</th>\n",
       "      <th>plan_status</th>\n",
       "      <th>duration_rndup</th>\n",
       "    </tr>\n",
       "  </thead>\n",
       "  <tbody>\n",
       "    <tr>\n",
       "      <th>0</th>\n",
       "      <td>1000</td>\n",
       "      <td>12</td>\n",
       "      <td>active</td>\n",
       "      <td>124.0</td>\n",
       "    </tr>\n",
       "    <tr>\n",
       "      <th>1</th>\n",
       "      <td>1001</td>\n",
       "      <td>8</td>\n",
       "      <td>active</td>\n",
       "      <td>182.0</td>\n",
       "    </tr>\n",
       "    <tr>\n",
       "      <th>2</th>\n",
       "      <td>1001</td>\n",
       "      <td>9</td>\n",
       "      <td>active</td>\n",
       "      <td>315.0</td>\n",
       "    </tr>\n",
       "    <tr>\n",
       "      <th>3</th>\n",
       "      <td>1001</td>\n",
       "      <td>10</td>\n",
       "      <td>active</td>\n",
       "      <td>393.0</td>\n",
       "    </tr>\n",
       "    <tr>\n",
       "      <th>4</th>\n",
       "      <td>1001</td>\n",
       "      <td>11</td>\n",
       "      <td>active</td>\n",
       "      <td>426.0</td>\n",
       "    </tr>\n",
       "  </tbody>\n",
       "</table>\n",
       "</div>"
      ],
      "text/plain": [
       "   user_id  month plan_status  duration_rndup\n",
       "0     1000     12      active           124.0\n",
       "1     1001      8      active           182.0\n",
       "2     1001      9      active           315.0\n",
       "3     1001     10      active           393.0\n",
       "4     1001     11      active           426.0"
      ]
     },
     "execution_count": 70,
     "metadata": {},
     "output_type": "execute_result"
    }
   ],
   "source": [
    "# Cek data call_duration\n",
    "call_duration.head()"
   ]
  },
  {
   "cell_type": "markdown",
   "id": "bc9edbf0",
   "metadata": {},
   "source": [
    "3. Agregasi data jumlah pesan dari **messages** menjadi data **message_count**"
   ]
  },
  {
   "cell_type": "code",
   "execution_count": 71,
   "id": "cd15f5b1",
   "metadata": {},
   "outputs": [],
   "source": [
    "# Hitung jumlah SMS yang dikirim oleh setiap pengguna per bulan. Simpan hasilnya.\n",
    "message_count = messages.pivot_table(index=['user_id', 'month', 'plan_status'], values='id', aggfunc='count').reset_index()\n"
   ]
  },
  {
   "cell_type": "code",
   "execution_count": 72,
   "id": "e70b36e5",
   "metadata": {},
   "outputs": [],
   "source": [
    "# Merubah nama kolom id menjadi message_count\n",
    "message_count = message_count.rename(columns={\"id\" : \"message_count\"})"
   ]
  },
  {
   "cell_type": "code",
   "execution_count": 73,
   "id": "7c222163",
   "metadata": {},
   "outputs": [
    {
     "data": {
      "text/html": [
       "<div>\n",
       "<style scoped>\n",
       "    .dataframe tbody tr th:only-of-type {\n",
       "        vertical-align: middle;\n",
       "    }\n",
       "\n",
       "    .dataframe tbody tr th {\n",
       "        vertical-align: top;\n",
       "    }\n",
       "\n",
       "    .dataframe thead th {\n",
       "        text-align: right;\n",
       "    }\n",
       "</style>\n",
       "<table border=\"1\" class=\"dataframe\">\n",
       "  <thead>\n",
       "    <tr style=\"text-align: right;\">\n",
       "      <th></th>\n",
       "      <th>user_id</th>\n",
       "      <th>month</th>\n",
       "      <th>plan_status</th>\n",
       "      <th>message_count</th>\n",
       "    </tr>\n",
       "  </thead>\n",
       "  <tbody>\n",
       "    <tr>\n",
       "      <th>0</th>\n",
       "      <td>1000</td>\n",
       "      <td>12</td>\n",
       "      <td>active</td>\n",
       "      <td>11</td>\n",
       "    </tr>\n",
       "    <tr>\n",
       "      <th>1</th>\n",
       "      <td>1001</td>\n",
       "      <td>8</td>\n",
       "      <td>active</td>\n",
       "      <td>30</td>\n",
       "    </tr>\n",
       "    <tr>\n",
       "      <th>2</th>\n",
       "      <td>1001</td>\n",
       "      <td>9</td>\n",
       "      <td>active</td>\n",
       "      <td>44</td>\n",
       "    </tr>\n",
       "    <tr>\n",
       "      <th>3</th>\n",
       "      <td>1001</td>\n",
       "      <td>10</td>\n",
       "      <td>active</td>\n",
       "      <td>53</td>\n",
       "    </tr>\n",
       "    <tr>\n",
       "      <th>4</th>\n",
       "      <td>1001</td>\n",
       "      <td>11</td>\n",
       "      <td>active</td>\n",
       "      <td>36</td>\n",
       "    </tr>\n",
       "  </tbody>\n",
       "</table>\n",
       "</div>"
      ],
      "text/plain": [
       "   user_id  month plan_status  message_count\n",
       "0     1000     12      active             11\n",
       "1     1001      8      active             30\n",
       "2     1001      9      active             44\n",
       "3     1001     10      active             53\n",
       "4     1001     11      active             36"
      ]
     },
     "execution_count": 73,
     "metadata": {},
     "output_type": "execute_result"
    }
   ],
   "source": [
    "# Cek data message_count\n",
    "message_count.head()"
   ]
  },
  {
   "cell_type": "markdown",
   "id": "41406082",
   "metadata": {},
   "source": [
    "4. Agregasi data pemakaian internet dari **internet** menjadi data **internet_usage**"
   ]
  },
  {
   "cell_type": "code",
   "execution_count": 74,
   "id": "48d69ce4",
   "metadata": {},
   "outputs": [],
   "source": [
    "# Hitung volume traffic internet yang digunakan oleh setiap pengguna per bulan. Simpan hasilnya.\n",
    "internet_usage = internet.pivot_table(index=['user_id', 'month', 'plan_status'], values='mb_used', aggfunc='sum').reset_index()\n"
   ]
  },
  {
   "cell_type": "code",
   "execution_count": 75,
   "id": "c48a8fd7",
   "metadata": {},
   "outputs": [],
   "source": [
    "# Penambahan gb_used\n",
    "internet_usage['gb_used'] = internet_usage['mb_used'] /1024"
   ]
  },
  {
   "cell_type": "code",
   "execution_count": 76,
   "id": "a1954cce",
   "metadata": {},
   "outputs": [],
   "source": [
    "# Penambahan pembulatan gb_used di kolom gb_used_rndup\n",
    "internet_usage['gb_used_rndup'] = np.ceil(internet_usage['gb_used'])"
   ]
  },
  {
   "cell_type": "code",
   "execution_count": 77,
   "id": "a2c37edc",
   "metadata": {},
   "outputs": [
    {
     "data": {
      "text/html": [
       "<div>\n",
       "<style scoped>\n",
       "    .dataframe tbody tr th:only-of-type {\n",
       "        vertical-align: middle;\n",
       "    }\n",
       "\n",
       "    .dataframe tbody tr th {\n",
       "        vertical-align: top;\n",
       "    }\n",
       "\n",
       "    .dataframe thead th {\n",
       "        text-align: right;\n",
       "    }\n",
       "</style>\n",
       "<table border=\"1\" class=\"dataframe\">\n",
       "  <thead>\n",
       "    <tr style=\"text-align: right;\">\n",
       "      <th></th>\n",
       "      <th>user_id</th>\n",
       "      <th>month</th>\n",
       "      <th>plan_status</th>\n",
       "      <th>mb_used</th>\n",
       "      <th>gb_used</th>\n",
       "      <th>gb_used_rndup</th>\n",
       "    </tr>\n",
       "  </thead>\n",
       "  <tbody>\n",
       "    <tr>\n",
       "      <th>0</th>\n",
       "      <td>1000</td>\n",
       "      <td>12</td>\n",
       "      <td>active</td>\n",
       "      <td>1901.47</td>\n",
       "      <td>1.856904</td>\n",
       "      <td>2.0</td>\n",
       "    </tr>\n",
       "    <tr>\n",
       "      <th>1</th>\n",
       "      <td>1001</td>\n",
       "      <td>8</td>\n",
       "      <td>active</td>\n",
       "      <td>6919.15</td>\n",
       "      <td>6.756982</td>\n",
       "      <td>7.0</td>\n",
       "    </tr>\n",
       "    <tr>\n",
       "      <th>2</th>\n",
       "      <td>1001</td>\n",
       "      <td>9</td>\n",
       "      <td>active</td>\n",
       "      <td>13314.82</td>\n",
       "      <td>13.002754</td>\n",
       "      <td>14.0</td>\n",
       "    </tr>\n",
       "    <tr>\n",
       "      <th>3</th>\n",
       "      <td>1001</td>\n",
       "      <td>10</td>\n",
       "      <td>active</td>\n",
       "      <td>22330.49</td>\n",
       "      <td>21.807119</td>\n",
       "      <td>22.0</td>\n",
       "    </tr>\n",
       "    <tr>\n",
       "      <th>4</th>\n",
       "      <td>1001</td>\n",
       "      <td>11</td>\n",
       "      <td>active</td>\n",
       "      <td>18504.30</td>\n",
       "      <td>18.070605</td>\n",
       "      <td>19.0</td>\n",
       "    </tr>\n",
       "  </tbody>\n",
       "</table>\n",
       "</div>"
      ],
      "text/plain": [
       "   user_id  month plan_status   mb_used    gb_used  gb_used_rndup\n",
       "0     1000     12      active   1901.47   1.856904            2.0\n",
       "1     1001      8      active   6919.15   6.756982            7.0\n",
       "2     1001      9      active  13314.82  13.002754           14.0\n",
       "3     1001     10      active  22330.49  21.807119           22.0\n",
       "4     1001     11      active  18504.30  18.070605           19.0"
      ]
     },
     "execution_count": 77,
     "metadata": {},
     "output_type": "execute_result"
    }
   ],
   "source": [
    "# Cek data internet_usage\n",
    "internet_usage.head()"
   ]
  },
  {
   "cell_type": "markdown",
   "id": "67e2490e",
   "metadata": {},
   "source": [
    "5. Menggabungkan data dari **call_count**, **call_duration**, **message_count** dan **internet_usage** dalam satu data frame."
   ]
  },
  {
   "cell_type": "code",
   "execution_count": 78,
   "id": "feb85d99",
   "metadata": {},
   "outputs": [],
   "source": [
    "# Gabungkan data panggilan, menit, SMS, dan internet berdasarkan user_id dan month (bulan)\n",
    "\n",
    "# Menggabungkan data call_count dan call_duration menjadi df\n",
    "df= pd.merge(call_count, call_duration, \n",
    "             on=['user_id', 'month', 'plan_status'], how=\"outer\").fillna(0)\n",
    "\n",
    "# Menggabungkan data df dan message_count\n",
    "df= pd.merge(df, message_count[['user_id', 'month', 'plan_status', 'message_count']], \n",
    "             on=['user_id', 'month', 'plan_status'], how=\"outer\").fillna(0)\n",
    "\n",
    "# Menggabungkan data df dan internet_usage\n",
    "df= pd.merge(df, internet_usage[['user_id', 'month', 'plan_status', 'gb_used_rndup']], \n",
    "             on=['user_id', 'month', 'plan_status'], how=\"outer\").fillna(0)\n"
   ]
  },
  {
   "cell_type": "code",
   "execution_count": 79,
   "id": "202a76ef",
   "metadata": {},
   "outputs": [
    {
     "data": {
      "text/html": [
       "<div>\n",
       "<style scoped>\n",
       "    .dataframe tbody tr th:only-of-type {\n",
       "        vertical-align: middle;\n",
       "    }\n",
       "\n",
       "    .dataframe tbody tr th {\n",
       "        vertical-align: top;\n",
       "    }\n",
       "\n",
       "    .dataframe thead th {\n",
       "        text-align: right;\n",
       "    }\n",
       "</style>\n",
       "<table border=\"1\" class=\"dataframe\">\n",
       "  <thead>\n",
       "    <tr style=\"text-align: right;\">\n",
       "      <th></th>\n",
       "      <th>user_id</th>\n",
       "      <th>month</th>\n",
       "      <th>plan_status</th>\n",
       "      <th>call_count</th>\n",
       "      <th>duration_rndup</th>\n",
       "      <th>message_count</th>\n",
       "      <th>gb_used_rndup</th>\n",
       "    </tr>\n",
       "  </thead>\n",
       "  <tbody>\n",
       "    <tr>\n",
       "      <th>0</th>\n",
       "      <td>1000</td>\n",
       "      <td>12</td>\n",
       "      <td>active</td>\n",
       "      <td>16.0</td>\n",
       "      <td>124.0</td>\n",
       "      <td>11.0</td>\n",
       "      <td>2.0</td>\n",
       "    </tr>\n",
       "    <tr>\n",
       "      <th>1</th>\n",
       "      <td>1001</td>\n",
       "      <td>8</td>\n",
       "      <td>active</td>\n",
       "      <td>22.0</td>\n",
       "      <td>182.0</td>\n",
       "      <td>30.0</td>\n",
       "      <td>7.0</td>\n",
       "    </tr>\n",
       "    <tr>\n",
       "      <th>2</th>\n",
       "      <td>1001</td>\n",
       "      <td>9</td>\n",
       "      <td>active</td>\n",
       "      <td>38.0</td>\n",
       "      <td>315.0</td>\n",
       "      <td>44.0</td>\n",
       "      <td>14.0</td>\n",
       "    </tr>\n",
       "    <tr>\n",
       "      <th>3</th>\n",
       "      <td>1001</td>\n",
       "      <td>10</td>\n",
       "      <td>active</td>\n",
       "      <td>47.0</td>\n",
       "      <td>393.0</td>\n",
       "      <td>53.0</td>\n",
       "      <td>22.0</td>\n",
       "    </tr>\n",
       "    <tr>\n",
       "      <th>4</th>\n",
       "      <td>1001</td>\n",
       "      <td>11</td>\n",
       "      <td>active</td>\n",
       "      <td>49.0</td>\n",
       "      <td>426.0</td>\n",
       "      <td>36.0</td>\n",
       "      <td>19.0</td>\n",
       "    </tr>\n",
       "  </tbody>\n",
       "</table>\n",
       "</div>"
      ],
      "text/plain": [
       "   user_id  month plan_status  call_count  duration_rndup  message_count  \\\n",
       "0     1000     12      active        16.0           124.0           11.0   \n",
       "1     1001      8      active        22.0           182.0           30.0   \n",
       "2     1001      9      active        38.0           315.0           44.0   \n",
       "3     1001     10      active        47.0           393.0           53.0   \n",
       "4     1001     11      active        49.0           426.0           36.0   \n",
       "\n",
       "   gb_used_rndup  \n",
       "0            2.0  \n",
       "1            7.0  \n",
       "2           14.0  \n",
       "3           22.0  \n",
       "4           19.0  "
      ]
     },
     "execution_count": 79,
     "metadata": {},
     "output_type": "execute_result"
    }
   ],
   "source": [
    "# Cek data df\n",
    "df.head()"
   ]
  },
  {
   "cell_type": "code",
   "execution_count": 80,
   "id": "75c3de4f",
   "metadata": {},
   "outputs": [
    {
     "data": {
      "text/plain": [
       "(2293, 7)"
      ]
     },
     "execution_count": 80,
     "metadata": {},
     "output_type": "execute_result"
    }
   ],
   "source": [
    "df.shape"
   ]
  },
  {
   "cell_type": "code",
   "execution_count": 81,
   "id": "84c2f208",
   "metadata": {},
   "outputs": [
    {
     "name": "stdout",
     "output_type": "stream",
     "text": [
      "Selisih data call_count : 0.0\n",
      "\n",
      "Selisih data duration_rndup : 0.0\n",
      "\n",
      "Selisih data message_count : 0.0\n",
      "\n",
      "Selisih data internet_usage : 0.0\n"
     ]
    }
   ],
   "source": [
    "# Cek total nilai df\n",
    "print('Selisih data call_count :', call_count['call_count'].sum() - df['call_count'].sum())\n",
    "print()\n",
    "print('Selisih data duration_rndup :', call_duration['duration_rndup'].sum() - df['duration_rndup'].sum())\n",
    "print()\n",
    "print('Selisih data message_count :', message_count['message_count'].sum() - df['message_count'].sum())\n",
    "print()\n",
    "print('Selisih data internet_usage :', internet_usage['gb_used_rndup'].sum() - df['gb_used_rndup'].sum())"
   ]
  },
  {
   "cell_type": "markdown",
   "id": "74aa320c",
   "metadata": {},
   "source": [
    "6. Menambahkan informasi dari data **users** ke **df**."
   ]
  },
  {
   "cell_type": "code",
   "execution_count": 82,
   "id": "f9ba1623",
   "metadata": {},
   "outputs": [],
   "source": [
    "# Menambahkan informasi user\n",
    "df= pd.merge(df, users[['user_id', 'plan', 'msa']], \n",
    "             on=['user_id'], how=\"left\")"
   ]
  },
  {
   "cell_type": "code",
   "execution_count": 83,
   "id": "ef3f68a5",
   "metadata": {},
   "outputs": [
    {
     "data": {
      "text/html": [
       "<div>\n",
       "<style scoped>\n",
       "    .dataframe tbody tr th:only-of-type {\n",
       "        vertical-align: middle;\n",
       "    }\n",
       "\n",
       "    .dataframe tbody tr th {\n",
       "        vertical-align: top;\n",
       "    }\n",
       "\n",
       "    .dataframe thead th {\n",
       "        text-align: right;\n",
       "    }\n",
       "</style>\n",
       "<table border=\"1\" class=\"dataframe\">\n",
       "  <thead>\n",
       "    <tr style=\"text-align: right;\">\n",
       "      <th></th>\n",
       "      <th>user_id</th>\n",
       "      <th>month</th>\n",
       "      <th>plan_status</th>\n",
       "      <th>call_count</th>\n",
       "      <th>duration_rndup</th>\n",
       "      <th>message_count</th>\n",
       "      <th>gb_used_rndup</th>\n",
       "      <th>plan</th>\n",
       "      <th>msa</th>\n",
       "    </tr>\n",
       "  </thead>\n",
       "  <tbody>\n",
       "    <tr>\n",
       "      <th>0</th>\n",
       "      <td>1000</td>\n",
       "      <td>12</td>\n",
       "      <td>active</td>\n",
       "      <td>16.0</td>\n",
       "      <td>124.0</td>\n",
       "      <td>11.0</td>\n",
       "      <td>2.0</td>\n",
       "      <td>ultimate</td>\n",
       "      <td>GA</td>\n",
       "    </tr>\n",
       "    <tr>\n",
       "      <th>1</th>\n",
       "      <td>1001</td>\n",
       "      <td>8</td>\n",
       "      <td>active</td>\n",
       "      <td>22.0</td>\n",
       "      <td>182.0</td>\n",
       "      <td>30.0</td>\n",
       "      <td>7.0</td>\n",
       "      <td>surf</td>\n",
       "      <td>WA</td>\n",
       "    </tr>\n",
       "    <tr>\n",
       "      <th>2</th>\n",
       "      <td>1001</td>\n",
       "      <td>9</td>\n",
       "      <td>active</td>\n",
       "      <td>38.0</td>\n",
       "      <td>315.0</td>\n",
       "      <td>44.0</td>\n",
       "      <td>14.0</td>\n",
       "      <td>surf</td>\n",
       "      <td>WA</td>\n",
       "    </tr>\n",
       "    <tr>\n",
       "      <th>3</th>\n",
       "      <td>1001</td>\n",
       "      <td>10</td>\n",
       "      <td>active</td>\n",
       "      <td>47.0</td>\n",
       "      <td>393.0</td>\n",
       "      <td>53.0</td>\n",
       "      <td>22.0</td>\n",
       "      <td>surf</td>\n",
       "      <td>WA</td>\n",
       "    </tr>\n",
       "    <tr>\n",
       "      <th>4</th>\n",
       "      <td>1001</td>\n",
       "      <td>11</td>\n",
       "      <td>active</td>\n",
       "      <td>49.0</td>\n",
       "      <td>426.0</td>\n",
       "      <td>36.0</td>\n",
       "      <td>19.0</td>\n",
       "      <td>surf</td>\n",
       "      <td>WA</td>\n",
       "    </tr>\n",
       "  </tbody>\n",
       "</table>\n",
       "</div>"
      ],
      "text/plain": [
       "   user_id  month plan_status  call_count  duration_rndup  message_count  \\\n",
       "0     1000     12      active        16.0           124.0           11.0   \n",
       "1     1001      8      active        22.0           182.0           30.0   \n",
       "2     1001      9      active        38.0           315.0           44.0   \n",
       "3     1001     10      active        47.0           393.0           53.0   \n",
       "4     1001     11      active        49.0           426.0           36.0   \n",
       "\n",
       "   gb_used_rndup      plan msa  \n",
       "0            2.0  ultimate  GA  \n",
       "1            7.0      surf  WA  \n",
       "2           14.0      surf  WA  \n",
       "3           22.0      surf  WA  \n",
       "4           19.0      surf  WA  "
      ]
     },
     "execution_count": 83,
     "metadata": {},
     "output_type": "execute_result"
    }
   ],
   "source": [
    "# Cek perubahan data df\n",
    "df.head()"
   ]
  },
  {
   "cell_type": "markdown",
   "id": "7786cc80",
   "metadata": {},
   "source": [
    "7. Menambahkan informasi dari data **plans** ke **df**."
   ]
  },
  {
   "cell_type": "code",
   "execution_count": 84,
   "id": "a6942a31",
   "metadata": {},
   "outputs": [],
   "source": [
    "# Tambahkan informasi paket prabayarnya\n",
    "df= pd.merge(df, plans, left_on=['plan'], right_on=['plan_name'], how=\"left\")\n"
   ]
  },
  {
   "cell_type": "code",
   "execution_count": 85,
   "id": "13db3cc8",
   "metadata": {},
   "outputs": [],
   "source": [
    "# Hapus kolom mb_per_month_included dan plan_name dari df\n",
    "df= df.drop(['mb_per_month_included', 'plan_name'], axis=1)"
   ]
  },
  {
   "cell_type": "code",
   "execution_count": 86,
   "id": "d542b074",
   "metadata": {},
   "outputs": [
    {
     "data": {
      "text/html": [
       "<div>\n",
       "<style scoped>\n",
       "    .dataframe tbody tr th:only-of-type {\n",
       "        vertical-align: middle;\n",
       "    }\n",
       "\n",
       "    .dataframe tbody tr th {\n",
       "        vertical-align: top;\n",
       "    }\n",
       "\n",
       "    .dataframe thead th {\n",
       "        text-align: right;\n",
       "    }\n",
       "</style>\n",
       "<table border=\"1\" class=\"dataframe\">\n",
       "  <thead>\n",
       "    <tr style=\"text-align: right;\">\n",
       "      <th></th>\n",
       "      <th>user_id</th>\n",
       "      <th>month</th>\n",
       "      <th>plan_status</th>\n",
       "      <th>call_count</th>\n",
       "      <th>duration_rndup</th>\n",
       "      <th>message_count</th>\n",
       "      <th>gb_used_rndup</th>\n",
       "      <th>plan</th>\n",
       "      <th>msa</th>\n",
       "      <th>messages_included</th>\n",
       "      <th>minutes_included</th>\n",
       "      <th>usd_monthly_pay</th>\n",
       "      <th>usd_per_gb</th>\n",
       "      <th>usd_per_message</th>\n",
       "      <th>usd_per_minute</th>\n",
       "      <th>gb_per_month_included</th>\n",
       "    </tr>\n",
       "  </thead>\n",
       "  <tbody>\n",
       "    <tr>\n",
       "      <th>0</th>\n",
       "      <td>1000</td>\n",
       "      <td>12</td>\n",
       "      <td>active</td>\n",
       "      <td>16.0</td>\n",
       "      <td>124.0</td>\n",
       "      <td>11.0</td>\n",
       "      <td>2.0</td>\n",
       "      <td>ultimate</td>\n",
       "      <td>GA</td>\n",
       "      <td>1000</td>\n",
       "      <td>3000</td>\n",
       "      <td>70</td>\n",
       "      <td>7</td>\n",
       "      <td>0.01</td>\n",
       "      <td>0.01</td>\n",
       "      <td>30.0</td>\n",
       "    </tr>\n",
       "    <tr>\n",
       "      <th>1</th>\n",
       "      <td>1001</td>\n",
       "      <td>8</td>\n",
       "      <td>active</td>\n",
       "      <td>22.0</td>\n",
       "      <td>182.0</td>\n",
       "      <td>30.0</td>\n",
       "      <td>7.0</td>\n",
       "      <td>surf</td>\n",
       "      <td>WA</td>\n",
       "      <td>50</td>\n",
       "      <td>500</td>\n",
       "      <td>20</td>\n",
       "      <td>10</td>\n",
       "      <td>0.03</td>\n",
       "      <td>0.03</td>\n",
       "      <td>15.0</td>\n",
       "    </tr>\n",
       "    <tr>\n",
       "      <th>2</th>\n",
       "      <td>1001</td>\n",
       "      <td>9</td>\n",
       "      <td>active</td>\n",
       "      <td>38.0</td>\n",
       "      <td>315.0</td>\n",
       "      <td>44.0</td>\n",
       "      <td>14.0</td>\n",
       "      <td>surf</td>\n",
       "      <td>WA</td>\n",
       "      <td>50</td>\n",
       "      <td>500</td>\n",
       "      <td>20</td>\n",
       "      <td>10</td>\n",
       "      <td>0.03</td>\n",
       "      <td>0.03</td>\n",
       "      <td>15.0</td>\n",
       "    </tr>\n",
       "    <tr>\n",
       "      <th>3</th>\n",
       "      <td>1001</td>\n",
       "      <td>10</td>\n",
       "      <td>active</td>\n",
       "      <td>47.0</td>\n",
       "      <td>393.0</td>\n",
       "      <td>53.0</td>\n",
       "      <td>22.0</td>\n",
       "      <td>surf</td>\n",
       "      <td>WA</td>\n",
       "      <td>50</td>\n",
       "      <td>500</td>\n",
       "      <td>20</td>\n",
       "      <td>10</td>\n",
       "      <td>0.03</td>\n",
       "      <td>0.03</td>\n",
       "      <td>15.0</td>\n",
       "    </tr>\n",
       "    <tr>\n",
       "      <th>4</th>\n",
       "      <td>1001</td>\n",
       "      <td>11</td>\n",
       "      <td>active</td>\n",
       "      <td>49.0</td>\n",
       "      <td>426.0</td>\n",
       "      <td>36.0</td>\n",
       "      <td>19.0</td>\n",
       "      <td>surf</td>\n",
       "      <td>WA</td>\n",
       "      <td>50</td>\n",
       "      <td>500</td>\n",
       "      <td>20</td>\n",
       "      <td>10</td>\n",
       "      <td>0.03</td>\n",
       "      <td>0.03</td>\n",
       "      <td>15.0</td>\n",
       "    </tr>\n",
       "  </tbody>\n",
       "</table>\n",
       "</div>"
      ],
      "text/plain": [
       "   user_id  month plan_status  call_count  duration_rndup  message_count  \\\n",
       "0     1000     12      active        16.0           124.0           11.0   \n",
       "1     1001      8      active        22.0           182.0           30.0   \n",
       "2     1001      9      active        38.0           315.0           44.0   \n",
       "3     1001     10      active        47.0           393.0           53.0   \n",
       "4     1001     11      active        49.0           426.0           36.0   \n",
       "\n",
       "   gb_used_rndup      plan msa  messages_included  minutes_included  \\\n",
       "0            2.0  ultimate  GA               1000              3000   \n",
       "1            7.0      surf  WA                 50               500   \n",
       "2           14.0      surf  WA                 50               500   \n",
       "3           22.0      surf  WA                 50               500   \n",
       "4           19.0      surf  WA                 50               500   \n",
       "\n",
       "   usd_monthly_pay  usd_per_gb  usd_per_message  usd_per_minute  \\\n",
       "0               70           7             0.01            0.01   \n",
       "1               20          10             0.03            0.03   \n",
       "2               20          10             0.03            0.03   \n",
       "3               20          10             0.03            0.03   \n",
       "4               20          10             0.03            0.03   \n",
       "\n",
       "   gb_per_month_included  \n",
       "0                   30.0  \n",
       "1                   15.0  \n",
       "2                   15.0  \n",
       "3                   15.0  \n",
       "4                   15.0  "
      ]
     },
     "execution_count": 86,
     "metadata": {},
     "output_type": "execute_result"
    }
   ],
   "source": [
    "# Cek data df\n",
    "df.head()"
   ]
  },
  {
   "cell_type": "code",
   "execution_count": 87,
   "id": "8b942fec",
   "metadata": {
    "scrolled": true
   },
   "outputs": [
    {
     "name": "stdout",
     "output_type": "stream",
     "text": [
      "Selisih data call_count : 0.0\n",
      "\n",
      "Selisih data duration_rndup : 0.0\n",
      "\n",
      "Selisih data message_count : 0.0\n",
      "\n",
      "Selisih data internet_usage : 0.0\n"
     ]
    }
   ],
   "source": [
    "# Cek kembali total nilai df\n",
    "print('Selisih data call_count :', call_count['call_count'].sum() - df['call_count'].sum())\n",
    "print()\n",
    "print('Selisih data duration_rndup :', call_duration['duration_rndup'].sum() - df['duration_rndup'].sum())\n",
    "print()\n",
    "print('Selisih data message_count :', message_count['message_count'].sum() - df['message_count'].sum())\n",
    "print()\n",
    "print('Selisih data internet_usage :', internet_usage['gb_used_rndup'].sum() - df['gb_used_rndup'].sum())"
   ]
  },
  {
   "cell_type": "markdown",
   "id": "b4f8ac9b",
   "metadata": {},
   "source": [
    "8. Menghitung kelebihan durasi panggilan dalam menit dengan menambah kolom **over_minutes**."
   ]
  },
  {
   "cell_type": "code",
   "execution_count": 88,
   "id": "20405356",
   "metadata": {},
   "outputs": [],
   "source": [
    "# Fungsi perhitungan kelebihan panggilan\n",
    "def over_minutes(row):\n",
    "    over = row['duration_rndup'] - row['minutes_included']\n",
    "    status = row['plan_status']\n",
    "    if status == 'active':\n",
    "        if over > 0:\n",
    "            return over\n",
    "        else :\n",
    "            return 0\n",
    "    else :\n",
    "        return row['duration_rndup']"
   ]
  },
  {
   "cell_type": "markdown",
   "id": "28cfd380",
   "metadata": {},
   "source": [
    "Pemakaian diatas bulan aktif akan diakui sebagai kelebihan."
   ]
  },
  {
   "cell_type": "code",
   "execution_count": 89,
   "id": "d0b38a80",
   "metadata": {},
   "outputs": [],
   "source": [
    "# Aplikasi ke kolom baru over_minutes\n",
    "df['over_minutes'] = df.apply(over_minutes, axis=1)"
   ]
  },
  {
   "cell_type": "markdown",
   "id": "3235510e",
   "metadata": {},
   "source": [
    "9. Menghitung kelebihan pesan/sms dengan menambah kolom **over_messages**."
   ]
  },
  {
   "cell_type": "code",
   "execution_count": 90,
   "id": "54ec4e7b",
   "metadata": {},
   "outputs": [],
   "source": [
    "# Fungsi perhitungan kelebihan sms\n",
    "def over_sms(row):\n",
    "    over = row['message_count'] - row['messages_included']\n",
    "    status = row['plan_status']\n",
    "    if status == 'active':\n",
    "        if over > 0:\n",
    "            return over\n",
    "        else :\n",
    "            return 0\n",
    "    else :\n",
    "        return row['message_count']"
   ]
  },
  {
   "cell_type": "markdown",
   "id": "3c4adab2",
   "metadata": {},
   "source": [
    "Pemakaian diatas bulan aktif akan diakui sebagai kelebihan."
   ]
  },
  {
   "cell_type": "code",
   "execution_count": 91,
   "id": "847b3d49",
   "metadata": {},
   "outputs": [],
   "source": [
    "# Aplikasi ke kolom baru over_messages\n",
    "df['over_messages'] = df.apply(over_sms, axis=1)"
   ]
  },
  {
   "cell_type": "markdown",
   "id": "28667a22",
   "metadata": {},
   "source": [
    "10. Menghitung kelebihan gb internet dengan menambah kolom **over_gb**."
   ]
  },
  {
   "cell_type": "code",
   "execution_count": 92,
   "id": "6391c4b9",
   "metadata": {},
   "outputs": [],
   "source": [
    "# Fungsi perhitungan kelebihan gb internet\n",
    "def over_int(row):\n",
    "    over = row['gb_used_rndup'] - row['gb_per_month_included']\n",
    "    status = row['plan_status']\n",
    "    if status == 'active':\n",
    "        if over > 0:\n",
    "            return over\n",
    "        else :\n",
    "            return 0\n",
    "    else :\n",
    "        return row['gb_used_rndup']"
   ]
  },
  {
   "cell_type": "markdown",
   "id": "f51e228c",
   "metadata": {},
   "source": [
    "Pemakaian diatas bulan aktif akan diakui sebagai kelebihan."
   ]
  },
  {
   "cell_type": "code",
   "execution_count": 93,
   "id": "2f68fa5d",
   "metadata": {},
   "outputs": [],
   "source": [
    "# Aplikasi ke kolom baru over_gb\n",
    "df['over_gb'] = df.apply(over_int, axis=1)"
   ]
  },
  {
   "cell_type": "markdown",
   "id": "515ba002",
   "metadata": {},
   "source": [
    "11. Menghitung pendapatan biaya bulanan dengan menambah kolom **subs_revenue**."
   ]
  },
  {
   "cell_type": "code",
   "execution_count": 94,
   "id": "b71ad75d",
   "metadata": {},
   "outputs": [],
   "source": [
    "# Fungsi perhitungan biaya langganan\n",
    "def subs(row):\n",
    "    status = row['plan_status']\n",
    "    if status == 'active':\n",
    "        return row['usd_monthly_pay']\n",
    "    else :\n",
    "        return 0"
   ]
  },
  {
   "cell_type": "code",
   "execution_count": 95,
   "id": "ee98f309",
   "metadata": {},
   "outputs": [],
   "source": [
    "# Aplikasi ke kolom baru subs_revenue\n",
    "df['subs_revenue'] = df.apply(subs, axis=1)"
   ]
  },
  {
   "cell_type": "markdown",
   "id": "636f718a",
   "metadata": {},
   "source": [
    "12. Menghitung pendapatan biaya kelebihan durasi panggilan dengan menambah kolom **over_minutes_revenue**."
   ]
  },
  {
   "cell_type": "code",
   "execution_count": 96,
   "id": "7c77e7ac",
   "metadata": {},
   "outputs": [],
   "source": [
    "# Hitung kolom over_minutes_revenue\n",
    "df['over_minutes_revenue'] = df['over_minutes'] * df['usd_per_minute']"
   ]
  },
  {
   "cell_type": "markdown",
   "id": "f3f23c22",
   "metadata": {},
   "source": [
    "13. Menghitung pendapatan biaya kelebihan pesan sms dengan menambah kolom **over_messages_revenue**."
   ]
  },
  {
   "cell_type": "code",
   "execution_count": 97,
   "id": "8483abcb",
   "metadata": {},
   "outputs": [],
   "source": [
    "# Hitung kolom over_messages_revenue\n",
    "df['over_messages_revenue'] = df['over_messages'] * df['usd_per_message']"
   ]
  },
  {
   "cell_type": "markdown",
   "id": "daa103b6",
   "metadata": {},
   "source": [
    "14. Menghitung pendapatan biaya kelebihan gn internet dengan menambah kolom **over_gb_revenue**."
   ]
  },
  {
   "cell_type": "code",
   "execution_count": 98,
   "id": "87eaed00",
   "metadata": {},
   "outputs": [],
   "source": [
    "# Hitung kolom over_gb_revenue\n",
    "df['over_gb_revenue'] = df['over_gb'] * df['usd_per_gb']"
   ]
  },
  {
   "cell_type": "markdown",
   "id": "9225c5e5",
   "metadata": {},
   "source": [
    "15. Menghitung total pendapatan dengan menambah kolom **total_revenue**."
   ]
  },
  {
   "cell_type": "code",
   "execution_count": 99,
   "id": "5457cb7e",
   "metadata": {},
   "outputs": [],
   "source": [
    "# Hitung pendapatan bulanan untuk setiap pengguna\n",
    "df['total_revenue'] = df['subs_revenue'] + df['over_minutes_revenue'] + df['over_messages_revenue'] + df['over_gb_revenue']\n"
   ]
  },
  {
   "cell_type": "code",
   "execution_count": 100,
   "id": "7c19162d",
   "metadata": {},
   "outputs": [
    {
     "data": {
      "text/html": [
       "<div>\n",
       "<style scoped>\n",
       "    .dataframe tbody tr th:only-of-type {\n",
       "        vertical-align: middle;\n",
       "    }\n",
       "\n",
       "    .dataframe tbody tr th {\n",
       "        vertical-align: top;\n",
       "    }\n",
       "\n",
       "    .dataframe thead th {\n",
       "        text-align: right;\n",
       "    }\n",
       "</style>\n",
       "<table border=\"1\" class=\"dataframe\">\n",
       "  <thead>\n",
       "    <tr style=\"text-align: right;\">\n",
       "      <th></th>\n",
       "      <th>user_id</th>\n",
       "      <th>month</th>\n",
       "      <th>plan_status</th>\n",
       "      <th>call_count</th>\n",
       "      <th>duration_rndup</th>\n",
       "      <th>message_count</th>\n",
       "      <th>gb_used_rndup</th>\n",
       "      <th>plan</th>\n",
       "      <th>msa</th>\n",
       "      <th>messages_included</th>\n",
       "      <th>minutes_included</th>\n",
       "      <th>usd_monthly_pay</th>\n",
       "      <th>usd_per_gb</th>\n",
       "      <th>usd_per_message</th>\n",
       "      <th>usd_per_minute</th>\n",
       "      <th>gb_per_month_included</th>\n",
       "      <th>over_minutes</th>\n",
       "      <th>over_messages</th>\n",
       "      <th>over_gb</th>\n",
       "      <th>subs_revenue</th>\n",
       "      <th>over_minutes_revenue</th>\n",
       "      <th>over_messages_revenue</th>\n",
       "      <th>over_gb_revenue</th>\n",
       "      <th>total_revenue</th>\n",
       "    </tr>\n",
       "  </thead>\n",
       "  <tbody>\n",
       "    <tr>\n",
       "      <th>0</th>\n",
       "      <td>1000</td>\n",
       "      <td>12</td>\n",
       "      <td>active</td>\n",
       "      <td>16.0</td>\n",
       "      <td>124.0</td>\n",
       "      <td>11.0</td>\n",
       "      <td>2.0</td>\n",
       "      <td>ultimate</td>\n",
       "      <td>GA</td>\n",
       "      <td>1000</td>\n",
       "      <td>3000</td>\n",
       "      <td>70</td>\n",
       "      <td>7</td>\n",
       "      <td>0.01</td>\n",
       "      <td>0.01</td>\n",
       "      <td>30.0</td>\n",
       "      <td>0.0</td>\n",
       "      <td>0.0</td>\n",
       "      <td>0.0</td>\n",
       "      <td>70</td>\n",
       "      <td>0.0</td>\n",
       "      <td>0.00</td>\n",
       "      <td>0.0</td>\n",
       "      <td>70.00</td>\n",
       "    </tr>\n",
       "    <tr>\n",
       "      <th>1</th>\n",
       "      <td>1001</td>\n",
       "      <td>8</td>\n",
       "      <td>active</td>\n",
       "      <td>22.0</td>\n",
       "      <td>182.0</td>\n",
       "      <td>30.0</td>\n",
       "      <td>7.0</td>\n",
       "      <td>surf</td>\n",
       "      <td>WA</td>\n",
       "      <td>50</td>\n",
       "      <td>500</td>\n",
       "      <td>20</td>\n",
       "      <td>10</td>\n",
       "      <td>0.03</td>\n",
       "      <td>0.03</td>\n",
       "      <td>15.0</td>\n",
       "      <td>0.0</td>\n",
       "      <td>0.0</td>\n",
       "      <td>0.0</td>\n",
       "      <td>20</td>\n",
       "      <td>0.0</td>\n",
       "      <td>0.00</td>\n",
       "      <td>0.0</td>\n",
       "      <td>20.00</td>\n",
       "    </tr>\n",
       "    <tr>\n",
       "      <th>2</th>\n",
       "      <td>1001</td>\n",
       "      <td>9</td>\n",
       "      <td>active</td>\n",
       "      <td>38.0</td>\n",
       "      <td>315.0</td>\n",
       "      <td>44.0</td>\n",
       "      <td>14.0</td>\n",
       "      <td>surf</td>\n",
       "      <td>WA</td>\n",
       "      <td>50</td>\n",
       "      <td>500</td>\n",
       "      <td>20</td>\n",
       "      <td>10</td>\n",
       "      <td>0.03</td>\n",
       "      <td>0.03</td>\n",
       "      <td>15.0</td>\n",
       "      <td>0.0</td>\n",
       "      <td>0.0</td>\n",
       "      <td>0.0</td>\n",
       "      <td>20</td>\n",
       "      <td>0.0</td>\n",
       "      <td>0.00</td>\n",
       "      <td>0.0</td>\n",
       "      <td>20.00</td>\n",
       "    </tr>\n",
       "    <tr>\n",
       "      <th>3</th>\n",
       "      <td>1001</td>\n",
       "      <td>10</td>\n",
       "      <td>active</td>\n",
       "      <td>47.0</td>\n",
       "      <td>393.0</td>\n",
       "      <td>53.0</td>\n",
       "      <td>22.0</td>\n",
       "      <td>surf</td>\n",
       "      <td>WA</td>\n",
       "      <td>50</td>\n",
       "      <td>500</td>\n",
       "      <td>20</td>\n",
       "      <td>10</td>\n",
       "      <td>0.03</td>\n",
       "      <td>0.03</td>\n",
       "      <td>15.0</td>\n",
       "      <td>0.0</td>\n",
       "      <td>3.0</td>\n",
       "      <td>7.0</td>\n",
       "      <td>20</td>\n",
       "      <td>0.0</td>\n",
       "      <td>0.09</td>\n",
       "      <td>70.0</td>\n",
       "      <td>90.09</td>\n",
       "    </tr>\n",
       "    <tr>\n",
       "      <th>4</th>\n",
       "      <td>1001</td>\n",
       "      <td>11</td>\n",
       "      <td>active</td>\n",
       "      <td>49.0</td>\n",
       "      <td>426.0</td>\n",
       "      <td>36.0</td>\n",
       "      <td>19.0</td>\n",
       "      <td>surf</td>\n",
       "      <td>WA</td>\n",
       "      <td>50</td>\n",
       "      <td>500</td>\n",
       "      <td>20</td>\n",
       "      <td>10</td>\n",
       "      <td>0.03</td>\n",
       "      <td>0.03</td>\n",
       "      <td>15.0</td>\n",
       "      <td>0.0</td>\n",
       "      <td>0.0</td>\n",
       "      <td>4.0</td>\n",
       "      <td>20</td>\n",
       "      <td>0.0</td>\n",
       "      <td>0.00</td>\n",
       "      <td>40.0</td>\n",
       "      <td>60.00</td>\n",
       "    </tr>\n",
       "  </tbody>\n",
       "</table>\n",
       "</div>"
      ],
      "text/plain": [
       "   user_id  month plan_status  call_count  duration_rndup  message_count  \\\n",
       "0     1000     12      active        16.0           124.0           11.0   \n",
       "1     1001      8      active        22.0           182.0           30.0   \n",
       "2     1001      9      active        38.0           315.0           44.0   \n",
       "3     1001     10      active        47.0           393.0           53.0   \n",
       "4     1001     11      active        49.0           426.0           36.0   \n",
       "\n",
       "   gb_used_rndup      plan msa  messages_included  minutes_included  \\\n",
       "0            2.0  ultimate  GA               1000              3000   \n",
       "1            7.0      surf  WA                 50               500   \n",
       "2           14.0      surf  WA                 50               500   \n",
       "3           22.0      surf  WA                 50               500   \n",
       "4           19.0      surf  WA                 50               500   \n",
       "\n",
       "   usd_monthly_pay  usd_per_gb  usd_per_message  usd_per_minute  \\\n",
       "0               70           7             0.01            0.01   \n",
       "1               20          10             0.03            0.03   \n",
       "2               20          10             0.03            0.03   \n",
       "3               20          10             0.03            0.03   \n",
       "4               20          10             0.03            0.03   \n",
       "\n",
       "   gb_per_month_included  over_minutes  over_messages  over_gb  subs_revenue  \\\n",
       "0                   30.0           0.0            0.0      0.0            70   \n",
       "1                   15.0           0.0            0.0      0.0            20   \n",
       "2                   15.0           0.0            0.0      0.0            20   \n",
       "3                   15.0           0.0            3.0      7.0            20   \n",
       "4                   15.0           0.0            0.0      4.0            20   \n",
       "\n",
       "   over_minutes_revenue  over_messages_revenue  over_gb_revenue  total_revenue  \n",
       "0                   0.0                   0.00              0.0          70.00  \n",
       "1                   0.0                   0.00              0.0          20.00  \n",
       "2                   0.0                   0.00              0.0          20.00  \n",
       "3                   0.0                   0.09             70.0          90.09  \n",
       "4                   0.0                   0.00             40.0          60.00  "
      ]
     },
     "execution_count": 100,
     "metadata": {},
     "output_type": "execute_result"
    }
   ],
   "source": [
    "# Cek perubahan data df\n",
    "df.head()"
   ]
  },
  {
   "cell_type": "code",
   "execution_count": 101,
   "id": "f3a2c9e9",
   "metadata": {},
   "outputs": [
    {
     "name": "stdout",
     "output_type": "stream",
     "text": [
      "<class 'pandas.core.frame.DataFrame'>\n",
      "RangeIndex: 2293 entries, 0 to 2292\n",
      "Data columns (total 24 columns):\n",
      " #   Column                 Non-Null Count  Dtype  \n",
      "---  ------                 --------------  -----  \n",
      " 0   user_id                2293 non-null   int64  \n",
      " 1   month                  2293 non-null   int32  \n",
      " 2   plan_status            2293 non-null   object \n",
      " 3   call_count             2293 non-null   float64\n",
      " 4   duration_rndup         2293 non-null   float64\n",
      " 5   message_count          2293 non-null   float64\n",
      " 6   gb_used_rndup          2293 non-null   float64\n",
      " 7   plan                   2293 non-null   object \n",
      " 8   msa                    2293 non-null   object \n",
      " 9   messages_included      2293 non-null   int64  \n",
      " 10  minutes_included       2293 non-null   int64  \n",
      " 11  usd_monthly_pay        2293 non-null   int64  \n",
      " 12  usd_per_gb             2293 non-null   int64  \n",
      " 13  usd_per_message        2293 non-null   float64\n",
      " 14  usd_per_minute         2293 non-null   float64\n",
      " 15  gb_per_month_included  2293 non-null   float64\n",
      " 16  over_minutes           2293 non-null   float64\n",
      " 17  over_messages          2293 non-null   float64\n",
      " 18  over_gb                2293 non-null   float64\n",
      " 19  subs_revenue           2293 non-null   int64  \n",
      " 20  over_minutes_revenue   2293 non-null   float64\n",
      " 21  over_messages_revenue  2293 non-null   float64\n",
      " 22  over_gb_revenue        2293 non-null   float64\n",
      " 23  total_revenue          2293 non-null   float64\n",
      "dtypes: float64(14), int32(1), int64(6), object(3)\n",
      "memory usage: 421.1+ KB\n"
     ]
    }
   ],
   "source": [
    "df.info()"
   ]
  },
  {
   "cell_type": "markdown",
   "id": "b8d08b42",
   "metadata": {},
   "source": [
    "**Ringkasan :**\n",
    "\n",
    "Untuk mendapatkan nilai pendapatan dilakukan :\n",
    "\n",
    "1. Agregasi data jumlah panggilan dari **calls_filtered** menjadi data **call_count**.\n",
    "2. Agregasi data durasi panggilan dari **calls_filtered** menjadi data **call_duration**.\n",
    "3. Agregasi data jumlah pesan dari **messages** menjadi data **message_count**.\n",
    "4. Agregasi data pemakaian internet dari **internet** menjadi data **internet_usage**.\n",
    "5. Menggabungkan data dari **call_count**, **call_duration**, **message_count** dan **internet_usage** dalam satu data frame **df**.\n",
    "6. Menambahkan informasi dari data **users** ke **df**.\n",
    "7. Menambahkan informasi dari data **plans** ke **df**.\n",
    "8. Menghitung kelebihan durasi panggilan dalam menit dengan menambah kolom **over_minutes**.\n",
    "9. Menghitung kelebihan pesan/sms dengan menambah kolom **over_messages**.\n",
    "10. Menghitung kelebihan gb internet dengan menambah kolom **over_gb**.\n",
    "11. Menghitung pendapatan biaya bulanan dengan menambah kolom **subs_revenue**.\n",
    "12. Menghitung pendapatan biaya kelebihan durasi panggilan dengan menambah kolom **over_minutes_revenue**.\n",
    "13. Menghitung pendapatan biaya kelebihan pesan sms dengan menambah kolom **over_messages_revenue**.\n",
    "14. Menghitung pendapatan biaya kelebihan gn internet dengan menambah kolom **over_gb_revenue**.\n",
    "15. Menghitung total pendapatan dengan menambah kolom **total_revenue**.\n",
    "\n"
   ]
  },
  {
   "cell_type": "markdown",
   "id": "d792d278",
   "metadata": {},
   "source": [
    "## Mempelajari Perilaku Pengguna"
   ]
  },
  {
   "cell_type": "markdown",
   "id": "124f2f9c",
   "metadata": {},
   "source": [
    "Membuat fungsi untuk mempermudah analisa yang berulang."
   ]
  },
  {
   "cell_type": "code",
   "execution_count": 102,
   "id": "04c778db",
   "metadata": {},
   "outputs": [],
   "source": [
    "# Fungsi grafik batang\n",
    "\n",
    "def bar(column) :\n",
    "    table=df.pivot_table(index='month', columns='plan', values=column)\n",
    "    print(table)\n",
    "    table.plot(kind='bar', figsize=(10,5), width=0.8, rot=0)\n",
    "    plt.ylabel(column)\n",
    "    plt.legend(loc=8)\n",
    "    "
   ]
  },
  {
   "cell_type": "code",
   "execution_count": 103,
   "id": "bc6339a2",
   "metadata": {},
   "outputs": [],
   "source": [
    "# Fungsi grafik histogram\n",
    "\n",
    "def hist(column) :\n",
    "    df.hist(by='plan', column=column, edgecolor='white', figsize=(10,5), rot=0)\n",
    "    "
   ]
  },
  {
   "cell_type": "code",
   "execution_count": 104,
   "id": "53c31bd9",
   "metadata": {},
   "outputs": [],
   "source": [
    "# Fungsi grafik boxplot\n",
    "\n",
    "def box(column) :\n",
    "    df.boxplot(column=column, by='plan', showmeans=True, vert=False, figsize=(10,5), widths=0.8)\n",
    "    print('Median paket surf :', df.query('plan == \"surf\"')[column].median())\n",
    "    print('Median paket ultimate :', df.query('plan == \"ultimate\"')[column].median())\n",
    "    "
   ]
  },
  {
   "cell_type": "code",
   "execution_count": 105,
   "id": "77ec8f66",
   "metadata": {},
   "outputs": [],
   "source": [
    "# Fungsi menghitung rata-rata dan varians per paket\n",
    "\n",
    "def avgvar(column) :\n",
    "    surf = df.query('plan == \"surf\"')\n",
    "    ulti = df.query('plan == \"ultimate\"')\n",
    "    var1 = np.var(surf[column])\n",
    "    var2 = np.var(ulti[column])\n",
    "    print('Rata-rata paket surf :', surf[column].mean())\n",
    "    print('Rata-rata paket ultimate :', ulti[column].mean())\n",
    "    print()\n",
    "    print('Varians paket surf :', var1)\n",
    "    print('Varians paket ultimate :', var2)\n"
   ]
  },
  {
   "cell_type": "markdown",
   "id": "c23b7fbe",
   "metadata": {},
   "source": [
    "### Panggilan"
   ]
  },
  {
   "cell_type": "code",
   "execution_count": 106,
   "id": "a0005c72",
   "metadata": {},
   "outputs": [
    {
     "name": "stdout",
     "output_type": "stream",
     "text": [
      "plan         surf    ultimate\n",
      "month                        \n",
      "1      203.000000  193.500000\n",
      "2      297.000000  403.142857\n",
      "3      330.000000  304.250000\n",
      "4      351.540000  336.857143\n",
      "5      399.584416  406.241379\n",
      "6      431.298969  370.957447\n",
      "7      449.983471  427.067797\n",
      "8      410.111111  421.436620\n",
      "9      414.226804  437.511628\n",
      "10     429.729958  450.735849\n",
      "11     423.325088  445.196850\n",
      "12     473.836478  459.099338\n"
     ]
    },
    {
     "data": {
      "image/png": "[encoded data removed]",
      "text/plain": [
       "<Figure size 1000x500 with 1 Axes>"
      ]
     },
     "metadata": {},
     "output_type": "display_data"
    }
   ],
   "source": [
    "# Bandingkan durasi rata-rata panggilan setiap paket per bulannya. \n",
    "# Buatlah sebuah diagram batang untuk memvisualisasikannya.\n",
    "\n",
    "bar('duration_rndup')\n"
   ]
  },
  {
   "cell_type": "markdown",
   "id": "5c24f122",
   "metadata": {},
   "source": [
    "Rata-rata durasi panggilan paket surf konsisten meningkat setiap bulannya."
   ]
  },
  {
   "cell_type": "code",
   "execution_count": 107,
   "id": "50651883",
   "metadata": {
    "scrolled": false
   },
   "outputs": [
    {
     "data": {
      "image/png": "[encoded data removed]",
      "text/plain": [
       "<Figure size 1000x500 with 2 Axes>"
      ]
     },
     "metadata": {},
     "output_type": "display_data"
    }
   ],
   "source": [
    "# Bandingkan jumlah menit yang dibutuhkan pengguna tiap paket per bulannya. Buatlah sebuah histogram.\n",
    "hist('duration_rndup')"
   ]
  },
  {
   "cell_type": "markdown",
   "id": "dc0d5781",
   "metadata": {},
   "source": [
    "Jumlah menit yang dibutuhkan pengguna per bulannya tidak jauh berbeda diantara 2 paket, ini ditunjukkan dari frekuensi pengguna terbanyak di 2 paket pada rentang durasi 0-750 menit. Namun pengguna paket surf lebih banyak daripada paket ultimate."
   ]
  },
  {
   "cell_type": "code",
   "execution_count": 108,
   "id": "57c2befb",
   "metadata": {},
   "outputs": [
    {
     "name": "stdout",
     "output_type": "stream",
     "text": [
      "Rata-rata paket surf : 428.7495232040687\n",
      "Rata-rata paket ultimate : 430.45\n",
      "\n",
      "Varians paket surf : 54933.334591317485\n",
      "Varians paket ultimate : 57764.125277777785\n"
     ]
    }
   ],
   "source": [
    "# Menhitung rata-rata dan varians\n",
    "avgvar('duration_rndup')"
   ]
  },
  {
   "cell_type": "markdown",
   "id": "6cb09409",
   "metadata": {},
   "source": [
    "Rata-rata durasi panggilan antara 2 paket tidak jauh berbeda."
   ]
  },
  {
   "cell_type": "code",
   "execution_count": 109,
   "id": "6257a471",
   "metadata": {},
   "outputs": [
    {
     "name": "stdout",
     "output_type": "stream",
     "text": [
      "Median paket surf : 425.0\n",
      "Median paket ultimate : 424.0\n"
     ]
    },
    {
     "data": {
      "image/png": "[encoded data removed]",
      "text/plain": [
       "<Figure size 1000x500 with 1 Axes>"
      ]
     },
     "metadata": {},
     "output_type": "display_data"
    }
   ],
   "source": [
    "# Buatlah grafik boxplot untuk memvisualisasikan distribusi durasi panggilan bulanan\n",
    "box('duration_rndup')"
   ]
  },
  {
   "cell_type": "markdown",
   "id": "feaaf4ef",
   "metadata": {},
   "source": [
    "Nilai median durasi panggilan bulanan paket surf lebih tinggi."
   ]
  },
  {
   "cell_type": "markdown",
   "id": "8484d34f",
   "metadata": {},
   "source": [
    "**Kesimpulan durasi panggilan :**"
   ]
  },
  {
   "cell_type": "markdown",
   "id": "8be577a4",
   "metadata": {},
   "source": [
    "Rata-rata durasi panggilan bulanan kedua paket meningkat setiap bulannya. Paket surf memiliki pertumbuhan yang paling konsisten.\n",
    "\n",
    "Kebutuhan durasi panggilan pengguna antara 2 paket tidak jauh berbeda, di rentang 0 - 750 menit. Namun paket surf memiliki lebih banyak pengguna.\n",
    "\n",
    "Rata-rata kebutuhan durasi panggilan pengguna per bulan :\n",
    "\n",
    "    Surf : 429 Menit.\n",
    "    Ultimate : 430 Menit\n",
    "    \n",
    "Rata-rata kebutuhan durasi panggilan pengguna tidak jauh berbeda. Paket ultimate lebih tinggi 1 menit.\n",
    "\n",
    "Median durasi panggilan paket :\n",
    "\n",
    "    Surf : 425 Menit\n",
    "    Ultimate : 424 Menit\n",
    "\n",
    "Median durasi panggilan pengguna tidak jauh berbeda. Paket surf lebih tinggi 1 menit. \n",
    "\n",
    "Perilaku pengguna kedua paket pada durasi panggilan tidak jauh berbeda.\n",
    "\n",
    "\n",
    "\n",
    "\n"
   ]
  },
  {
   "cell_type": "markdown",
   "id": "69409b3b",
   "metadata": {},
   "source": [
    "### Pesan/SMS"
   ]
  },
  {
   "cell_type": "code",
   "execution_count": 110,
   "id": "8b55583a",
   "metadata": {},
   "outputs": [
    {
     "name": "stdout",
     "output_type": "stream",
     "text": [
      "plan        surf   ultimate\n",
      "month                      \n",
      "1      10.500000  15.500000\n",
      "2      12.000000  21.571429\n",
      "3      15.260870  20.250000\n",
      "4      17.400000  22.047619\n",
      "5      24.012987  32.103448\n",
      "6      25.298969  29.340426\n",
      "7      27.033058  32.830508\n",
      "8      28.777778  38.478873\n",
      "9      30.762887  37.895349\n",
      "10     33.839662  39.443396\n",
      "11     32.385159  38.606299\n",
      "12     38.600629  45.006623\n"
     ]
    },
    {
     "data": {
      "image/png": "[encoded data removed]",
      "text/plain": [
       "<Figure size 1000x500 with 1 Axes>"
      ]
     },
     "metadata": {},
     "output_type": "display_data"
    }
   ],
   "source": [
    "# Bandingkan jumlah SMS yang cenderung dikirim pengguna tiap paket per bulannya\n",
    "bar('message_count')"
   ]
  },
  {
   "cell_type": "markdown",
   "id": "85044d38",
   "metadata": {},
   "source": [
    "Pertumbuhan rata-rata jumlah sms per bulan meningkat dengan konsisten pada kedua paket. Paket ultimate memiliki pemakaian yang lebih tinggi dari paket surf."
   ]
  },
  {
   "cell_type": "code",
   "execution_count": 111,
   "id": "9e12c2b1",
   "metadata": {
    "scrolled": false
   },
   "outputs": [
    {
     "data": {
      "image/png": "[encoded data removed]",
      "text/plain": [
       "<Figure size 1000x500 with 2 Axes>"
      ]
     },
     "metadata": {},
     "output_type": "display_data"
    }
   ],
   "source": [
    "# Bandingkan jumlah SMS yang dibutuhkan pengguna tiap paket per bulannya.\n",
    "hist('message_count')"
   ]
  },
  {
   "cell_type": "markdown",
   "id": "75c98dd2",
   "metadata": {},
   "source": [
    "Jumlah kebutuhan SMS pengguna paket ultimate lebih tinggi dari paket surf, ini ditunjukkan dari rentang penggunaan SMS terbanyak paket ultimate pada 0-75 sedangkan paket surf berada pada 0-50. Namun paket surf memiliki lebih banyak pengguna daripada paket ultimate."
   ]
  },
  {
   "cell_type": "code",
   "execution_count": 112,
   "id": "e3a4fac5",
   "metadata": {},
   "outputs": [
    {
     "name": "stdout",
     "output_type": "stream",
     "text": [
      "Rata-rata paket surf : 31.15956770502225\n",
      "Rata-rata paket ultimate : 37.55138888888889\n",
      "\n",
      "Varians paket surf : 1126.008231726662\n",
      "Varians paket ultimate : 1207.0779147376545\n"
     ]
    }
   ],
   "source": [
    "# Menhitung rata-rata dan varians\n",
    "avgvar('message_count')"
   ]
  },
  {
   "cell_type": "markdown",
   "id": "a6d08cb0",
   "metadata": {},
   "source": [
    "Rata-rata penggunaan SMS paket ultimate lebih tinggi dari paket surf."
   ]
  },
  {
   "cell_type": "code",
   "execution_count": 113,
   "id": "97cd67fe",
   "metadata": {},
   "outputs": [
    {
     "name": "stdout",
     "output_type": "stream",
     "text": [
      "Median paket surf : 24.0\n",
      "Median paket ultimate : 30.0\n"
     ]
    },
    {
     "data": {
      "image/png": "[encoded data removed]",
      "text/plain": [
       "<Figure size 1000x500 with 1 Axes>"
      ]
     },
     "metadata": {},
     "output_type": "display_data"
    }
   ],
   "source": [
    "# Grafik boxplot untuk memvisualisasikan distribusi SMS bulanan\n",
    "box('message_count')"
   ]
  },
  {
   "cell_type": "markdown",
   "id": "6a9ef51f",
   "metadata": {},
   "source": [
    "Nilai median paket ultimate lebih tinggi dari paket surf."
   ]
  },
  {
   "cell_type": "markdown",
   "id": "df27366b",
   "metadata": {},
   "source": [
    "**Kesimpulan penggunaan pesan/SMS :**"
   ]
  },
  {
   "cell_type": "markdown",
   "id": "937f18eb",
   "metadata": {},
   "source": [
    "Rata-rata durasi penggunaan pesan/SMS bulanan kedua paket meningkat setiap bulannya dengan konsisten. Paket ultimate memiliki pemakaian lebih tinggi dari paket surf.\n",
    "\n",
    "Kebutuhan jumlah pesan/SMS pengguna berbeda, paket ultimate memiliki kebutuhan yang lebih tinggi pada rentang 0-75. Namun paket surf memiliki lebih banyak pengguna.\n",
    "\n",
    "Rata-rata kebutuhan pesan/SMS pengguna per bulan :\n",
    "\n",
    "    Surf : 31\n",
    "    Ultimate : 38\n",
    "    \n",
    "Rata-rata kebutuhan paket ultimate lebih tinggi.\n",
    "\n",
    "Median jumlah pesan/SMS paket :\n",
    "\n",
    "    Surf : 24\n",
    "    Ultimate : 30\n",
    "\n",
    "Median jumlah pesan/SMS pengguna paket ultimate lebih tinggi. \n",
    "\n",
    "Perilaku pengguna berbeda, paket ultimate lebih banyak menggunakan pesan/SMS.\n",
    "\n",
    "\n",
    "\n",
    "\n"
   ]
  },
  {
   "cell_type": "markdown",
   "id": "3000e9bb",
   "metadata": {},
   "source": [
    "### Internet"
   ]
  },
  {
   "cell_type": "code",
   "execution_count": 114,
   "id": "4c086bfa",
   "metadata": {},
   "outputs": [
    {
     "name": "stdout",
     "output_type": "stream",
     "text": [
      "plan        surf   ultimate\n",
      "month                      \n",
      "1       5.000000   7.250000\n",
      "2      12.222222  17.285714\n",
      "3      13.565217  18.416667\n",
      "4      12.220000  16.333333\n",
      "5      14.116883  16.862069\n",
      "6      15.484536  15.425532\n",
      "7      16.876033  16.491525\n",
      "8      16.882716  17.845070\n",
      "9      16.690722  17.011628\n",
      "10     17.409283  17.716981\n",
      "11     16.431095  17.118110\n",
      "12     18.238994  18.397351\n"
     ]
    },
    {
     "data": {
      "image/png": "[encoded data removed]",
      "text/plain": [
       "<Figure size 1000x500 with 1 Axes>"
      ]
     },
     "metadata": {},
     "output_type": "display_data"
    }
   ],
   "source": [
    "# Bandingkan pemakaian internet yang digunakan pengguna tiap paket per bulannya\n",
    "bar('gb_used_rndup')"
   ]
  },
  {
   "cell_type": "markdown",
   "id": "9e1cfec9",
   "metadata": {},
   "source": [
    "Pertumbuhan rata-rata pemakaian internet per bulan meningkat pada kedua paket. Paket surf memiliki pertumbuhan yang lebih konsisten."
   ]
  },
  {
   "cell_type": "code",
   "execution_count": 115,
   "id": "3479a9d4",
   "metadata": {
    "scrolled": false
   },
   "outputs": [
    {
     "data": {
      "image/png": "[encoded data removed]",
      "text/plain": [
       "<Figure size 1000x500 with 2 Axes>"
      ]
     },
     "metadata": {},
     "output_type": "display_data"
    }
   ],
   "source": [
    "# Bandingkan jumlah internet yang dibutuhkan pengguna tiap paket per bulannya.\n",
    "hist('gb_used_rndup')"
   ]
  },
  {
   "cell_type": "markdown",
   "id": "81ab8081",
   "metadata": {},
   "source": [
    "Jumlah kebutuhan internet pengguna di kedua paket tidak jauh berbeda berada di rentang 5 - 28 gb. Namun paket surf memiliki lebih banyak pengguna."
   ]
  },
  {
   "cell_type": "code",
   "execution_count": 116,
   "id": "4936e31f",
   "metadata": {},
   "outputs": [
    {
     "name": "stdout",
     "output_type": "stream",
     "text": [
      "Rata-rata paket surf : 16.670692943420217\n",
      "Rata-rata paket ultimate : 17.306944444444444\n",
      "\n",
      "Varians paket surf : 61.54444942447023\n",
      "Varians paket ultimate : 58.748840663580246\n"
     ]
    }
   ],
   "source": [
    "# Menhitung rata-rata dan varians\n",
    "avgvar('gb_used_rndup')"
   ]
  },
  {
   "cell_type": "markdown",
   "id": "c95d0606",
   "metadata": {},
   "source": [
    "Rata-rata penggunaan internet tidak jauh berbeda antara kedua paket."
   ]
  },
  {
   "cell_type": "code",
   "execution_count": 117,
   "id": "a72648aa",
   "metadata": {},
   "outputs": [
    {
     "name": "stdout",
     "output_type": "stream",
     "text": [
      "Median paket surf : 17.0\n",
      "Median paket ultimate : 17.0\n"
     ]
    },
    {
     "data": {
      "image/png": "[encoded data removed]",
      "text/plain": [
       "<Figure size 1000x500 with 1 Axes>"
      ]
     },
     "metadata": {},
     "output_type": "display_data"
    }
   ],
   "source": [
    "# Grafik boxplot untuk memvisualisasikan distribusi penggunaan internet bulanan\n",
    "box('gb_used_rndup')"
   ]
  },
  {
   "cell_type": "markdown",
   "id": "42d5e5a3",
   "metadata": {},
   "source": [
    "Nilai median kedua paket sama."
   ]
  },
  {
   "cell_type": "markdown",
   "id": "4281273d",
   "metadata": {},
   "source": [
    "**Kesimpulan penggunaan Internet :**"
   ]
  },
  {
   "cell_type": "markdown",
   "id": "4caf9a7f",
   "metadata": {},
   "source": [
    "Rata-rata penggunaan internet bulanan kedua paket meningkat setiap bulannya. Paket surf memiliki pertumbuhan yang lebih konsisten.\n",
    "\n",
    "Kebutuhan internet kedua paket tidak jauh berbeda, di rentang 5-28gb. Namun paket surf memiliki lebih banyak pengguna.\n",
    "\n",
    "Rata-rata kebutuhan internet pengguna per bulan :\n",
    "\n",
    "    Surf : 16.7 Gb\n",
    "    Ultimate : 17 Gb\n",
    "    \n",
    "Rata-rata kebutuhan pengguna kedua paket tidak jauh berbeda.\n",
    "\n",
    "Median penggunaan internet paket :\n",
    "\n",
    "    Surf : 17 Gb\n",
    "    Ultimate : 17 Gb\n",
    "\n",
    "Median penggunaan internet kedua paket sama. \n",
    "\n",
    "Perilaku pengguna sama dalam penggunaan internet di kedua paket.\n",
    "\n",
    "\n",
    "\n",
    "\n"
   ]
  },
  {
   "cell_type": "markdown",
   "id": "60d7007c",
   "metadata": {},
   "source": [
    "## Pendapatan"
   ]
  },
  {
   "cell_type": "code",
   "execution_count": 118,
   "id": "d896bdaf",
   "metadata": {},
   "outputs": [
    {
     "name": "stdout",
     "output_type": "stream",
     "text": [
      "plan        surf   ultimate\n",
      "month                      \n",
      "1      20.000000  70.000000\n",
      "2      34.396667  70.000000\n",
      "3      45.941304  74.666667\n",
      "4      40.710600  73.000000\n",
      "5      47.628182  70.724138\n",
      "6      49.276289  71.638298\n",
      "7      62.674050  71.898305\n",
      "8      63.931173  73.748310\n",
      "9      58.271495  72.029884\n",
      "10     67.601139  72.813774\n",
      "11     60.808127  72.343071\n",
      "12     75.528648  75.516556\n"
     ]
    },
    {
     "data": {
      "image/png": "[encoded data removed]",
      "text/plain": [
       "<Figure size 1000x500 with 1 Axes>"
      ]
     },
     "metadata": {},
     "output_type": "display_data"
    }
   ],
   "source": [
    "# Bandingkan rata-rata pendapatan dari pengguna tiap paket per bulannya\n",
    "bar('total_revenue')"
   ]
  },
  {
   "cell_type": "markdown",
   "id": "9229f6d9",
   "metadata": {},
   "source": [
    "Pertumbuhan rata-rata pendapatan paket surf terus meningkat tiap bulannya sedangkan paket ultimate cenderung\n",
    "lebih stabil."
   ]
  },
  {
   "cell_type": "code",
   "execution_count": 119,
   "id": "4b0b26d6",
   "metadata": {
    "scrolled": false
   },
   "outputs": [
    {
     "data": {
      "image/png": "[encoded data removed]",
      "text/plain": [
       "<Figure size 1000x500 with 2 Axes>"
      ]
     },
     "metadata": {},
     "output_type": "display_data"
    }
   ],
   "source": [
    "# Bandingkan jumlah pendapatan yang didapat dari pengguna tiap paket per bulannya.\n",
    "hist('total_revenue')"
   ]
  },
  {
   "cell_type": "markdown",
   "id": "daccd241",
   "metadata": {},
   "source": [
    "Rentang pendapatan yang diperoleh dari paket surf sangat bervariasi dari rentang 20 - 120 USD sedangkan paket ultimate cenderung lebih stabil di rentang 70 - 75 usd. Namun paket surf memiliki pengguna yang lebih tinggi."
   ]
  },
  {
   "cell_type": "code",
   "execution_count": 120,
   "id": "c5494a15",
   "metadata": {},
   "outputs": [
    {
     "name": "stdout",
     "output_type": "stream",
     "text": [
      "Rata-rata paket surf : 62.544361093452004\n",
      "Rata-rata paket ultimate : 73.05351388888889\n",
      "\n",
      "Varians paket surf : 3350.59068841888\n",
      "Varians paket ultimate : 183.52414362480707\n"
     ]
    }
   ],
   "source": [
    "# Menghitung rata-rata dan varians\n",
    "avgvar('total_revenue')"
   ]
  },
  {
   "cell_type": "markdown",
   "id": "580b7df2",
   "metadata": {},
   "source": [
    "Rata-rata pendapatan dari kedua paket berbeda."
   ]
  },
  {
   "cell_type": "code",
   "execution_count": 121,
   "id": "1bee9c09",
   "metadata": {},
   "outputs": [
    {
     "name": "stdout",
     "output_type": "stream",
     "text": [
      "Median paket surf : 41.47\n",
      "Median paket ultimate : 70.0\n"
     ]
    },
    {
     "data": {
      "image/png": "[encoded data removed]",
      "text/plain": [
       "<Figure size 1000x500 with 1 Axes>"
      ]
     },
     "metadata": {},
     "output_type": "display_data"
    }
   ],
   "source": [
    "# Grafik boxplot untuk memvisualisasikan distribusi pendapatan bulanan\n",
    "box('total_revenue')"
   ]
  },
  {
   "cell_type": "markdown",
   "id": "4157e5e4",
   "metadata": {},
   "source": [
    "Nilai median kedua paket berbeda jauh. Median paket ultimate lebih tinggi."
   ]
  },
  {
   "cell_type": "markdown",
   "id": "8e16c2ee",
   "metadata": {},
   "source": [
    "**Kesimpulan pendapatan dari kedua paket :**"
   ]
  },
  {
   "cell_type": "markdown",
   "id": "bd4bacc5",
   "metadata": {},
   "source": [
    "Pertumbuhan rata-rata pendapatan paket surf terus meningkat tiap bulannya sedangkan paket ultimate cenderung lebih stabil.\n",
    "\n",
    "Rentang pendapatan yang diperoleh dari paket surf 20 - 120 USD sedangkan paket ultimate cenderung lebih stabil di rentang 70 - 75 usd. Namun paket surf memiliki pengguna yang lebih tinggi.\n",
    "\n",
    "Rata-rata pendapatan dari pengguna per bulan :\n",
    "\n",
    "    Surf : 63 USD\n",
    "    Ultimate : 73 USD\n",
    "    \n",
    "Rata-rata pendapatan dari pengguna paket ultimate lebih tinggi dari paket surf.\n",
    "\n",
    "Median pendapatan dari pengguna paket :\n",
    "\n",
    "    Surf : 41 USD\n",
    "    Ultimate : 70 USD\n",
    "\n",
    "Median pendapatan dari paket ultimate lebih tinggi. \n",
    "\n",
    "Pendapatan rata-rata pengguna kedua paket berbeda. \n",
    "\n",
    "\n",
    "\n",
    "\n",
    "\n"
   ]
  },
  {
   "cell_type": "markdown",
   "id": "d82aef92",
   "metadata": {},
   "source": [
    "## Menguji Hipotesis Statistik"
   ]
  },
  {
   "cell_type": "markdown",
   "id": "3048626d",
   "metadata": {},
   "source": [
    "1. Pengujian hipotesis pendapatan rata-rata dari pengguna paket Ultimate dan Surf berbeda.\n",
    "\n",
    "   H0 = Pendapatan rata-rata pengguna paket surf sama dengan paket ultimate.\n",
    "   \n",
    "   H1 = Pendapatan rata-rata pengguna paket surf berbeda dengan paket ultimate."
   ]
  },
  {
   "cell_type": "code",
   "execution_count": 122,
   "id": "3302b4ba",
   "metadata": {},
   "outputs": [
    {
     "name": "stdout",
     "output_type": "stream",
     "text": [
      "p-value: 0.0009551062946880569\n",
      "Kita menolak hipotesis nol\n"
     ]
    }
   ],
   "source": [
    "# Uji hipotesisnya\n",
    "\n",
    "revenue = df.pivot_table(index='month', columns='plan', values='total_revenue')\n",
    "result = st.ttest_ind(revenue['surf'], revenue['ultimate'], equal_var=False)\n",
    "\n",
    "alpha = 0.05\n",
    "\n",
    "print('p-value:', result.pvalue)\n",
    "\n",
    "if result.pvalue < alpha : \n",
    "    print(\"Kita menolak hipotesis nol\")\n",
    "else:\n",
    "    print(\"Kita tidak dapat menolak hipotesis nol\")\n"
   ]
  },
  {
   "cell_type": "markdown",
   "id": "ae70b3f8",
   "metadata": {},
   "source": [
    "Pendapatan rata-rata dari pengguna paket Ultimate dan Surf berbeda."
   ]
  },
  {
   "cell_type": "markdown",
   "id": "dc231a02",
   "metadata": {},
   "source": [
    "2. Pengujian hipotesis bahwa pendapatan pengguna pada area MSA (Metropolitan Statistical Area) NY-NJ-PA berbeda dengan wilayah lain.\n",
    "\n",
    "   H0 = Pendapatan pengguna wilayah NY-NJ-PA sama dengan wilayah lain.\n",
    "   \n",
    "   H1 = Pendapatan pengguna wilayah NY-NJ-PA berbeda dengan wilayah lain."
   ]
  },
  {
   "cell_type": "code",
   "execution_count": 123,
   "id": "3430435b",
   "metadata": {},
   "outputs": [
    {
     "name": "stdout",
     "output_type": "stream",
     "text": [
      "p-value: 0.13970140402664824\n",
      "Kita tidak dapat menolak hipotesis nol\n"
     ]
    }
   ],
   "source": [
    "# Uji hipotesisnya\n",
    "\n",
    "revenue1 = df.query('msa == \"NY-NJ-PA\"').pivot_table(index='month', values='total_revenue')\n",
    "revenue2 = df.query('msa != \"NY-NJ-PA\"').pivot_table(index='month', values='total_revenue')\n",
    "\n",
    "alpha = 0.05\n",
    "\n",
    "result = st.ttest_ind(revenue1['total_revenue'], revenue2['total_revenue'], equal_var=False)\n",
    "\n",
    "print('p-value:', result.pvalue)\n",
    "\n",
    "if result.pvalue < alpha : \n",
    "    print(\"Kita menolak hipotesis nol\")\n",
    "else:\n",
    "    print(\"Kita tidak dapat menolak hipotesis nol\")\n",
    "\n"
   ]
  },
  {
   "cell_type": "markdown",
   "id": "6285c412",
   "metadata": {},
   "source": [
    "Pendapatan pengguna pada area NY-NJ-PA sama dengan wilayah lain."
   ]
  },
  {
   "cell_type": "markdown",
   "id": "e8f72a9a",
   "metadata": {},
   "source": [
    "## Kesimpulan Umum\n",
    "\n"
   ]
  },
  {
   "cell_type": "markdown",
   "id": "13a32871",
   "metadata": {},
   "source": [
    "Pada data sampel Megaline periode tahun 2018, terdapat  4 data yaitu :\n",
    "\n",
    "1. **plans** yang berisi tentang informasi paket.\n",
    "2. **users** yang berisi informasi tarkait pengguna paket.\n",
    "3. **calls** yang berisi informasi penggunaan panggilan.\n",
    "4. **messages** yang berisi informasi penggunaan pesan/SMS.\n",
    "5. **internet** yang berisi informasi penggunaan internet.\n",
    "\n",
    "Perbaikan yang dilakukan pada data :\n",
    "\n",
    "1. Data **users** :\n",
    " \n",
    "   a. Nilai yang hilang pada kolom `churn_date` diganti dengan tanggal `2018-12-31`.\n",
    "   Kemungkinan nilai yang hilang pada kolom churn_date karena paket masih aktif pada saat data dibuat.     Nilai ini diganti dengan tanggal akhir periode data. \n",
    "   \n",
    "   b. Perubahan tipe data kolom `churn_date` menjadi datetime.\n",
    "   \n",
    "   c. Perubahan tipe data kolom `reg_date` menjadi datetime.\n",
    "\n",
    "\n",
    "2. Data **calls** :\n",
    "\n",
    "   a. Perubahan tipe data kolom `call_date` menjadi datetime.\n",
    "\n",
    "   b. Filter data **calls** dengan duration lebih dari 0 ke data baru **calls_filtered**. Data ini di filter          karena mempengaruhi nilai rata - rata duration dari 6.75 menit menjadi 8.38 menit. Data durasi 0        ini berasal dari data panggilan yang tidak terjawab.\n",
    "\n",
    "\n",
    "3. Data **messages** :\n",
    "\n",
    "   a. Perubahan tipe data kolom `message_date` menjadi datetime.\n",
    "\n",
    "4. Data **internet** :\n",
    "\n",
    "   a. Perubahan tipe data kolom `session_date` menjadi datetime.\n",
    "\n",
    "Setelah melakukan perbaikan pada data juga dilakukan penambahan informasi untuk mempermudah analisa :\n",
    "\n",
    "1. Data **plans** :\n",
    "\n",
    "   a. Menambah kolom `gb_per_month_included`. Kuota internet tiap paket dalam gigabita.\n",
    "\n",
    "2. Data **users** :\n",
    "\n",
    "   a. Menambah kolom `msa`. Informasi kode area MSA.\n",
    "\n",
    "3. Data **calls_filtered** :\n",
    "\n",
    "   a. Menambah informasi bulan pemakaian panggilan, kolom `month`.\n",
    "\n",
    "   b. Menambah informasi pembulatan pemakaian, kolom `duration_rndup`. Karena Megaline membulatkan keatas       setiap menit durasi panggilan.\n",
    "   \n",
    "   c. Menambah informasi dari data users ke `calls_filtered`.\n",
    "   \n",
    "   d. Menambah informasi status paket kolom `plan_status`, karena terdapat pemakaian diatas batas bulan       aktif paket churn_date.\n",
    "\n",
    "4. Data **messages** :\n",
    "\n",
    "   a. Menambah informasi bulan pemakaian pesan/SMS kolom `month`.\n",
    "\n",
    "   b. Menambah informasi dari data users ke messages.\n",
    "   \n",
    "   c. Menambah informasi status paket kolom `plan_status`, karena terdapat pemakaian diatas batas bulan    aktif paket churn_date.\n",
    "\n",
    "5. Data **internet** :\n",
    "\n",
    "   a. Menambah informasi bulan pemakaian, kolom `month`.\n",
    "   \n",
    "   b. Menambah informasi dari data users ke internet.\n",
    "   \n",
    "   c. Menambah informasi status paket kolom `plan_status`, karena terdapat pemakaian diatas batas bulan    aktif paket churn_date.\n",
    "\n",
    "Informasi mengenai syarat dan kondisi paket prabayar Megaline :\n",
    "\n",
    "1. **Surf**\n",
    "\n",
    "       Biaya bulanan: $20\n",
    "500 menit durasi panggilan per bulan, 50 SMS, dan 15 GB data \n",
    "Setelah melebihi batas paket, akan dikenakan:\n",
    "1 menit: 3 sen\n",
    "1 SMS: 3 sen\n",
    "1 GB data: $10\n",
    "\n",
    "2. **Ultimate**\n",
    "\n",
    "       Biaya bulanan: $70\n",
    "3000 menit durasi panggilan per bulan, 1000 SMS, dan 30 GB data\n",
    "Setelah melebihi batas paket, akan dikenakan:\n",
    "1 menit: 1 sen\n",
    "1 SMS: 1 sen\n",
    "1 GB data: $7\n",
    "\n",
    "**Catatan :** Megaline membulatkan detik ke menit, serta membulatkan megabita ke gigabita. Untuk panggilan, setiap panggilan individual dibulatkan ke atas: bahkan jika panggilan tersebut berlangsung hanya satu detik, ia akan dihitung sebagai satu menit. Untuk lalu lintas web, setiap sesi web tidak dibulatkan ke atas. Akan tetapi, total untuk sebulan dibulatkan ke atas. Jika seorang pengguna menghabiskan 1025 megabita bulan ini, maka ia akan dikenai biaya untuk 2 gigabita.\n",
    "\n",
    "Informasi yang didapatkan dari data **calls_filtered, messages dan internet** terdapat pemakaian diatas `churn_date`. Pemakaian dibawah `churn_date` akan dilabeli *active* pada kolom `plan_status`, sebaliknya akan dilabeli *nonactive*.\n",
    "\n",
    "Untuk menghitung pendapatan tahun 2018 atas kedua paket ini akan mengikuti syarat dan kondisi dari paket Megaline serta untuk data penggunaan dengan plan_status *nonactive* akan dihitung sebagai kelebihan pemakaian.\n",
    "\n",
    "untuk mendapatkan nilai pendapatan tahun 2018 dilakukan :\n",
    "\n",
    "1. Agregasi data jumlah panggilan dari **calls_filtered** menjadi data **call_count**.\n",
    "2. Agregasi data durasi panggilan dari **calls_filtered** menjadi data **call_duration**.\n",
    "3. Agregasi data jumlah pesan dari **messages** menjadi data **message_count**.\n",
    "4. Agregasi data pemakaian internet dari **internet** menjadi data **internet_usage**.\n",
    "5. Menggabungkan data dari **call_count**, **call_duration**, **message_count** dan **internet_usage** dalam satu data frame **df**.\n",
    "6. Menambahkan informasi dari data **users** ke **df**.\n",
    "7. Menambahkan informasi dari data **plans** ke **df**.\n",
    "8. Menghitung kelebihan durasi panggilan dalam menit dengan menambah kolom `over_minutes`.\n",
    "9. Menghitung kelebihan pesan/sms dengan menambah kolom `over_messages`.\n",
    "10. Menghitung kelebihan gb internet dengan menambah kolom `over_gb`.\n",
    "11. Menghitung pendapatan biaya bulanan dengan menambah kolom `subs_revenue`.\n",
    "12. Menghitung pendapatan biaya kelebihan durasi panggilan dengan menambah kolom `over_minutes_revenue`.\n",
    "13. Menghitung pendapatan biaya kelebihan pesan sms dengan menambah kolom `over_messages_revenue`.\n",
    "14. Menghitung pendapatan biaya kelebihan gn internet dengan menambah kolom `over_gb_revenue`.\n",
    "15. Menghitung total pendapatan dengan menambah kolom `total_revenue`.\n",
    "\n",
    "Setelah menggabungkan data menjadi satu data frame **df**, diketahui perilaku pengguna yaitu :\n",
    "\n",
    "1. Durasi panggilan.\n",
    "\n",
    "Rata-rata durasi panggilan bulanan kedua paket meningkat setiap bulannya. Paket surf memiliki pertumbuhan yang paling konsisten.\n",
    "\n",
    "Kebutuhan durasi panggilan pengguna antara 2 paket tidak jauh berbeda, di rentang 0 - 750 menit. Namun paket surf memiliki lebih banyak pengguna.\n",
    "\n",
    "Rata-rata kebutuhan durasi panggilan pengguna per bulan :\n",
    "\n",
    "    Surf : 429 Menit.\n",
    "    Ultimate : 430 Menit\n",
    "    \n",
    "Rata-rata kebutuhan durasi panggilan pengguna tidak jauh berbeda. Paket ultimate lebih tinggi 1 menit.\n",
    "\n",
    "Median durasi panggilan paket :\n",
    "\n",
    "    Surf : 425 Menit\n",
    "    Ultimate : 424 Menit\n",
    "\n",
    "Median durasi panggilan pengguna tidak jauh berbeda. Paket surf lebih tinggi 1 menit. \n",
    "\n",
    "Perilaku pengguna kedua paket pada durasi panggilan tidak jauh berbeda.\n",
    "\n",
    "2. Pesan / SMS.\n",
    "\n",
    "Rata-rata durasi penggunaan pesan/SMS bulanan kedua paket meningkat setiap bulannya dengan konsisten. Paket ultimate memiliki pemakaian lebih tinggi dari paket surf.\n",
    "\n",
    "Kebutuhan jumlah pesan/SMS pengguna berbeda, paket ultimate memiliki kebutuhan yang lebih tinggi pada rentang 0-75. Namun paket surf memiliki lebih banyak pengguna.\n",
    "\n",
    "Rata-rata kebutuhan pesan/SMS pengguna per bulan :\n",
    "\n",
    "    Surf : 31\n",
    "    Ultimate : 38\n",
    "    \n",
    "Rata-rata kebutuhan paket ultimate lebih tinggi.\n",
    "\n",
    "Median jumlah pesan/SMS paket :\n",
    "\n",
    "    Surf : 24\n",
    "    Ultimate : 30\n",
    "\n",
    "Median jumlah pesan/SMS pengguna paket ultimate lebih tinggi. \n",
    "\n",
    "Perilaku pengguna berbeda, paket ultimate lebih banyak menggunakan pesan/SMS.\n",
    "\n",
    "3. Internet.\n",
    "\n",
    "Rata-rata penggunaan internet bulanan kedua paket meningkat setiap bulannya. Paket surf memiliki pertumbuhan yang lebih konsisten.\n",
    "\n",
    "Kebutuhan internet kedua paket tidak jauh berbeda, di rentang 5-28gb. Namun paket surf memiliki lebih banyak pengguna.\n",
    "\n",
    "Rata-rata kebutuhan internet pengguna per bulan :\n",
    "\n",
    "Surf : 16.7 Gb\n",
    "Ultimate : 17 Gb\n",
    "\n",
    "Rata-rata kebutuhan pengguna kedua paket tidak jauh berbeda.\n",
    "\n",
    "Median penggunaan internet paket :\n",
    "\n",
    "Surf : 17 Gb\n",
    "Ultimate : 17 Gb\n",
    "\n",
    "Median penggunaan internet kedua paket sama.\n",
    "\n",
    "Perilaku pengguna sama dalam penggunaan internet di kedua paket.\n",
    "\n",
    "4. Pendapatan.\n",
    "\n",
    "Pertumbuhan rata-rata pendapatan paket surf terus meningkat tiap bulannya sedangkan paket ultimate cenderung lebih stabil.\n",
    "\n",
    "Rentang pendapatan yang diperoleh dari paket surf 20 - 120 USD sedangkan paket ultimate cenderung lebih stabil di rentang 70 - 75 usd. Namun paket surf memiliki pengguna yang lebih tinggi.\n",
    "\n",
    "Rata-rata pendapatan dari pengguna per bulan :\n",
    "\n",
    "Surf : 63 USD\n",
    "Ultimate : 73 USD\n",
    "\n",
    "Rata-rata pendapatan dari pengguna paket ultimate lebih tinggi dari paket surf.\n",
    "\n",
    "Median pendapatan dari pengguna paket :\n",
    "\n",
    "Surf : 41 USD\n",
    "Ultimate : 70 USD\n",
    "\n",
    "Median pendapatan dari paket ultimate lebih tinggi.\n",
    "\n",
    "Pendapatan rata-rata pengguna kedua paket berbeda.\n",
    "\n",
    "Setelah dilakukan pengujian hipotesis statistik didapatkan :\n",
    "\n",
    "1. Pendapatan rata-rata dari pengguna paket ultimate dan surf berbeda.\n",
    "\n",
    "2. Pendapatan rata-rata pengguna wilayah NY-NJ-PA sama dengan wilayah lainnya.\n"
   ]
  },
  {
   "cell_type": "markdown",
   "id": "2e5e44f8",
   "metadata": {},
   "source": [
    "**Paket prabayar manakah yang lebih menguntungkan ?**"
   ]
  },
  {
   "cell_type": "markdown",
   "id": "d441238d",
   "metadata": {},
   "source": [
    "Jika dilihat dari pertumbuhan total pendapatan dalam tahun 2018 :"
   ]
  },
  {
   "cell_type": "code",
   "execution_count": 124,
   "id": "69c7d6ff",
   "metadata": {},
   "outputs": [
    {
     "name": "stdout",
     "output_type": "stream",
     "text": [
      "plan       surf  ultimate\n",
      "month                    \n",
      "1         40.00    280.00\n",
      "2        309.57    490.00\n",
      "3       1056.65    896.00\n",
      "4       2035.53   1533.00\n",
      "5       3667.37   2051.00\n",
      "6       4779.80   3367.00\n",
      "7       7583.56   4242.00\n",
      "8      10356.85   5236.13\n",
      "9      11304.67   6194.57\n",
      "10     16021.47   7718.26\n",
      "11     17208.70   9187.57\n",
      "12     24018.11  11403.00\n"
     ]
    },
    {
     "data": {
      "text/plain": [
       "Text(0, 0.5, 'total_revenue')"
      ]
     },
     "execution_count": 124,
     "metadata": {},
     "output_type": "execute_result"
    },
    {
     "data": {
      "image/png": "[encoded data removed]",
      "text/plain": [
       "<Figure size 1000x500 with 1 Axes>"
      ]
     },
     "metadata": {},
     "output_type": "display_data"
    }
   ],
   "source": [
    "table=df.pivot_table(index='month', columns='plan', values='total_revenue', aggfunc='sum')\n",
    "print(table)\n",
    "table.plot(kind='bar', figsize=(10,5), width=0.8, rot=0)\n",
    "plt.ylabel('total_revenue')"
   ]
  },
  {
   "cell_type": "markdown",
   "id": "508589d7",
   "metadata": {},
   "source": [
    "Jelas paket Surf memiliki pertumbuhan yang pesat dan total pendapatan yang lebih tinggi dari paket ultimate di tahun 2018.\n",
    "\n",
    "Jika dilihat dari komponen pendapatan kedua paketnya :"
   ]
  },
  {
   "cell_type": "code",
   "execution_count": 125,
   "id": "0f194c4e",
   "metadata": {},
   "outputs": [
    {
     "data": {
      "text/html": [
       "<div>\n",
       "<style scoped>\n",
       "    .dataframe tbody tr th:only-of-type {\n",
       "        vertical-align: middle;\n",
       "    }\n",
       "\n",
       "    .dataframe tbody tr th {\n",
       "        vertical-align: top;\n",
       "    }\n",
       "\n",
       "    .dataframe thead th {\n",
       "        text-align: right;\n",
       "    }\n",
       "</style>\n",
       "<table border=\"1\" class=\"dataframe\">\n",
       "  <thead>\n",
       "    <tr style=\"text-align: right;\">\n",
       "      <th></th>\n",
       "      <th>over_gb_revenue</th>\n",
       "      <th>over_messages_revenue</th>\n",
       "      <th>over_minutes_revenue</th>\n",
       "      <th>subs_revenue</th>\n",
       "      <th>total_revenue</th>\n",
       "    </tr>\n",
       "    <tr>\n",
       "      <th>plan</th>\n",
       "      <th></th>\n",
       "      <th></th>\n",
       "      <th></th>\n",
       "      <th></th>\n",
       "      <th></th>\n",
       "    </tr>\n",
       "  </thead>\n",
       "  <tbody>\n",
       "    <tr>\n",
       "      <th>surf</th>\n",
       "      <td>63880.0</td>\n",
       "      <td>352.80</td>\n",
       "      <td>3189.48</td>\n",
       "      <td>30960</td>\n",
       "      <td>98382.28</td>\n",
       "    </tr>\n",
       "    <tr>\n",
       "      <th>ultimate</th>\n",
       "      <td>2982.0</td>\n",
       "      <td>2.76</td>\n",
       "      <td>53.77</td>\n",
       "      <td>49560</td>\n",
       "      <td>52598.53</td>\n",
       "    </tr>\n",
       "  </tbody>\n",
       "</table>\n",
       "</div>"
      ],
      "text/plain": [
       "          over_gb_revenue  over_messages_revenue  over_minutes_revenue  \\\n",
       "plan                                                                     \n",
       "surf              63880.0                 352.80               3189.48   \n",
       "ultimate           2982.0                   2.76                 53.77   \n",
       "\n",
       "          subs_revenue  total_revenue  \n",
       "plan                                   \n",
       "surf             30960       98382.28  \n",
       "ultimate         49560       52598.53  "
      ]
     },
     "execution_count": 125,
     "metadata": {},
     "output_type": "execute_result"
    }
   ],
   "source": [
    "df.pivot_table(index='plan', values=['subs_revenue', 'over_minutes_revenue', 'over_gb_revenue', 'over_messages_revenue', 'total_revenue'],\n",
    "              aggfunc='sum')"
   ]
  },
  {
   "cell_type": "markdown",
   "id": "06d7fa3b",
   "metadata": {},
   "source": [
    "Walaupun pendapatan biaya bulanan paket Surf lebih rendah dari paket Ultimate, Paket Surf memperoleh pendapatan terbesar dari biaya kelebihan penggunaan internet dan panggilan. Hal ini diketahui dari perilaku pengguna paket Surf yang memiliki kebutuhan yang sama di kedua penggunaan ini dengan pengguna paket Ultimate, sedangkan kuota pada paket Surf lebih kecil dari paket Ultimate."
   ]
  },
  {
   "cell_type": "code",
   "execution_count": 126,
   "id": "94c139d0",
   "metadata": {},
   "outputs": [
    {
     "name": "stdout",
     "output_type": "stream",
     "text": [
      "Total jumlah pengguna paket Surf : 333\n",
      "\n",
      "Total jumlah pengguna paket Ultimate : 157\n"
     ]
    }
   ],
   "source": [
    "usersurf = len(df.query('plan == \"surf\"')['user_id'].unique())\n",
    "usersulti = len(df.query('plan == \"ultimate\"')['user_id'].unique())\n",
    "\n",
    "print('Total jumlah pengguna paket Surf :', usersurf)\n",
    "print()\n",
    "print('Total jumlah pengguna paket Ultimate :', usersulti)"
   ]
  },
  {
   "cell_type": "markdown",
   "id": "9b049d85",
   "metadata": {},
   "source": [
    "Dan di tahun 2018, paket Surf memiliki lebih banyak pengguna dari paket Ultimate."
   ]
  },
  {
   "cell_type": "code",
   "execution_count": null,
   "id": "adab657e",
   "metadata": {},
   "outputs": [],
   "source": []
  },
  {
   "cell_type": "code",
   "execution_count": null,
   "id": "1ba0625f",
   "metadata": {},
   "outputs": [],
   "source": []
  }
 ],
 "metadata": {
  "kernelspec": {
   "display_name": "Python 3 (ipykernel)",
   "language": "python",
   "name": "python3"
  },
  "language_info": {
   "codemirror_mode": {
    "name": "ipython",
    "version": 3
   },
   "file_extension": ".py",
   "mimetype": "text/x-python",
   "name": "python",
   "nbconvert_exporter": "python",
   "pygments_lexer": "ipython3",
   "version": "3.10.11"
  },
  "toc": {
   "base_numbering": 1,
   "nav_menu": {},
   "number_sections": true,
   "sideBar": true,
   "skip_h1_title": false,
   "title_cell": "Table of Contents",
   "title_sidebar": "Contents",
   "toc_cell": false,
   "toc_position": {
    "height": "calc(100% - 180px)",
    "left": "10px",
    "top": "150px",
    "width": "384px"
   },
   "toc_section_display": true,
   "toc_window_display": true
  }
 },
 "nbformat": 4,
 "nbformat_minor": 5
}
