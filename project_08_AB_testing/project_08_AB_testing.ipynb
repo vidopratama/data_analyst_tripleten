{
 "cells": [
  {
   "cell_type": "markdown",
   "id": "ec88fc80",
   "metadata": {},
   "source": [
    "# Pendahuluan"
   ]
  },
  {
   "cell_type": "markdown",
   "id": "ebe4ca67",
   "metadata": {},
   "source": [
    "Dari data yang diberikan :\n",
    "\n",
    "1. Data hypothesis, berisi daftar hipotesis dan skornya berdasarkan parameter reach, impact, confidence dan effort.\n",
    "\n",
    "2. Data orders, berisi data penjualan yang dihasilkan tiap kelompok.\n",
    "\n",
    "3. Data visits, berisi data jumlah kunjungan tiap kelompok.\n",
    "\n",
    "Akan digunakan untuk :\n",
    "\n",
    " 1. Menentukan prioritas hipotesis berdasarkan framework ICE dan RICE.\n",
    "\n",
    " 2. Melakukan pengujian A/B testing.\n",
    "\n",
    " 3. Membuat keputusan atas kesimpulan dari pengujian A/B testing.\n",
    "\n"
   ]
  },
  {
   "cell_type": "markdown",
   "id": "028d1908",
   "metadata": {},
   "source": [
    "# Inisialisasi"
   ]
  },
  {
   "cell_type": "code",
   "execution_count": 1,
   "id": "c8609292",
   "metadata": {},
   "outputs": [],
   "source": [
    "# Memuat library\n",
    "import pandas as pd\n",
    "import numpy as np\n",
    "import scipy.stats as stats\n",
    "import datetime as dt\n",
    "import matplotlib.pyplot as plt\n"
   ]
  },
  {
   "cell_type": "code",
   "execution_count": 2,
   "id": "5cdee370",
   "metadata": {},
   "outputs": [],
   "source": [
    "# Menampilkan semua kolom\n",
    "pd.set_option('display.max_columns', None)\n",
    "\n",
    "# Lebar kolom max\n",
    "pd.set_option('display.max_colwidth', None)"
   ]
  },
  {
   "cell_type": "markdown",
   "id": "1354fe96",
   "metadata": {},
   "source": [
    "# Memuat data"
   ]
  },
  {
   "cell_type": "code",
   "execution_count": 3,
   "id": "b0db1dbf",
   "metadata": {},
   "outputs": [],
   "source": [
    "try :\n",
    "    hypothesis = pd.read_csv(r'C:\\Users\\vidop\\Documents\\Practicum\\Sprint 8\\File\\hypotheses_us.csv', sep=';')\n",
    "    orders = pd.read_csv(r'C:\\Users\\vidop\\Documents\\Practicum\\Sprint 8\\File\\orders_us.csv')\n",
    "    visits = pd.read_csv(r'C:\\Users\\vidop\\Documents\\Practicum\\Sprint 8\\File\\visits_us.csv')\n",
    "\n",
    "except :\n",
    "    hypothesis = pd.read_csv('/datasets/hypotheses_us.csv', sep=';')\n",
    "    orders = pd.read_csv('/datasets/orders_us.csv')\n",
    "    visits = pd.read_csv('/datasets/visits_us.csv')\n",
    "    "
   ]
  },
  {
   "cell_type": "markdown",
   "id": "7196ce87",
   "metadata": {},
   "source": [
    "# Memeriksa, optimalisasi dan memperbaiki data"
   ]
  },
  {
   "cell_type": "code",
   "execution_count": 4,
   "id": "36181e43",
   "metadata": {},
   "outputs": [],
   "source": [
    "# Fungsi untuk memeriksa data\n",
    "\n",
    "def check(file) :\n",
    "    na = file.isna().sum().sum()\n",
    "    dup = file.duplicated().sum()\n",
    "    print('Data memiliki baris dan kolom :', file.shape)\n",
    "    print()\n",
    "    if na > 0 :\n",
    "        print('Data memiliki nilai yang hilang pada kolom :')\n",
    "        print(file.isna().sum())\n",
    "    else :\n",
    "        print('Tidak terdapat nilai yang hilang pada data')\n",
    "    print()\n",
    "    if dup > 0 :\n",
    "        print('Data memiliki duplikat eksplisit sebesar', dup, 'baris')\n",
    "    else : \n",
    "        print('Tidak terdapat duplikat eksplisit dalam data')\n",
    "    print()\n",
    "    print(file.info(memory_usage='deep'))\n",
    "    print()\n",
    "    print(file.describe())\n",
    "    print()\n",
    "    print(file.head())"
   ]
  },
  {
   "cell_type": "markdown",
   "id": "a3918baa",
   "metadata": {},
   "source": [
    "Membuat fungsi untuk memeriksa data yang akan digunakan secara berulang."
   ]
  },
  {
   "cell_type": "markdown",
   "id": "9c721eed",
   "metadata": {},
   "source": [
    "## hypothesis"
   ]
  },
  {
   "cell_type": "markdown",
   "id": "d5ff807d",
   "metadata": {},
   "source": [
    "### Memeriksa data"
   ]
  },
  {
   "cell_type": "code",
   "execution_count": 5,
   "id": "2f4772ba",
   "metadata": {},
   "outputs": [
    {
     "name": "stdout",
     "output_type": "stream",
     "text": [
      "Data memiliki baris dan kolom : (9, 5)\n",
      "\n",
      "Tidak terdapat nilai yang hilang pada data\n",
      "\n",
      "Tidak terdapat duplikat eksplisit dalam data\n",
      "\n",
      "<class 'pandas.core.frame.DataFrame'>\n",
      "RangeIndex: 9 entries, 0 to 8\n",
      "Data columns (total 5 columns):\n",
      " #   Column      Non-Null Count  Dtype \n",
      "---  ------      --------------  ----- \n",
      " 0   Hypothesis  9 non-null      object\n",
      " 1   Reach       9 non-null      int64 \n",
      " 2   Impact      9 non-null      int64 \n",
      " 3   Confidence  9 non-null      int64 \n",
      " 4   Effort      9 non-null      int64 \n",
      "dtypes: int64(4), object(1)\n",
      "memory usage: 1.6 KB\n",
      "None\n",
      "\n",
      "           Reach     Impact  Confidence     Effort\n",
      "count   9.000000   9.000000    9.000000   9.000000\n",
      "mean    4.777778   4.777778    5.555556   4.888889\n",
      "std     3.153481   3.192874    3.045944   2.803767\n",
      "min     1.000000   1.000000    1.000000   1.000000\n",
      "25%     3.000000   3.000000    3.000000   3.000000\n",
      "50%     3.000000   3.000000    7.000000   5.000000\n",
      "75%     8.000000   7.000000    8.000000   6.000000\n",
      "max    10.000000  10.000000    9.000000  10.000000\n",
      "\n",
      "                                                                                                               Hypothesis  \\\n",
      "0                                             Add two new channels for attracting traffic. This will bring 30% more users   \n",
      "1                                                       Launch your own delivery service. This will shorten delivery time   \n",
      "2          Add product recommendation blocks to the store's site. This will increase conversion and average purchase size   \n",
      "3  Change the category structure. This will increase conversion since users will find the products they want more quickly   \n",
      "4                                        Change the background color on the main page. This will increase user engagement   \n",
      "\n",
      "   Reach  Impact  Confidence  Effort  \n",
      "0      3      10           8       6  \n",
      "1      2       5           4      10  \n",
      "2      8       3           7       3  \n",
      "3      8       3           3       8  \n",
      "4      3       1           1       1  \n"
     ]
    }
   ],
   "source": [
    "check(hypothesis)"
   ]
  },
  {
   "cell_type": "markdown",
   "id": "639d3ece",
   "metadata": {},
   "source": [
    "**Informasi yang terdapat pada data :**\n",
    "\n",
    "`Hypothesis` — Deskripsi singkat tentang hipotesis.\n",
    "\n",
    "`Reach` — Jangkauan pengguna, dalam skala satu hingga sepuluh.\n",
    "\n",
    "`Impact` — Dampak terhadap pengguna, dalam skala satu hingga sepuluh.\n",
    "\n",
    "`Confidence` — Keyakinan pada hipotesis, dalam skala satu sampai sepuluh.\n",
    "\n",
    "`Effort` — Sumber daya yang diperlukan untuk menguji hipotesis, dalam skala satu sampai sepuluh."
   ]
  },
  {
   "cell_type": "markdown",
   "id": "57995657",
   "metadata": {},
   "source": [
    "**Masalah yang terdapat pada data :**\n",
    "\n",
    " 1. Nama kolom tidak ditulis dengan gaya snake_case."
   ]
  },
  {
   "cell_type": "markdown",
   "id": "efc67f4e",
   "metadata": {},
   "source": [
    "### Memperbaiki data"
   ]
  },
  {
   "cell_type": "markdown",
   "id": "05fbfe71",
   "metadata": {},
   "source": [
    "**1. Merubah nama kolom menjadi lowercase**"
   ]
  },
  {
   "cell_type": "code",
   "execution_count": 6,
   "id": "d824b1c1",
   "metadata": {},
   "outputs": [],
   "source": [
    "# Rubah nama kolom\n",
    "hypothesis.columns = hypothesis.columns.str.lower()"
   ]
  },
  {
   "cell_type": "code",
   "execution_count": 7,
   "id": "d790636b",
   "metadata": {},
   "outputs": [
    {
     "data": {
      "text/plain": [
       "Index(['hypothesis', 'reach', 'impact', 'confidence', 'effort'], dtype='object')"
      ]
     },
     "execution_count": 7,
     "metadata": {},
     "output_type": "execute_result"
    }
   ],
   "source": [
    "# Cek perubahan nama kolom\n",
    "hypothesis.columns"
   ]
  },
  {
   "cell_type": "markdown",
   "id": "f0e68ab6",
   "metadata": {},
   "source": [
    "Nama kolom sudah berubah menjadi lowercase."
   ]
  },
  {
   "cell_type": "markdown",
   "id": "bbdc43bd",
   "metadata": {},
   "source": [
    "### Ringkasan"
   ]
  },
  {
   "cell_type": "code",
   "execution_count": 8,
   "id": "b0fdab35",
   "metadata": {},
   "outputs": [
    {
     "name": "stdout",
     "output_type": "stream",
     "text": [
      "<class 'pandas.core.frame.DataFrame'>\n",
      "RangeIndex: 9 entries, 0 to 8\n",
      "Data columns (total 5 columns):\n",
      " #   Column      Non-Null Count  Dtype \n",
      "---  ------      --------------  ----- \n",
      " 0   hypothesis  9 non-null      object\n",
      " 1   reach       9 non-null      int64 \n",
      " 2   impact      9 non-null      int64 \n",
      " 3   confidence  9 non-null      int64 \n",
      " 4   effort      9 non-null      int64 \n",
      "dtypes: int64(4), object(1)\n",
      "memory usage: 1.6 KB\n"
     ]
    }
   ],
   "source": [
    "hypothesis.info(memory_usage='deep')"
   ]
  },
  {
   "cell_type": "markdown",
   "id": "379978ca",
   "metadata": {},
   "source": [
    "Besaran data tidak berubah.\n",
    "\n",
    "**Informasi yang terdapat pada data :**\n",
    "\n",
    "`hypothesis` — Deskripsi singkat tentang hipotesis.\n",
    "\n",
    "`reach` — Jangkauan pengguna, dalam skala satu hingga sepuluh.\n",
    "\n",
    "`impact` — Dampak terhadap pengguna, dalam skala satu hingga sepuluh.\n",
    "\n",
    "`confidence` — Keyakinan pada hipotesis, dalam skala satu sampai sepuluh.\n",
    "\n",
    "`effort` — Sumber daya yang diperlukan untuk menguji hipotesis, dalam skala satu sampai sepuluh.\n",
    "\n",
    "**Perbaikan yang dilakukan pada data :**\n",
    "1. Merubah nama kolom menjadi lowercase."
   ]
  },
  {
   "cell_type": "markdown",
   "id": "a3ea1a53",
   "metadata": {},
   "source": [
    "## orders"
   ]
  },
  {
   "cell_type": "markdown",
   "id": "1202d84c",
   "metadata": {},
   "source": [
    "### Memeriksa data"
   ]
  },
  {
   "cell_type": "code",
   "execution_count": 9,
   "id": "fada65bf",
   "metadata": {},
   "outputs": [
    {
     "name": "stdout",
     "output_type": "stream",
     "text": [
      "Data memiliki baris dan kolom : (1197, 5)\n",
      "\n",
      "Tidak terdapat nilai yang hilang pada data\n",
      "\n",
      "Tidak terdapat duplikat eksplisit dalam data\n",
      "\n",
      "<class 'pandas.core.frame.DataFrame'>\n",
      "RangeIndex: 1197 entries, 0 to 1196\n",
      "Data columns (total 5 columns):\n",
      " #   Column         Non-Null Count  Dtype  \n",
      "---  ------         --------------  -----  \n",
      " 0   transactionId  1197 non-null   int64  \n",
      " 1   visitorId      1197 non-null   int64  \n",
      " 2   date           1197 non-null   object \n",
      " 3   revenue        1197 non-null   float64\n",
      " 4   group          1197 non-null   object \n",
      "dtypes: float64(1), int64(2), object(2)\n",
      "memory usage: 174.3 KB\n",
      "None\n",
      "\n",
      "       transactionId     visitorId       revenue\n",
      "count   1.197000e+03  1.197000e+03   1197.000000\n",
      "mean    2.155621e+09  2.165960e+09    131.491646\n",
      "std     1.229085e+09  1.236014e+09    603.004729\n",
      "min     1.062393e+06  5.114589e+06      5.000000\n",
      "25%     1.166776e+09  1.111826e+09     20.800000\n",
      "50%     2.145194e+09  2.217985e+09     50.200000\n",
      "75%     3.237740e+09  3.177606e+09    130.400000\n",
      "max     4.293856e+09  4.283872e+09  19920.400000\n",
      "\n",
      "   transactionId   visitorId        date  revenue group\n",
      "0     3667963787  3312258926  2019-08-15     30.4     B\n",
      "1     2804400009  3642806036  2019-08-15     15.2     B\n",
      "2     2961555356  4069496402  2019-08-15     10.2     A\n",
      "3     3797467345  1196621759  2019-08-15    155.1     B\n",
      "4     2282983706  2322279887  2019-08-15     40.5     B\n"
     ]
    }
   ],
   "source": [
    "check(orders)"
   ]
  },
  {
   "cell_type": "code",
   "execution_count": 10,
   "id": "09125a7b",
   "metadata": {},
   "outputs": [
    {
     "data": {
      "text/plain": [
       "array(['B', 'A'], dtype=object)"
      ]
     },
     "execution_count": 10,
     "metadata": {},
     "output_type": "execute_result"
    }
   ],
   "source": [
    "orders['group'].unique()"
   ]
  },
  {
   "cell_type": "markdown",
   "id": "5937590d",
   "metadata": {},
   "source": [
    "**Informasi yang terdapat pada data :**\n",
    "\n",
    "`transactionId` — ID pesanan.\n",
    "\n",
    "`visitorId` — ID pengguna.\n",
    "\n",
    "`date` — tanggal dibuatnya pesanan.\n",
    "\n",
    "`revenue` — pendapatan dari pesanan.\n",
    "\n",
    "`group` — kelompok A/B. \n",
    "\n"
   ]
  },
  {
   "cell_type": "markdown",
   "id": "dc3fff82",
   "metadata": {},
   "source": [
    "**Masalah yang terdapat pada data :**\n",
    " 1. Format kolom `date` object dapat di optimalisasi menjadi datetime.\n",
    " 2. Penulisan nama kolom tidak snake_case.\n",
    " "
   ]
  },
  {
   "cell_type": "markdown",
   "id": "d1b2cb41",
   "metadata": {},
   "source": [
    "### Optimalisasi data"
   ]
  },
  {
   "cell_type": "code",
   "execution_count": 11,
   "id": "ddc5b22c",
   "metadata": {
    "scrolled": false
   },
   "outputs": [],
   "source": [
    "try :\n",
    "    orders = pd.read_csv(r'C:\\Users\\vidop\\Documents\\Practicum\\Sprint 8\\File\\orders_us.csv',\n",
    "                        parse_dates=['date'])\n",
    "\n",
    "except :\n",
    "    orders = pd.read_csv('/datasets/orders_us.csv',\n",
    "                        parse_dates=['date'])"
   ]
  },
  {
   "cell_type": "code",
   "execution_count": 12,
   "id": "3cb57490",
   "metadata": {},
   "outputs": [
    {
     "name": "stdout",
     "output_type": "stream",
     "text": [
      "<class 'pandas.core.frame.DataFrame'>\n",
      "RangeIndex: 1197 entries, 0 to 1196\n",
      "Data columns (total 5 columns):\n",
      " #   Column         Non-Null Count  Dtype         \n",
      "---  ------         --------------  -----         \n",
      " 0   transactionId  1197 non-null   int64         \n",
      " 1   visitorId      1197 non-null   int64         \n",
      " 2   date           1197 non-null   datetime64[ns]\n",
      " 3   revenue        1197 non-null   float64       \n",
      " 4   group          1197 non-null   object        \n",
      "dtypes: datetime64[ns](1), float64(1), int64(2), object(1)\n",
      "memory usage: 105.3 KB\n"
     ]
    }
   ],
   "source": [
    "# Cek data\n",
    "orders.info(memory_usage='deep')"
   ]
  },
  {
   "cell_type": "markdown",
   "id": "32c33396",
   "metadata": {},
   "source": [
    "Besaran data berubah dari 174,3 KB menjadi 105,3 KB.\n",
    "\n",
    "**Optimalisasi pada data :**\n",
    " 1. Format kolom `date` menjadi datetime."
   ]
  },
  {
   "cell_type": "markdown",
   "id": "54ebf9f1",
   "metadata": {},
   "source": [
    "### Memperbaiki data"
   ]
  },
  {
   "cell_type": "markdown",
   "id": "a8341c72",
   "metadata": {},
   "source": [
    "**Merubah nama kolom menjadi lowercase.**"
   ]
  },
  {
   "cell_type": "code",
   "execution_count": 13,
   "id": "d9e2a8bf",
   "metadata": {},
   "outputs": [],
   "source": [
    "orders.columns = orders.columns.str.lower()"
   ]
  },
  {
   "cell_type": "code",
   "execution_count": 14,
   "id": "bc3f2446",
   "metadata": {},
   "outputs": [
    {
     "data": {
      "text/plain": [
       "Index(['transactionid', 'visitorid', 'date', 'revenue', 'group'], dtype='object')"
      ]
     },
     "execution_count": 14,
     "metadata": {},
     "output_type": "execute_result"
    }
   ],
   "source": [
    "# Cek perubahan\n",
    "orders.columns"
   ]
  },
  {
   "cell_type": "markdown",
   "id": "80a253d9",
   "metadata": {},
   "source": [
    "Nama kolom sudah berubah menjadi lowercase."
   ]
  },
  {
   "cell_type": "markdown",
   "id": "6f95c4cc",
   "metadata": {},
   "source": [
    "### Ringkasan"
   ]
  },
  {
   "cell_type": "code",
   "execution_count": 15,
   "id": "49e7944c",
   "metadata": {},
   "outputs": [
    {
     "name": "stdout",
     "output_type": "stream",
     "text": [
      "<class 'pandas.core.frame.DataFrame'>\n",
      "RangeIndex: 1197 entries, 0 to 1196\n",
      "Data columns (total 5 columns):\n",
      " #   Column         Non-Null Count  Dtype         \n",
      "---  ------         --------------  -----         \n",
      " 0   transactionid  1197 non-null   int64         \n",
      " 1   visitorid      1197 non-null   int64         \n",
      " 2   date           1197 non-null   datetime64[ns]\n",
      " 3   revenue        1197 non-null   float64       \n",
      " 4   group          1197 non-null   object        \n",
      "dtypes: datetime64[ns](1), float64(1), int64(2), object(1)\n",
      "memory usage: 105.3 KB\n"
     ]
    }
   ],
   "source": [
    "orders.info(memory_usage='deep')"
   ]
  },
  {
   "cell_type": "markdown",
   "id": "f1b5ec22",
   "metadata": {},
   "source": [
    "Besaran data berubah dari 174,3 KB menjadi 38,9 KB.\n",
    "\n",
    "**Informasi yang terdapat pada data :**\n",
    "\n",
    "`transactionid` — ID pesanan.\n",
    "\n",
    "`visitorid` — ID pengguna.\n",
    "\n",
    "`date` — tanggal dibuatnya pesanan.\n",
    "\n",
    "`revenue` — pendapatan dari pesanan.\n",
    "\n",
    "`group` — kelompok A/B. \n",
    "\n",
    "**Optimalisasi pada data :**\n",
    " 1. Format kolom `date` menjadi datetime.\n",
    "\n",
    "**Perbaikan yang dilakukan pada data :**\n",
    " 1. Merubah nama kolom menjadi lowercase.\n"
   ]
  },
  {
   "cell_type": "markdown",
   "id": "2dd7d2a1",
   "metadata": {},
   "source": [
    "## visits"
   ]
  },
  {
   "cell_type": "markdown",
   "id": "4f9dd7b1",
   "metadata": {},
   "source": [
    "### Memeriksa data"
   ]
  },
  {
   "cell_type": "code",
   "execution_count": 16,
   "id": "e59585e8",
   "metadata": {},
   "outputs": [
    {
     "name": "stdout",
     "output_type": "stream",
     "text": [
      "Data memiliki baris dan kolom : (62, 3)\n",
      "\n",
      "Tidak terdapat nilai yang hilang pada data\n",
      "\n",
      "Tidak terdapat duplikat eksplisit dalam data\n",
      "\n",
      "<class 'pandas.core.frame.DataFrame'>\n",
      "RangeIndex: 62 entries, 0 to 61\n",
      "Data columns (total 3 columns):\n",
      " #   Column  Non-Null Count  Dtype \n",
      "---  ------  --------------  ----- \n",
      " 0   date    62 non-null     object\n",
      " 1   group   62 non-null     object\n",
      " 2   visits  62 non-null     int64 \n",
      "dtypes: int64(1), object(2)\n",
      "memory usage: 8.2 KB\n",
      "None\n",
      "\n",
      "           visits\n",
      "count   62.000000\n",
      "mean   607.290323\n",
      "std    114.400560\n",
      "min    361.000000\n",
      "25%    534.000000\n",
      "50%    624.500000\n",
      "75%    710.500000\n",
      "max    770.000000\n",
      "\n",
      "         date group  visits\n",
      "0  2019-08-01     A     719\n",
      "1  2019-08-02     A     619\n",
      "2  2019-08-03     A     507\n",
      "3  2019-08-04     A     717\n",
      "4  2019-08-05     A     756\n"
     ]
    }
   ],
   "source": [
    "check(visits)"
   ]
  },
  {
   "cell_type": "markdown",
   "id": "fad0e4dd",
   "metadata": {},
   "source": [
    "**Informasi yang terdapat pada data :**\n",
    "\n",
    "`date` — Tanggal\n",
    "\n",
    "`group` — Kelompok A/B.\n",
    "\n",
    "`visits` — Jumlah kunjungan."
   ]
  },
  {
   "cell_type": "markdown",
   "id": "3cad4d27",
   "metadata": {},
   "source": [
    "**Masalah yang terdapat pada data :**\n",
    "\n",
    "1. Format kolom `date` object dapat dioptimalisasi menjadi datetime."
   ]
  },
  {
   "cell_type": "markdown",
   "id": "9a2ca573",
   "metadata": {},
   "source": [
    "### Optimalisasi data"
   ]
  },
  {
   "cell_type": "code",
   "execution_count": 17,
   "id": "e4c012e6",
   "metadata": {},
   "outputs": [],
   "source": [
    "try :\n",
    "    visits = pd.read_csv(r'C:\\Users\\vidop\\Documents\\Practicum\\Sprint 8\\File\\visits_us.csv',\n",
    "                        parse_dates=['date'])\n",
    "\n",
    "except :\n",
    "    visits = pd.read_csv('/datasets/visits_us.csv',\n",
    "                        parse_dates=['date'])"
   ]
  },
  {
   "cell_type": "code",
   "execution_count": 18,
   "id": "a77f70f6",
   "metadata": {},
   "outputs": [
    {
     "name": "stdout",
     "output_type": "stream",
     "text": [
      "<class 'pandas.core.frame.DataFrame'>\n",
      "RangeIndex: 62 entries, 0 to 61\n",
      "Data columns (total 3 columns):\n",
      " #   Column  Non-Null Count  Dtype         \n",
      "---  ------  --------------  -----         \n",
      " 0   date    62 non-null     datetime64[ns]\n",
      " 1   group   62 non-null     object        \n",
      " 2   visits  62 non-null     int64         \n",
      "dtypes: datetime64[ns](1), int64(1), object(1)\n",
      "memory usage: 4.6 KB\n"
     ]
    }
   ],
   "source": [
    "# Cek data\n",
    "visits.info(memory_usage='deep')"
   ]
  },
  {
   "cell_type": "markdown",
   "id": "cd6305ec",
   "metadata": {},
   "source": [
    "Besaran data berubah dari 8,2 KB menjadi 4,6 KB.\n",
    "\n",
    "**Optimalisasi pada data :**\n",
    " 1. Format kolom `date` menjadi datetime."
   ]
  },
  {
   "cell_type": "markdown",
   "id": "8575c883",
   "metadata": {},
   "source": [
    "### Ringkasan"
   ]
  },
  {
   "cell_type": "code",
   "execution_count": 19,
   "id": "8f505e1f",
   "metadata": {},
   "outputs": [
    {
     "name": "stdout",
     "output_type": "stream",
     "text": [
      "<class 'pandas.core.frame.DataFrame'>\n",
      "RangeIndex: 62 entries, 0 to 61\n",
      "Data columns (total 3 columns):\n",
      " #   Column  Non-Null Count  Dtype         \n",
      "---  ------  --------------  -----         \n",
      " 0   date    62 non-null     datetime64[ns]\n",
      " 1   group   62 non-null     object        \n",
      " 2   visits  62 non-null     int64         \n",
      "dtypes: datetime64[ns](1), int64(1), object(1)\n",
      "memory usage: 4.6 KB\n"
     ]
    }
   ],
   "source": [
    "visits.info(memory_usage='deep')"
   ]
  },
  {
   "cell_type": "markdown",
   "id": "b1dc0923",
   "metadata": {},
   "source": [
    "Besaran data berubah dari 8,2 KB menjadi 4,6 KB.\n",
    "\n",
    "**Informasi yang terdapat pada data :**\n",
    "\n",
    "`date` — Tanggal\n",
    "\n",
    "`group` — Kelompok A/B.\n",
    "\n",
    "`visits` — Jumlah kunjungan.\n",
    "\n",
    "**Optimalisasi pada data :**\n",
    " 1. Format kolom `date` menjadi datetime.\n"
   ]
  },
  {
   "cell_type": "markdown",
   "id": "e129fdc8",
   "metadata": {},
   "source": [
    "# Prioritas hipotesis"
   ]
  },
  {
   "cell_type": "code",
   "execution_count": 20,
   "id": "ba2a78b5",
   "metadata": {},
   "outputs": [],
   "source": [
    "# Menambahkan nomor hypothesis\n",
    "hypothesis.insert(loc=0, column='hypothesis_no', value='hypothesis_' + (hypothesis.index + 1).astype('str'))"
   ]
  },
  {
   "cell_type": "markdown",
   "id": "22f5aa82",
   "metadata": {},
   "source": [
    "Untuk mempermudah analisa ditambahkan nomor hypothesis."
   ]
  },
  {
   "cell_type": "markdown",
   "id": "e57953d6",
   "metadata": {},
   "source": [
    "## Framework ICE"
   ]
  },
  {
   "cell_type": "code",
   "execution_count": 21,
   "id": "09a7c313",
   "metadata": {},
   "outputs": [],
   "source": [
    "# Menghitung skor ICE\n",
    "hypothesis['ICE'] =round((hypothesis['impact']*hypothesis['confidence']) / hypothesis['effort'],2)"
   ]
  },
  {
   "cell_type": "code",
   "execution_count": 22,
   "id": "709b807e",
   "metadata": {},
   "outputs": [
    {
     "data": {
      "text/html": [
       "<div>\n",
       "<style scoped>\n",
       "    .dataframe tbody tr th:only-of-type {\n",
       "        vertical-align: middle;\n",
       "    }\n",
       "\n",
       "    .dataframe tbody tr th {\n",
       "        vertical-align: top;\n",
       "    }\n",
       "\n",
       "    .dataframe thead th {\n",
       "        text-align: right;\n",
       "    }\n",
       "</style>\n",
       "<table border=\"1\" class=\"dataframe\">\n",
       "  <thead>\n",
       "    <tr style=\"text-align: right;\">\n",
       "      <th></th>\n",
       "      <th>hypothesis_no</th>\n",
       "      <th>hypothesis</th>\n",
       "      <th>ICE</th>\n",
       "    </tr>\n",
       "  </thead>\n",
       "  <tbody>\n",
       "    <tr>\n",
       "      <th>8</th>\n",
       "      <td>hypothesis_9</td>\n",
       "      <td>Launch a promotion that gives users discounts on their birthdays</td>\n",
       "      <td>16.20</td>\n",
       "    </tr>\n",
       "    <tr>\n",
       "      <th>0</th>\n",
       "      <td>hypothesis_1</td>\n",
       "      <td>Add two new channels for attracting traffic. This will bring 30% more users</td>\n",
       "      <td>13.33</td>\n",
       "    </tr>\n",
       "    <tr>\n",
       "      <th>7</th>\n",
       "      <td>hypothesis_8</td>\n",
       "      <td>Add a subscription form to all the main pages. This will help you compile a mailing list</td>\n",
       "      <td>11.20</td>\n",
       "    </tr>\n",
       "    <tr>\n",
       "      <th>6</th>\n",
       "      <td>hypothesis_7</td>\n",
       "      <td>Show banners with current offers and sales on the main page. This will boost conversion</td>\n",
       "      <td>8.00</td>\n",
       "    </tr>\n",
       "    <tr>\n",
       "      <th>2</th>\n",
       "      <td>hypothesis_3</td>\n",
       "      <td>Add product recommendation blocks to the store's site. This will increase conversion and average purchase size</td>\n",
       "      <td>7.00</td>\n",
       "    </tr>\n",
       "    <tr>\n",
       "      <th>1</th>\n",
       "      <td>hypothesis_2</td>\n",
       "      <td>Launch your own delivery service. This will shorten delivery time</td>\n",
       "      <td>2.00</td>\n",
       "    </tr>\n",
       "    <tr>\n",
       "      <th>5</th>\n",
       "      <td>hypothesis_6</td>\n",
       "      <td>Add a customer review page. This will increase the number of orders</td>\n",
       "      <td>1.33</td>\n",
       "    </tr>\n",
       "    <tr>\n",
       "      <th>3</th>\n",
       "      <td>hypothesis_4</td>\n",
       "      <td>Change the category structure. This will increase conversion since users will find the products they want more quickly</td>\n",
       "      <td>1.12</td>\n",
       "    </tr>\n",
       "    <tr>\n",
       "      <th>4</th>\n",
       "      <td>hypothesis_5</td>\n",
       "      <td>Change the background color on the main page. This will increase user engagement</td>\n",
       "      <td>1.00</td>\n",
       "    </tr>\n",
       "  </tbody>\n",
       "</table>\n",
       "</div>"
      ],
      "text/plain": [
       "  hypothesis_no  \\\n",
       "8  hypothesis_9   \n",
       "0  hypothesis_1   \n",
       "7  hypothesis_8   \n",
       "6  hypothesis_7   \n",
       "2  hypothesis_3   \n",
       "1  hypothesis_2   \n",
       "5  hypothesis_6   \n",
       "3  hypothesis_4   \n",
       "4  hypothesis_5   \n",
       "\n",
       "                                                                                                               hypothesis  \\\n",
       "8                                                        Launch a promotion that gives users discounts on their birthdays   \n",
       "0                                             Add two new channels for attracting traffic. This will bring 30% more users   \n",
       "7                                Add a subscription form to all the main pages. This will help you compile a mailing list   \n",
       "6                                 Show banners with current offers and sales on the main page. This will boost conversion   \n",
       "2          Add product recommendation blocks to the store's site. This will increase conversion and average purchase size   \n",
       "1                                                       Launch your own delivery service. This will shorten delivery time   \n",
       "5                                                     Add a customer review page. This will increase the number of orders   \n",
       "3  Change the category structure. This will increase conversion since users will find the products they want more quickly   \n",
       "4                                        Change the background color on the main page. This will increase user engagement   \n",
       "\n",
       "     ICE  \n",
       "8  16.20  \n",
       "0  13.33  \n",
       "7  11.20  \n",
       "6   8.00  \n",
       "2   7.00  \n",
       "1   2.00  \n",
       "5   1.33  \n",
       "3   1.12  \n",
       "4   1.00  "
      ]
     },
     "execution_count": 22,
     "metadata": {},
     "output_type": "execute_result"
    }
   ],
   "source": [
    "# Mengurutkan prioritas hipotesis ICE\n",
    "hypothesis[['hypothesis_no', 'hypothesis', 'ICE']].sort_values('ICE', ascending=False)"
   ]
  },
  {
   "cell_type": "markdown",
   "id": "440a1c2b",
   "metadata": {},
   "source": [
    "Berdasarkan skor ICE 5 prioritas hipotesis tertinggi dengan urutan : \n",
    "1. hypothesis_9, Launch a promotion that gives users discounts on their birthdays.\n",
    "2. hypothesis_1, Add two new channels for attracting traffic. This will bring 30% more users.\n",
    "3. hypothesis_8, Add a subscription form to all the main pages. This will help you compile a mailing list.\n",
    "4. hypothesis_7, Show banners with current offers and sales on the main page. This will boost conversion.\n",
    "5. hypothesis_3, Add product recommendation blocks to the store's site. This will increase conversion and average purchase size."
   ]
  },
  {
   "cell_type": "markdown",
   "id": "e43bdb20",
   "metadata": {},
   "source": [
    "## Framework RICE"
   ]
  },
  {
   "cell_type": "code",
   "execution_count": 23,
   "id": "f993c457",
   "metadata": {},
   "outputs": [],
   "source": [
    "# Menghitung skor RICE\n",
    "hypothesis['RICE'] = round((hypothesis['reach']*hypothesis['impact']*hypothesis['confidence']) / hypothesis['effort'], 2)"
   ]
  },
  {
   "cell_type": "code",
   "execution_count": 24,
   "id": "a196b927",
   "metadata": {},
   "outputs": [
    {
     "data": {
      "text/html": [
       "<div>\n",
       "<style scoped>\n",
       "    .dataframe tbody tr th:only-of-type {\n",
       "        vertical-align: middle;\n",
       "    }\n",
       "\n",
       "    .dataframe tbody tr th {\n",
       "        vertical-align: top;\n",
       "    }\n",
       "\n",
       "    .dataframe thead th {\n",
       "        text-align: right;\n",
       "    }\n",
       "</style>\n",
       "<table border=\"1\" class=\"dataframe\">\n",
       "  <thead>\n",
       "    <tr style=\"text-align: right;\">\n",
       "      <th></th>\n",
       "      <th>hypothesis_no</th>\n",
       "      <th>hypothesis</th>\n",
       "      <th>RICE</th>\n",
       "    </tr>\n",
       "  </thead>\n",
       "  <tbody>\n",
       "    <tr>\n",
       "      <th>7</th>\n",
       "      <td>hypothesis_8</td>\n",
       "      <td>Add a subscription form to all the main pages. This will help you compile a mailing list</td>\n",
       "      <td>112.0</td>\n",
       "    </tr>\n",
       "    <tr>\n",
       "      <th>2</th>\n",
       "      <td>hypothesis_3</td>\n",
       "      <td>Add product recommendation blocks to the store's site. This will increase conversion and average purchase size</td>\n",
       "      <td>56.0</td>\n",
       "    </tr>\n",
       "    <tr>\n",
       "      <th>0</th>\n",
       "      <td>hypothesis_1</td>\n",
       "      <td>Add two new channels for attracting traffic. This will bring 30% more users</td>\n",
       "      <td>40.0</td>\n",
       "    </tr>\n",
       "    <tr>\n",
       "      <th>6</th>\n",
       "      <td>hypothesis_7</td>\n",
       "      <td>Show banners with current offers and sales on the main page. This will boost conversion</td>\n",
       "      <td>40.0</td>\n",
       "    </tr>\n",
       "    <tr>\n",
       "      <th>8</th>\n",
       "      <td>hypothesis_9</td>\n",
       "      <td>Launch a promotion that gives users discounts on their birthdays</td>\n",
       "      <td>16.2</td>\n",
       "    </tr>\n",
       "    <tr>\n",
       "      <th>3</th>\n",
       "      <td>hypothesis_4</td>\n",
       "      <td>Change the category structure. This will increase conversion since users will find the products they want more quickly</td>\n",
       "      <td>9.0</td>\n",
       "    </tr>\n",
       "    <tr>\n",
       "      <th>1</th>\n",
       "      <td>hypothesis_2</td>\n",
       "      <td>Launch your own delivery service. This will shorten delivery time</td>\n",
       "      <td>4.0</td>\n",
       "    </tr>\n",
       "    <tr>\n",
       "      <th>5</th>\n",
       "      <td>hypothesis_6</td>\n",
       "      <td>Add a customer review page. This will increase the number of orders</td>\n",
       "      <td>4.0</td>\n",
       "    </tr>\n",
       "    <tr>\n",
       "      <th>4</th>\n",
       "      <td>hypothesis_5</td>\n",
       "      <td>Change the background color on the main page. This will increase user engagement</td>\n",
       "      <td>3.0</td>\n",
       "    </tr>\n",
       "  </tbody>\n",
       "</table>\n",
       "</div>"
      ],
      "text/plain": [
       "  hypothesis_no  \\\n",
       "7  hypothesis_8   \n",
       "2  hypothesis_3   \n",
       "0  hypothesis_1   \n",
       "6  hypothesis_7   \n",
       "8  hypothesis_9   \n",
       "3  hypothesis_4   \n",
       "1  hypothesis_2   \n",
       "5  hypothesis_6   \n",
       "4  hypothesis_5   \n",
       "\n",
       "                                                                                                               hypothesis  \\\n",
       "7                                Add a subscription form to all the main pages. This will help you compile a mailing list   \n",
       "2          Add product recommendation blocks to the store's site. This will increase conversion and average purchase size   \n",
       "0                                             Add two new channels for attracting traffic. This will bring 30% more users   \n",
       "6                                 Show banners with current offers and sales on the main page. This will boost conversion   \n",
       "8                                                        Launch a promotion that gives users discounts on their birthdays   \n",
       "3  Change the category structure. This will increase conversion since users will find the products they want more quickly   \n",
       "1                                                       Launch your own delivery service. This will shorten delivery time   \n",
       "5                                                     Add a customer review page. This will increase the number of orders   \n",
       "4                                        Change the background color on the main page. This will increase user engagement   \n",
       "\n",
       "    RICE  \n",
       "7  112.0  \n",
       "2   56.0  \n",
       "0   40.0  \n",
       "6   40.0  \n",
       "8   16.2  \n",
       "3    9.0  \n",
       "1    4.0  \n",
       "5    4.0  \n",
       "4    3.0  "
      ]
     },
     "execution_count": 24,
     "metadata": {},
     "output_type": "execute_result"
    }
   ],
   "source": [
    "# Mengurutkan prioritas hipotesis RICE\n",
    "hypothesis[['hypothesis_no', 'hypothesis', 'RICE']].sort_values('RICE', ascending=False)"
   ]
  },
  {
   "cell_type": "markdown",
   "id": "b446dc58",
   "metadata": {},
   "source": [
    "Berdasarkan skor RICE prioritas hipotesis tertinggi dengan urutan :\n",
    "\n",
    "1. hypothesis_8, Add a subscription form to all the main pages. This will help you compile a mailing list.\n",
    "2. hypothesis_3, Add product recommendation blocks to the store's site. This will increase conversion and average purchase size\n",
    "3. hypothesis_1, Add two new channels for attracting traffic. This will bring 30% more users.\n",
    "4. hypothesis_7, Show banners with current offers and sales on the main page. This will boost conversion.\n",
    "5. hypothesis_9, Launch a promotion that gives users discounts on their birthdays.\t"
   ]
  },
  {
   "cell_type": "markdown",
   "id": "3ddeb16b",
   "metadata": {},
   "source": [
    "## Perbandingan skor ICE dan RICE"
   ]
  },
  {
   "cell_type": "code",
   "execution_count": 25,
   "id": "36e78bdb",
   "metadata": {},
   "outputs": [
    {
     "data": {
      "text/html": [
       "<div>\n",
       "<style scoped>\n",
       "    .dataframe tbody tr th:only-of-type {\n",
       "        vertical-align: middle;\n",
       "    }\n",
       "\n",
       "    .dataframe tbody tr th {\n",
       "        vertical-align: top;\n",
       "    }\n",
       "\n",
       "    .dataframe thead th {\n",
       "        text-align: right;\n",
       "    }\n",
       "</style>\n",
       "<table border=\"1\" class=\"dataframe\">\n",
       "  <thead>\n",
       "    <tr style=\"text-align: right;\">\n",
       "      <th></th>\n",
       "      <th>hypothesis_no</th>\n",
       "      <th>reach</th>\n",
       "      <th>impact</th>\n",
       "      <th>confidence</th>\n",
       "      <th>effort</th>\n",
       "      <th>ICE</th>\n",
       "      <th>RICE</th>\n",
       "    </tr>\n",
       "  </thead>\n",
       "  <tbody>\n",
       "    <tr>\n",
       "      <th>7</th>\n",
       "      <td>hypothesis_8</td>\n",
       "      <td>10</td>\n",
       "      <td>7</td>\n",
       "      <td>8</td>\n",
       "      <td>5</td>\n",
       "      <td>11.20</td>\n",
       "      <td>112.0</td>\n",
       "    </tr>\n",
       "    <tr>\n",
       "      <th>2</th>\n",
       "      <td>hypothesis_3</td>\n",
       "      <td>8</td>\n",
       "      <td>3</td>\n",
       "      <td>7</td>\n",
       "      <td>3</td>\n",
       "      <td>7.00</td>\n",
       "      <td>56.0</td>\n",
       "    </tr>\n",
       "    <tr>\n",
       "      <th>0</th>\n",
       "      <td>hypothesis_1</td>\n",
       "      <td>3</td>\n",
       "      <td>10</td>\n",
       "      <td>8</td>\n",
       "      <td>6</td>\n",
       "      <td>13.33</td>\n",
       "      <td>40.0</td>\n",
       "    </tr>\n",
       "    <tr>\n",
       "      <th>6</th>\n",
       "      <td>hypothesis_7</td>\n",
       "      <td>5</td>\n",
       "      <td>3</td>\n",
       "      <td>8</td>\n",
       "      <td>3</td>\n",
       "      <td>8.00</td>\n",
       "      <td>40.0</td>\n",
       "    </tr>\n",
       "    <tr>\n",
       "      <th>8</th>\n",
       "      <td>hypothesis_9</td>\n",
       "      <td>1</td>\n",
       "      <td>9</td>\n",
       "      <td>9</td>\n",
       "      <td>5</td>\n",
       "      <td>16.20</td>\n",
       "      <td>16.2</td>\n",
       "    </tr>\n",
       "    <tr>\n",
       "      <th>3</th>\n",
       "      <td>hypothesis_4</td>\n",
       "      <td>8</td>\n",
       "      <td>3</td>\n",
       "      <td>3</td>\n",
       "      <td>8</td>\n",
       "      <td>1.12</td>\n",
       "      <td>9.0</td>\n",
       "    </tr>\n",
       "    <tr>\n",
       "      <th>1</th>\n",
       "      <td>hypothesis_2</td>\n",
       "      <td>2</td>\n",
       "      <td>5</td>\n",
       "      <td>4</td>\n",
       "      <td>10</td>\n",
       "      <td>2.00</td>\n",
       "      <td>4.0</td>\n",
       "    </tr>\n",
       "    <tr>\n",
       "      <th>5</th>\n",
       "      <td>hypothesis_6</td>\n",
       "      <td>3</td>\n",
       "      <td>2</td>\n",
       "      <td>2</td>\n",
       "      <td>3</td>\n",
       "      <td>1.33</td>\n",
       "      <td>4.0</td>\n",
       "    </tr>\n",
       "    <tr>\n",
       "      <th>4</th>\n",
       "      <td>hypothesis_5</td>\n",
       "      <td>3</td>\n",
       "      <td>1</td>\n",
       "      <td>1</td>\n",
       "      <td>1</td>\n",
       "      <td>1.00</td>\n",
       "      <td>3.0</td>\n",
       "    </tr>\n",
       "  </tbody>\n",
       "</table>\n",
       "</div>"
      ],
      "text/plain": [
       "  hypothesis_no  reach  impact  confidence  effort    ICE   RICE\n",
       "7  hypothesis_8     10       7           8       5  11.20  112.0\n",
       "2  hypothesis_3      8       3           7       3   7.00   56.0\n",
       "0  hypothesis_1      3      10           8       6  13.33   40.0\n",
       "6  hypothesis_7      5       3           8       3   8.00   40.0\n",
       "8  hypothesis_9      1       9           9       5  16.20   16.2\n",
       "3  hypothesis_4      8       3           3       8   1.12    9.0\n",
       "1  hypothesis_2      2       5           4      10   2.00    4.0\n",
       "5  hypothesis_6      3       2           2       3   1.33    4.0\n",
       "4  hypothesis_5      3       1           1       1   1.00    3.0"
      ]
     },
     "execution_count": 25,
     "metadata": {},
     "output_type": "execute_result"
    }
   ],
   "source": [
    "# Membandingkan komponen dari skor ICE dan RICE\n",
    "hypothesis.drop('hypothesis', axis=1).sort_values('RICE', ascending=False)"
   ]
  },
  {
   "cell_type": "markdown",
   "id": "8061fbab",
   "metadata": {},
   "source": [
    "hypothesis_8 memiliki skor RICE tertinggi yang disebabkan skor reach tinggi dan skor effort sedang. hypothesis_9 memiliki skor ICE tertinggi namun tidak menjadi prioritas tertinggi pada framework RICE yang disebabkan skor reach yang rendah walaupun hipotesis ini memiliki skor impact dan confidence yang tinggi."
   ]
  },
  {
   "cell_type": "markdown",
   "id": "9f806ddb",
   "metadata": {},
   "source": [
    "## Kesimpulan"
   ]
  },
  {
   "cell_type": "markdown",
   "id": "619c1b07",
   "metadata": {},
   "source": [
    "Berdasarkan skor RICE 5 prioritas hipotesis tertinggi dengan urutan :\n",
    "\n",
    "1. hypothesis_8, Add a subscription form to all the main pages. This will help you compile a mailing list.\n",
    "2. hypothesis_3, Add product recommendation blocks to the store's site. This will increase conversion and average purchase size\n",
    "3. hypothesis_1, Add two new channels for attracting traffic. This will bring 30% more users.\n",
    "4. hypothesis_7, Show banners with current offers and sales on the main page. This will boost conversion.\n",
    "5. hypothesis_9, Launch a promotion that gives users discounts on their birthdays.\t\n",
    "\n",
    "Berdasarkan skor ICE 5 prioritas hipotesis tertinggi dengan urutan : \n",
    "\n",
    "1. hypothesis_9, Launch a promotion that gives users discounts on their birthdays.\n",
    "2. hypothesis_1, Add two new channels for attracting traffic. This will bring 30% more users.\n",
    "3. hypothesis_8, Add a subscription form to all the main pages. This will help you compile a mailing list.\n",
    "4. hypothesis_7, Show banners with current offers and sales on the main page. This will boost conversion.\n",
    "5. hypothesis_3, Add product recommendation blocks to the store's site. This will increase conversion and average purchase size.\n",
    "\n",
    "hypothesis_8 memiliki skor RICE tertinggi yang disebabkan skor reach tinggi dan skor effort sedang. hypothesis_9 memiliki skor ICE tertinggi namun tidak menjadi prioritas tertinggi pada framework RICE yang disebabkan skor reach yang rendah walaupun hipotesis ini memiliki skor impact dan confidence yang tinggi."
   ]
  },
  {
   "cell_type": "markdown",
   "id": "31ba7c08",
   "metadata": {},
   "source": [
    "# A/B Testing"
   ]
  },
  {
   "cell_type": "markdown",
   "id": "388ae156",
   "metadata": {},
   "source": [
    "## Pendapatan kumulatif kelompok"
   ]
  },
  {
   "cell_type": "code",
   "execution_count": 26,
   "id": "f7224d0c",
   "metadata": {},
   "outputs": [],
   "source": [
    "# Mengelompokkan data berdasarkan group dan date\n",
    "groupdate = orders[['group', 'date']].drop_duplicates()"
   ]
  },
  {
   "cell_type": "code",
   "execution_count": 27,
   "id": "e04628b5",
   "metadata": {},
   "outputs": [],
   "source": [
    "# Agregat revenue berdasarkan groupdate\n",
    "ordersagg = groupdate.apply(lambda x: orders[np.logical_and(orders['date'] <= x['date'], orders['group'] == x['group'])]\n",
    "                            .agg({'date':'max', 'group':'max', 'transactionid':'nunique',\n",
    "                                  'visitorid':'nunique', 'revenue':'sum'}), axis=1)\n"
   ]
  },
  {
   "cell_type": "code",
   "execution_count": 28,
   "id": "e1b0df26",
   "metadata": {
    "scrolled": false
   },
   "outputs": [
    {
     "data": {
      "image/png": "[encoded data removed]",
      "text/plain": [
       "<Figure size 1500x800 with 1 Axes>"
      ]
     },
     "metadata": {},
     "output_type": "display_data"
    }
   ],
   "source": [
    "# Irisan data revenue per group\n",
    "cumulativerevenueA= ordersagg.query('group == \"A\"')[['date','revenue','transactionid']].sort_values('date')\n",
    "cumulativerevenueB= ordersagg.query('group == \"B\"')[['date','revenue','transactionid']].sort_values('date')\n",
    "\n",
    "# Grafik garis revenue A dan B\n",
    "plt.figure(figsize=(15,8))\n",
    "plt.plot(cumulativerevenueA['date'], cumulativerevenueA['revenue'], label='A')\n",
    "plt.plot(cumulativerevenueB['date'], cumulativerevenueB['revenue'], label='B')\n",
    "plt.legend()\n",
    "plt.grid()"
   ]
  },
  {
   "cell_type": "markdown",
   "id": "e6758268",
   "metadata": {},
   "source": [
    "Group B mulai memimpin pada tanggal 2019-08-02 dan terus bertahan. Terdapat lonjakan penjualan yang tinggi di grup B pada tanggal 2019-08-19. Kemungkinan terdapat pesanan dalam jumlah yang besar.\n",
    "\n",
    "Pendapatan kumulatif group B sebesar 92.840 lebih besar dari group A sebesar 64.555."
   ]
  },
  {
   "cell_type": "markdown",
   "id": "db953eae",
   "metadata": {},
   "source": [
    "## Pendapatan rata-rata kumulatif kelompok"
   ]
  },
  {
   "cell_type": "code",
   "execution_count": 29,
   "id": "26a6e781",
   "metadata": {},
   "outputs": [],
   "source": [
    "# Menghitung pendapatan rata-rata per transaksi\n",
    "cumulativerevenueA['avg_revenue'] = cumulativerevenueA['revenue'] / cumulativerevenueA['transactionid']\n",
    "cumulativerevenueB['avg_revenue'] = cumulativerevenueB['revenue'] / cumulativerevenueB['transactionid']"
   ]
  },
  {
   "cell_type": "code",
   "execution_count": 30,
   "id": "f651b7a2",
   "metadata": {
    "scrolled": false
   },
   "outputs": [
    {
     "data": {
      "image/png": "[encoded data removed]",
      "text/plain": [
       "<Figure size 1500x800 with 1 Axes>"
      ]
     },
     "metadata": {},
     "output_type": "display_data"
    }
   ],
   "source": [
    "# Grafik garis rata-rata pendapatan\n",
    "plt.figure(figsize=(15,8))\n",
    "plt.plot(cumulativerevenueA['date'], cumulativerevenueA['avg_revenue'], label='A')\n",
    "plt.plot(cumulativerevenueB['date'], cumulativerevenueB['avg_revenue'], label='B')\n",
    "plt.legend()\n",
    "plt.grid()"
   ]
  },
  {
   "cell_type": "markdown",
   "id": "1c8cbaef",
   "metadata": {},
   "source": [
    "Pendapatan rata-rata group B mulai memimpin pada tanggal 2019-08-02 dan terdapat lonjakan yang tinggi pada tanggal 2019-08-19.\n",
    "\n",
    "Pendapatan rata-rata group A tertinggi pada tanggal 2019-08-13 dan seterusnya mengalami penurunan.\n",
    "\n",
    "Pada akhir periode, pendapatan rata-rata group B sebesar 145 dan group A sebesar 116."
   ]
  },
  {
   "cell_type": "markdown",
   "id": "7209bfb8",
   "metadata": {},
   "source": [
    "## Perbedaan relatif pendapatan rata-rata kumulatif kelompok"
   ]
  },
  {
   "cell_type": "code",
   "execution_count": 31,
   "id": "95df554c",
   "metadata": {},
   "outputs": [],
   "source": [
    "# Menggabungkan data cumulative revenue\n",
    "cumulativerevenue = cumulativerevenueA.merge(cumulativerevenueB, left_on='date', right_on='date', how='left',\n",
    "                                            suffixes=['A','B'])"
   ]
  },
  {
   "cell_type": "code",
   "execution_count": 32,
   "id": "a76e4ca4",
   "metadata": {
    "scrolled": false
   },
   "outputs": [
    {
     "data": {
      "text/plain": [
       "<matplotlib.lines.Line2D at 0x19ee4f7d210>"
      ]
     },
     "execution_count": 32,
     "metadata": {},
     "output_type": "execute_result"
    },
    {
     "data": {
      "image/png": "[encoded data removed]",
      "text/plain": [
       "<Figure size 1500x800 with 1 Axes>"
      ]
     },
     "metadata": {},
     "output_type": "display_data"
    }
   ],
   "source": [
    "# Menghitung perbedaan relatif rata-rata pendapatan\n",
    "cumulativerevenue['avg_revenue_diff'] = (cumulativerevenue['avg_revenueB'] / cumulativerevenue['avg_revenueA'])-1\n",
    "\n",
    "# Grafik Garis\n",
    "plt.figure(figsize=(15,8))\n",
    "plt.plot(cumulativerevenue['date'], cumulativerevenue['avg_revenue_diff'])\n",
    "\n",
    "# Menambah sumbu X\n",
    "plt.axhline(y=0, color='black', linestyle='--')\n",
    "plt.axhline(y=0.25, color='grey', linestyle='--')\n"
   ]
  },
  {
   "cell_type": "markdown",
   "id": "397dc0e7",
   "metadata": {},
   "source": [
    "Group B mulai memimpin pada tanggal 2019-08-02 dan mengalami kenaikan dan penurunan sampai tanggal 2019-08-08 lalu mengalami penurunan tajam sampai tanggal 2019-08-13, setelah itu group B mulai mengalami kenaikan sampai titik tertinggi pada tanggal 2019-08-19 dan terus memimpin. Pada akhir periode pendapatan rata-rata kumulatif group B 25% diatas group A."
   ]
  },
  {
   "cell_type": "markdown",
   "id": "4b9668ac",
   "metadata": {},
   "source": [
    "## Tingkat konversi kumulatif kelompok"
   ]
  },
  {
   "cell_type": "code",
   "execution_count": 33,
   "id": "0e3becd2",
   "metadata": {},
   "outputs": [],
   "source": [
    "# Agregat jumlah visits berdasarkan groupdate\n",
    "visitsagg = groupdate.apply(lambda x: visits[np.logical_and(visits['date'] <= x['date'], visits['group'] == x['group'])]\n",
    "                            .agg({'date':'max', 'group':'max', 'visits':'sum'}), axis=1)\n"
   ]
  },
  {
   "cell_type": "code",
   "execution_count": 34,
   "id": "d093c04f",
   "metadata": {},
   "outputs": [],
   "source": [
    "# Menggabungkan visitagg dengan ordersagg\n",
    "cumulativedata = ordersagg.merge(visitsagg, left_on=['date', 'group'], right_on=['date','group'], how='left')"
   ]
  },
  {
   "cell_type": "code",
   "execution_count": 35,
   "id": "a7301ebc",
   "metadata": {},
   "outputs": [],
   "source": [
    "# Menghitung tingkat konversi\n",
    "cumulativedata['conversion_rate'] = cumulativedata['transactionid'] / cumulativedata['visits']"
   ]
  },
  {
   "cell_type": "code",
   "execution_count": 36,
   "id": "a7a6589f",
   "metadata": {},
   "outputs": [
    {
     "data": {
      "text/plain": [
       "<matplotlib.legend.Legend at 0x19ee5005690>"
      ]
     },
     "execution_count": 36,
     "metadata": {},
     "output_type": "execute_result"
    },
    {
     "data": {
      "image/png": "[encoded data removed]",
      "text/plain": [
       "<Figure size 1500x800 with 1 Axes>"
      ]
     },
     "metadata": {},
     "output_type": "display_data"
    }
   ],
   "source": [
    "# Mengiris data per kelompok\n",
    "cumulativedataA = cumulativedata.query('group == \"A\"').sort_values('date')\n",
    "cumulativedataB = cumulativedata.query('group == \"B\"').sort_values('date')\n",
    "\n",
    "# Grafik garis\n",
    "plt.figure(figsize=(15,8))\n",
    "plt.plot(cumulativedataA['date'], cumulativedataA['conversion_rate'], label='A')\n",
    "plt.plot(cumulativedataB['date'], cumulativedataB['conversion_rate'], label='B')\n",
    "plt.grid()\n",
    "plt.legend()"
   ]
  },
  {
   "cell_type": "markdown",
   "id": "9f20e36b",
   "metadata": {},
   "source": [
    "Pada awalnya group A memiliki tingkat konversi yang lebih tinggi, sampai tingkat konversi tertinggi pada tanggal 2019-08-03 lalu mengalami penurunan seterusnya.\n",
    "\n",
    "Tingkat konversi group B mulai menyusul group A pada tanggal 2019-08-06 sampai tingkat konversi tertinggi pada tanggal 2019-08-10 dan terus memimpin.\n",
    "\n",
    "Tingkat konversi group B pada awalnya sebesar 2,9% dan pada akhir periode sebesar 3,4%, group B mengalami peningkatan.\n",
    "\n",
    "Tingkat konversi group A pada awalnya sebesar 3,3% dan pada akhir periode sebesar 3%, group A mengalami penurunan."
   ]
  },
  {
   "cell_type": "markdown",
   "id": "5f992592",
   "metadata": {},
   "source": [
    "## Perbedaan relatif tingkat konversi kelompok"
   ]
  },
  {
   "cell_type": "code",
   "execution_count": 37,
   "id": "4a53597d",
   "metadata": {},
   "outputs": [],
   "source": [
    "# Membuat tabel perbandingan tingkat konversi\n",
    "conversion = cumulativedata.pivot_table(index='date', columns='group', \n",
    "                                        values='conversion_rate', aggfunc='mean').reset_index()\n",
    "\n",
    "# Ganti nama kolom\n",
    "conversion.columns = ['date', 'conv_rateA', 'conv_rateB']\n",
    "\n",
    "# Menghitung perbedaan conversion rate\n",
    "conversion['conv_diff'] = (conversion['conv_rateB'] / conversion['conv_rateA']) - 1"
   ]
  },
  {
   "cell_type": "code",
   "execution_count": 38,
   "id": "b7f871ea",
   "metadata": {},
   "outputs": [
    {
     "data": {
      "text/plain": [
       "<matplotlib.lines.Line2D at 0x19ee7824ca0>"
      ]
     },
     "execution_count": 38,
     "metadata": {},
     "output_type": "execute_result"
    },
    {
     "data": {
      "image/png": "[encoded data removed]",
      "text/plain": [
       "<Figure size 1500x800 with 1 Axes>"
      ]
     },
     "metadata": {},
     "output_type": "display_data"
    }
   ],
   "source": [
    "plt.figure(figsize=(15,8))\n",
    "plt.plot(conversion['date'], conversion['conv_diff'])\n",
    "plt.axhline(y=0, color='black', linestyle='--')\n",
    "plt.axhline(y=0.138, color='grey', linestyle='--')"
   ]
  },
  {
   "cell_type": "markdown",
   "id": "9e096751",
   "metadata": {},
   "source": [
    "Tingkat konversi group B terus mengalami peningkatan dan pada akhir periode tingkat konversi group B 14% lebih tinggi dari group A."
   ]
  },
  {
   "cell_type": "markdown",
   "id": "8aca03bd",
   "metadata": {},
   "source": [
    "## Pesanan per pengguna"
   ]
  },
  {
   "cell_type": "code",
   "execution_count": 39,
   "id": "36b5f952",
   "metadata": {},
   "outputs": [],
   "source": [
    "# Membuat tabel order per user\n",
    "orderperuser = orders[['visitorid','transactionid']].groupby('visitorid', as_index=False).agg({'transactionid':'nunique'})\n",
    "\n",
    "# Ganti nama kolom\n",
    "orderperuser.columns = ['visitorid', 'n_order']"
   ]
  },
  {
   "cell_type": "code",
   "execution_count": 40,
   "id": "c16f7b59",
   "metadata": {},
   "outputs": [
    {
     "data": {
      "text/plain": [
       "array([[<Axes: title={'center': 'n_order'}>]], dtype=object)"
      ]
     },
     "execution_count": 40,
     "metadata": {},
     "output_type": "execute_result"
    },
    {
     "data": {
      "image/png": "[encoded data removed]",
      "text/plain": [
       "<Figure size 640x480 with 1 Axes>"
      ]
     },
     "metadata": {},
     "output_type": "display_data"
    }
   ],
   "source": [
    "# Grafik histogram\n",
    "orderperuser.hist('n_order')"
   ]
  },
  {
   "cell_type": "markdown",
   "id": "0c6fd4fb",
   "metadata": {},
   "source": [
    "Jumlah pesanan per pengguna paling banyak di range 1-2 pesanan."
   ]
  },
  {
   "cell_type": "code",
   "execution_count": 41,
   "id": "c1485726",
   "metadata": {},
   "outputs": [
    {
     "data": {
      "text/plain": [
       "<matplotlib.collections.PathCollection at 0x19ee788f850>"
      ]
     },
     "execution_count": 41,
     "metadata": {},
     "output_type": "execute_result"
    },
    {
     "data": {
      "image/png": "[encoded data removed]",
      "text/plain": [
       "<Figure size 1500x800 with 1 Axes>"
      ]
     },
     "metadata": {},
     "output_type": "display_data"
    }
   ],
   "source": [
    "# Membuat sumbu x\n",
    "x = pd.Series(range(0,len(orderperuser)))\n",
    "\n",
    "# Grafik scatterplot\n",
    "plt.figure(figsize=(15,8))\n",
    "plt.scatter(x, orderperuser['n_order'])"
   ]
  },
  {
   "cell_type": "markdown",
   "id": "f1db5574",
   "metadata": {},
   "source": [
    "Terdapat pesanan per pengguna diatas 2, namun jumlah pesanan diatas 2 per pengguna sedikit."
   ]
  },
  {
   "cell_type": "code",
   "execution_count": 42,
   "id": "3d4edd82",
   "metadata": {},
   "outputs": [
    {
     "name": "stdout",
     "output_type": "stream",
     "text": [
      "[2. 4.]\n"
     ]
    }
   ],
   "source": [
    "# Persentil ke-95 dan ke-99 pesanan per pengguna\n",
    "print(np.percentile(orderperuser['n_order'],[95,99]))"
   ]
  },
  {
   "cell_type": "markdown",
   "id": "66493274",
   "metadata": {},
   "source": [
    "Pesanan per pengguna lebih dari 2 tidak melampaui 5% dan pesanan lebih dari 4 hanya berjumlah 1% dari total baris data."
   ]
  },
  {
   "cell_type": "markdown",
   "id": "f6ba8a2a",
   "metadata": {},
   "source": [
    "## Pendapatan"
   ]
  },
  {
   "cell_type": "code",
   "execution_count": 43,
   "id": "c1724c49",
   "metadata": {},
   "outputs": [
    {
     "data": {
      "text/plain": [
       "array([[<Axes: title={'center': 'revenue'}>]], dtype=object)"
      ]
     },
     "execution_count": 43,
     "metadata": {},
     "output_type": "execute_result"
    },
    {
     "data": {
      "image/png": "[encoded data removed]",
      "text/plain": [
       "<Figure size 640x480 with 1 Axes>"
      ]
     },
     "metadata": {},
     "output_type": "display_data"
    }
   ],
   "source": [
    "# Grafik histogram pendapatan\n",
    "orders.hist('revenue', range=(0,1000))"
   ]
  },
  {
   "cell_type": "markdown",
   "id": "1976083f",
   "metadata": {},
   "source": [
    "Pendapatan per transaksi paling banyak di range 0-200."
   ]
  },
  {
   "cell_type": "code",
   "execution_count": 44,
   "id": "f2250339",
   "metadata": {},
   "outputs": [
    {
     "data": {
      "text/plain": [
       "(0.0, 1500.0)"
      ]
     },
     "execution_count": 44,
     "metadata": {},
     "output_type": "execute_result"
    },
    {
     "data": {
      "image/png": "[encoded data removed]",
      "text/plain": [
       "<Figure size 1500x800 with 1 Axes>"
      ]
     },
     "metadata": {},
     "output_type": "display_data"
    }
   ],
   "source": [
    "# Membuat sumbu x\n",
    "x1 = pd.Series(range(0,len(orders)))\n",
    "\n",
    "# Grafik scatterplot\n",
    "plt.figure(figsize=(15,8))\n",
    "plt.scatter(x1, orders['revenue'])\n",
    "plt.ylim(0,1500)"
   ]
  },
  {
   "cell_type": "markdown",
   "id": "c914ff62",
   "metadata": {},
   "source": [
    "Terdapat pendapatan per transaksi diatas 400, namun jumlahnya sedikit."
   ]
  },
  {
   "cell_type": "code",
   "execution_count": 45,
   "id": "8ddb46a7",
   "metadata": {},
   "outputs": [
    {
     "name": "stdout",
     "output_type": "stream",
     "text": [
      "[435.54  900.904]\n"
     ]
    }
   ],
   "source": [
    "# Persentil ke-95 dan ke-99 pendapatan per transaksi\n",
    "print(np.percentile(orders['revenue'],[95,99]))"
   ]
  },
  {
   "cell_type": "markdown",
   "id": "063b73e0",
   "metadata": {},
   "source": [
    "Pendapatan per transaksi diatas 435 tidak melebihi 5% dan diatas 900 tidak melebihi 1% dari total baris data."
   ]
  },
  {
   "cell_type": "markdown",
   "id": "170cdd66",
   "metadata": {},
   "source": [
    "## Signifikansi statistik perbedaan konversi antar kelompok data mentah"
   ]
  },
  {
   "cell_type": "code",
   "execution_count": 46,
   "id": "f12fe866",
   "metadata": {
    "scrolled": false
   },
   "outputs": [],
   "source": [
    "# Irisan data jumlah transaksi A dan B\n",
    "ordersA = orders.query('group ==\"A\"').groupby('visitorid', as_index=False).agg({'transactionid':'nunique'})\n",
    "ordersB = orders.query('group ==\"B\"').groupby('visitorid', as_index=False).agg({'transactionid':'nunique'})\n",
    "\n",
    "# Jumlah total visits group A dan B\n",
    "visitsA = visits.query('group ==\"A\"')['visits'].sum()\n",
    "visitsB = visits.query('group ==\"B\"')['visits'].sum()\n",
    "\n",
    "# Membuat data series dengan nilai 0 untuk user yang tidak melakukan transaksi\n",
    "seriesA = pd.Series(0, index = np.arange(visitsA - len(ordersA['transactionid'])))\n",
    "seriesB = pd.Series(0, index = np.arange(visitsB - len(ordersB['transactionid'])))\n",
    "\n",
    "# Membuat data sample A dan B\n",
    "sampleA = pd.concat([ordersA['transactionid'], seriesA])\n",
    "sampleB = pd.concat([ordersB['transactionid'], seriesB])\n"
   ]
  },
  {
   "cell_type": "markdown",
   "id": "9e94aafe",
   "metadata": {},
   "source": [
    "Dari dataset akan diuji hipotesis :\n",
    "\n",
    "H0 : Konversi kelompok tidak berbeda signifikan secara statistik.\n",
    "\n",
    "Ha : Konversi kelompok berbeda signifikan secara statistik."
   ]
  },
  {
   "cell_type": "code",
   "execution_count": 47,
   "id": "516bb689",
   "metadata": {},
   "outputs": [
    {
     "name": "stdout",
     "output_type": "stream",
     "text": [
      "pvalue : 0.01679\n",
      "Kita menolak hipotesis nol\n",
      "\n",
      "Perbedaan relatif : 0.138\n"
     ]
    }
   ],
   "source": [
    "# Pengujian hipotesis\n",
    "pvalue_conv = stats.mannwhitneyu(sampleA, sampleB)[1]\n",
    "diff_conv = (sampleB.mean() / sampleA.mean()) -1\n",
    "\n",
    "alpha = 0.05\n",
    "\n",
    "print('pvalue :', '{0:.5f}'.format(pvalue_conv))\n",
    "\n",
    "if pvalue_conv < alpha :\n",
    "    print('Kita menolak hipotesis nol')\n",
    "else :\n",
    "    print('Kita tidak menolak hipotesis nol')\n",
    "\n",
    "print()\n",
    "print('Perbedaan relatif :', '{0:.3f}'.format(diff_conv))"
   ]
  },
  {
   "cell_type": "markdown",
   "id": "d97be74f",
   "metadata": {},
   "source": [
    "Konversi kelompok berbeda signifikan secara statistik. Perbedaan konversi relatif B terhadap A adalah 13,8%."
   ]
  },
  {
   "cell_type": "markdown",
   "id": "558484ce",
   "metadata": {},
   "source": [
    "## Signifikansi statistik perbedaan ukuran pendapatan rata-rata antar kelompok data mentah"
   ]
  },
  {
   "cell_type": "markdown",
   "id": "7c14593b",
   "metadata": {},
   "source": [
    "Dari dataset akan diuji hipotesis :\n",
    "\n",
    "H0 : Pendapatan rata-rata kelompok tidak berbeda signifikan secara statistik.\n",
    "\n",
    "Ha : Pendapatan rata-rata kelompok berbeda signifikan secara statistik."
   ]
  },
  {
   "cell_type": "code",
   "execution_count": 48,
   "id": "51bac89e",
   "metadata": {},
   "outputs": [],
   "source": [
    "# Irisan data pendapatan kelompok\n",
    "revenueA = orders.query('group == \"A\"')['revenue']\n",
    "revenueB = orders.query('group == \"B\"')['revenue']\n"
   ]
  },
  {
   "cell_type": "code",
   "execution_count": 49,
   "id": "e2ef40f3",
   "metadata": {},
   "outputs": [
    {
     "name": "stdout",
     "output_type": "stream",
     "text": [
      "pvalue : 0.69152\n",
      "Kita tidak menolak hipotesis nol\n",
      "\n",
      "Perbedaan relatif : 0.252\n"
     ]
    }
   ],
   "source": [
    "# Pengujian hipotesis\n",
    "pvalue_rev = stats.mannwhitneyu(revenueA, revenueB)[1]\n",
    "diff_rev = (revenueB.mean() / revenueA.mean()) -1\n",
    "\n",
    "alpha = 0.05\n",
    "\n",
    "print('pvalue :', '{0:.5f}'.format(pvalue_rev))\n",
    "\n",
    "if pvalue_rev < alpha :\n",
    "    print('Kita menolak hipotesis nol')\n",
    "else :\n",
    "    print('Kita tidak menolak hipotesis nol')\n",
    "\n",
    "print()\n",
    "print('Perbedaan relatif :', '{0:.3f}'.format(diff_rev))"
   ]
  },
  {
   "cell_type": "markdown",
   "id": "8afa23e8",
   "metadata": {},
   "source": [
    "Pendapatan rata-rata kelompok tidak berbeda signifikan secara statistik. Perbedaan relatif sebesar 25,2%."
   ]
  },
  {
   "cell_type": "markdown",
   "id": "bbc9b6b3",
   "metadata": {},
   "source": [
    "## Menentukan filter data"
   ]
  },
  {
   "cell_type": "markdown",
   "id": "94de004d",
   "metadata": {},
   "source": [
    "Pada bab **6.6** diketahui untuk persentil data ke-95 dan ke-99 adalah 2 dan 4 pesanan.\n",
    "\n",
    "Pada bab **6.7** diketahui untuk persentil data pendapatan ke-95 dan ke-99 adalah 435 dan 900.\n",
    "\n",
    "Para pengguna (`visitorid`) yang melakukan pembelian diatas 2 pesanan dengan nilai diatas 900 akan digolongkan sebagai anomali."
   ]
  },
  {
   "cell_type": "code",
   "execution_count": 50,
   "id": "9591111d",
   "metadata": {},
   "outputs": [],
   "source": [
    "# Membuat irisan data visitorid anomali\n",
    "visitorA = ordersA.query('transactionid > 2')\n",
    "visitorB = ordersB.query('transactionid > 2')\n",
    "high_revenue_visitor = orders.query('revenue > 900')\n",
    "\n",
    "# Membuat list visitorid anomali\n",
    "marked_visitorid = pd.concat([visitorA['visitorid'], visitorB['visitorid']])\n",
    "marked_visitorid = pd.concat([marked_visitorid, high_revenue_visitor['visitorid']]).drop_duplicates()"
   ]
  },
  {
   "cell_type": "code",
   "execution_count": 51,
   "id": "a305f138",
   "metadata": {},
   "outputs": [
    {
     "data": {
      "text/plain": [
       "18      199603092\n",
       "23      237748145\n",
       "68      611059232\n",
       "146    1230306981\n",
       "189    1614305549\n",
       "Name: visitorid, dtype: int64"
      ]
     },
     "execution_count": 51,
     "metadata": {},
     "output_type": "execute_result"
    }
   ],
   "source": [
    "# Cek list marked_visitorid\n",
    "marked_visitorid.head()"
   ]
  },
  {
   "cell_type": "markdown",
   "id": "a9808cd2",
   "metadata": {},
   "source": [
    "List marked_visitorid sudah berisi visitorid yang digolongkan sebagai anomali."
   ]
  },
  {
   "cell_type": "markdown",
   "id": "b4425ac6",
   "metadata": {},
   "source": [
    "## Signifikansi statistik perbedaan konversi antar kelompok data terfilter"
   ]
  },
  {
   "cell_type": "code",
   "execution_count": 52,
   "id": "0068758f",
   "metadata": {
    "scrolled": false
   },
   "outputs": [],
   "source": [
    "# Irisan data jumlah transaksi A dan B yang tidak terdapat dalam list marked_visitorid\n",
    "ordersA_filtered = ordersA[~ordersA['visitorid'].isin(marked_visitorid)]\n",
    "ordersB_filtered = ordersB[~ordersB['visitorid'].isin(marked_visitorid)]\n",
    "\n",
    "# Membuat data sample A dan B\n",
    "sampleA_filtered = pd.concat([ordersA_filtered['transactionid'], seriesA])\n",
    "sampleB_filtered = pd.concat([ordersB_filtered['transactionid'], seriesB])\n"
   ]
  },
  {
   "cell_type": "markdown",
   "id": "ea810eac",
   "metadata": {},
   "source": [
    "Dari dataset yang sudah difilter akan diuji hipotesis :\n",
    "\n",
    "H0 : Konversi kelompok tidak berbeda signifikan secara statistik.\n",
    "\n",
    "Ha : Konversi kelompok berbeda signifikan secara statistik."
   ]
  },
  {
   "cell_type": "code",
   "execution_count": 53,
   "id": "8578264c",
   "metadata": {},
   "outputs": [
    {
     "name": "stdout",
     "output_type": "stream",
     "text": [
      "pvalue : 0.01007\n",
      "Kita menolak hipotesis nol\n",
      "\n",
      "Perbedaan relatif : 0.174\n"
     ]
    }
   ],
   "source": [
    "# Pengujian hipotesis\n",
    "pvalue_conv1 = stats.mannwhitneyu(sampleA_filtered, sampleB_filtered)[1]\n",
    "diff_conv1 = (sampleB_filtered.mean() / sampleA_filtered.mean()) -1\n",
    "\n",
    "alpha = 0.05\n",
    "\n",
    "print('pvalue :', '{0:.5f}'.format(pvalue_conv1))\n",
    "\n",
    "if pvalue_conv1 < alpha :\n",
    "    print('Kita menolak hipotesis nol')\n",
    "else :\n",
    "    print('Kita tidak menolak hipotesis nol')\n",
    "\n",
    "print()\n",
    "print('Perbedaan relatif :', '{0:.3f}'.format(diff_conv1))"
   ]
  },
  {
   "cell_type": "markdown",
   "id": "c6e6a1de",
   "metadata": {},
   "source": [
    "Konversi kelompok berbeda signifikan secara statistik. Perbedaan konversi relatif B terhadap A adalah 17,4%."
   ]
  },
  {
   "cell_type": "markdown",
   "id": "8150cd37",
   "metadata": {},
   "source": [
    "## Signifikansi statistik perbedaan ukuran pendapatan rata-rata antar kelompok data terfilter"
   ]
  },
  {
   "cell_type": "markdown",
   "id": "656d3ee6",
   "metadata": {},
   "source": [
    "Dari dataset yang sudah difilter akan diuji hipotesis :\n",
    "\n",
    "H0 : Pendapatan rata-rata kelompok tidak berbeda signifikan secara statistik.\n",
    "\n",
    "Ha : Pendapatan rata-rata kelompok berbeda signifikan secara statistik."
   ]
  },
  {
   "cell_type": "code",
   "execution_count": 54,
   "id": "fd2b7fbd",
   "metadata": {},
   "outputs": [],
   "source": [
    "# Filter data orders\n",
    "orders_filtered = orders[~orders['visitorid'].isin(marked_visitorid)]\n",
    "\n",
    "# Irisan data pendapatan kelompok terfilter\n",
    "revenueA_filtered = orders_filtered.query('group == \"A\"')['revenue']\n",
    "revenueB_filtered = orders_filtered.query('group == \"B\"')['revenue']\n"
   ]
  },
  {
   "cell_type": "code",
   "execution_count": 55,
   "id": "35057837",
   "metadata": {},
   "outputs": [
    {
     "name": "stdout",
     "output_type": "stream",
     "text": [
      "pvalue : 0.84486\n",
      "Kita tidak menolak hipotesis nol\n",
      "\n",
      "Perbedaan relatif : -0.020\n"
     ]
    }
   ],
   "source": [
    "# Pengujian hipotesis\n",
    "pvalue_rev1 = stats.mannwhitneyu(revenueA_filtered, revenueB_filtered)[1]\n",
    "diff_rev1 = (revenueB_filtered.mean() / revenueA_filtered.mean()) -1\n",
    "\n",
    "alpha = 0.05\n",
    "\n",
    "print('pvalue :', '{0:.5f}'.format(pvalue_rev1))\n",
    "\n",
    "if pvalue_rev1 < alpha :\n",
    "    print('Kita menolak hipotesis nol')\n",
    "else :\n",
    "    print('Kita tidak menolak hipotesis nol')\n",
    "\n",
    "print()\n",
    "print('Perbedaan relatif :', '{0:.3f}'.format(diff_rev1))"
   ]
  },
  {
   "cell_type": "markdown",
   "id": "f064b8d4",
   "metadata": {},
   "source": [
    "Pendapatan rata-rata kelompok tidak berbeda signifikan secara statistik. Perbedaan relatif sebesar -2%."
   ]
  },
  {
   "cell_type": "markdown",
   "id": "80ecb69c",
   "metadata": {},
   "source": [
    "## Kesimpulan"
   ]
  },
  {
   "cell_type": "markdown",
   "id": "12bc17fa",
   "metadata": {},
   "source": [
    "Pendapatan kumulatif group B sebesar 92.840 lebih besar dari group A sebesar 64.555.\n",
    "\n",
    "Group B mulai memimpin pada tanggal 2019-08-02 dan terus bertahan. Terdapat lonjakan penjualan yang tinggi di grup B pada tanggal 2019-08-19. Kemungkinan terdapat pesanan dalam jumlah yang besar.\n",
    "\n",
    "Pada akhir periode, pendapatan rata-rata kumulatif group B sebesar 145 dan group A sebesar 116.\n",
    "\n",
    "Pada akhir periode pendapatan rata-rata kumulatif group B 25% diatas group A.\n",
    "\n",
    "Tingkat konversi kumulatif group B pada awalnya sebesar 2,9% dan pada akhir periode sebesar 3,4%, group B mengalami peningkatan.\n",
    "\n",
    "Tingkat konversi kumulatif group A pada awalnya sebesar 3,3% dan pada akhir periode sebesar 3%, group A mengalami penurunan.\n",
    "\n",
    "Tingkat konversi kumulatif group B terus mengalami peningkatan dan pada akhir periode tingkat konversi group B 14% lebih tinggi dari group A.\n",
    "\n",
    "\n",
    "Secara keseluruhan pada data :\n",
    "\n",
    "* Jumlah pesanan per pengguna paling banyak di range 1-2 pesanan.\n",
    "  \n",
    "  Persentil data pesanan ke-95 dan ke-99 adalah 2 dan 4 pesanan.\n",
    "  \n",
    "  Pesanan per pengguna lebih dari 2 tidak melampaui 5% dan pesanan lebih dari 4 hanya berjumlah 1% dari total baris data.\n",
    "\n",
    "\n",
    "- Pendapatan per transaksi paling banyak di range 0-200.\n",
    "  \n",
    "  Terdapat pendapatan per transaksi diatas 400, namun jumlahnya sedikit.\n",
    "\n",
    "  Persentil data pendapatan ke-95 dan ke-99 adalah 435 dan 900.\n",
    "\n",
    "  Pendapatan per transaksi diatas 435 tidak melebihi 5% dan diatas 900 tidak melebihi 1% dari total baris data.\n",
    "\n",
    "Para pengguna (`visitorid`) yang melakukan pembelian diatas 2 pesanan dengan nilai diatas 900 akan digolongkan sebagai anomali atau outlier. Hal ini dilakukan untuk membandingkan hasil pengujian hipotesis dengan dan tanpa nilai outlier.\n"
   ]
  },
  {
   "cell_type": "code",
   "execution_count": 56,
   "id": "832cbae0",
   "metadata": {},
   "outputs": [],
   "source": [
    "# Membuat tabel komparasi data dengan outlier dan tanpa outlier\n",
    "conversion = [[round(pvalue_conv,5), round(pvalue_conv1,5)],[round(diff_conv*100,2), round(diff_conv1*100,2)]]\n",
    "revenue = [[round(pvalue_rev,5), round(pvalue_rev1,5)],[round(diff_rev*100,2), round(diff_rev1*100,2)]]\n",
    "\n",
    "conversion_comp = pd.DataFrame(data=conversion, index=['p-value', 'difference_%'], columns=['with_outlier', 'no_outlier'])\n",
    "revenue_comp = pd.DataFrame(data=revenue, index=['p-value', 'difference_%'], columns=['with_outlier', 'no_outlier'])"
   ]
  },
  {
   "cell_type": "markdown",
   "id": "db53b172",
   "metadata": {},
   "source": [
    "**Perbedaan tingkat konversi antar kelompok :**"
   ]
  },
  {
   "cell_type": "code",
   "execution_count": 57,
   "id": "cae2c424",
   "metadata": {},
   "outputs": [
    {
     "data": {
      "text/html": [
       "<div>\n",
       "<style scoped>\n",
       "    .dataframe tbody tr th:only-of-type {\n",
       "        vertical-align: middle;\n",
       "    }\n",
       "\n",
       "    .dataframe tbody tr th {\n",
       "        vertical-align: top;\n",
       "    }\n",
       "\n",
       "    .dataframe thead th {\n",
       "        text-align: right;\n",
       "    }\n",
       "</style>\n",
       "<table border=\"1\" class=\"dataframe\">\n",
       "  <thead>\n",
       "    <tr style=\"text-align: right;\">\n",
       "      <th></th>\n",
       "      <th>with_outlier</th>\n",
       "      <th>no_outlier</th>\n",
       "    </tr>\n",
       "  </thead>\n",
       "  <tbody>\n",
       "    <tr>\n",
       "      <th>p-value</th>\n",
       "      <td>0.01679</td>\n",
       "      <td>0.01007</td>\n",
       "    </tr>\n",
       "    <tr>\n",
       "      <th>difference_%</th>\n",
       "      <td>13.81000</td>\n",
       "      <td>17.43000</td>\n",
       "    </tr>\n",
       "  </tbody>\n",
       "</table>\n",
       "</div>"
      ],
      "text/plain": [
       "              with_outlier  no_outlier\n",
       "p-value            0.01679     0.01007\n",
       "difference_%      13.81000    17.43000"
      ]
     },
     "execution_count": 57,
     "metadata": {},
     "output_type": "execute_result"
    }
   ],
   "source": [
    "conversion_comp"
   ]
  },
  {
   "cell_type": "markdown",
   "id": "81a46a42",
   "metadata": {},
   "source": [
    "Hasil dari pengujian hipotesis tingkat konversi dengan dan tanpa outlier menunjukkan nilai p-value < 0.05 pada kedua data.\n",
    "\n",
    "Nilai ini menunjukkan bahwa, tingkat konversi kelompok berbeda signifikan secara statistik.\n",
    "\n",
    "Perbedaan tingkat konversi relatif B terhadap A adalah 13,8% dengan outlier dan 17,4% tanpa outlier. Tingkat konversi yang dihasilkan group B lebih tinggi dari group A."
   ]
  },
  {
   "cell_type": "markdown",
   "id": "c973b2a5",
   "metadata": {},
   "source": [
    "**Perbedaan ukuran pendapatan antar kelompok :**"
   ]
  },
  {
   "cell_type": "code",
   "execution_count": 58,
   "id": "09756fe2",
   "metadata": {},
   "outputs": [
    {
     "data": {
      "text/html": [
       "<div>\n",
       "<style scoped>\n",
       "    .dataframe tbody tr th:only-of-type {\n",
       "        vertical-align: middle;\n",
       "    }\n",
       "\n",
       "    .dataframe tbody tr th {\n",
       "        vertical-align: top;\n",
       "    }\n",
       "\n",
       "    .dataframe thead th {\n",
       "        text-align: right;\n",
       "    }\n",
       "</style>\n",
       "<table border=\"1\" class=\"dataframe\">\n",
       "  <thead>\n",
       "    <tr style=\"text-align: right;\">\n",
       "      <th></th>\n",
       "      <th>with_outlier</th>\n",
       "      <th>no_outlier</th>\n",
       "    </tr>\n",
       "  </thead>\n",
       "  <tbody>\n",
       "    <tr>\n",
       "      <th>p-value</th>\n",
       "      <td>0.69152</td>\n",
       "      <td>0.84486</td>\n",
       "    </tr>\n",
       "    <tr>\n",
       "      <th>difference_%</th>\n",
       "      <td>25.17000</td>\n",
       "      <td>-1.97000</td>\n",
       "    </tr>\n",
       "  </tbody>\n",
       "</table>\n",
       "</div>"
      ],
      "text/plain": [
       "              with_outlier  no_outlier\n",
       "p-value            0.69152     0.84486\n",
       "difference_%      25.17000    -1.97000"
      ]
     },
     "execution_count": 58,
     "metadata": {},
     "output_type": "execute_result"
    }
   ],
   "source": [
    "revenue_comp"
   ]
  },
  {
   "cell_type": "markdown",
   "id": "118ef147",
   "metadata": {},
   "source": [
    "Hasil dari pengujian hipotesis ukuran pendapatan dengan dan tanpa outlier menunjukkan nilai p-value > 0.05 pada kedua data.\n",
    "\n",
    "Nilai ini menunjukkan bahwa, pendapatan rata-rata kelompok tidak berbeda signifikan secara statistik.\n",
    "\n",
    "Perbedaan pendapatan rata-rata relatif B terhadap A adalah 25% dengan outlier dan -2% tanpa outlier. Tampaknya pendapatan group B sangat dipengaruhi oleh nilai outlier, kemungkinan karena adanya lonjakan penjualan yang tinggi pada tanggal 2019-08-19."
   ]
  },
  {
   "cell_type": "markdown",
   "id": "7c10428f",
   "metadata": {},
   "source": [
    "# Kesimpulan"
   ]
  },
  {
   "cell_type": "markdown",
   "id": "367d0e8c",
   "metadata": {},
   "source": [
    "Terdapat 3 dataset yang diberikan, dari dataset dilakukan optimalisasi dan perbaikan sebagai berikut :\n",
    "\n",
    "1. **Data hypothesis :**\n",
    "\n",
    "   Besaran data tidak berubah.\n",
    "\n",
    "   **Informasi yang terdapat pada data :**\n",
    "\n",
    "   `hypothesis` — Deskripsi singkat tentang hipotesis.\n",
    "\n",
    "   `reach` — Jangkauan pengguna, dalam skala satu hingga sepuluh.\n",
    "\n",
    "   `impact` — Dampak terhadap pengguna, dalam skala satu hingga sepuluh.\n",
    "\n",
    "   `confidence` — Keyakinan pada hipotesis, dalam skala satu sampai sepuluh.\n",
    "\n",
    "   `effort` — Sumber daya yang diperlukan untuk menguji hipotesis, dalam skala satu sampai sepuluh.\n",
    "\n",
    "   **Perbaikan yang dilakukan pada data :**\n",
    "     1. Merubah nama kolom menjadi lowercase.\n",
    "   \n",
    " 2. **Data orders :**\n",
    " \n",
    "    Besaran data berubah dari 174,3 KB menjadi 38,9 KB.\n",
    "\n",
    "    **Informasi yang terdapat pada data :**\n",
    "\n",
    "    `transactionid` — ID pesanan.\n",
    "\n",
    "    `visitorid` — ID pengguna.\n",
    "\n",
    "    `date` — tanggal dibuatnya pesanan.\n",
    "\n",
    "    `revenue` — pendapatan dari pesanan.\n",
    "\n",
    "    `group` — kelompok A/B. \n",
    "\n",
    "    **Optimalisasi pada data :**\n",
    "     1. Format kolom `date` menjadi datetime.\n",
    "\n",
    "    **Perbaikan yang dilakukan pada data :**\n",
    "     1. Merubah nama kolom menjadi lowercase.\n",
    "     \n",
    " 3. **Data visits :**\n",
    " \n",
    "    Besaran data berubah dari 8,2 KB menjadi 4,6 KB.\n",
    "\n",
    "    **Informasi yang terdapat pada data :**\n",
    "\n",
    "    `date` — Tanggal\n",
    "\n",
    "    `group` — Kelompok A/B.\n",
    "\n",
    "    `visits` — Jumlah kunjungan.\n",
    "\n",
    "    **Optimalisasi pada data :**\n",
    "     1. Format kolom `date` menjadi datetime.\n",
    "\n",
    "\n"
   ]
  },
  {
   "cell_type": "markdown",
   "id": "3610f6ac",
   "metadata": {},
   "source": [
    "**Prioritas hipotesis berdasarkan skor RICE dan ICE**\n",
    "\n",
    "Berdasarkan skor RICE 5 prioritas hipotesis tertinggi dengan urutan :\n",
    "\n",
    "1. hypothesis_8, Add a subscription form to all the main pages. This will help you compile a mailing list.\n",
    "2. hypothesis_3, Add product recommendation blocks to the store's site. This will increase conversion and average purchase size\n",
    "3. hypothesis_1, Add two new channels for attracting traffic. This will bring 30% more users.\n",
    "4. hypothesis_7, Show banners with current offers and sales on the main page. This will boost conversion.\n",
    "5. hypothesis_9, Launch a promotion that gives users discounts on their birthdays.\t\n",
    "\n",
    "Berdasarkan skor ICE 5 prioritas hipotesis tertinggi dengan urutan : \n",
    "\n",
    "1. hypothesis_9, Launch a promotion that gives users discounts on their birthdays.\n",
    "2. hypothesis_1, Add two new channels for attracting traffic. This will bring 30% more users.\n",
    "3. hypothesis_8, Add a subscription form to all the main pages. This will help you compile a mailing list.\n",
    "4. hypothesis_7, Show banners with current offers and sales on the main page. This will boost conversion.\n",
    "5. hypothesis_3, Add product recommendation blocks to the store's site. This will increase conversion and average purchase size.\n",
    "\n",
    "hypothesis_8 memiliki skor RICE tertinggi yang disebabkan skor reach tinggi dan skor effort sedang. hypothesis_9 memiliki skor ICE tertinggi namun tidak menjadi prioritas tertinggi pada framework RICE yang disebabkan skor reach yang rendah walaupun hipotesis ini memiliki skor impact dan confidence yang tinggi."
   ]
  },
  {
   "cell_type": "markdown",
   "id": "7d0dbed3",
   "metadata": {},
   "source": [
    "**A/B Testing**\n",
    "\n",
    "Pendapatan kumulatif group B sebesar 92.840 lebih besar dari group A sebesar 64.555.\n",
    "\n",
    "Group B mulai memimpin pada tanggal 2019-08-02 dan terus bertahan. Terdapat lonjakan penjualan yang tinggi di grup B pada tanggal 2019-08-19. Kemungkinan terdapat pesanan dalam jumlah yang besar.\n",
    "\n",
    "Pada akhir periode, pendapatan rata-rata kumulatif group B sebesar 145 dan group A sebesar 116.\n",
    "\n",
    "Pada akhir periode pendapatan rata-rata kumulatif group B 25% diatas group A.\n",
    "\n",
    "Tingkat konversi kumulatif group B pada awalnya sebesar 2,9% dan pada akhir periode sebesar 3,4%, group B mengalami peningkatan.\n",
    "\n",
    "Tingkat konversi kumulatif group A pada awalnya sebesar 3,3% dan pada akhir periode sebesar 3%, group A mengalami penurunan.\n",
    "\n",
    "Tingkat konversi kumulatif group B terus mengalami peningkatan dan pada akhir periode tingkat konversi group B 14% lebih tinggi dari group A.\n",
    "\n",
    "\n",
    "Secara keseluruhan pada data orders :\n",
    "\n",
    "* Jumlah pesanan per pengguna paling banyak di range 1-2 pesanan.\n",
    "  \n",
    "  Persentil data pesanan ke-95 dan ke-99 adalah 2 dan 4 pesanan.\n",
    "  \n",
    "  Pesanan per pengguna lebih dari 2 tidak melampaui 5% dan pesanan lebih dari 4 hanya berjumlah 1% dari total baris data.\n",
    "\n",
    "\n",
    "- Pendapatan per transaksi paling banyak di range 0-200.\n",
    "  \n",
    "  Terdapat pendapatan per transaksi diatas 400, namun jumlahnya sedikit.\n",
    "\n",
    "  Persentil data pendapatan ke-95 dan ke-99 adalah 435 dan 900.\n",
    "\n",
    "  Pendapatan per transaksi diatas 435 tidak melebihi 5% dan diatas 900 tidak melebihi 1% dari total baris data.\n",
    "\n",
    "Para pengguna (`visitorid`) yang melakukan pembelian diatas 2 pesanan dengan nilai diatas 900 akan digolongkan sebagai anomali atau outlier. Hal ini dilakukan untuk membandingkan hasil pengujian hipotesis dengan dan tanpa nilai outlier.\n"
   ]
  },
  {
   "cell_type": "markdown",
   "id": "e943585b",
   "metadata": {},
   "source": [
    "**Perbedaan tingkat konversi antar kelompok :**"
   ]
  },
  {
   "cell_type": "code",
   "execution_count": 59,
   "id": "289beae4",
   "metadata": {},
   "outputs": [
    {
     "data": {
      "text/html": [
       "<div>\n",
       "<style scoped>\n",
       "    .dataframe tbody tr th:only-of-type {\n",
       "        vertical-align: middle;\n",
       "    }\n",
       "\n",
       "    .dataframe tbody tr th {\n",
       "        vertical-align: top;\n",
       "    }\n",
       "\n",
       "    .dataframe thead th {\n",
       "        text-align: right;\n",
       "    }\n",
       "</style>\n",
       "<table border=\"1\" class=\"dataframe\">\n",
       "  <thead>\n",
       "    <tr style=\"text-align: right;\">\n",
       "      <th></th>\n",
       "      <th>with_outlier</th>\n",
       "      <th>no_outlier</th>\n",
       "    </tr>\n",
       "  </thead>\n",
       "  <tbody>\n",
       "    <tr>\n",
       "      <th>p-value</th>\n",
       "      <td>0.01679</td>\n",
       "      <td>0.01007</td>\n",
       "    </tr>\n",
       "    <tr>\n",
       "      <th>difference_%</th>\n",
       "      <td>13.81000</td>\n",
       "      <td>17.43000</td>\n",
       "    </tr>\n",
       "  </tbody>\n",
       "</table>\n",
       "</div>"
      ],
      "text/plain": [
       "              with_outlier  no_outlier\n",
       "p-value            0.01679     0.01007\n",
       "difference_%      13.81000    17.43000"
      ]
     },
     "execution_count": 59,
     "metadata": {},
     "output_type": "execute_result"
    }
   ],
   "source": [
    "conversion_comp"
   ]
  },
  {
   "cell_type": "markdown",
   "id": "502e6022",
   "metadata": {},
   "source": [
    "Hasil dari pengujian hipotesis tingkat konversi dengan dan tanpa outlier menunjukkan nilai p-value < 0.05 pada kedua data.\n",
    "\n",
    "Nilai ini menunjukkan bahwa, tingkat konversi kelompok berbeda signifikan secara statistik.\n",
    "\n",
    "Perbedaan tingkat konversi relatif B terhadap A adalah 13,8% dengan outlier dan 17.4% tanpa outlier. Tingkat konversi yang dihasilkan group B lebih tinggi dari group A."
   ]
  },
  {
   "cell_type": "markdown",
   "id": "293d7c3d",
   "metadata": {},
   "source": [
    "**Perbedaan ukuran pendapatan antar kelompok :**"
   ]
  },
  {
   "cell_type": "code",
   "execution_count": 60,
   "id": "7290a107",
   "metadata": {},
   "outputs": [
    {
     "data": {
      "text/html": [
       "<div>\n",
       "<style scoped>\n",
       "    .dataframe tbody tr th:only-of-type {\n",
       "        vertical-align: middle;\n",
       "    }\n",
       "\n",
       "    .dataframe tbody tr th {\n",
       "        vertical-align: top;\n",
       "    }\n",
       "\n",
       "    .dataframe thead th {\n",
       "        text-align: right;\n",
       "    }\n",
       "</style>\n",
       "<table border=\"1\" class=\"dataframe\">\n",
       "  <thead>\n",
       "    <tr style=\"text-align: right;\">\n",
       "      <th></th>\n",
       "      <th>with_outlier</th>\n",
       "      <th>no_outlier</th>\n",
       "    </tr>\n",
       "  </thead>\n",
       "  <tbody>\n",
       "    <tr>\n",
       "      <th>p-value</th>\n",
       "      <td>0.69152</td>\n",
       "      <td>0.84486</td>\n",
       "    </tr>\n",
       "    <tr>\n",
       "      <th>difference_%</th>\n",
       "      <td>25.17000</td>\n",
       "      <td>-1.97000</td>\n",
       "    </tr>\n",
       "  </tbody>\n",
       "</table>\n",
       "</div>"
      ],
      "text/plain": [
       "              with_outlier  no_outlier\n",
       "p-value            0.69152     0.84486\n",
       "difference_%      25.17000    -1.97000"
      ]
     },
     "execution_count": 60,
     "metadata": {},
     "output_type": "execute_result"
    }
   ],
   "source": [
    "revenue_comp"
   ]
  },
  {
   "cell_type": "markdown",
   "id": "e9b78b37",
   "metadata": {},
   "source": [
    "Hasil dari pengujian hipotesis ukuran pendapatan dengan dan tanpa outlier menunjukkan nilai p-value > 0.05 pada kedua data.\n",
    "\n",
    "Nilai ini menunjukkan bahwa, pendapatan rata-rata kelompok tidak berbeda signifikan secara statistik.\n",
    "\n",
    "Perbedaan pendapatan rata-rata relatif B terhadap A adalah 25% dengan outlier dan -2% tanpa outlier. Tampaknya pendapatan group B sangat dipengaruhi oleh nilai outlier, kemungkinan karena adanya lonjakan penjualan yang tinggi pada tanggal 2019-08-19."
   ]
  },
  {
   "cell_type": "markdown",
   "id": "98053011",
   "metadata": {},
   "source": [
    "**Keputusan :**\n",
    "\n",
    "Berdasarkan hasil yang ada maka pengujian ini dihentikan dengan menetapkan group B sebagai pemenangnya. Group B secara statistik memiliki tingkat konversi yang berbeda signifikan dengan group A dan group B menghasilkan tingkat konversi yang lebih tinggi dari group A walaupun tidak terdapat perbedaan yang signifikan secara statistik pada pendapatan rata-rata kelompok."
   ]
  },
  {
   "cell_type": "code",
   "execution_count": null,
   "id": "52f53029",
   "metadata": {},
   "outputs": [],
   "source": []
  }
 ],
 "metadata": {
  "kernelspec": {
   "display_name": "Python 3 (ipykernel)",
   "language": "python",
   "name": "python3"
  },
  "language_info": {
   "codemirror_mode": {
    "name": "ipython",
    "version": 3
   },
   "file_extension": ".py",
   "mimetype": "text/x-python",
   "name": "python",
   "nbconvert_exporter": "python",
   "pygments_lexer": "ipython3",
   "version": "3.10.11"
  },
  "toc": {
   "base_numbering": 1,
   "nav_menu": {},
   "number_sections": true,
   "sideBar": true,
   "skip_h1_title": false,
   "title_cell": "Table of Contents",
   "title_sidebar": "Contents",
   "toc_cell": false,
   "toc_position": {
    "height": "calc(100% - 180px)",
    "left": "10px",
    "top": "150px",
    "width": "384px"
   },
   "toc_section_display": true,
   "toc_window_display": true
  }
 },
 "nbformat": 4,
 "nbformat_minor": 5
}
