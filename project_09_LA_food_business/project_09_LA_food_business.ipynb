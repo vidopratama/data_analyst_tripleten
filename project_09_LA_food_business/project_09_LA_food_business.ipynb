{
 "cells": [
  {
   "cell_type": "markdown",
   "id": "94c646c0",
   "metadata": {},
   "source": [
    "# Pendahuluan"
   ]
  },
  {
   "cell_type": "markdown",
   "id": "fbd4b584",
   "metadata": {},
   "source": [
    "Dari data yang tersedia akan digunakan untuk melihat bisnis makanan yang ada di LA dan informasi yang bisa didapatkan dari data."
   ]
  },
  {
   "cell_type": "markdown",
   "id": "53b39adb",
   "metadata": {},
   "source": [
    "# Inisialisasi"
   ]
  },
  {
   "cell_type": "code",
   "execution_count": 1,
   "id": "c22fa538",
   "metadata": {},
   "outputs": [],
   "source": [
    "# Memuat library\n",
    "import pandas as pd\n",
    "import numpy as np\n",
    "import matplotlib.pyplot as plt\n",
    "import seaborn as sns\n",
    "import re\n",
    "import usaddress"
   ]
  },
  {
   "cell_type": "code",
   "execution_count": 2,
   "id": "afb3f690",
   "metadata": {},
   "outputs": [],
   "source": [
    "# Menampilkan semua kolom\n",
    "pd.set_option('display.max_columns', None)\n",
    "\n",
    "# Lebar kolom max\n",
    "pd.set_option('display.max_colwidth', None)"
   ]
  },
  {
   "cell_type": "markdown",
   "id": "9493aa4f",
   "metadata": {},
   "source": [
    "# Memuat data"
   ]
  },
  {
   "cell_type": "code",
   "execution_count": 3,
   "id": "94781ce9",
   "metadata": {},
   "outputs": [],
   "source": [
    "try :\n",
    "    data = pd.read_csv(r'C:\\Users\\vidop\\Documents\\Practicum\\Sprint 9\\File\\rest_data_us.csv')\n",
    "\n",
    "except :\n",
    "    data = pd.read_csv('/datasets/rest_data_us.csv')\n",
    "    "
   ]
  },
  {
   "cell_type": "markdown",
   "id": "46795e52",
   "metadata": {},
   "source": [
    "# Memeriksa dan memperbaiki data"
   ]
  },
  {
   "cell_type": "markdown",
   "id": "c4191047",
   "metadata": {},
   "source": [
    "## Memeriksa data"
   ]
  },
  {
   "cell_type": "code",
   "execution_count": 4,
   "id": "5fce9347",
   "metadata": {},
   "outputs": [
    {
     "name": "stdout",
     "output_type": "stream",
     "text": [
      "Data memiliki baris dan kolom : (9651, 6)\n",
      "\n",
      "Data memiliki nilai yang hilang pada kolom :\n",
      "id             0\n",
      "object_name    0\n",
      "address        0\n",
      "chain          3\n",
      "object_type    0\n",
      "number         0\n",
      "dtype: int64\n",
      "\n",
      "Tidak terdapat duplikat eksplisit dalam data\n",
      "\n",
      "<class 'pandas.core.frame.DataFrame'>\n",
      "RangeIndex: 9651 entries, 0 to 9650\n",
      "Data columns (total 6 columns):\n",
      " #   Column       Non-Null Count  Dtype \n",
      "---  ------       --------------  ----- \n",
      " 0   id           9651 non-null   int64 \n",
      " 1   object_name  9651 non-null   object\n",
      " 2   address      9651 non-null   object\n",
      " 3   chain        9648 non-null   object\n",
      " 4   object_type  9651 non-null   object\n",
      " 5   number       9651 non-null   int64 \n",
      "dtypes: int64(2), object(4)\n",
      "memory usage: 452.5+ KB\n",
      "None\n",
      "\n",
      "                 id       number\n",
      "count   9651.000000  9651.000000\n",
      "mean   16611.000000    43.695161\n",
      "std     2786.148058    47.622874\n",
      "min    11786.000000     1.000000\n",
      "25%    14198.500000    14.000000\n",
      "50%    16611.000000    27.000000\n",
      "75%    19023.500000    46.000000\n",
      "max    21436.000000   229.000000\n",
      "\n",
      "      id          object_name                    address  chain object_type  \\\n",
      "0  11786  HABITAT COFFEE SHOP     3708 N EAGLE ROCK BLVD  False        Cafe   \n",
      "1  11787             REILLY'S        100 WORLD WAY # 120  False  Restaurant   \n",
      "2  11788       STREET CHURROS  6801 HOLLYWOOD BLVD # 253  False   Fast Food   \n",
      "3  11789    TRINITI ECHO PARK         1814 W SUNSET BLVD  False  Restaurant   \n",
      "4  11790               POLLEN         2100 ECHO PARK AVE  False  Restaurant   \n",
      "\n",
      "   number  \n",
      "0      26  \n",
      "1       9  \n",
      "2      20  \n",
      "3      22  \n",
      "4      20  \n"
     ]
    }
   ],
   "source": [
    "# Memeriksa data\n",
    "na = data.isna().sum().sum()\n",
    "dup = data.duplicated().sum()\n",
    "print('Data memiliki baris dan kolom :', data.shape)\n",
    "print()\n",
    "if na > 0 :\n",
    "    print('Data memiliki nilai yang hilang pada kolom :')\n",
    "    print(data.isna().sum())\n",
    "else :\n",
    "    print('Tidak terdapat nilai yang hilang pada data')\n",
    "print()\n",
    "if dup > 0 :\n",
    "    print('Data memiliki duplikat eksplisit sebesar', dup, 'baris')\n",
    "else : \n",
    "    print('Tidak terdapat duplikat eksplisit dalam data')\n",
    "print()\n",
    "print(data.info())\n",
    "print()\n",
    "print(data.describe())\n",
    "print()\n",
    "print(data.head())\n"
   ]
  },
  {
   "cell_type": "markdown",
   "id": "479204ef",
   "metadata": {},
   "source": [
    "**Informasi yang terdapat dalam data :**\n",
    "\n",
    "- object_name — nama usaha.\n",
    "- chain — TRUE = Waralaba, FALSE = Non Waralaba.\n",
    "- object_type — jenis usaha.\n",
    "- address — alamat.\n",
    "- number — jumlah kursi."
   ]
  },
  {
   "cell_type": "markdown",
   "id": "87f018c5",
   "metadata": {},
   "source": [
    "**Masalah pada data :**\n",
    "\n",
    "1. Terdapat nilai yang hilang pada kolom chain."
   ]
  },
  {
   "cell_type": "markdown",
   "id": "9104d304",
   "metadata": {},
   "source": [
    "## Memperbaiki data"
   ]
  },
  {
   "cell_type": "code",
   "execution_count": 5,
   "id": "becb038e",
   "metadata": {},
   "outputs": [
    {
     "data": {
      "text/html": [
       "<div>\n",
       "<style scoped>\n",
       "    .dataframe tbody tr th:only-of-type {\n",
       "        vertical-align: middle;\n",
       "    }\n",
       "\n",
       "    .dataframe tbody tr th {\n",
       "        vertical-align: top;\n",
       "    }\n",
       "\n",
       "    .dataframe thead th {\n",
       "        text-align: right;\n",
       "    }\n",
       "</style>\n",
       "<table border=\"1\" class=\"dataframe\">\n",
       "  <thead>\n",
       "    <tr style=\"text-align: right;\">\n",
       "      <th></th>\n",
       "      <th>id</th>\n",
       "      <th>object_name</th>\n",
       "      <th>address</th>\n",
       "      <th>chain</th>\n",
       "      <th>object_type</th>\n",
       "      <th>number</th>\n",
       "    </tr>\n",
       "  </thead>\n",
       "  <tbody>\n",
       "    <tr>\n",
       "      <th>7408</th>\n",
       "      <td>19194</td>\n",
       "      <td>TAQUERIA LOS 3 CARNALES</td>\n",
       "      <td>5000 E WHITTIER BLVD</td>\n",
       "      <td>NaN</td>\n",
       "      <td>Restaurant</td>\n",
       "      <td>14</td>\n",
       "    </tr>\n",
       "    <tr>\n",
       "      <th>7523</th>\n",
       "      <td>19309</td>\n",
       "      <td>JAMMIN JIMMY'S PIZZA</td>\n",
       "      <td>1641 FIRESTONE BLVD</td>\n",
       "      <td>NaN</td>\n",
       "      <td>Pizza</td>\n",
       "      <td>1</td>\n",
       "    </tr>\n",
       "    <tr>\n",
       "      <th>8648</th>\n",
       "      <td>20434</td>\n",
       "      <td>THE LEXINGTON THEATER</td>\n",
       "      <td>129 E 3RD ST</td>\n",
       "      <td>NaN</td>\n",
       "      <td>Restaurant</td>\n",
       "      <td>35</td>\n",
       "    </tr>\n",
       "  </tbody>\n",
       "</table>\n",
       "</div>"
      ],
      "text/plain": [
       "         id              object_name               address chain object_type  \\\n",
       "7408  19194  TAQUERIA LOS 3 CARNALES  5000 E WHITTIER BLVD   NaN  Restaurant   \n",
       "7523  19309     JAMMIN JIMMY'S PIZZA   1641 FIRESTONE BLVD   NaN       Pizza   \n",
       "8648  20434    THE LEXINGTON THEATER          129 E 3RD ST   NaN  Restaurant   \n",
       "\n",
       "      number  \n",
       "7408      14  \n",
       "7523       1  \n",
       "8648      35  "
      ]
     },
     "execution_count": 5,
     "metadata": {},
     "output_type": "execute_result"
    }
   ],
   "source": [
    "# Memeriksa data dengan chain Na\n",
    "data.query('chain.isna()')"
   ]
  },
  {
   "cell_type": "code",
   "execution_count": 6,
   "id": "8ef3f987",
   "metadata": {},
   "outputs": [
    {
     "data": {
      "text/plain": [
       "0.031084861672365557"
      ]
     },
     "execution_count": 6,
     "metadata": {},
     "output_type": "execute_result"
    }
   ],
   "source": [
    "# Menghitung persentase baris data chain  Na\n",
    "\n",
    "(len(data.query('chain.isna()')) / len(data)) * 100"
   ]
  },
  {
   "cell_type": "markdown",
   "id": "58dc1dd9",
   "metadata": {},
   "source": [
    "Terdapat 3 baris data dengan nilai chain yang hilang, sekitar 0.03% dari total baris data. Data ini akan dihapus."
   ]
  },
  {
   "cell_type": "code",
   "execution_count": 7,
   "id": "95b204d5",
   "metadata": {},
   "outputs": [],
   "source": [
    "# Memfilter data tanpa nilai chain yang hilang\n",
    "data = data[~data['chain'].isna()]"
   ]
  },
  {
   "cell_type": "code",
   "execution_count": 8,
   "id": "96de997f",
   "metadata": {},
   "outputs": [
    {
     "data": {
      "text/plain": [
       "id             0\n",
       "object_name    0\n",
       "address        0\n",
       "chain          0\n",
       "object_type    0\n",
       "number         0\n",
       "dtype: int64"
      ]
     },
     "execution_count": 8,
     "metadata": {},
     "output_type": "execute_result"
    }
   ],
   "source": [
    "# Cek kembali nilai yang hilang**Informasi yang terdapat dalam data :**\n",
    "\n",
    "data.isna().sum()"
   ]
  },
  {
   "cell_type": "markdown",
   "id": "181e40fe",
   "metadata": {},
   "source": [
    "Sudah tidak terdapat nilai yang hilang dalam data."
   ]
  },
  {
   "cell_type": "markdown",
   "id": "e9bd5352",
   "metadata": {},
   "source": [
    "## Kesimpulan"
   ]
  },
  {
   "cell_type": "code",
   "execution_count": 9,
   "id": "e0662c39",
   "metadata": {},
   "outputs": [
    {
     "name": "stdout",
     "output_type": "stream",
     "text": [
      "<class 'pandas.core.frame.DataFrame'>\n",
      "Index: 9648 entries, 0 to 9650\n",
      "Data columns (total 6 columns):\n",
      " #   Column       Non-Null Count  Dtype \n",
      "---  ------       --------------  ----- \n",
      " 0   id           9648 non-null   int64 \n",
      " 1   object_name  9648 non-null   object\n",
      " 2   address      9648 non-null   object\n",
      " 3   chain        9648 non-null   object\n",
      " 4   object_type  9648 non-null   object\n",
      " 5   number       9648 non-null   int64 \n",
      "dtypes: int64(2), object(4)\n",
      "memory usage: 527.6+ KB\n"
     ]
    }
   ],
   "source": [
    "data.info()"
   ]
  },
  {
   "cell_type": "markdown",
   "id": "55129fd9",
   "metadata": {},
   "source": [
    "Jumlah baris data berubah dari 9.651 menjadi 9.648.\n",
    "\n",
    "**Informasi yang terdapat dalam data :**\n",
    "\n",
    "- object_name — nama usaha.\n",
    "- chain — TRUE = Waralaba, FALSE = Non Waralaba.\n",
    "- object_type — jenis usaha.\n",
    "- address — alamat.\n",
    "- number — jumlah kursi."
   ]
  },
  {
   "cell_type": "markdown",
   "id": "0ffaa45b",
   "metadata": {},
   "source": [
    "**Masalah pada data :**\n",
    "\n",
    "1. Terdapat nilai yang hilang pada kolom chain.\n",
    "\n",
    "**Perbaikan pada data :**\n",
    "\n",
    "1. Menghapus data chain dengan nilai na."
   ]
  },
  {
   "cell_type": "markdown",
   "id": "f0862d88",
   "metadata": {},
   "source": [
    "# Eksplorasi data"
   ]
  },
  {
   "cell_type": "markdown",
   "id": "1e11f598",
   "metadata": {},
   "source": [
    "## Jenis Usaha"
   ]
  },
  {
   "cell_type": "code",
   "execution_count": 10,
   "id": "33d3a661",
   "metadata": {
    "scrolled": false
   },
   "outputs": [
    {
     "data": {
      "text/plain": [
       "<seaborn.axisgrid.FacetGrid at 0x2e3a32f7130>"
      ]
     },
     "execution_count": 10,
     "metadata": {},
     "output_type": "execute_result"
    },
    {
     "data": {
      "image/png": "[encoded data removed]",
      "text/plain": [
       "<Figure size 900x600 with 1 Axes>"
      ]
     },
     "metadata": {},
     "output_type": "display_data"
    }
   ],
   "source": [
    "# Grafik bar seaborn\n",
    "sns.set_style('whitegrid')\n",
    "btype = sns.catplot(data=data, x='object_type', kind='count', palette='deep', height=6, aspect=1.5)\n",
    "btype.set(title = 'Business Type', xlabel='')\n"
   ]
  },
  {
   "cell_type": "markdown",
   "id": "0ba4bf9e",
   "metadata": {},
   "source": [
    "Secara keseluruhan jenis usaha Restaurant berjumlah paling banyak dan Bakery berjumlah paling sedikit."
   ]
  },
  {
   "cell_type": "code",
   "execution_count": 11,
   "id": "de852b90",
   "metadata": {},
   "outputs": [
    {
     "data": {
      "text/html": [
       "<div>\n",
       "<style scoped>\n",
       "    .dataframe tbody tr th:only-of-type {\n",
       "        vertical-align: middle;\n",
       "    }\n",
       "\n",
       "    .dataframe tbody tr th {\n",
       "        vertical-align: top;\n",
       "    }\n",
       "\n",
       "    .dataframe thead th {\n",
       "        text-align: right;\n",
       "    }\n",
       "</style>\n",
       "<table border=\"1\" class=\"dataframe\">\n",
       "  <thead>\n",
       "    <tr style=\"text-align: right;\">\n",
       "      <th></th>\n",
       "      <th>business_type</th>\n",
       "      <th>count</th>\n",
       "    </tr>\n",
       "  </thead>\n",
       "  <tbody>\n",
       "    <tr>\n",
       "      <th>0</th>\n",
       "      <td>Restaurant</td>\n",
       "      <td>7253</td>\n",
       "    </tr>\n",
       "    <tr>\n",
       "      <th>1</th>\n",
       "      <td>Fast Food</td>\n",
       "      <td>1066</td>\n",
       "    </tr>\n",
       "    <tr>\n",
       "      <th>2</th>\n",
       "      <td>Cafe</td>\n",
       "      <td>435</td>\n",
       "    </tr>\n",
       "    <tr>\n",
       "      <th>3</th>\n",
       "      <td>Pizza</td>\n",
       "      <td>319</td>\n",
       "    </tr>\n",
       "    <tr>\n",
       "      <th>4</th>\n",
       "      <td>Bar</td>\n",
       "      <td>292</td>\n",
       "    </tr>\n",
       "    <tr>\n",
       "      <th>5</th>\n",
       "      <td>Bakery</td>\n",
       "      <td>283</td>\n",
       "    </tr>\n",
       "  </tbody>\n",
       "</table>\n",
       "</div>"
      ],
      "text/plain": [
       "  business_type  count\n",
       "0    Restaurant   7253\n",
       "1     Fast Food   1066\n",
       "2          Cafe    435\n",
       "3         Pizza    319\n",
       "4           Bar    292\n",
       "5        Bakery    283"
      ]
     },
     "execution_count": 11,
     "metadata": {},
     "output_type": "execute_result"
    }
   ],
   "source": [
    "# Membuat table data jenis usaha keseluruhan\n",
    "btype_table = data.groupby('object_type')['id'].count().sort_values(ascending=False).reset_index()\n",
    "btype_table.columns = ['business_type', 'count']\n",
    "\n",
    "btype_table"
   ]
  },
  {
   "cell_type": "markdown",
   "id": "3b7e4929",
   "metadata": {},
   "source": [
    "3 Jenis usaha terbanyak adalah Restaurant, Fast Food dan Cafe."
   ]
  },
  {
   "cell_type": "code",
   "execution_count": 12,
   "id": "17679696",
   "metadata": {},
   "outputs": [],
   "source": [
    "# Export data ke excel\n",
    "btype_table.to_excel(r'C:\\Users\\vidop\\Documents\\Practicum\\Sprint 9\\Export\\btype_table.xlsx',\n",
    "                    index=False)"
   ]
  },
  {
   "cell_type": "markdown",
   "id": "b72f8ad6",
   "metadata": {},
   "source": [
    "## Jenis Usaha Waralaba"
   ]
  },
  {
   "cell_type": "code",
   "execution_count": 13,
   "id": "0ff7c2aa",
   "metadata": {
    "scrolled": true
   },
   "outputs": [
    {
     "data": {
      "text/plain": [
       "<seaborn.axisgrid.FacetGrid at 0x2e3a3e47640>"
      ]
     },
     "execution_count": 13,
     "metadata": {},
     "output_type": "execute_result"
    },
    {
     "data": {
      "image/png": "[encoded data removed]",
      "text/plain": [
       "<Figure size 900x600 with 1 Axes>"
      ]
     },
     "metadata": {},
     "output_type": "display_data"
    }
   ],
   "source": [
    "# Grafik bar seaborn\n",
    "f_btype = sns.catplot(data=data[data['chain'] == True], x='object_type', kind='count', palette='deep', height=6, aspect=1.5)\n",
    "f_btype.set(title = 'Franchise Business Type', xlabel='')"
   ]
  },
  {
   "cell_type": "markdown",
   "id": "175bf55c",
   "metadata": {},
   "source": [
    "Pada bisnis Waralaba, jenis usaha Restaurant berjumlah paling banyak dan Bar paling sedikit."
   ]
  },
  {
   "cell_type": "code",
   "execution_count": 14,
   "id": "8f9d7d89",
   "metadata": {},
   "outputs": [
    {
     "data": {
      "text/html": [
       "<div>\n",
       "<style scoped>\n",
       "    .dataframe tbody tr th:only-of-type {\n",
       "        vertical-align: middle;\n",
       "    }\n",
       "\n",
       "    .dataframe tbody tr th {\n",
       "        vertical-align: top;\n",
       "    }\n",
       "\n",
       "    .dataframe thead th {\n",
       "        text-align: right;\n",
       "    }\n",
       "</style>\n",
       "<table border=\"1\" class=\"dataframe\">\n",
       "  <thead>\n",
       "    <tr style=\"text-align: right;\">\n",
       "      <th></th>\n",
       "      <th>business_type</th>\n",
       "      <th>count</th>\n",
       "    </tr>\n",
       "  </thead>\n",
       "  <tbody>\n",
       "    <tr>\n",
       "      <th>0</th>\n",
       "      <td>Restaurant</td>\n",
       "      <td>2292</td>\n",
       "    </tr>\n",
       "    <tr>\n",
       "      <th>1</th>\n",
       "      <td>Fast Food</td>\n",
       "      <td>605</td>\n",
       "    </tr>\n",
       "    <tr>\n",
       "      <th>2</th>\n",
       "      <td>Bakery</td>\n",
       "      <td>283</td>\n",
       "    </tr>\n",
       "    <tr>\n",
       "      <th>3</th>\n",
       "      <td>Cafe</td>\n",
       "      <td>266</td>\n",
       "    </tr>\n",
       "    <tr>\n",
       "      <th>4</th>\n",
       "      <td>Pizza</td>\n",
       "      <td>153</td>\n",
       "    </tr>\n",
       "    <tr>\n",
       "      <th>5</th>\n",
       "      <td>Bar</td>\n",
       "      <td>77</td>\n",
       "    </tr>\n",
       "  </tbody>\n",
       "</table>\n",
       "</div>"
      ],
      "text/plain": [
       "  business_type  count\n",
       "0    Restaurant   2292\n",
       "1     Fast Food    605\n",
       "2        Bakery    283\n",
       "3          Cafe    266\n",
       "4         Pizza    153\n",
       "5           Bar     77"
      ]
     },
     "execution_count": 14,
     "metadata": {},
     "output_type": "execute_result"
    }
   ],
   "source": [
    "# Membuat table data jenis usaha waralaba\n",
    "f_btype_table = data[data['chain'] == True].groupby('object_type')['id'].count().sort_values(ascending=False).reset_index()\n",
    "f_btype_table.columns = ['business_type', 'count']\n",
    "\n",
    "f_btype_table"
   ]
  },
  {
   "cell_type": "markdown",
   "id": "5e663989",
   "metadata": {},
   "source": [
    "3 jenis usaha waralaba terbanyak adalah Restaurant, Fast Food dan Bakery."
   ]
  },
  {
   "cell_type": "code",
   "execution_count": 15,
   "id": "1228ea1d",
   "metadata": {},
   "outputs": [],
   "source": [
    "# Export data ke excel\n",
    "f_btype_table.to_excel(r'C:\\Users\\vidop\\Documents\\Practicum\\Sprint 9\\Export\\f_btype_table.xlsx',\n",
    "                    index=False)"
   ]
  },
  {
   "cell_type": "markdown",
   "id": "84cd9f8e",
   "metadata": {},
   "source": [
    "## Jenis Usaha Non-Waralaba"
   ]
  },
  {
   "cell_type": "code",
   "execution_count": 16,
   "id": "a0e04c71",
   "metadata": {
    "scrolled": true
   },
   "outputs": [
    {
     "data": {
      "text/plain": [
       "<seaborn.axisgrid.FacetGrid at 0x2e3a3ef0370>"
      ]
     },
     "execution_count": 16,
     "metadata": {},
     "output_type": "execute_result"
    },
    {
     "data": {
      "image/png": "[encoded data removed]",
      "text/plain": [
       "<Figure size 900x600 with 1 Axes>"
      ]
     },
     "metadata": {},
     "output_type": "display_data"
    }
   ],
   "source": [
    "# Grafik bar seaborn\n",
    "f_btype = sns.catplot(data=data[data['chain'] == False], x='object_type', kind='count', palette='deep', height=6, aspect=1.5)\n",
    "f_btype.set(title = 'Non-Franchise Business Type', xlabel='')"
   ]
  },
  {
   "cell_type": "markdown",
   "id": "20d93818",
   "metadata": {},
   "source": [
    "Pada bisnis non-waralaba, jenis usaha Restaurant berjumlah paling banyak dan Pizza paling sedikit."
   ]
  },
  {
   "cell_type": "code",
   "execution_count": 17,
   "id": "ef03641e",
   "metadata": {
    "scrolled": true
   },
   "outputs": [
    {
     "data": {
      "text/html": [
       "<div>\n",
       "<style scoped>\n",
       "    .dataframe tbody tr th:only-of-type {\n",
       "        vertical-align: middle;\n",
       "    }\n",
       "\n",
       "    .dataframe tbody tr th {\n",
       "        vertical-align: top;\n",
       "    }\n",
       "\n",
       "    .dataframe thead th {\n",
       "        text-align: right;\n",
       "    }\n",
       "</style>\n",
       "<table border=\"1\" class=\"dataframe\">\n",
       "  <thead>\n",
       "    <tr style=\"text-align: right;\">\n",
       "      <th></th>\n",
       "      <th>business_type</th>\n",
       "      <th>count</th>\n",
       "    </tr>\n",
       "  </thead>\n",
       "  <tbody>\n",
       "    <tr>\n",
       "      <th>0</th>\n",
       "      <td>Restaurant</td>\n",
       "      <td>4961</td>\n",
       "    </tr>\n",
       "    <tr>\n",
       "      <th>1</th>\n",
       "      <td>Fast Food</td>\n",
       "      <td>461</td>\n",
       "    </tr>\n",
       "    <tr>\n",
       "      <th>2</th>\n",
       "      <td>Bar</td>\n",
       "      <td>215</td>\n",
       "    </tr>\n",
       "    <tr>\n",
       "      <th>3</th>\n",
       "      <td>Cafe</td>\n",
       "      <td>169</td>\n",
       "    </tr>\n",
       "    <tr>\n",
       "      <th>4</th>\n",
       "      <td>Pizza</td>\n",
       "      <td>166</td>\n",
       "    </tr>\n",
       "  </tbody>\n",
       "</table>\n",
       "</div>"
      ],
      "text/plain": [
       "  business_type  count\n",
       "0    Restaurant   4961\n",
       "1     Fast Food    461\n",
       "2           Bar    215\n",
       "3          Cafe    169\n",
       "4         Pizza    166"
      ]
     },
     "execution_count": 17,
     "metadata": {},
     "output_type": "execute_result"
    }
   ],
   "source": [
    "# Membuat table data jenis usaha non-waralaba\n",
    "nf_btype_table = data[data['chain'] == False].groupby('object_type')['id'].count().sort_values(ascending=False).reset_index()\n",
    "nf_btype_table.columns = ['business_type', 'count']\n",
    "\n",
    "nf_btype_table"
   ]
  },
  {
   "cell_type": "markdown",
   "id": "70d3ed40",
   "metadata": {},
   "source": [
    "3 jenis usaha non-waralaba terbanyak adalah Restaurant, Fast Food dan Bar."
   ]
  },
  {
   "cell_type": "code",
   "execution_count": 18,
   "id": "73195339",
   "metadata": {},
   "outputs": [],
   "source": [
    "# Export data ke excel\n",
    "nf_btype_table.to_excel(r'C:\\Users\\vidop\\Documents\\Practicum\\Sprint 9\\Export\\nf_btype_table.xlsx',\n",
    "                    index=False)"
   ]
  },
  {
   "cell_type": "markdown",
   "id": "44fd5c1a",
   "metadata": {},
   "source": [
    "## Perbandingan Kepemilikan Jenis Usaha Waralaba dan Non-Waralaba"
   ]
  },
  {
   "cell_type": "code",
   "execution_count": 19,
   "id": "d70dbcbd",
   "metadata": {
    "scrolled": true
   },
   "outputs": [
    {
     "data": {
      "text/html": [
       "<div>\n",
       "<style scoped>\n",
       "    .dataframe tbody tr th:only-of-type {\n",
       "        vertical-align: middle;\n",
       "    }\n",
       "\n",
       "    .dataframe tbody tr th {\n",
       "        vertical-align: top;\n",
       "    }\n",
       "\n",
       "    .dataframe thead th {\n",
       "        text-align: right;\n",
       "    }\n",
       "</style>\n",
       "<table border=\"1\" class=\"dataframe\">\n",
       "  <thead>\n",
       "    <tr style=\"text-align: right;\">\n",
       "      <th></th>\n",
       "      <th>business_type</th>\n",
       "      <th>count_franchise</th>\n",
       "      <th>count_non_franchise</th>\n",
       "      <th>total</th>\n",
       "      <th>franchise_pct</th>\n",
       "    </tr>\n",
       "  </thead>\n",
       "  <tbody>\n",
       "    <tr>\n",
       "      <th>2</th>\n",
       "      <td>Bakery</td>\n",
       "      <td>283</td>\n",
       "      <td>0</td>\n",
       "      <td>283</td>\n",
       "      <td>100.0</td>\n",
       "    </tr>\n",
       "    <tr>\n",
       "      <th>3</th>\n",
       "      <td>Cafe</td>\n",
       "      <td>266</td>\n",
       "      <td>169</td>\n",
       "      <td>435</td>\n",
       "      <td>61.0</td>\n",
       "    </tr>\n",
       "    <tr>\n",
       "      <th>1</th>\n",
       "      <td>Fast Food</td>\n",
       "      <td>605</td>\n",
       "      <td>461</td>\n",
       "      <td>1066</td>\n",
       "      <td>57.0</td>\n",
       "    </tr>\n",
       "    <tr>\n",
       "      <th>4</th>\n",
       "      <td>Pizza</td>\n",
       "      <td>153</td>\n",
       "      <td>166</td>\n",
       "      <td>319</td>\n",
       "      <td>48.0</td>\n",
       "    </tr>\n",
       "    <tr>\n",
       "      <th>0</th>\n",
       "      <td>Restaurant</td>\n",
       "      <td>2292</td>\n",
       "      <td>4961</td>\n",
       "      <td>7253</td>\n",
       "      <td>32.0</td>\n",
       "    </tr>\n",
       "    <tr>\n",
       "      <th>5</th>\n",
       "      <td>Bar</td>\n",
       "      <td>77</td>\n",
       "      <td>215</td>\n",
       "      <td>292</td>\n",
       "      <td>26.0</td>\n",
       "    </tr>\n",
       "  </tbody>\n",
       "</table>\n",
       "</div>"
      ],
      "text/plain": [
       "  business_type  count_franchise  count_non_franchise  total  franchise_pct\n",
       "2        Bakery              283                    0    283          100.0\n",
       "3          Cafe              266                  169    435           61.0\n",
       "1     Fast Food              605                  461   1066           57.0\n",
       "4         Pizza              153                  166    319           48.0\n",
       "0    Restaurant             2292                 4961   7253           32.0\n",
       "5           Bar               77                  215    292           26.0"
      ]
     },
     "execution_count": 19,
     "metadata": {},
     "output_type": "execute_result"
    }
   ],
   "source": [
    "# Membuat tabel perbandingan \n",
    "comp_table = f_btype_table.merge(nf_btype_table, left_on='business_type', right_on='business_type', how='outer',\n",
    "                                suffixes=('_franchise', '_non_franchise')).fillna(0)\n",
    "\n",
    "comp_table = comp_table.merge(btype_table, left_on='business_type', right_on='business_type', how='outer')\n",
    "\n",
    "comp_table['count_non_franchise'] = comp_table['count_non_franchise'].astype('int')\n",
    "\n",
    "comp_table = comp_table.rename(columns={'count':'total'})\n",
    "\n",
    "# Menghitung persentase waralaba tiap jenis usaha\n",
    "comp_table['franchise_pct'] = round((comp_table['count_franchise'] / comp_table['total'])*100)\n",
    "\n",
    "comp_table = comp_table.sort_values('franchise_pct', ascending=False)\n",
    "\n",
    "comp_table"
   ]
  },
  {
   "cell_type": "markdown",
   "id": "6d297699",
   "metadata": {},
   "source": [
    "Jenis usaha Bakery tampaknya memiliki kepemilikian bisnis waralaba 100%, tidak ada kepemilikan non-waralaba di jenis usaha ini.\n",
    "\n",
    "Jenis usaha Bar memiliki persentase kepemilikan bisnis waralaba terkecil sebesar 26%."
   ]
  },
  {
   "cell_type": "code",
   "execution_count": 20,
   "id": "e39563a6",
   "metadata": {
    "scrolled": true
   },
   "outputs": [
    {
     "data": {
      "text/plain": [
       "<seaborn.axisgrid.FacetGrid at 0x2e3a3f739a0>"
      ]
     },
     "execution_count": 20,
     "metadata": {},
     "output_type": "execute_result"
    },
    {
     "data": {
      "image/png": "[encoded data removed]",
      "text/plain": [
       "<Figure size 900x600 with 1 Axes>"
      ]
     },
     "metadata": {},
     "output_type": "display_data"
    }
   ],
   "source": [
    "# Grafik bar seaborn\n",
    "comp_btype = sns.catplot(data=comp_table, x='business_type', y='franchise_pct',\n",
    "                         kind='bar', palette='deep', height=6, aspect=1.5)\n",
    "comp_btype.set(title = 'Franchise and Non-Franchise Business Type Ownership Comparison', xlabel='')\n"
   ]
  },
  {
   "cell_type": "markdown",
   "id": "7f6e156a",
   "metadata": {},
   "source": [
    "Bisnis waralaba paling banyak pada jenis usaha Bakery dan paling sedikit pada Bar."
   ]
  },
  {
   "cell_type": "code",
   "execution_count": 21,
   "id": "ab47498a",
   "metadata": {},
   "outputs": [],
   "source": [
    "# Export data ke excel\n",
    "comp_table.to_excel(r'C:\\Users\\vidop\\Documents\\Practicum\\Sprint 9\\Export\\comp_table.xlsx',\n",
    "                    index=False)"
   ]
  },
  {
   "cell_type": "markdown",
   "id": "fb67907d",
   "metadata": {},
   "source": [
    "## Ciri-ciri Usaha Waralaba"
   ]
  },
  {
   "cell_type": "code",
   "execution_count": 22,
   "id": "b8968935",
   "metadata": {
    "scrolled": true
   },
   "outputs": [],
   "source": [
    "# Menghitung rata-rata jumlah lokasi dan kursi\n",
    "loc_seat = data.pivot_table(index=['chain', 'object_name'], values=['address', 'number'], \n",
    "                    aggfunc={'address':'count', 'number':'sum'}).reset_index()\n",
    "\n",
    "loc_seat_avg= round(loc_seat.groupby('chain').agg(avg_location=('address','mean'),\n",
    "                                                  avg_seat=('number','mean')).reset_index(),2)"
   ]
  },
  {
   "cell_type": "code",
   "execution_count": 23,
   "id": "04d7dc0f",
   "metadata": {
    "scrolled": true
   },
   "outputs": [
    {
     "data": {
      "image/png": "[encoded data removed]",
      "text/plain": [
       "<Figure size 500x500 with 1 Axes>"
      ]
     },
     "metadata": {},
     "output_type": "display_data"
    }
   ],
   "source": [
    "# Grafik batang avg location\n",
    "loc_comp = sns.catplot(data=loc_seat_avg, y='avg_location', x='chain', kind='bar', palette='deep')\n",
    "loc_comp.set(title = 'Franchise and Non-Franchise Average Location Comparison', xlabel='')\n",
    "\n",
    "plt.legend(labels=['True = Franchise', 'False = Non-Franchise'])\n",
    "plt.show(loc_comp)"
   ]
  },
  {
   "cell_type": "markdown",
   "id": "2cb1386d",
   "metadata": {},
   "source": [
    "Secara keseluruhan bisnis waralaba memiliki lebih banyak lokasi."
   ]
  },
  {
   "cell_type": "code",
   "execution_count": 24,
   "id": "a788026c",
   "metadata": {
    "scrolled": true
   },
   "outputs": [
    {
     "data": {
      "image/png": "[encoded data removed]",
      "text/plain": [
       "<Figure size 500x500 with 1 Axes>"
      ]
     },
     "metadata": {},
     "output_type": "display_data"
    }
   ],
   "source": [
    "# Grafik batang avg seat\n",
    "loc_comp = sns.catplot(data=loc_seat_avg, y='avg_seat', x='chain', kind='bar', palette='deep')\n",
    "loc_comp.set(title = 'Franchise and Non-Franchise Average Seat Comparison', xlabel='')\n",
    "\n",
    "plt.legend(labels=['True = Franchise', 'False = Non-Franchise'])\n",
    "plt.show(loc_comp)"
   ]
  },
  {
   "cell_type": "markdown",
   "id": "212f4f14",
   "metadata": {},
   "source": [
    "Secara keseluruhan bisnis waralaba memiliki lebih banyak jumlah kursi."
   ]
  },
  {
   "cell_type": "code",
   "execution_count": 25,
   "id": "b236d585",
   "metadata": {},
   "outputs": [
    {
     "data": {
      "text/html": [
       "<div>\n",
       "<style scoped>\n",
       "    .dataframe tbody tr th:only-of-type {\n",
       "        vertical-align: middle;\n",
       "    }\n",
       "\n",
       "    .dataframe tbody tr th {\n",
       "        vertical-align: top;\n",
       "    }\n",
       "\n",
       "    .dataframe thead th {\n",
       "        text-align: right;\n",
       "    }\n",
       "</style>\n",
       "<table border=\"1\" class=\"dataframe\">\n",
       "  <thead>\n",
       "    <tr style=\"text-align: right;\">\n",
       "      <th></th>\n",
       "      <th>chain</th>\n",
       "      <th>avg_location</th>\n",
       "      <th>avg_seat</th>\n",
       "    </tr>\n",
       "  </thead>\n",
       "  <tbody>\n",
       "    <tr>\n",
       "      <th>0</th>\n",
       "      <td>False</td>\n",
       "      <td>1.00</td>\n",
       "      <td>46.40</td>\n",
       "    </tr>\n",
       "    <tr>\n",
       "      <th>1</th>\n",
       "      <td>True</td>\n",
       "      <td>1.35</td>\n",
       "      <td>53.39</td>\n",
       "    </tr>\n",
       "  </tbody>\n",
       "</table>\n",
       "</div>"
      ],
      "text/plain": [
       "   chain  avg_location  avg_seat\n",
       "0  False          1.00     46.40\n",
       "1   True          1.35     53.39"
      ]
     },
     "execution_count": 25,
     "metadata": {},
     "output_type": "execute_result"
    }
   ],
   "source": [
    "# Perbandingan keduanya\n",
    "loc_seat_avg"
   ]
  },
  {
   "cell_type": "markdown",
   "id": "fe1f3239",
   "metadata": {},
   "source": [
    "Secara keseluruhan jenis usaha, bisnis waralaba memiliki jumlah lokasi dan kursi lebih banyak daripada bisnis non-waralaba."
   ]
  },
  {
   "cell_type": "code",
   "execution_count": 26,
   "id": "ef878640",
   "metadata": {},
   "outputs": [],
   "source": [
    "# Export data ke excel\n",
    "loc_seat_avg.to_excel(r'C:\\Users\\vidop\\Documents\\Practicum\\Sprint 9\\Export\\loc_seat.xlsx',\n",
    "                    index=False)"
   ]
  },
  {
   "cell_type": "markdown",
   "id": "f348d5c1",
   "metadata": {},
   "source": [
    "## Rata-rata Jumlah Kursi Jenis Usaha"
   ]
  },
  {
   "cell_type": "code",
   "execution_count": 27,
   "id": "5a53bc0e",
   "metadata": {},
   "outputs": [],
   "source": [
    "# Membuat tabel jumlah rata-rata kursi tiap jenis usaha \n",
    "seat_avg_table = round(data.pivot_table(index='object_type',\n",
    "                                        values='number', aggfunc='mean'),2).reset_index()\n",
    "\n",
    "seat_avg_table = seat_avg_table.sort_values(by='number', ascending=False)"
   ]
  },
  {
   "cell_type": "code",
   "execution_count": 28,
   "id": "0009a3d2",
   "metadata": {
    "scrolled": true
   },
   "outputs": [
    {
     "data": {
      "text/plain": [
       "<seaborn.axisgrid.FacetGrid at 0x2e3a7c8b8b0>"
      ]
     },
     "execution_count": 28,
     "metadata": {},
     "output_type": "execute_result"
    },
    {
     "data": {
      "image/png": "[encoded data removed]",
      "text/plain": [
       "<Figure size 900x600 with 1 Axes>"
      ]
     },
     "metadata": {},
     "output_type": "display_data"
    }
   ],
   "source": [
    "# Grafik bar seaborn\n",
    "seat = sns.catplot(data=seat_avg_table, x='object_type', y='number', kind='bar', palette='deep', height=6, aspect=1.5)\n",
    "seat.set(title= 'Average Number of Seat', xlabel='')"
   ]
  },
  {
   "cell_type": "markdown",
   "id": "ca388c16",
   "metadata": {},
   "source": [
    "Secara keseluruhan jenis usaha Restaurant memiliki jumlah kursi terbanyak dan Bakery paling sedikit."
   ]
  },
  {
   "cell_type": "code",
   "execution_count": 29,
   "id": "96c3d752",
   "metadata": {},
   "outputs": [
    {
     "data": {
      "text/html": [
       "<div>\n",
       "<style scoped>\n",
       "    .dataframe tbody tr th:only-of-type {\n",
       "        vertical-align: middle;\n",
       "    }\n",
       "\n",
       "    .dataframe tbody tr th {\n",
       "        vertical-align: top;\n",
       "    }\n",
       "\n",
       "    .dataframe thead th {\n",
       "        text-align: right;\n",
       "    }\n",
       "</style>\n",
       "<table border=\"1\" class=\"dataframe\">\n",
       "  <thead>\n",
       "    <tr style=\"text-align: right;\">\n",
       "      <th></th>\n",
       "      <th>object_type</th>\n",
       "      <th>number</th>\n",
       "    </tr>\n",
       "  </thead>\n",
       "  <tbody>\n",
       "    <tr>\n",
       "      <th>5</th>\n",
       "      <td>Restaurant</td>\n",
       "      <td>48.05</td>\n",
       "    </tr>\n",
       "    <tr>\n",
       "      <th>1</th>\n",
       "      <td>Bar</td>\n",
       "      <td>44.77</td>\n",
       "    </tr>\n",
       "    <tr>\n",
       "      <th>3</th>\n",
       "      <td>Fast Food</td>\n",
       "      <td>31.84</td>\n",
       "    </tr>\n",
       "    <tr>\n",
       "      <th>4</th>\n",
       "      <td>Pizza</td>\n",
       "      <td>28.55</td>\n",
       "    </tr>\n",
       "    <tr>\n",
       "      <th>2</th>\n",
       "      <td>Cafe</td>\n",
       "      <td>25.00</td>\n",
       "    </tr>\n",
       "    <tr>\n",
       "      <th>0</th>\n",
       "      <td>Bakery</td>\n",
       "      <td>21.77</td>\n",
       "    </tr>\n",
       "  </tbody>\n",
       "</table>\n",
       "</div>"
      ],
      "text/plain": [
       "  object_type  number\n",
       "5  Restaurant   48.05\n",
       "1         Bar   44.77\n",
       "3   Fast Food   31.84\n",
       "4       Pizza   28.55\n",
       "2        Cafe   25.00\n",
       "0      Bakery   21.77"
      ]
     },
     "execution_count": 29,
     "metadata": {},
     "output_type": "execute_result"
    }
   ],
   "source": [
    "seat_avg_table"
   ]
  },
  {
   "cell_type": "markdown",
   "id": "45d11a63",
   "metadata": {},
   "source": [
    "3 jenis usaha yang memiliki jumlah kursi terbanyak adalah Restaurant, Bar dan Fast Food."
   ]
  },
  {
   "cell_type": "code",
   "execution_count": 30,
   "id": "39d0c1b0",
   "metadata": {},
   "outputs": [],
   "source": [
    "# Export data ke excel\n",
    "seat_avg_table.to_excel(r'C:\\Users\\vidop\\Documents\\Practicum\\Sprint 9\\Export\\seat_avg_total.xlsx',\n",
    "                    index=False)"
   ]
  },
  {
   "cell_type": "markdown",
   "id": "5e23981b",
   "metadata": {},
   "source": [
    "## Rata-rata Jumlah Kursi Jenis Usaha Waralaba"
   ]
  },
  {
   "cell_type": "code",
   "execution_count": 31,
   "id": "ae133126",
   "metadata": {},
   "outputs": [],
   "source": [
    "# Membuat tabel jumlah rata-rata kursi tiap jenis usaha waralaba\n",
    "f_seat_avg_table = round(data[data['chain']==True].pivot_table(index='object_type',\n",
    "                                                               values='number', aggfunc='mean'),2).reset_index()\n",
    "\n",
    "f_seat_avg_table = f_seat_avg_table.sort_values(by='number', ascending=False)"
   ]
  },
  {
   "cell_type": "code",
   "execution_count": 32,
   "id": "c4f63259",
   "metadata": {
    "scrolled": true
   },
   "outputs": [
    {
     "data": {
      "text/plain": [
       "<seaborn.axisgrid.FacetGrid at 0x2e3a7dbf100>"
      ]
     },
     "execution_count": 32,
     "metadata": {},
     "output_type": "execute_result"
    },
    {
     "data": {
      "image/png": "[encoded data removed]",
      "text/plain": [
       "<Figure size 900x600 with 1 Axes>"
      ]
     },
     "metadata": {},
     "output_type": "display_data"
    }
   ],
   "source": [
    "# Grafik bar seaborn\n",
    "seat = sns.catplot(data=f_seat_avg_table, x='object_type', y='number', kind='bar', palette='deep', height=6, aspect=1.5)\n",
    "seat.set(title= 'Franchise Average Number of Seat', xlabel='')"
   ]
  },
  {
   "cell_type": "markdown",
   "id": "6c9e533c",
   "metadata": {},
   "source": [
    "Pada bisnis waralaba jenis usaha Restaurant memiliki jumlah kursi terbanyak dan Bakery paling sedikit."
   ]
  },
  {
   "cell_type": "code",
   "execution_count": 33,
   "id": "8ed5fefd",
   "metadata": {},
   "outputs": [
    {
     "data": {
      "text/html": [
       "<div>\n",
       "<style scoped>\n",
       "    .dataframe tbody tr th:only-of-type {\n",
       "        vertical-align: middle;\n",
       "    }\n",
       "\n",
       "    .dataframe tbody tr th {\n",
       "        vertical-align: top;\n",
       "    }\n",
       "\n",
       "    .dataframe thead th {\n",
       "        text-align: right;\n",
       "    }\n",
       "</style>\n",
       "<table border=\"1\" class=\"dataframe\">\n",
       "  <thead>\n",
       "    <tr style=\"text-align: right;\">\n",
       "      <th></th>\n",
       "      <th>object_type</th>\n",
       "      <th>number</th>\n",
       "    </tr>\n",
       "  </thead>\n",
       "  <tbody>\n",
       "    <tr>\n",
       "      <th>5</th>\n",
       "      <td>Restaurant</td>\n",
       "      <td>44.86</td>\n",
       "    </tr>\n",
       "    <tr>\n",
       "      <th>1</th>\n",
       "      <td>Bar</td>\n",
       "      <td>40.26</td>\n",
       "    </tr>\n",
       "    <tr>\n",
       "      <th>3</th>\n",
       "      <td>Fast Food</td>\n",
       "      <td>38.09</td>\n",
       "    </tr>\n",
       "    <tr>\n",
       "      <th>2</th>\n",
       "      <td>Cafe</td>\n",
       "      <td>25.92</td>\n",
       "    </tr>\n",
       "    <tr>\n",
       "      <th>4</th>\n",
       "      <td>Pizza</td>\n",
       "      <td>25.53</td>\n",
       "    </tr>\n",
       "    <tr>\n",
       "      <th>0</th>\n",
       "      <td>Bakery</td>\n",
       "      <td>21.77</td>\n",
       "    </tr>\n",
       "  </tbody>\n",
       "</table>\n",
       "</div>"
      ],
      "text/plain": [
       "  object_type  number\n",
       "5  Restaurant   44.86\n",
       "1         Bar   40.26\n",
       "3   Fast Food   38.09\n",
       "2        Cafe   25.92\n",
       "4       Pizza   25.53\n",
       "0      Bakery   21.77"
      ]
     },
     "execution_count": 33,
     "metadata": {},
     "output_type": "execute_result"
    }
   ],
   "source": [
    "f_seat_avg_table"
   ]
  },
  {
   "cell_type": "markdown",
   "id": "841f5f57",
   "metadata": {},
   "source": [
    "Pada bisnis waralaba 3 jenis usaha yang memiliki jumlah kursi terbanyak adalah Restaurant, Bar dan Fast Food."
   ]
  },
  {
   "cell_type": "code",
   "execution_count": 34,
   "id": "e2a1c707",
   "metadata": {},
   "outputs": [],
   "source": [
    "# Export data ke excel\n",
    "f_seat_avg_table.to_excel(r'C:\\Users\\vidop\\Documents\\Practicum\\Sprint 9\\Export\\f_seat_avg.xlsx',\n",
    "                    index=False)"
   ]
  },
  {
   "cell_type": "markdown",
   "id": "e540eb79",
   "metadata": {},
   "source": [
    "## Rata-rata Jumlah Kursi Jenis Usaha Non-Waralaba"
   ]
  },
  {
   "cell_type": "code",
   "execution_count": 35,
   "id": "ddec42cf",
   "metadata": {},
   "outputs": [],
   "source": [
    "# Membuat tabel jumlah rata-rata kursi tiap jenis usaha nonwaralaba\n",
    "nf_seat_avg_table = round(data[data['chain']==False].pivot_table(index='object_type',\n",
    "                                                                 values='number', aggfunc='mean'),2).reset_index()\n",
    "\n",
    "nf_seat_avg_table = nf_seat_avg_table.sort_values(by='number', ascending=False)"
   ]
  },
  {
   "cell_type": "code",
   "execution_count": 36,
   "id": "9023f7b6",
   "metadata": {
    "scrolled": true
   },
   "outputs": [
    {
     "data": {
      "text/plain": [
       "<seaborn.axisgrid.FacetGrid at 0x2e3a7ed3fa0>"
      ]
     },
     "execution_count": 36,
     "metadata": {},
     "output_type": "execute_result"
    },
    {
     "data": {
      "image/png": "[encoded data removed]",
      "text/plain": [
       "<Figure size 900x600 with 1 Axes>"
      ]
     },
     "metadata": {},
     "output_type": "display_data"
    }
   ],
   "source": [
    "# Grafik bar seaborn\n",
    "seat = sns.catplot(data=nf_seat_avg_table, x='object_type', y='number', kind='bar', palette='deep', height=6, aspect=1.5)\n",
    "seat.set(title= 'Non-Franchise Average Number of Seat', xlabel='')"
   ]
  },
  {
   "cell_type": "markdown",
   "id": "71e771b5",
   "metadata": {},
   "source": [
    "Pada bisnis non-waralaba jenis usaha Restaurant memiliki jumlah kursi terbanyak dan cafe paling sedikit."
   ]
  },
  {
   "cell_type": "code",
   "execution_count": 37,
   "id": "a0e08cb3",
   "metadata": {},
   "outputs": [
    {
     "data": {
      "text/html": [
       "<div>\n",
       "<style scoped>\n",
       "    .dataframe tbody tr th:only-of-type {\n",
       "        vertical-align: middle;\n",
       "    }\n",
       "\n",
       "    .dataframe tbody tr th {\n",
       "        vertical-align: top;\n",
       "    }\n",
       "\n",
       "    .dataframe thead th {\n",
       "        text-align: right;\n",
       "    }\n",
       "</style>\n",
       "<table border=\"1\" class=\"dataframe\">\n",
       "  <thead>\n",
       "    <tr style=\"text-align: right;\">\n",
       "      <th></th>\n",
       "      <th>object_type</th>\n",
       "      <th>number</th>\n",
       "    </tr>\n",
       "  </thead>\n",
       "  <tbody>\n",
       "    <tr>\n",
       "      <th>4</th>\n",
       "      <td>Restaurant</td>\n",
       "      <td>49.52</td>\n",
       "    </tr>\n",
       "    <tr>\n",
       "      <th>0</th>\n",
       "      <td>Bar</td>\n",
       "      <td>46.38</td>\n",
       "    </tr>\n",
       "    <tr>\n",
       "      <th>3</th>\n",
       "      <td>Pizza</td>\n",
       "      <td>31.33</td>\n",
       "    </tr>\n",
       "    <tr>\n",
       "      <th>2</th>\n",
       "      <td>Fast Food</td>\n",
       "      <td>23.63</td>\n",
       "    </tr>\n",
       "    <tr>\n",
       "      <th>1</th>\n",
       "      <td>Cafe</td>\n",
       "      <td>23.56</td>\n",
       "    </tr>\n",
       "  </tbody>\n",
       "</table>\n",
       "</div>"
      ],
      "text/plain": [
       "  object_type  number\n",
       "4  Restaurant   49.52\n",
       "0         Bar   46.38\n",
       "3       Pizza   31.33\n",
       "2   Fast Food   23.63\n",
       "1        Cafe   23.56"
      ]
     },
     "execution_count": 37,
     "metadata": {},
     "output_type": "execute_result"
    }
   ],
   "source": [
    "nf_seat_avg_table"
   ]
  },
  {
   "cell_type": "markdown",
   "id": "619bd02b",
   "metadata": {},
   "source": [
    "Pada bisnis non-waralaba 3 jenis usaha yang memiliki jumlah terbanyak adalah Restaurant, Bar dan Pizza."
   ]
  },
  {
   "cell_type": "code",
   "execution_count": 38,
   "id": "ab180ed5",
   "metadata": {},
   "outputs": [],
   "source": [
    "# Export data ke excel\n",
    "nf_seat_avg_table.to_excel(r'C:\\Users\\vidop\\Documents\\Practicum\\Sprint 9\\Export\\nf_seat_avg.xlsx',\n",
    "                    index=False)"
   ]
  },
  {
   "cell_type": "markdown",
   "id": "c391f890",
   "metadata": {},
   "source": [
    "## Lokasi Usaha"
   ]
  },
  {
   "cell_type": "markdown",
   "id": "d83bcabb",
   "metadata": {},
   "source": [
    "### Memisahkan Nama Jalan dari Alamat (address)"
   ]
  },
  {
   "cell_type": "code",
   "execution_count": 39,
   "id": "acf13470",
   "metadata": {},
   "outputs": [],
   "source": [
    "# Merubah semua huruf alphabet menjadi uppercase kolom address\n",
    "data['address'] = [i.upper() for i in data['address']]"
   ]
  },
  {
   "cell_type": "markdown",
   "id": "3c2581cc",
   "metadata": {},
   "source": [
    "Untuk menghindari penulisan yang tidak seragam, semua huruf dijadikan uppercase."
   ]
  },
  {
   "cell_type": "code",
   "execution_count": 40,
   "id": "284df837",
   "metadata": {},
   "outputs": [],
   "source": [
    "# Membuat fungsi untuk mengambil nama jalan dengan library usaddress\n",
    "def extract(row):\n",
    "    try:\n",
    "        parsed = usaddress.tag(row)[0]\n",
    "        street_name = parsed.get('StreetName', row)\n",
    "        return street_name\n",
    "    except usaddress.RepeatedLabelError as e:\n",
    "        return e.original_string\n",
    "\n",
    "# Aplikasi fungsi ke kolom street_name\n",
    "data['street_name'] = data['address'].apply(extract)"
   ]
  },
  {
   "cell_type": "code",
   "execution_count": 41,
   "id": "3488f8d3",
   "metadata": {
    "scrolled": true
   },
   "outputs": [
    {
     "name": "stdout",
     "output_type": "stream",
     "text": [
      "street_name\n",
      "1/4 FAIR PARK                             1\n",
      "103                                       1\n",
      "1033 1/2 LOS ANGELES ST                   1\n",
      "103RD                                     9\n",
      "10TH                                      1\n",
      "110 E 9TH ST ST B LOB#2                   1\n",
      "11TH                                     10\n",
      "120TH                                     3\n",
      "123 ASTRONAUT E S ONIZUKA ST # 101C       1\n",
      "123 ASTRONAUT E S ONIZUKA ST STE 203      2\n",
      "123 ASTRONAUT E. S. ONIZUKA ST            2\n",
      "123 E ASTRONAUT E S ONIZUKA ST #108       1\n",
      "12TH                                     34\n",
      "15TH                                      2\n",
      "16TH                                      1\n",
      "17TH                                      1\n",
      "18TH                                      1\n",
      "19                                        1\n",
      "1ST                                     122\n",
      "2                                         1\n",
      "23RD                                      2\n",
      "26                                        2\n",
      "27TH                                      1\n",
      "28                                        1\n",
      "28TH                                      1\n",
      "2ND                                      54\n",
      "3/4 WALL                                  1\n",
      "300 S GRAND AVENUE LOW PLAZA 35           1\n",
      "3425 E 1ST ST SO. 3RDFL                   1\n",
      "34TH                                      5\n",
      "37TH                                      1\n",
      "3RD                                     262\n",
      "40                                        7\n",
      "42ND                                      1\n",
      "45                                        1\n",
      "48TH                                      4\n",
      "4TH                                      31\n",
      "50                                        4\n",
      "505                                       1\n",
      "54TH                                      2\n",
      "56                                        2\n",
      "58                                        1\n",
      "58TH                                      2\n",
      "59                                        1\n",
      "59TH                                      3\n",
      "5TH                                      38\n",
      "62ND                                      1\n",
      "6TH                                     235\n",
      "7TH                                     119\n",
      "80TH                                      1\n",
      "87TH                                      4\n",
      "89TH                                      3\n",
      "8TH                                     122\n",
      "96TH                                      1\n",
      "98TH                                      1\n",
      "9TH                                      45\n",
      "ABBOT KINNEY                              4\n",
      "ACADEMY                                   1\n",
      "ADAMS                                    46\n",
      "AIRPORT                                  10\n",
      "ALAMEDA                                  87\n",
      "ALAMESA                                   1\n",
      "ALAVARADO                                 1\n",
      "ALBANY                                    1\n",
      "ALFERD                                    1\n",
      "ALFRED                                    1\n",
      "ALHAMBRA                                  5\n",
      "ALLISON                                   2\n",
      "ALLSTON                                   1\n",
      "ALPINE                                    6\n",
      "ALTURA                                    1\n",
      "ALVARADO                                 45\n",
      "ARBOR VITAE                               1\n",
      "ARDMORE                                   8\n",
      "ARGYLE                                    2\n",
      "ASTRONAUT ELLISON ONIZUKA                 7\n",
      "ATLANTIC                                 30\n",
      "AVALON                                   58\n",
      "AVE OF STARS                              2\n",
      "AVIATION                                  2\n",
      "AVION                                     2\n",
      "BAMBOO                                    1\n",
      "BARHAM                                    3\n",
      "BARRINGTON                               25\n",
      "BARRY                                     1\n",
      "BARTON                                    1\n",
      "BEACHWOOD                                 1\n",
      "BEATRICE                                  1\n",
      "BEAUDRY                                   3\n",
      "BELLAGIO                                  1\n",
      "BELLANCA                                  2\n",
      "BERENDO                                   2\n",
      "BEVERLY                                 197\n",
      "BEVERLY GLEN                             10\n",
      "BEVERWIL                                  2\n",
      "BISHOPS                                   1\n",
      "BLAINE                                    1\n",
      "BOYD                                      2\n",
      "BOYLE                                     2\n",
      "BOYLSTON                                  1\n",
      "BRADDOCK                                  1\n",
      "BRANNICK                                  2\n",
      "BROADWAY                                212\n",
      "BRONSON                                   6\n",
      "BROXTON                                  25\n",
      "BRUNO                                     2\n",
      "BUNDY                                     6\n",
      "BURLINGAME                                1\n",
      "BURTON                                    1\n",
      "CADILLAC                                  1\n",
      "CAHUENGA                                 66\n",
      "CAHUENGA WEST                             1\n",
      "CAMPUS                                    1\n",
      "CARONDELET                                2\n",
      "CASITAS                                   1\n",
      "CATALINA                                  1\n",
      "CENTER                                   17\n",
      "CENTINEA                                  1\n",
      "CENTINELA                                42\n",
      "CENTRAL                                 109\n",
      "CENTURY                                  68\n",
      "CESAR                                     2\n",
      "CESAR CHAVEZ                             11\n",
      "CESAR E CHAVEZ                           75\n",
      "CESAR E. CHAVEZ                           3\n",
      "CHARLES                                   2\n",
      "CHARLIE SIFFORD                           1\n",
      "CHEROKEE                                  1\n",
      "CHEVY CHASE                               2\n",
      "CHICK HEARN                               1\n",
      "CHILD'S                                   1\n",
      "CHURCH                                    1\n",
      "CITY TERRACE                              2\n",
      "CLEARWATER                                1\n",
      "CLINTON                                   1\n",
      "COCHRAN                                   1\n",
      "COLBY                                     1\n",
      "COLE                                      1\n",
      "COLLEGE                                   2\n",
      "COLORADO                                 88\n",
      "COMMERCIAL                                1\n",
      "COMMONWEALTH                              1\n",
      "COMPTON                                  24\n",
      "CONSTELLATION                             3\n",
      "COOLIDGE                                  1\n",
      "CORDOVA                                   1\n",
      "CORINTH                                   2\n",
      "CORNWELL                                  2\n",
      "COTNER                                    3\n",
      "CRENSHAW                                 78\n",
      "CRESTVIEW                                 1\n",
      "CROCKER                                   4\n",
      "CRYSTAL SPRINGS                           3\n",
      "CULVER                                    6\n",
      "CURSON                                    1\n",
      "CYPRESS                                   8\n",
      "DALY                                     12\n",
      "DEGNAN                                    3\n",
      "DEVONSHIRE                                1\n",
      "DEWEY                                     1\n",
      "DIVISION                                  4\n",
      "DOHENY                                    1\n",
      "DOWNEY                                    1\n",
      "DUNHAM                                    1\n",
      "E. CHAVEZ                                 5\n",
      "EAGLE ROCK                               40\n",
      "EASTERN                                  27\n",
      "ECHO PARK                                14\n",
      "EDGEMONT                                  3\n",
      "EL CENTRO                                 4\n",
      "EL SEGUNDO                               13\n",
      "EMERSON                                   1\n",
      "ENSLEY                                    1\n",
      "ENTERPRISE                                1\n",
      "EVANS                                     1\n",
      "EVERGREEN                                 3\n",
      "EXPOSITION                                6\n",
      "EXPOSITION PARK                           2\n",
      "FACTORY                                   1\n",
      "FAIRFAX                                  69\n",
      "FARING                                    1\n",
      "FERN DELL                                 1\n",
      "FETTERLY                                  1\n",
      "FIGUEROA                                334\n",
      "FIRESTONE                                16\n",
      "FLETCHER                                 12\n",
      "FLORAL                                    2\n",
      "FLORENCE                                 87\n",
      "FLOWER                                   54\n",
      "FORD                                      5\n",
      "FOREST                                    2\n",
      "FORMOSA                                   1\n",
      "FOUNTAIN                                 16\n",
      "FOUNTAIN PARK                             1\n",
      "FRANCISCO                                 1\n",
      "FRANKLIN                                 22\n",
      "GAGE                                     21\n",
      "GARDNER                                   1\n",
      "GAREY                                     1\n",
      "GATEWAY                                   8\n",
      "GAYLEY                                   25\n",
      "GETTY CENTER                              3\n",
      "GIN LING                                  3\n",
      "GLENDALE                                 65\n",
      "GLENDON                                  11\n",
      "GLESS                                     1\n",
      "GORHAM                                    2\n",
      "GOWER                                     4\n",
      "GRAND                                    90\n",
      "GRAND VIEW                                3\n",
      "GRANDE VISTA                              1\n",
      "GRIFFIN                                   1\n",
      "GRIFFITH                                  2\n",
      "GRIFFITH PARK                             9\n",
      "GROSVENOR                                 1\n",
      "HARVARD                                   4\n",
      "HAZARD                                    1\n",
      "HELIOTROPE                                4\n",
      "HELMS                                     2\n",
      "HEREFORD                                  1\n",
      "HEWITT                                    1\n",
      "HIGHLAND                                 39\n",
      "HILGARD                                   4\n",
      "HILHURST                                  1\n",
      "HILL                                     72\n",
      "HILLHURST                                51\n",
      "HOBART                                    6\n",
      "HOEFNER                                   1\n",
      "HOLLYWOOD                               254\n",
      "HOLMES                                    1\n",
      "HOOPER                                   10\n",
      "HOOVER                                   37\n",
      "HOPE                                     44\n",
      "HUNTINGTON                               32\n",
      "HYDE PARK                                 4\n",
      "HYPERION                                 23\n",
      "IDELL                                     1\n",
      "IMPERIAL                                 22\n",
      "INDIANA                                   6\n",
      "INDUSTRIAL                                4\n",
      "INGLEWOOD                                 1\n",
      "IROLO                                     3\n",
      "IVAR                                      3\n",
      "JAMES M WOOD                              8\n",
      "JAMES M. WOOD                             2\n",
      "JAMES WOOD                                2\n",
      "JAPANESE                                  1\n",
      "JAPANESE VILLAGE                          3\n",
      "JAPANESE VILLAGE PLAZA                    1\n",
      "JAPANESE VILLAGE PLZ                      1\n",
      "JAPANESE VLG PLZ                          8\n",
      "JARVIS                                    1\n",
      "JEFFERSON                                57\n",
      "JUDGE JOHN AISO                           1\n",
      "KENMORE                                   3\n",
      "KERN                                      3\n",
      "KINGSLEY                                  1\n",
      "KINROSS                                   6\n",
      "KNOX                                      1\n",
      "LA BREA                                 100\n",
      "LA CIENEGA                               84\n",
      "LA CIENGA                                 2\n",
      "LA GRANGE                                 2\n",
      "LA PUERTA                                 1\n",
      "LA TIJERA                                15\n",
      "LANKERSHIM                                1\n",
      "LARCHMONT                                40\n",
      "LAS PALMAS                               12\n",
      "LAUREL CANYON                             2\n",
      "LAWRENCE                                  2\n",
      "LE CONTE                                  9\n",
      "LEIMERT                                   2\n",
      "LELAND                                    1\n",
      "LEXINGTON                                 2\n",
      "LILLIAN                                   1\n",
      "LILLYVALE                                 1\n",
      "LINCOLN                                  37\n",
      "LINDBROOK                                12\n",
      "LMU                                       2\n",
      "LONG BEACH                                4\n",
      "LORENA                                   13\n",
      "LOS ANGELES                              43\n",
      "LOS FELIZ                                26\n",
      "LOYOLA                                    1\n",
      "MACLAY                                    1\n",
      "MADISON                                   1\n",
      "MAIN                                     79\n",
      "MANCHESTER                               77\n",
      "MANSFIELD                                 1\n",
      "MANZANITA                                 1\n",
      "MAPLE                                    24\n",
      "MARENGO                                  16\n",
      "MARIACHI                                  1\n",
      "MARIPOSA                                  4\n",
      "MARLTON                                   4\n",
      "MARTEL                                    1\n",
      "MARTIN LUTHER KING                       15\n",
      "MARTIN LUTHER KING JR                    22\n",
      "MARTIN LUTHER KING JR.                    5\n",
      "MATEO                                     6\n",
      "MAXELLA                                   1\n",
      "MC CARTHY                                 1\n",
      "MC CLINTOCK                               1\n",
      "MCCLINTOCK                                3\n",
      "MCDONELL                                  2\n",
      "MCDONNELL                                 1\n",
      "MCGARRY                                   1\n",
      "MEDFORD                                   2\n",
      "MEDNIK                                    7\n",
      "MEI LING                                  2\n",
      "MELBOURNE                                 1\n",
      "MELROSE                                 157\n",
      "MILLENIUM                                 1\n",
      "MILLENNIUM                                1\n",
      "MIRASOL                                   1\n",
      "MISSION                                  11\n",
      "MISSISSIPPI                               6\n",
      "MISSOURI                                  1\n",
      "MLK                                      23\n",
      "MLK JR                                    1\n",
      "MONTE VISTA                               3\n",
      "MONTEREY                                  6\n",
      "MOTOR                                    12\n",
      "MOULTON                                   1\n",
      "MOUNTAIN                                  1\n",
      "MOUNTAIN GATE                             1\n",
      "MULHOOLAND                                1\n",
      "NADEAU                                    6\n",
      "NATIONAL                                 42\n",
      "NAUD                                      1\n",
      "NEBRASKA                                  1\n",
      "NEW HAMPSHIRE                             3\n",
      "NEW HIGH                                  2\n",
      "NEWELL                                    1\n",
      "NEWITT                                    1\n",
      "NORMANDIE                                23\n",
      "NORTON                                    1\n",
      "NORWALK                                   1\n",
      "OBSERVATORY                               1\n",
      "OCCIDENTAL                                4\n",
      "OF STARS                                  4\n",
      "OF THE STARS                             17\n",
      "OHIO                                      1\n",
      "OLIVE                                    21\n",
      "OLVERA                                    2\n",
      "OLVERA ST 2                               1\n",
      "OLVERA ST 20                              1\n",
      "OLVERA ST 23                              1\n",
      "OLVERA ST 26                              1\n",
      "OLVERA ST 5                               1\n",
      "OLVERA ST E17                             1\n",
      "OLVERA ST W17                             1\n",
      "OLYMPC                                    1\n",
      "OLYMPIC                                 309\n",
      "ONIZUKA                                   1\n",
      "ORD                                       6\n",
      "OSAGE                                     1\n",
      "OVERHILL                                  1\n",
      "OVERLAND                                 13\n",
      "OXFORD                                    7\n",
      "PACIFIC                                   2\n",
      "PACIFIC CONCOURSE                         1\n",
      "PALISADES                                 1\n",
      "PALMETTO                                  1\n",
      "PALMS                                     7\n",
      "PARK                                      1\n",
      "PARK VIEW                                 1\n",
      "PASADENA                                  9\n",
      "PASEO DE LA                               1\n",
      "PASEO DE LA PLAZA                         1\n",
      "PASEO RANCHO CASTILLA                     1\n",
      "PICO                                    371\n",
      "PLEASANT                                  1\n",
      "PLZ                                       1\n",
      "POMONA                                    6\n",
      "PORTER                                    1\n",
      "PORTIA                                    1\n",
      "PRODUCE                                   1\n",
      "PROSPECT                                  2\n",
      "RAMIREZ                                   1\n",
      "RAMPART                                   8\n",
      "REDONDO                                   1\n",
      "RIVERSIDE                                 1\n",
      "ROBERTSON                                38\n",
      "RODEO                                     8\n",
      "ROSCOMARE                                 3\n",
      "ROSCOMORE                                 1\n",
      "ROSECRANS                                 2\n",
      "ROSSMORE                                  3\n",
      "ROSWELL                                   1\n",
      "ROWENA                                    6\n",
      "RUSSELL                                   1\n",
      "SA VICENTE                                1\n",
      "SAN FERNANDO                             30\n",
      "SAN JULIAN                                7\n",
      "SAN PABLO                                 2\n",
      "SAN PEDRO                                77\n",
      "SAN VICENTE                              75\n",
      "SAN VINCENTE                              1\n",
      "SANTA                                     1\n",
      "SANTA FE                                 18\n",
      "SANTA MONICA                            264\n",
      "SANTA ROSALIA                             2\n",
      "SANTEE                                   14\n",
      "SAWTELLE                                 61\n",
      "SAWTLLE                                   1\n",
      "SELMA                                     8\n",
      "SEPULVEDA                                61\n",
      "SERRANO                                   2\n",
      "SEWARD                                    2\n",
      "SHATTO                                    2\n",
      "SHERMAN                                   1\n",
      "SILVER LAKE                               9\n",
      "SILVERLAKE                                3\n",
      "SLATER                                    1\n",
      "SLAUSON                                  81\n",
      "SOTO                                     36\n",
      "SPRING                                   98\n",
      "ST ANDREWS                                4\n",
      "ST VINCENT                                1\n",
      "ST. ANDREWS                               1\n",
      "ST. VINCENT                               1\n",
      "STA MON                                  13\n",
      "STANFORD                                  1\n",
      "STANLEY                                   2\n",
      "STATE                                     5\n",
      "STATE UNIVERSITY                         10\n",
      "STOCKER                                   2\n",
      "STONE CANYON                              4\n",
      "SUN MUN                                   1\n",
      "SUNOL                                     2\n",
      "SUNSET                                  405\n",
      "SYCAMORE                                  2\n",
      "TAMPA                                     1\n",
      "TELEGRAPH                                 2\n",
      "TEMPLE                                   27\n",
      "THE GROVE                                23\n",
      "TIERTON                                   1\n",
      "TIVERTON                                  2\n",
      "TOPANGA CANYON                            1\n",
      "TOWNE                                     2\n",
      "TOWNSEND                                  1\n",
      "TRACTION                                  4\n",
      "TRIGGS                                    1\n",
      "TROUSDALE                                12\n",
      "TRUXTON                                   1\n",
      "UCLA MEDICAL                              1\n",
      "UNION                                    16\n",
      "UNION PACIFIC                             2\n",
      "UNIVERSITY                                2\n",
      "VALLEY                                   13\n",
      "VAN NUYS                                  1\n",
      "VENICE                                  123\n",
      "VENTURA                                   1\n",
      "VERDUGO                                   6\n",
      "VERMONT                                 288\n",
      "VERNON                                   34\n",
      "VICTORIA                                  1\n",
      "VIGNES                                    2\n",
      "VIN SCULLY                                2\n",
      "VINE                                     56\n",
      "VIRGIL                                   22\n",
      "WABASH                                    5\n",
      "WALL                                     13\n",
      "WASHINGTON                              104\n",
      "WATERFRONT                                2\n",
      "WATSEKA                                   1\n",
      "WATT                                      1\n",
      "WATTS                                     1\n",
      "WERSTERN                                  1\n",
      "WEST                                      3\n",
      "WESTERN                                 369\n",
      "WESTERN HERITAGE                          1\n",
      "WESTMORELAND                              4\n",
      "WESTWOOD                                109\n",
      "WEYBURN                                  15\n",
      "WHITTIER                                131\n",
      "WILCOX                                    3\n",
      "WILEY POST                                1\n",
      "WILLOW                                    1\n",
      "WILMINGTON                               18\n",
      "WILSHIRE                                398\n",
      "WILTON                                    1\n",
      "WINDWARD                                  4\n",
      "WINSTON                                   4\n",
      "WOODBINE                                  3\n",
      "WORLD                                   145\n",
      "YALE                                      1\n",
      "YORK                                     57\n",
      "YOSEMITE                                  3\n",
      "YUCCA                                     3\n",
      "Z00                                       1\n",
      "ZONAL                                     4\n",
      "ZOO                                       1\n",
      "Name: address, dtype: int64\n"
     ]
    }
   ],
   "source": [
    "# Cek nama jalan apakah sudah seragam\n",
    "with pd.option_context('display.max_rows', None,):\n",
    "   print(data.groupby('street_name')['address'].count())"
   ]
  },
  {
   "cell_type": "markdown",
   "id": "4a1ac886",
   "metadata": {},
   "source": [
    "Tampaknya terdapat beberapa nama jalan yang masih tidak seragam, nama jalan ini akan di eliminasi menggunakan regex."
   ]
  },
  {
   "cell_type": "code",
   "execution_count": 42,
   "id": "a508a719",
   "metadata": {},
   "outputs": [],
   "source": [
    "# Eliminasi huruf dan karakter dengan regex\n",
    "pattern = r'[.]|^\\d+\\s|\\d/\\d\\s|\\b\\sST\\b.*|\\bE\\s\\b|\\bS\\s\\b|\\b\\sPLAZA\\b.*|\\b\\sPLZ\\b'\n",
    "\n",
    "data['street_name'] = [re.sub(pattern, '',i) for i in data['street_name']]"
   ]
  },
  {
   "cell_type": "code",
   "execution_count": 43,
   "id": "206ebb8a",
   "metadata": {
    "scrolled": true
   },
   "outputs": [
    {
     "name": "stdout",
     "output_type": "stream",
     "text": [
      "street_name\n",
      "103                            1\n",
      "103RD                          9\n",
      "10TH                           1\n",
      "11TH                          10\n",
      "120TH                          3\n",
      "12TH                          34\n",
      "15TH                           2\n",
      "16TH                           1\n",
      "17TH                           1\n",
      "18TH                           1\n",
      "19                             1\n",
      "1ST                          123\n",
      "2                              1\n",
      "23RD                           2\n",
      "26                             2\n",
      "27TH                           1\n",
      "28                             1\n",
      "28TH                           1\n",
      "2ND                           54\n",
      "34TH                           5\n",
      "37TH                           1\n",
      "3RD                          262\n",
      "40                             7\n",
      "42ND                           1\n",
      "45                             1\n",
      "48TH                           4\n",
      "4TH                           31\n",
      "50                             4\n",
      "505                            1\n",
      "54TH                           2\n",
      "56                             2\n",
      "58                             1\n",
      "58TH                           2\n",
      "59                             1\n",
      "59TH                           3\n",
      "5TH                           38\n",
      "62ND                           1\n",
      "6TH                          235\n",
      "7TH                          119\n",
      "80TH                           1\n",
      "87TH                           4\n",
      "89TH                           3\n",
      "8TH                          122\n",
      "96TH                           1\n",
      "98TH                           1\n",
      "9TH                           46\n",
      "ABBOT KINNEY                   4\n",
      "ACADEMY                        1\n",
      "ADAMS                         46\n",
      "AIRPORT                       10\n",
      "ALAMEDA                       87\n",
      "ALAMESA                        1\n",
      "ALAVARADO                      1\n",
      "ALBANY                         1\n",
      "ALFERD                         1\n",
      "ALFRED                         1\n",
      "ALHAMBRA                       5\n",
      "ALLISON                        2\n",
      "ALLSTON                        1\n",
      "ALPINE                         6\n",
      "ALTURA                         1\n",
      "ALVARADO                      45\n",
      "ARBOR VITAE                    1\n",
      "ARDMORE                        8\n",
      "ARGYLE                         2\n",
      "ASTRONAUT E S ONIZUKA          2\n",
      "ASTRONAUT ELLISON ONIZUKA      7\n",
      "ASTRONAUT ONIZUKA              4\n",
      "ATLANTIC                      30\n",
      "AVALON                        58\n",
      "AVE OF STARS                   2\n",
      "AVIATION                       2\n",
      "AVION                          2\n",
      "BAMBOO                         1\n",
      "BARHAM                         3\n",
      "BARRINGTON                    25\n",
      "BARRY                          1\n",
      "BARTON                         1\n",
      "BEACHWOOD                      1\n",
      "BEATRICE                       1\n",
      "BEAUDRY                        3\n",
      "BELLAGIO                       1\n",
      "BELLANCA                       2\n",
      "BERENDO                        2\n",
      "BEVERLY                      197\n",
      "BEVERLY GLEN                  10\n",
      "BEVERWIL                       2\n",
      "BISHOPS                        1\n",
      "BLAINE                         1\n",
      "BOYD                           2\n",
      "BOYLE                          2\n",
      "BOYLSTON                       1\n",
      "BRADDOCK                       1\n",
      "BRANNICK                       2\n",
      "BROADWAY                     212\n",
      "BRONSON                        6\n",
      "BROXTON                       25\n",
      "BRUNO                          2\n",
      "BUNDY                          6\n",
      "BURLINGAME                     1\n",
      "BURTON                         1\n",
      "CADILLAC                       1\n",
      "CAHUENGA                      66\n",
      "CAHUENGA WEST                  1\n",
      "CAMPUS                         1\n",
      "CARONDELET                     2\n",
      "CASITAS                        1\n",
      "CATALINA                       1\n",
      "CENTER                        17\n",
      "CENTINEA                       1\n",
      "CENTINELA                     42\n",
      "CENTRAL                      109\n",
      "CENTURY                       68\n",
      "CESAR                          2\n",
      "CESAR CHAVEZ                  86\n",
      "CESAR E CHAVEZ                 3\n",
      "CHARLES                        2\n",
      "CHARLIE SIFFORD                1\n",
      "CHEROKEE                       1\n",
      "CHEVY CHASE                    2\n",
      "CHICK HEARN                    1\n",
      "CHILD'S                        1\n",
      "CHURCH                         1\n",
      "CITY TERRACE                   2\n",
      "CLEARWATER                     1\n",
      "CLINTON                        1\n",
      "COCHRAN                        1\n",
      "COLBY                          1\n",
      "COLE                           1\n",
      "COLLEGE                        2\n",
      "COLORADO                      88\n",
      "COMMERCIAL                     1\n",
      "COMMONWEALTH                   1\n",
      "COMPTON                       24\n",
      "CONSTELLATION                  3\n",
      "COOLIDGE                       1\n",
      "CORDOVA                        1\n",
      "CORINTH                        2\n",
      "CORNWELL                       2\n",
      "COTNER                         3\n",
      "CRENSHAW                      78\n",
      "CRESTVIEW                      1\n",
      "CROCKER                        4\n",
      "CRYSTAL SPRINGS                3\n",
      "CULVER                         6\n",
      "CURSON                         1\n",
      "CYPRESS                        8\n",
      "DALY                          12\n",
      "DEGNAN                         3\n",
      "DEVONSHIRE                     1\n",
      "DEWEY                          1\n",
      "DIVISION                       4\n",
      "DOHENY                         1\n",
      "DOWNEY                         1\n",
      "DUNHAM                         1\n",
      "E CHAVEZ                       5\n",
      "EAGLE ROCK                    40\n",
      "EASTERN                       27\n",
      "ECHO PARK                     14\n",
      "EDGEMONT                       3\n",
      "EL CENTRO                      4\n",
      "EL SEGUNDO                    13\n",
      "EMERSON                        1\n",
      "ENSLEY                         1\n",
      "ENTERPRISE                     1\n",
      "EVANS                          1\n",
      "EVERGREEN                      3\n",
      "EXPOSITION                     6\n",
      "EXPOSITION PARK                2\n",
      "FACTORY                        1\n",
      "FAIR PARK                      1\n",
      "FAIRFAX                       69\n",
      "FARING                         1\n",
      "FERN DELL                      1\n",
      "FETTERLY                       1\n",
      "FIGUEROA                     334\n",
      "FIRESTONE                     16\n",
      "FLETCHER                      12\n",
      "FLORAL                         2\n",
      "FLORENCE                      87\n",
      "FLOWER                        54\n",
      "FORD                           5\n",
      "FOREST                         2\n",
      "FORMOSA                        1\n",
      "FOUNTAIN                      16\n",
      "FOUNTAIN PARK                  1\n",
      "FRANCISCO                      1\n",
      "FRANKLIN                      22\n",
      "GAGE                          21\n",
      "GARDNER                        1\n",
      "GAREY                          1\n",
      "GATEWAY                        8\n",
      "GAYLEY                        25\n",
      "GETTY CENTER                   3\n",
      "GIN LING                       3\n",
      "GLENDALE                      65\n",
      "GLENDON                       11\n",
      "GLESS                          1\n",
      "GORHAM                         2\n",
      "GOWER                          4\n",
      "GRAND                         90\n",
      "GRAND AVENUE LOW               1\n",
      "GRAND VIEW                     3\n",
      "GRANDE VISTA                   1\n",
      "GRIFFIN                        1\n",
      "GRIFFITH                       2\n",
      "GRIFFITH PARK                  9\n",
      "GROSVENOR                      1\n",
      "HARVARD                        4\n",
      "HAZARD                         1\n",
      "HELIOTROPE                     4\n",
      "HELMS                          2\n",
      "HEREFORD                       1\n",
      "HEWITT                         1\n",
      "HIGHLAND                      39\n",
      "HILGARD                        4\n",
      "HILHURST                       1\n",
      "HILL                          72\n",
      "HILLHURST                     51\n",
      "HOBART                         6\n",
      "HOEFNER                        1\n",
      "HOLLYWOOD                    254\n",
      "HOLMES                         1\n",
      "HOOPER                        10\n",
      "HOOVER                        37\n",
      "HOPE                          44\n",
      "HUNTINGTON                    32\n",
      "HYDE PARK                      4\n",
      "HYPERION                      23\n",
      "IDELL                          1\n",
      "IMPERIAL                      22\n",
      "INDIANA                        6\n",
      "INDUSTRIAL                     4\n",
      "INGLEWOOD                      1\n",
      "IROLO                          3\n",
      "IVAR                           3\n",
      "JAMES M WOOD                  10\n",
      "JAMES WOOD                     2\n",
      "JAPANESE                       1\n",
      "JAPANESE VILLAGE               5\n",
      "JAPANESE VLG                   8\n",
      "JARVIS                         1\n",
      "JEFFERSON                     57\n",
      "JUDGE JOHN AISO                1\n",
      "KENMORE                        3\n",
      "KERN                           3\n",
      "KINGSLEY                       1\n",
      "KINROSS                        6\n",
      "KNOX                           1\n",
      "LA BREA                      100\n",
      "LA CIENEGA                    84\n",
      "LA CIENGA                      2\n",
      "LA GRANGE                      2\n",
      "LA PUERTA                      1\n",
      "LA TIJERA                     15\n",
      "LANKERSHIM                     1\n",
      "LARCHMONT                     40\n",
      "LAS PALMAS                    12\n",
      "LAUREL CANYON                  2\n",
      "LAWRENCE                       2\n",
      "LE CONTE                       9\n",
      "LEIMERT                        2\n",
      "LELAND                         1\n",
      "LEXINGTON                      2\n",
      "LILLIAN                        1\n",
      "LILLYVALE                      1\n",
      "LINCOLN                       37\n",
      "LINDBROOK                     12\n",
      "LMU                            2\n",
      "LONG BEACH                     4\n",
      "LORENA                        13\n",
      "LOS ANGELES                   44\n",
      "LOS FELIZ                     26\n",
      "LOYOLA                         1\n",
      "MACLAY                         1\n",
      "MADISON                        1\n",
      "MAIN                          79\n",
      "MANCHESTER                    77\n",
      "MANSFIELD                      1\n",
      "MANZANITA                      1\n",
      "MAPLE                         24\n",
      "MARENGO                       16\n",
      "MARIACHI                       1\n",
      "MARIPOSA                       4\n",
      "MARLTON                        4\n",
      "MARTEL                         1\n",
      "MARTIN LUTHER KING            15\n",
      "MARTIN LUTHER KING JR         27\n",
      "MATEO                          6\n",
      "MAXELLA                        1\n",
      "MC CARTHY                      1\n",
      "MC CLINTOCK                    1\n",
      "MCCLINTOCK                     3\n",
      "MCDONELL                       2\n",
      "MCDONNELL                      1\n",
      "MCGARRY                        1\n",
      "MEDFORD                        2\n",
      "MEDNIK                         7\n",
      "MEI LING                       2\n",
      "MELBOURNE                      1\n",
      "MELROSE                      157\n",
      "MILLENIUM                      1\n",
      "MILLENNIUM                     1\n",
      "MIRASOL                        1\n",
      "MISSION                       11\n",
      "MISSISSIPPI                    6\n",
      "MISSOURI                       1\n",
      "MLK                           23\n",
      "MLK JR                         1\n",
      "MONTE VISTA                    3\n",
      "MONTEREY                       6\n",
      "MOTOR                         12\n",
      "MOULTON                        1\n",
      "MOUNTAIN                       1\n",
      "MOUNTAIN GATE                  1\n",
      "MULHOOLAND                     1\n",
      "NADEAU                         6\n",
      "NATIONAL                      42\n",
      "NAUD                           1\n",
      "NEBRASKA                       1\n",
      "NEW HAMPSHIRE                  3\n",
      "NEW HIGH                       2\n",
      "NEWELL                         1\n",
      "NEWITT                         1\n",
      "NORMANDIE                     23\n",
      "NORTON                         1\n",
      "NORWALK                        1\n",
      "OBSERVATORY                    1\n",
      "OCCIDENTAL                     4\n",
      "OF STARS                       4\n",
      "OF THE STARS                  17\n",
      "OHIO                           1\n",
      "OLIVE                         21\n",
      "OLVERA                         9\n",
      "OLYMPC                         1\n",
      "OLYMPIC                      309\n",
      "ONIZUKA                        1\n",
      "ORD                            6\n",
      "OSAGE                          1\n",
      "OVERHILL                       1\n",
      "OVERLAND                      13\n",
      "OXFORD                         7\n",
      "PACIFIC                        2\n",
      "PACIFIC CONCOURSE              1\n",
      "PALISADES                      1\n",
      "PALMETTO                       1\n",
      "PALMS                          7\n",
      "PARK                           1\n",
      "PARK VIEW                      1\n",
      "PASADENA                       9\n",
      "PASEO DE LA                    2\n",
      "PASEO RANCHO CASTILLA          1\n",
      "PICO                         371\n",
      "PLEASANT                       1\n",
      "PLZ                            1\n",
      "POMONA                         6\n",
      "PORTER                         1\n",
      "PORTIA                         1\n",
      "PRODUCE                        1\n",
      "PROSPECT                       2\n",
      "RAMIREZ                        1\n",
      "RAMPART                        8\n",
      "REDONDO                        1\n",
      "RIVERSIDE                      1\n",
      "ROBERTSON                     38\n",
      "RODEO                          8\n",
      "ROSCOMARE                      3\n",
      "ROSCOMORE                      1\n",
      "ROSECRANS                      2\n",
      "ROSSMORE                       3\n",
      "ROSWELL                        1\n",
      "ROWENA                         6\n",
      "RUSSELL                        1\n",
      "SA VICENTE                     1\n",
      "SAN FERNANDO                  30\n",
      "SAN JULIAN                     7\n",
      "SAN PABLO                      2\n",
      "SAN PEDRO                     77\n",
      "SAN VICENTE                   75\n",
      "SAN VINCENTE                   1\n",
      "SANTA                          1\n",
      "SANTA FE                      18\n",
      "SANTA MONICA                 264\n",
      "SANTA ROSALIA                  2\n",
      "SANTEE                        14\n",
      "SAWTELLE                      61\n",
      "SAWTLLE                        1\n",
      "SELMA                          8\n",
      "SEPULVEDA                     61\n",
      "SERRANO                        2\n",
      "SEWARD                         2\n",
      "SHATTO                         2\n",
      "SHERMAN                        1\n",
      "SILVER LAKE                    9\n",
      "SILVERLAKE                     3\n",
      "SLATER                         1\n",
      "SLAUSON                       81\n",
      "SOTO                          36\n",
      "SPRING                        98\n",
      "ST ANDREWS                     5\n",
      "ST VINCENT                     2\n",
      "STA MON                       13\n",
      "STANFORD                       1\n",
      "STANLEY                        2\n",
      "STATE                          5\n",
      "STATE UNIVERSITY              10\n",
      "STOCKER                        2\n",
      "STONE CANYON                   4\n",
      "SUN MUN                        1\n",
      "SUNOL                          2\n",
      "SUNSET                       405\n",
      "SYCAMORE                       2\n",
      "TAMPA                          1\n",
      "TELEGRAPH                      2\n",
      "TEMPLE                        27\n",
      "THE GROVE                     23\n",
      "TIERTON                        1\n",
      "TIVERTON                       2\n",
      "TOPANGA CANYON                 1\n",
      "TOWNE                          2\n",
      "TOWNSEND                       1\n",
      "TRACTION                       4\n",
      "TRIGGS                         1\n",
      "TROUSDALE                     12\n",
      "TRUXTON                        1\n",
      "UCLA MEDICAL                   1\n",
      "UNION                         16\n",
      "UNION PACIFIC                  2\n",
      "UNIVERSITY                     2\n",
      "VALLEY                        13\n",
      "VAN NUYS                       1\n",
      "VENICE                       123\n",
      "VENTURA                        1\n",
      "VERDUGO                        6\n",
      "VERMONT                      288\n",
      "VERNON                        34\n",
      "VICTORIA                       1\n",
      "VIGNES                         2\n",
      "VIN SCULLY                     2\n",
      "VINE                          56\n",
      "VIRGIL                        22\n",
      "WABASH                         5\n",
      "WALL                          14\n",
      "WASHINGTON                   104\n",
      "WATERFRONT                     2\n",
      "WATSEKA                        1\n",
      "WATT                           1\n",
      "WATTS                          1\n",
      "WERSTERN                       1\n",
      "WEST                           3\n",
      "WESTERN                      369\n",
      "WESTERN HERITAGE               1\n",
      "WESTMORELAND                   4\n",
      "WESTWOOD                     109\n",
      "WEYBURN                       15\n",
      "WHITTIER                     131\n",
      "WILCOX                         3\n",
      "WILEY POST                     1\n",
      "WILLOW                         1\n",
      "WILMINGTON                    18\n",
      "WILSHIRE                     398\n",
      "WILTON                         1\n",
      "WINDWARD                       4\n",
      "WINSTON                        4\n",
      "WOODBINE                       3\n",
      "WORLD                        145\n",
      "YALE                           1\n",
      "YORK                          57\n",
      "YOSEMITE                       3\n",
      "YUCCA                          3\n",
      "Z00                            1\n",
      "ZONAL                          4\n",
      "ZOO                            1\n",
      "Name: address, dtype: int64\n"
     ]
    }
   ],
   "source": [
    "# Cek ulang nama jalan apakah sudah seragam\n",
    "with pd.option_context('display.max_rows', None,):\n",
    "   print(data.groupby('street_name')['address'].count())"
   ]
  },
  {
   "cell_type": "markdown",
   "id": "9e4943f1",
   "metadata": {},
   "source": [
    "Setelah di eliminasi nama jalan (street_name) tampak seragam dan bisa dikelompokkan."
   ]
  },
  {
   "cell_type": "markdown",
   "id": "512d1e06",
   "metadata": {},
   "source": [
    "### Top 10 Lokasi Usaha"
   ]
  },
  {
   "cell_type": "code",
   "execution_count": 44,
   "id": "1b25f87d",
   "metadata": {},
   "outputs": [],
   "source": [
    "# Membuat tabel untuk menghitung jumlah tempat usaha per jalan.\n",
    "location = data.pivot_table(index='street_name', columns='chain', \n",
    "                            values='address', aggfunc='count', margins=True)[:-1].fillna(0).reset_index()\n",
    "\n",
    "location.columns = ['street_name', 'franchise', 'nonfranchise', 'total']\n",
    "\n",
    "location[['franchise', 'nonfranchise']] = location[['franchise', 'nonfranchise']].astype(int)"
   ]
  },
  {
   "cell_type": "markdown",
   "id": "749ade73",
   "metadata": {},
   "source": [
    "**Top 10 lokasi waralaba & non-waralaba**"
   ]
  },
  {
   "cell_type": "code",
   "execution_count": 45,
   "id": "a8586bfd",
   "metadata": {
    "scrolled": true
   },
   "outputs": [
    {
     "data": {
      "text/plain": [
       "<seaborn.axisgrid.FacetGrid at 0x2e3a89e5fc0>"
      ]
     },
     "execution_count": 45,
     "metadata": {},
     "output_type": "execute_result"
    },
    {
     "data": {
      "image/png": "[encoded data removed]",
      "text/plain": [
       "<Figure size 750x500 with 1 Axes>"
      ]
     },
     "metadata": {},
     "output_type": "display_data"
    }
   ],
   "source": [
    "# Grafik top 10 lokasi usaha\n",
    "top_ten_all = location[['street_name', 'total']].sort_values(by='total', ascending=False).head(10)\n",
    "\n",
    "top_ten_all_graph = sns.catplot(data=top_ten_all, y='street_name', x='total', kind='bar', palette='deep', aspect = 1.5)\n",
    "top_ten_all_graph.set(title = 'All Top 10 Locations', xlabel='', ylabel='streets')"
   ]
  },
  {
   "cell_type": "markdown",
   "id": "796daf47",
   "metadata": {},
   "source": [
    "Jalan SUNSET memiliki jumlah terbanyak tempat usaha secara keseluruhan."
   ]
  },
  {
   "cell_type": "code",
   "execution_count": 46,
   "id": "d9ea6f2c",
   "metadata": {},
   "outputs": [
    {
     "data": {
      "text/html": [
       "<div>\n",
       "<style scoped>\n",
       "    .dataframe tbody tr th:only-of-type {\n",
       "        vertical-align: middle;\n",
       "    }\n",
       "\n",
       "    .dataframe tbody tr th {\n",
       "        vertical-align: top;\n",
       "    }\n",
       "\n",
       "    .dataframe thead th {\n",
       "        text-align: right;\n",
       "    }\n",
       "</style>\n",
       "<table border=\"1\" class=\"dataframe\">\n",
       "  <thead>\n",
       "    <tr style=\"text-align: right;\">\n",
       "      <th></th>\n",
       "      <th>street_name</th>\n",
       "      <th>total</th>\n",
       "    </tr>\n",
       "  </thead>\n",
       "  <tbody>\n",
       "    <tr>\n",
       "      <th>410</th>\n",
       "      <td>SUNSET</td>\n",
       "      <td>405</td>\n",
       "    </tr>\n",
       "    <tr>\n",
       "      <th>460</th>\n",
       "      <td>WILSHIRE</td>\n",
       "      <td>398</td>\n",
       "    </tr>\n",
       "    <tr>\n",
       "      <th>352</th>\n",
       "      <td>PICO</td>\n",
       "      <td>371</td>\n",
       "    </tr>\n",
       "    <tr>\n",
       "      <th>450</th>\n",
       "      <td>WESTERN</td>\n",
       "      <td>369</td>\n",
       "    </tr>\n",
       "    <tr>\n",
       "      <th>175</th>\n",
       "      <td>FIGUEROA</td>\n",
       "      <td>334</td>\n",
       "    </tr>\n",
       "    <tr>\n",
       "      <th>335</th>\n",
       "      <td>OLYMPIC</td>\n",
       "      <td>309</td>\n",
       "    </tr>\n",
       "    <tr>\n",
       "      <th>434</th>\n",
       "      <td>VERMONT</td>\n",
       "      <td>288</td>\n",
       "    </tr>\n",
       "    <tr>\n",
       "      <th>382</th>\n",
       "      <td>SANTA MONICA</td>\n",
       "      <td>264</td>\n",
       "    </tr>\n",
       "    <tr>\n",
       "      <th>21</th>\n",
       "      <td>3RD</td>\n",
       "      <td>262</td>\n",
       "    </tr>\n",
       "    <tr>\n",
       "      <th>221</th>\n",
       "      <td>HOLLYWOOD</td>\n",
       "      <td>254</td>\n",
       "    </tr>\n",
       "  </tbody>\n",
       "</table>\n",
       "</div>"
      ],
      "text/plain": [
       "      street_name  total\n",
       "410        SUNSET    405\n",
       "460      WILSHIRE    398\n",
       "352          PICO    371\n",
       "450       WESTERN    369\n",
       "175      FIGUEROA    334\n",
       "335       OLYMPIC    309\n",
       "434       VERMONT    288\n",
       "382  SANTA MONICA    264\n",
       "21            3RD    262\n",
       "221     HOLLYWOOD    254"
      ]
     },
     "execution_count": 46,
     "metadata": {},
     "output_type": "execute_result"
    }
   ],
   "source": [
    "top_ten_all"
   ]
  },
  {
   "cell_type": "markdown",
   "id": "11c5be63",
   "metadata": {},
   "source": [
    "Jalan SUNSET menempati posisi pertama dengan 405 tempat usaha, dan jalan HOLLYWOOD di posisi ke 10 dengan 254 tempat usaha."
   ]
  },
  {
   "cell_type": "code",
   "execution_count": 47,
   "id": "5e46afb3",
   "metadata": {},
   "outputs": [],
   "source": [
    "# Export data ke excel\n",
    "top_ten_all.to_excel(r'C:\\Users\\vidop\\Documents\\Practicum\\Sprint 9\\Export\\top10_loc.xlsx',\n",
    "                    index=False)"
   ]
  },
  {
   "cell_type": "markdown",
   "id": "695adc70",
   "metadata": {},
   "source": [
    "**Top 10 lokasi waralaba**"
   ]
  },
  {
   "cell_type": "code",
   "execution_count": 48,
   "id": "f8eb1ad6",
   "metadata": {
    "scrolled": true
   },
   "outputs": [
    {
     "data": {
      "text/plain": [
       "<seaborn.axisgrid.FacetGrid at 0x2e3a8fa7ee0>"
      ]
     },
     "execution_count": 48,
     "metadata": {},
     "output_type": "execute_result"
    },
    {
     "data": {
      "image/png": "[encoded data removed]",
      "text/plain": [
       "<Figure size 750x500 with 1 Axes>"
      ]
     },
     "metadata": {},
     "output_type": "display_data"
    }
   ],
   "source": [
    "# Grafik top 10 lokasi usaha waralaba\n",
    "top_ten_f = location[['street_name', 'franchise']].sort_values(by='franchise', ascending=False).head(10)\n",
    "\n",
    "top_ten_f_graph = sns.catplot(data=top_ten_f, y='street_name', x='franchise', kind='bar', palette='deep', aspect = 1.5)\n",
    "top_ten_f_graph.set(title = 'Franchise Top 10 Locations', xlabel='', ylabel='streets')"
   ]
  },
  {
   "cell_type": "markdown",
   "id": "b635fbcb",
   "metadata": {},
   "source": [
    "Jalan SUNSET memiliki jumlah terbanyak tempat usaha waralaba."
   ]
  },
  {
   "cell_type": "code",
   "execution_count": 49,
   "id": "d6e60d53",
   "metadata": {
    "scrolled": true
   },
   "outputs": [
    {
     "data": {
      "text/html": [
       "<div>\n",
       "<style scoped>\n",
       "    .dataframe tbody tr th:only-of-type {\n",
       "        vertical-align: middle;\n",
       "    }\n",
       "\n",
       "    .dataframe tbody tr th {\n",
       "        vertical-align: top;\n",
       "    }\n",
       "\n",
       "    .dataframe thead th {\n",
       "        text-align: right;\n",
       "    }\n",
       "</style>\n",
       "<table border=\"1\" class=\"dataframe\">\n",
       "  <thead>\n",
       "    <tr style=\"text-align: right;\">\n",
       "      <th></th>\n",
       "      <th>street_name</th>\n",
       "      <th>franchise</th>\n",
       "    </tr>\n",
       "  </thead>\n",
       "  <tbody>\n",
       "    <tr>\n",
       "      <th>410</th>\n",
       "      <td>SUNSET</td>\n",
       "      <td>263</td>\n",
       "    </tr>\n",
       "    <tr>\n",
       "      <th>352</th>\n",
       "      <td>PICO</td>\n",
       "      <td>247</td>\n",
       "    </tr>\n",
       "    <tr>\n",
       "      <th>460</th>\n",
       "      <td>WILSHIRE</td>\n",
       "      <td>243</td>\n",
       "    </tr>\n",
       "    <tr>\n",
       "      <th>450</th>\n",
       "      <td>WESTERN</td>\n",
       "      <td>225</td>\n",
       "    </tr>\n",
       "    <tr>\n",
       "      <th>335</th>\n",
       "      <td>OLYMPIC</td>\n",
       "      <td>194</td>\n",
       "    </tr>\n",
       "    <tr>\n",
       "      <th>175</th>\n",
       "      <td>FIGUEROA</td>\n",
       "      <td>187</td>\n",
       "    </tr>\n",
       "    <tr>\n",
       "      <th>434</th>\n",
       "      <td>VERMONT</td>\n",
       "      <td>175</td>\n",
       "    </tr>\n",
       "    <tr>\n",
       "      <th>221</th>\n",
       "      <td>HOLLYWOOD</td>\n",
       "      <td>169</td>\n",
       "    </tr>\n",
       "    <tr>\n",
       "      <th>21</th>\n",
       "      <td>3RD</td>\n",
       "      <td>168</td>\n",
       "    </tr>\n",
       "    <tr>\n",
       "      <th>382</th>\n",
       "      <td>SANTA MONICA</td>\n",
       "      <td>159</td>\n",
       "    </tr>\n",
       "  </tbody>\n",
       "</table>\n",
       "</div>"
      ],
      "text/plain": [
       "      street_name  franchise\n",
       "410        SUNSET        263\n",
       "352          PICO        247\n",
       "460      WILSHIRE        243\n",
       "450       WESTERN        225\n",
       "335       OLYMPIC        194\n",
       "175      FIGUEROA        187\n",
       "434       VERMONT        175\n",
       "221     HOLLYWOOD        169\n",
       "21            3RD        168\n",
       "382  SANTA MONICA        159"
      ]
     },
     "execution_count": 49,
     "metadata": {},
     "output_type": "execute_result"
    }
   ],
   "source": [
    "top_ten_f"
   ]
  },
  {
   "cell_type": "markdown",
   "id": "f29fbd26",
   "metadata": {},
   "source": [
    "Jalan SUNSET menempati posisi pertama dengan 263 tempat usaha waralaba, dan jalan SANTA MONICA di posisi ke 10 dengan 159 tempat usaha."
   ]
  },
  {
   "cell_type": "code",
   "execution_count": 50,
   "id": "3864efc6",
   "metadata": {},
   "outputs": [],
   "source": [
    "# Export data ke excel\n",
    "top_ten_f.to_excel(r'C:\\Users\\vidop\\Documents\\Practicum\\Sprint 9\\Export\\top10_loc_f.xlsx',\n",
    "                    index=False)"
   ]
  },
  {
   "cell_type": "markdown",
   "id": "503a8722",
   "metadata": {},
   "source": [
    "**Top 10 lokasi non-waralaba**"
   ]
  },
  {
   "cell_type": "code",
   "execution_count": 51,
   "id": "c3a999d4",
   "metadata": {
    "scrolled": true
   },
   "outputs": [
    {
     "data": {
      "text/plain": [
       "<seaborn.axisgrid.FacetGrid at 0x2e3a8fde1a0>"
      ]
     },
     "execution_count": 51,
     "metadata": {},
     "output_type": "execute_result"
    },
    {
     "data": {
      "image/png": "[encoded data removed]",
      "text/plain": [
       "<Figure size 750x500 with 1 Axes>"
      ]
     },
     "metadata": {},
     "output_type": "display_data"
    }
   ],
   "source": [
    "# Grafik top 10 lokasi usaha non-waralaba\n",
    "top_ten_nf = location[['street_name', 'nonfranchise']].sort_values(by='nonfranchise', ascending=False).head(10)\n",
    "\n",
    "top_ten_nf_graph = sns.catplot(data=top_ten_nf, y='street_name', x='nonfranchise', kind='bar', palette='deep', aspect = 1.5)\n",
    "top_ten_nf_graph.set(title = 'Non-Franchise Top 10 Locations', xlabel='', ylabel='streets')"
   ]
  },
  {
   "cell_type": "markdown",
   "id": "ee7534d0",
   "metadata": {},
   "source": [
    "Jalan WILSHIRE memiliki jumlah terbanyak tempat usaha non-waralaba."
   ]
  },
  {
   "cell_type": "code",
   "execution_count": 52,
   "id": "50d84f2b",
   "metadata": {},
   "outputs": [
    {
     "data": {
      "text/html": [
       "<div>\n",
       "<style scoped>\n",
       "    .dataframe tbody tr th:only-of-type {\n",
       "        vertical-align: middle;\n",
       "    }\n",
       "\n",
       "    .dataframe tbody tr th {\n",
       "        vertical-align: top;\n",
       "    }\n",
       "\n",
       "    .dataframe thead th {\n",
       "        text-align: right;\n",
       "    }\n",
       "</style>\n",
       "<table border=\"1\" class=\"dataframe\">\n",
       "  <thead>\n",
       "    <tr style=\"text-align: right;\">\n",
       "      <th></th>\n",
       "      <th>street_name</th>\n",
       "      <th>nonfranchise</th>\n",
       "    </tr>\n",
       "  </thead>\n",
       "  <tbody>\n",
       "    <tr>\n",
       "      <th>460</th>\n",
       "      <td>WILSHIRE</td>\n",
       "      <td>155</td>\n",
       "    </tr>\n",
       "    <tr>\n",
       "      <th>175</th>\n",
       "      <td>FIGUEROA</td>\n",
       "      <td>147</td>\n",
       "    </tr>\n",
       "    <tr>\n",
       "      <th>450</th>\n",
       "      <td>WESTERN</td>\n",
       "      <td>144</td>\n",
       "    </tr>\n",
       "    <tr>\n",
       "      <th>410</th>\n",
       "      <td>SUNSET</td>\n",
       "      <td>142</td>\n",
       "    </tr>\n",
       "    <tr>\n",
       "      <th>352</th>\n",
       "      <td>PICO</td>\n",
       "      <td>124</td>\n",
       "    </tr>\n",
       "    <tr>\n",
       "      <th>335</th>\n",
       "      <td>OLYMPIC</td>\n",
       "      <td>115</td>\n",
       "    </tr>\n",
       "    <tr>\n",
       "      <th>434</th>\n",
       "      <td>VERMONT</td>\n",
       "      <td>113</td>\n",
       "    </tr>\n",
       "    <tr>\n",
       "      <th>382</th>\n",
       "      <td>SANTA MONICA</td>\n",
       "      <td>105</td>\n",
       "    </tr>\n",
       "    <tr>\n",
       "      <th>21</th>\n",
       "      <td>3RD</td>\n",
       "      <td>94</td>\n",
       "    </tr>\n",
       "    <tr>\n",
       "      <th>94</th>\n",
       "      <td>BROADWAY</td>\n",
       "      <td>88</td>\n",
       "    </tr>\n",
       "  </tbody>\n",
       "</table>\n",
       "</div>"
      ],
      "text/plain": [
       "      street_name  nonfranchise\n",
       "460      WILSHIRE           155\n",
       "175      FIGUEROA           147\n",
       "450       WESTERN           144\n",
       "410        SUNSET           142\n",
       "352          PICO           124\n",
       "335       OLYMPIC           115\n",
       "434       VERMONT           113\n",
       "382  SANTA MONICA           105\n",
       "21            3RD            94\n",
       "94       BROADWAY            88"
      ]
     },
     "execution_count": 52,
     "metadata": {},
     "output_type": "execute_result"
    }
   ],
   "source": [
    "top_ten_nf"
   ]
  },
  {
   "cell_type": "markdown",
   "id": "5adcb86c",
   "metadata": {},
   "source": [
    "Jalan WILSHIRE menempati posisi pertama dengan 155 tempat usaha non-waralaba, dan jalan BROADWAY di posisi ke 10 dengan 88 tempat usaha."
   ]
  },
  {
   "cell_type": "code",
   "execution_count": 53,
   "id": "c1c10f5a",
   "metadata": {},
   "outputs": [],
   "source": [
    "# Export data ke excel\n",
    "top_ten_nf.to_excel(r'C:\\Users\\vidop\\Documents\\Practicum\\Sprint 9\\Export\\top10_loc_nf.xlsx',\n",
    "                    index=False)"
   ]
  },
  {
   "cell_type": "markdown",
   "id": "33525689",
   "metadata": {},
   "source": [
    "### Lokasi dengan 1 Tempat Usaha"
   ]
  },
  {
   "cell_type": "code",
   "execution_count": 54,
   "id": "58437e41",
   "metadata": {},
   "outputs": [
    {
     "data": {
      "text/html": [
       "<div>\n",
       "<style scoped>\n",
       "    .dataframe tbody tr th:only-of-type {\n",
       "        vertical-align: middle;\n",
       "    }\n",
       "\n",
       "    .dataframe tbody tr th {\n",
       "        vertical-align: top;\n",
       "    }\n",
       "\n",
       "    .dataframe thead th {\n",
       "        text-align: right;\n",
       "    }\n",
       "</style>\n",
       "<table border=\"1\" class=\"dataframe\">\n",
       "  <thead>\n",
       "    <tr style=\"text-align: right;\">\n",
       "      <th></th>\n",
       "      <th>street_name</th>\n",
       "      <th>total</th>\n",
       "    </tr>\n",
       "  </thead>\n",
       "  <tbody>\n",
       "    <tr>\n",
       "      <th>0</th>\n",
       "      <td>103</td>\n",
       "      <td>1</td>\n",
       "    </tr>\n",
       "    <tr>\n",
       "      <th>2</th>\n",
       "      <td>10TH</td>\n",
       "      <td>1</td>\n",
       "    </tr>\n",
       "    <tr>\n",
       "      <th>7</th>\n",
       "      <td>16TH</td>\n",
       "      <td>1</td>\n",
       "    </tr>\n",
       "    <tr>\n",
       "      <th>8</th>\n",
       "      <td>17TH</td>\n",
       "      <td>1</td>\n",
       "    </tr>\n",
       "    <tr>\n",
       "      <th>9</th>\n",
       "      <td>18TH</td>\n",
       "      <td>1</td>\n",
       "    </tr>\n",
       "  </tbody>\n",
       "</table>\n",
       "</div>"
      ],
      "text/plain": [
       "  street_name  total\n",
       "0         103      1\n",
       "2        10TH      1\n",
       "7        16TH      1\n",
       "8        17TH      1\n",
       "9        18TH      1"
      ]
     },
     "execution_count": 54,
     "metadata": {},
     "output_type": "execute_result"
    }
   ],
   "source": [
    "# Irisan data yang berisi nama jalan dengan 1 tempat usaha\n",
    "location_1 = location[['street_name', 'total']].query('total <2')\n",
    "\n",
    "location_1.head()"
   ]
  },
  {
   "cell_type": "markdown",
   "id": "5e0d9d02",
   "metadata": {},
   "source": [
    "List data nama jalan yang hanya berisi 1 tempat usaha."
   ]
  },
  {
   "cell_type": "code",
   "execution_count": 55,
   "id": "afd961aa",
   "metadata": {},
   "outputs": [
    {
     "name": "stdout",
     "output_type": "stream",
     "text": [
      "Terdapat 185 jalan dengan 1 tempat usaha.\n"
     ]
    }
   ],
   "source": [
    "# Menghitung jumlah jalan dengan 1 tempat usaha.\n",
    "\n",
    "print('Terdapat', len(location_1), 'jalan dengan 1 tempat usaha.')"
   ]
  },
  {
   "cell_type": "markdown",
   "id": "44200be9",
   "metadata": {},
   "source": [
    "## Distribusi Jumlah Kursi pada Lokasi Populer"
   ]
  },
  {
   "cell_type": "markdown",
   "id": "79f28ef9",
   "metadata": {},
   "source": [
    "Distribusi jumlah kursi akan dilihat dari Top 10 lokasi terpopuler."
   ]
  },
  {
   "cell_type": "code",
   "execution_count": 56,
   "id": "8f22e2df",
   "metadata": {},
   "outputs": [],
   "source": [
    "# Membuat list nama jalan top 10 kedua jenis bisnis\n",
    "street_list = top_ten_all.set_index('street_name').index\n",
    "\n",
    "# Irisan data dengan jalan top 10\n",
    "data_filt = data[data['street_name'].isin(street_list)]"
   ]
  },
  {
   "cell_type": "code",
   "execution_count": 57,
   "id": "1414ece1",
   "metadata": {},
   "outputs": [
    {
     "data": {
      "text/plain": [
       "[Text(0.5, 1.0, 'Number of Seat Distribution'), Text(0.5, 0, 'Number of Seat')]"
      ]
     },
     "execution_count": 57,
     "metadata": {},
     "output_type": "execute_result"
    },
    {
     "data": {
      "image/png": "[encoded data removed]",
      "text/plain": [
       "<Figure size 640x480 with 1 Axes>"
      ]
     },
     "metadata": {},
     "output_type": "display_data"
    }
   ],
   "source": [
    "# Grafik histogram\n",
    "seat = sns.histplot(data=data_filt, x='number', hue='object_type', multiple='stack', bins=20)\n",
    "seat.set(title = 'Number of Seat Distribution', xlabel='Number of Seat')"
   ]
  },
  {
   "cell_type": "markdown",
   "id": "dca160b1",
   "metadata": {},
   "source": [
    "Jumlah kursi pada tempat usaha di lokasi terpopuler sekitar 1-50 kursi per tempat."
   ]
  },
  {
   "cell_type": "markdown",
   "id": "6260592f",
   "metadata": {},
   "source": [
    "## Kesimpulan"
   ]
  },
  {
   "cell_type": "markdown",
   "id": "515a572e",
   "metadata": {},
   "source": [
    "Secara keseluruhan, jenis usaha Restaurant berjumlah paling banyak dan Bakery berjumlah paling sedikit.\n",
    "\n",
    "Pada bisnis waralaba, jenis usaha Restaurant berjumlah paling banyak dan Bar paling sedikit.\n",
    "\n",
    "Pada bisnis non-waralaba, jenis usaha Restaurant berjumlah paling banyak dan Pizza paling sedikit.\n",
    "\n",
    "Jika dilihat dari kepemilikan bisnis, pada jenis usaha Bakery memiliki kepemilikian bisnis waralaba 100%, tidak ada kepemilikan non-waralaba di jenis usaha ini. Dan pada jenis usaha Bar memiliki persentase kepemilikan bisnis waralaba terkecil sebesar 26%.\n",
    "\n",
    "Secara keseluruhan jenis usaha, bisnis waralaba memiliki jumlah lokasi dan kursi lebih banyak dari bisnis non-waralaba.\n",
    "\n",
    "Secara keseluruhan, rata-rata jumlah kursi terbanyak pada jenis usaha Restaurant dan Bakery paling sedikit.\n",
    "\n",
    "Pada bisnis waralaba, rata-rata jumlah kursi terbanyak pada jenis usaha Restaurant dan Bakery paling sedikit.\n",
    "\n",
    "Pada bisnis non-waralaba, rata-rata jumlah kursi terbanyak pada jenis usaha Restaurant dan cafe paling sedikit.\n",
    "\n",
    "Secara keseluruhan, jalan SUNSET menempati posisi pertama dengan 405 tempat usaha, dan jalan HOLLYWOOD di posisi ke 10 dengan 254 tempat usaha.\n",
    "\n",
    "Pada bisnis waralaba, jalan SUNSET menempati posisi pertama dengan 263 tempat usaha waralaba, dan jalan SANTA MONICA di posisi ke 10 dengan 159 tempat usaha.\n",
    "\n",
    "Pada bisnis non-waralaba, jalan WILSHIRE menempati posisi pertama dengan 155 tempat usaha non-waralaba, dan jalan BROADWAY di posisi ke 10 dengan 88 tempat usaha.\n",
    "\n",
    "Terdapat juga jalan dengan hanya 1 tempat usaha sebanyak 185 jalan.\n",
    "\n",
    "Pada 10 lokasi terpopuler, kebanyakan jumlah kursi per tempat usaha sekitar 1-50 kursi.\n",
    "\n",
    "\n",
    "\n",
    "\n",
    "\n",
    "\n"
   ]
  },
  {
   "cell_type": "markdown",
   "id": "36e3b672",
   "metadata": {},
   "source": [
    "# Kesimpulan"
   ]
  },
  {
   "cell_type": "markdown",
   "id": "5e503158",
   "metadata": {},
   "source": [
    "Dari data ini digunakan untuk melihat bisnis makanan yang ada di LA.\n",
    "\n",
    "**Informasi yang terdapat pada data :**\n",
    "\n",
    " - object_name — nama usaha.\n",
    " - chain — TRUE = Waralaba, FALSE = Non Waralaba.\n",
    " - object_type — jenis usaha.\n",
    " - address — alamat.\n",
    " - number — jumlah kursi.\n",
    "\n",
    "**Perbaikan pada data :**\n",
    "\n",
    " 1. Menghapus data chain dengan nilai na.\n",
    "\n",
    "**Penambahan informasi pada data :**\n",
    "\n",
    " 1. Memisahkan nama jalan dengan menggunakan library usadress.\n",
    " 2. Menyeragamkan nama jalan dengan mengeliminasi huruf dan karakter menggunakan regex.\n"
   ]
  },
  {
   "cell_type": "markdown",
   "id": "67b85958",
   "metadata": {},
   "source": [
    "**Jenis usaha secara keseluruhan**"
   ]
  },
  {
   "cell_type": "code",
   "execution_count": 58,
   "id": "8c07c1e6",
   "metadata": {},
   "outputs": [
    {
     "data": {
      "text/html": [
       "<div>\n",
       "<style scoped>\n",
       "    .dataframe tbody tr th:only-of-type {\n",
       "        vertical-align: middle;\n",
       "    }\n",
       "\n",
       "    .dataframe tbody tr th {\n",
       "        vertical-align: top;\n",
       "    }\n",
       "\n",
       "    .dataframe thead th {\n",
       "        text-align: right;\n",
       "    }\n",
       "</style>\n",
       "<table border=\"1\" class=\"dataframe\">\n",
       "  <thead>\n",
       "    <tr style=\"text-align: right;\">\n",
       "      <th></th>\n",
       "      <th>business_type</th>\n",
       "      <th>count</th>\n",
       "    </tr>\n",
       "  </thead>\n",
       "  <tbody>\n",
       "    <tr>\n",
       "      <th>0</th>\n",
       "      <td>Restaurant</td>\n",
       "      <td>7253</td>\n",
       "    </tr>\n",
       "    <tr>\n",
       "      <th>1</th>\n",
       "      <td>Fast Food</td>\n",
       "      <td>1066</td>\n",
       "    </tr>\n",
       "    <tr>\n",
       "      <th>2</th>\n",
       "      <td>Cafe</td>\n",
       "      <td>435</td>\n",
       "    </tr>\n",
       "    <tr>\n",
       "      <th>3</th>\n",
       "      <td>Pizza</td>\n",
       "      <td>319</td>\n",
       "    </tr>\n",
       "    <tr>\n",
       "      <th>4</th>\n",
       "      <td>Bar</td>\n",
       "      <td>292</td>\n",
       "    </tr>\n",
       "    <tr>\n",
       "      <th>5</th>\n",
       "      <td>Bakery</td>\n",
       "      <td>283</td>\n",
       "    </tr>\n",
       "  </tbody>\n",
       "</table>\n",
       "</div>"
      ],
      "text/plain": [
       "  business_type  count\n",
       "0    Restaurant   7253\n",
       "1     Fast Food   1066\n",
       "2          Cafe    435\n",
       "3         Pizza    319\n",
       "4           Bar    292\n",
       "5        Bakery    283"
      ]
     },
     "execution_count": 58,
     "metadata": {},
     "output_type": "execute_result"
    }
   ],
   "source": [
    "btype_table"
   ]
  },
  {
   "cell_type": "markdown",
   "id": "b08b4597",
   "metadata": {},
   "source": [
    "Secara keseluruhan jenis usaha Restaurant berjumlah paling banyak dan Bakery berjumlah paling sedikit.\n",
    "3 Jenis usaha terbanyak adalah Restaurant, Fast Food dan Cafe.\n",
    "\n",
    "**Jenis usaha waralaba**\n"
   ]
  },
  {
   "cell_type": "code",
   "execution_count": 59,
   "id": "e17975c6",
   "metadata": {},
   "outputs": [
    {
     "data": {
      "text/html": [
       "<div>\n",
       "<style scoped>\n",
       "    .dataframe tbody tr th:only-of-type {\n",
       "        vertical-align: middle;\n",
       "    }\n",
       "\n",
       "    .dataframe tbody tr th {\n",
       "        vertical-align: top;\n",
       "    }\n",
       "\n",
       "    .dataframe thead th {\n",
       "        text-align: right;\n",
       "    }\n",
       "</style>\n",
       "<table border=\"1\" class=\"dataframe\">\n",
       "  <thead>\n",
       "    <tr style=\"text-align: right;\">\n",
       "      <th></th>\n",
       "      <th>business_type</th>\n",
       "      <th>count</th>\n",
       "    </tr>\n",
       "  </thead>\n",
       "  <tbody>\n",
       "    <tr>\n",
       "      <th>0</th>\n",
       "      <td>Restaurant</td>\n",
       "      <td>2292</td>\n",
       "    </tr>\n",
       "    <tr>\n",
       "      <th>1</th>\n",
       "      <td>Fast Food</td>\n",
       "      <td>605</td>\n",
       "    </tr>\n",
       "    <tr>\n",
       "      <th>2</th>\n",
       "      <td>Bakery</td>\n",
       "      <td>283</td>\n",
       "    </tr>\n",
       "    <tr>\n",
       "      <th>3</th>\n",
       "      <td>Cafe</td>\n",
       "      <td>266</td>\n",
       "    </tr>\n",
       "    <tr>\n",
       "      <th>4</th>\n",
       "      <td>Pizza</td>\n",
       "      <td>153</td>\n",
       "    </tr>\n",
       "    <tr>\n",
       "      <th>5</th>\n",
       "      <td>Bar</td>\n",
       "      <td>77</td>\n",
       "    </tr>\n",
       "  </tbody>\n",
       "</table>\n",
       "</div>"
      ],
      "text/plain": [
       "  business_type  count\n",
       "0    Restaurant   2292\n",
       "1     Fast Food    605\n",
       "2        Bakery    283\n",
       "3          Cafe    266\n",
       "4         Pizza    153\n",
       "5           Bar     77"
      ]
     },
     "execution_count": 59,
     "metadata": {},
     "output_type": "execute_result"
    }
   ],
   "source": [
    "f_btype_table"
   ]
  },
  {
   "cell_type": "markdown",
   "id": "076be662",
   "metadata": {},
   "source": [
    "Pada bisnis Waralaba, jenis usaha Restaurant berjumlah paling banyak dan Bar paling sedikit. 3 jenis usaha waralaba terbanyak adalah Restaurant, Fast Food dan Bakery.\n",
    "\n",
    "**Jenis usaha non-waralaba**\n"
   ]
  },
  {
   "cell_type": "code",
   "execution_count": 60,
   "id": "705f11b4",
   "metadata": {},
   "outputs": [
    {
     "data": {
      "text/html": [
       "<div>\n",
       "<style scoped>\n",
       "    .dataframe tbody tr th:only-of-type {\n",
       "        vertical-align: middle;\n",
       "    }\n",
       "\n",
       "    .dataframe tbody tr th {\n",
       "        vertical-align: top;\n",
       "    }\n",
       "\n",
       "    .dataframe thead th {\n",
       "        text-align: right;\n",
       "    }\n",
       "</style>\n",
       "<table border=\"1\" class=\"dataframe\">\n",
       "  <thead>\n",
       "    <tr style=\"text-align: right;\">\n",
       "      <th></th>\n",
       "      <th>business_type</th>\n",
       "      <th>count</th>\n",
       "    </tr>\n",
       "  </thead>\n",
       "  <tbody>\n",
       "    <tr>\n",
       "      <th>0</th>\n",
       "      <td>Restaurant</td>\n",
       "      <td>4961</td>\n",
       "    </tr>\n",
       "    <tr>\n",
       "      <th>1</th>\n",
       "      <td>Fast Food</td>\n",
       "      <td>461</td>\n",
       "    </tr>\n",
       "    <tr>\n",
       "      <th>2</th>\n",
       "      <td>Bar</td>\n",
       "      <td>215</td>\n",
       "    </tr>\n",
       "    <tr>\n",
       "      <th>3</th>\n",
       "      <td>Cafe</td>\n",
       "      <td>169</td>\n",
       "    </tr>\n",
       "    <tr>\n",
       "      <th>4</th>\n",
       "      <td>Pizza</td>\n",
       "      <td>166</td>\n",
       "    </tr>\n",
       "  </tbody>\n",
       "</table>\n",
       "</div>"
      ],
      "text/plain": [
       "  business_type  count\n",
       "0    Restaurant   4961\n",
       "1     Fast Food    461\n",
       "2           Bar    215\n",
       "3          Cafe    169\n",
       "4         Pizza    166"
      ]
     },
     "execution_count": 60,
     "metadata": {},
     "output_type": "execute_result"
    }
   ],
   "source": [
    "nf_btype_table"
   ]
  },
  {
   "cell_type": "markdown",
   "id": "a1bb4487",
   "metadata": {},
   "source": [
    "Pada bisnis non-waralaba, jenis usaha Restaurant berjumlah paling banyak dan Pizza paling sedikit. 3 jenis usaha waralaba terbanyak adalah Restaurant, Fast Food dan Bar.\n",
    "\n",
    "**Perbandingan kepemilikan jenis usaha waralaba dan non-waralaba**"
   ]
  },
  {
   "cell_type": "code",
   "execution_count": 61,
   "id": "394d812c",
   "metadata": {},
   "outputs": [
    {
     "data": {
      "text/html": [
       "<div>\n",
       "<style scoped>\n",
       "    .dataframe tbody tr th:only-of-type {\n",
       "        vertical-align: middle;\n",
       "    }\n",
       "\n",
       "    .dataframe tbody tr th {\n",
       "        vertical-align: top;\n",
       "    }\n",
       "\n",
       "    .dataframe thead th {\n",
       "        text-align: right;\n",
       "    }\n",
       "</style>\n",
       "<table border=\"1\" class=\"dataframe\">\n",
       "  <thead>\n",
       "    <tr style=\"text-align: right;\">\n",
       "      <th></th>\n",
       "      <th>business_type</th>\n",
       "      <th>count_franchise</th>\n",
       "      <th>count_non_franchise</th>\n",
       "      <th>total</th>\n",
       "      <th>franchise_pct</th>\n",
       "    </tr>\n",
       "  </thead>\n",
       "  <tbody>\n",
       "    <tr>\n",
       "      <th>2</th>\n",
       "      <td>Bakery</td>\n",
       "      <td>283</td>\n",
       "      <td>0</td>\n",
       "      <td>283</td>\n",
       "      <td>100.0</td>\n",
       "    </tr>\n",
       "    <tr>\n",
       "      <th>3</th>\n",
       "      <td>Cafe</td>\n",
       "      <td>266</td>\n",
       "      <td>169</td>\n",
       "      <td>435</td>\n",
       "      <td>61.0</td>\n",
       "    </tr>\n",
       "    <tr>\n",
       "      <th>1</th>\n",
       "      <td>Fast Food</td>\n",
       "      <td>605</td>\n",
       "      <td>461</td>\n",
       "      <td>1066</td>\n",
       "      <td>57.0</td>\n",
       "    </tr>\n",
       "    <tr>\n",
       "      <th>4</th>\n",
       "      <td>Pizza</td>\n",
       "      <td>153</td>\n",
       "      <td>166</td>\n",
       "      <td>319</td>\n",
       "      <td>48.0</td>\n",
       "    </tr>\n",
       "    <tr>\n",
       "      <th>0</th>\n",
       "      <td>Restaurant</td>\n",
       "      <td>2292</td>\n",
       "      <td>4961</td>\n",
       "      <td>7253</td>\n",
       "      <td>32.0</td>\n",
       "    </tr>\n",
       "    <tr>\n",
       "      <th>5</th>\n",
       "      <td>Bar</td>\n",
       "      <td>77</td>\n",
       "      <td>215</td>\n",
       "      <td>292</td>\n",
       "      <td>26.0</td>\n",
       "    </tr>\n",
       "  </tbody>\n",
       "</table>\n",
       "</div>"
      ],
      "text/plain": [
       "  business_type  count_franchise  count_non_franchise  total  franchise_pct\n",
       "2        Bakery              283                    0    283          100.0\n",
       "3          Cafe              266                  169    435           61.0\n",
       "1     Fast Food              605                  461   1066           57.0\n",
       "4         Pizza              153                  166    319           48.0\n",
       "0    Restaurant             2292                 4961   7253           32.0\n",
       "5           Bar               77                  215    292           26.0"
      ]
     },
     "execution_count": 61,
     "metadata": {},
     "output_type": "execute_result"
    }
   ],
   "source": [
    "comp_table"
   ]
  },
  {
   "cell_type": "markdown",
   "id": "3ad19966",
   "metadata": {},
   "source": [
    "Jenis usaha Bakery memiliki kepemilikian bisnis waralaba 100%, tidak ada kepemilikan non-waralaba di jenis usaha ini. Sedangkan jenis usaha Bar memiliki persentase kepemilikan bisnis waralaba terkecil sebesar 26%.\n",
    "\n",
    "**Ciri-ciri bisnis waralaba**"
   ]
  },
  {
   "cell_type": "code",
   "execution_count": 62,
   "id": "af144c73",
   "metadata": {},
   "outputs": [
    {
     "data": {
      "text/html": [
       "<div>\n",
       "<style scoped>\n",
       "    .dataframe tbody tr th:only-of-type {\n",
       "        vertical-align: middle;\n",
       "    }\n",
       "\n",
       "    .dataframe tbody tr th {\n",
       "        vertical-align: top;\n",
       "    }\n",
       "\n",
       "    .dataframe thead th {\n",
       "        text-align: right;\n",
       "    }\n",
       "</style>\n",
       "<table border=\"1\" class=\"dataframe\">\n",
       "  <thead>\n",
       "    <tr style=\"text-align: right;\">\n",
       "      <th></th>\n",
       "      <th>chain</th>\n",
       "      <th>avg_location</th>\n",
       "      <th>avg_seat</th>\n",
       "    </tr>\n",
       "  </thead>\n",
       "  <tbody>\n",
       "    <tr>\n",
       "      <th>0</th>\n",
       "      <td>False</td>\n",
       "      <td>1.00</td>\n",
       "      <td>46.40</td>\n",
       "    </tr>\n",
       "    <tr>\n",
       "      <th>1</th>\n",
       "      <td>True</td>\n",
       "      <td>1.35</td>\n",
       "      <td>53.39</td>\n",
       "    </tr>\n",
       "  </tbody>\n",
       "</table>\n",
       "</div>"
      ],
      "text/plain": [
       "   chain  avg_location  avg_seat\n",
       "0  False          1.00     46.40\n",
       "1   True          1.35     53.39"
      ]
     },
     "execution_count": 62,
     "metadata": {},
     "output_type": "execute_result"
    }
   ],
   "source": [
    "loc_seat_avg"
   ]
  },
  {
   "cell_type": "markdown",
   "id": "f0de5595",
   "metadata": {},
   "source": [
    "Secara keseluruhan jenis usaha, bisnis waralaba memiliki jumlah lokasi dan kursi lebih banyak daripada bisnis non-waralaba.\n",
    "\n",
    "**Rata-rata jumlah kursi secara keseluruhan**"
   ]
  },
  {
   "cell_type": "code",
   "execution_count": 63,
   "id": "426bf0ec",
   "metadata": {},
   "outputs": [
    {
     "data": {
      "text/html": [
       "<div>\n",
       "<style scoped>\n",
       "    .dataframe tbody tr th:only-of-type {\n",
       "        vertical-align: middle;\n",
       "    }\n",
       "\n",
       "    .dataframe tbody tr th {\n",
       "        vertical-align: top;\n",
       "    }\n",
       "\n",
       "    .dataframe thead th {\n",
       "        text-align: right;\n",
       "    }\n",
       "</style>\n",
       "<table border=\"1\" class=\"dataframe\">\n",
       "  <thead>\n",
       "    <tr style=\"text-align: right;\">\n",
       "      <th></th>\n",
       "      <th>object_type</th>\n",
       "      <th>number</th>\n",
       "    </tr>\n",
       "  </thead>\n",
       "  <tbody>\n",
       "    <tr>\n",
       "      <th>5</th>\n",
       "      <td>Restaurant</td>\n",
       "      <td>48.05</td>\n",
       "    </tr>\n",
       "    <tr>\n",
       "      <th>1</th>\n",
       "      <td>Bar</td>\n",
       "      <td>44.77</td>\n",
       "    </tr>\n",
       "    <tr>\n",
       "      <th>3</th>\n",
       "      <td>Fast Food</td>\n",
       "      <td>31.84</td>\n",
       "    </tr>\n",
       "    <tr>\n",
       "      <th>4</th>\n",
       "      <td>Pizza</td>\n",
       "      <td>28.55</td>\n",
       "    </tr>\n",
       "    <tr>\n",
       "      <th>2</th>\n",
       "      <td>Cafe</td>\n",
       "      <td>25.00</td>\n",
       "    </tr>\n",
       "    <tr>\n",
       "      <th>0</th>\n",
       "      <td>Bakery</td>\n",
       "      <td>21.77</td>\n",
       "    </tr>\n",
       "  </tbody>\n",
       "</table>\n",
       "</div>"
      ],
      "text/plain": [
       "  object_type  number\n",
       "5  Restaurant   48.05\n",
       "1         Bar   44.77\n",
       "3   Fast Food   31.84\n",
       "4       Pizza   28.55\n",
       "2        Cafe   25.00\n",
       "0      Bakery   21.77"
      ]
     },
     "execution_count": 63,
     "metadata": {},
     "output_type": "execute_result"
    }
   ],
   "source": [
    "seat_avg_table"
   ]
  },
  {
   "cell_type": "markdown",
   "id": "a3ec5eb4",
   "metadata": {},
   "source": [
    "Secara keseluruhan jenis usaha Restaurant memiliki jumlah kursi terbanyak dan Bakery paling sedikit. 3 jenis usaha yang memiliki jumlah kursi terbanyak adalah Restaurant, Bar dan Fast Food.\n",
    "\n",
    "**Rata-rata jumlah kursi jenis usaha waralaba**"
   ]
  },
  {
   "cell_type": "code",
   "execution_count": 64,
   "id": "67cb4fa7",
   "metadata": {},
   "outputs": [
    {
     "data": {
      "text/html": [
       "<div>\n",
       "<style scoped>\n",
       "    .dataframe tbody tr th:only-of-type {\n",
       "        vertical-align: middle;\n",
       "    }\n",
       "\n",
       "    .dataframe tbody tr th {\n",
       "        vertical-align: top;\n",
       "    }\n",
       "\n",
       "    .dataframe thead th {\n",
       "        text-align: right;\n",
       "    }\n",
       "</style>\n",
       "<table border=\"1\" class=\"dataframe\">\n",
       "  <thead>\n",
       "    <tr style=\"text-align: right;\">\n",
       "      <th></th>\n",
       "      <th>object_type</th>\n",
       "      <th>number</th>\n",
       "    </tr>\n",
       "  </thead>\n",
       "  <tbody>\n",
       "    <tr>\n",
       "      <th>5</th>\n",
       "      <td>Restaurant</td>\n",
       "      <td>44.86</td>\n",
       "    </tr>\n",
       "    <tr>\n",
       "      <th>1</th>\n",
       "      <td>Bar</td>\n",
       "      <td>40.26</td>\n",
       "    </tr>\n",
       "    <tr>\n",
       "      <th>3</th>\n",
       "      <td>Fast Food</td>\n",
       "      <td>38.09</td>\n",
       "    </tr>\n",
       "    <tr>\n",
       "      <th>2</th>\n",
       "      <td>Cafe</td>\n",
       "      <td>25.92</td>\n",
       "    </tr>\n",
       "    <tr>\n",
       "      <th>4</th>\n",
       "      <td>Pizza</td>\n",
       "      <td>25.53</td>\n",
       "    </tr>\n",
       "    <tr>\n",
       "      <th>0</th>\n",
       "      <td>Bakery</td>\n",
       "      <td>21.77</td>\n",
       "    </tr>\n",
       "  </tbody>\n",
       "</table>\n",
       "</div>"
      ],
      "text/plain": [
       "  object_type  number\n",
       "5  Restaurant   44.86\n",
       "1         Bar   40.26\n",
       "3   Fast Food   38.09\n",
       "2        Cafe   25.92\n",
       "4       Pizza   25.53\n",
       "0      Bakery   21.77"
      ]
     },
     "execution_count": 64,
     "metadata": {},
     "output_type": "execute_result"
    }
   ],
   "source": [
    "f_seat_avg_table"
   ]
  },
  {
   "cell_type": "markdown",
   "id": "30115c84",
   "metadata": {},
   "source": [
    "Pada bisnis waralaba jenis usaha Restaurant memiliki jumlah kursi terbanyak dan Bakery paling sedikit. 3 jenis usaha yang memiliki jumlah kursi terbanyak adalah Restaurant, Bar dan Fast Food.\n",
    "\n",
    "**Rata-rata jumlah kursi jenis usaha non-waralaba**"
   ]
  },
  {
   "cell_type": "code",
   "execution_count": 65,
   "id": "0389ffac",
   "metadata": {},
   "outputs": [
    {
     "data": {
      "text/html": [
       "<div>\n",
       "<style scoped>\n",
       "    .dataframe tbody tr th:only-of-type {\n",
       "        vertical-align: middle;\n",
       "    }\n",
       "\n",
       "    .dataframe tbody tr th {\n",
       "        vertical-align: top;\n",
       "    }\n",
       "\n",
       "    .dataframe thead th {\n",
       "        text-align: right;\n",
       "    }\n",
       "</style>\n",
       "<table border=\"1\" class=\"dataframe\">\n",
       "  <thead>\n",
       "    <tr style=\"text-align: right;\">\n",
       "      <th></th>\n",
       "      <th>object_type</th>\n",
       "      <th>number</th>\n",
       "    </tr>\n",
       "  </thead>\n",
       "  <tbody>\n",
       "    <tr>\n",
       "      <th>4</th>\n",
       "      <td>Restaurant</td>\n",
       "      <td>49.52</td>\n",
       "    </tr>\n",
       "    <tr>\n",
       "      <th>0</th>\n",
       "      <td>Bar</td>\n",
       "      <td>46.38</td>\n",
       "    </tr>\n",
       "    <tr>\n",
       "      <th>3</th>\n",
       "      <td>Pizza</td>\n",
       "      <td>31.33</td>\n",
       "    </tr>\n",
       "    <tr>\n",
       "      <th>2</th>\n",
       "      <td>Fast Food</td>\n",
       "      <td>23.63</td>\n",
       "    </tr>\n",
       "    <tr>\n",
       "      <th>1</th>\n",
       "      <td>Cafe</td>\n",
       "      <td>23.56</td>\n",
       "    </tr>\n",
       "  </tbody>\n",
       "</table>\n",
       "</div>"
      ],
      "text/plain": [
       "  object_type  number\n",
       "4  Restaurant   49.52\n",
       "0         Bar   46.38\n",
       "3       Pizza   31.33\n",
       "2   Fast Food   23.63\n",
       "1        Cafe   23.56"
      ]
     },
     "execution_count": 65,
     "metadata": {},
     "output_type": "execute_result"
    }
   ],
   "source": [
    "nf_seat_avg_table"
   ]
  },
  {
   "cell_type": "markdown",
   "id": "cc6edc4b",
   "metadata": {},
   "source": [
    "Pada bisnis non-waralaba jenis usaha Restaurant memiliki jumlah kursi terbanyak dan cafe paling sedikit. 3 jenis usaha yang memiliki jumlah terbanyak adalah Restaurant, Bar dan Pizza.\n",
    "\n",
    "**Top 10 lokasi usaha secara keseluruhan**"
   ]
  },
  {
   "cell_type": "code",
   "execution_count": 66,
   "id": "1113835f",
   "metadata": {},
   "outputs": [
    {
     "data": {
      "text/html": [
       "<div>\n",
       "<style scoped>\n",
       "    .dataframe tbody tr th:only-of-type {\n",
       "        vertical-align: middle;\n",
       "    }\n",
       "\n",
       "    .dataframe tbody tr th {\n",
       "        vertical-align: top;\n",
       "    }\n",
       "\n",
       "    .dataframe thead th {\n",
       "        text-align: right;\n",
       "    }\n",
       "</style>\n",
       "<table border=\"1\" class=\"dataframe\">\n",
       "  <thead>\n",
       "    <tr style=\"text-align: right;\">\n",
       "      <th></th>\n",
       "      <th>street_name</th>\n",
       "      <th>total</th>\n",
       "    </tr>\n",
       "  </thead>\n",
       "  <tbody>\n",
       "    <tr>\n",
       "      <th>410</th>\n",
       "      <td>SUNSET</td>\n",
       "      <td>405</td>\n",
       "    </tr>\n",
       "    <tr>\n",
       "      <th>460</th>\n",
       "      <td>WILSHIRE</td>\n",
       "      <td>398</td>\n",
       "    </tr>\n",
       "    <tr>\n",
       "      <th>352</th>\n",
       "      <td>PICO</td>\n",
       "      <td>371</td>\n",
       "    </tr>\n",
       "    <tr>\n",
       "      <th>450</th>\n",
       "      <td>WESTERN</td>\n",
       "      <td>369</td>\n",
       "    </tr>\n",
       "    <tr>\n",
       "      <th>175</th>\n",
       "      <td>FIGUEROA</td>\n",
       "      <td>334</td>\n",
       "    </tr>\n",
       "    <tr>\n",
       "      <th>335</th>\n",
       "      <td>OLYMPIC</td>\n",
       "      <td>309</td>\n",
       "    </tr>\n",
       "    <tr>\n",
       "      <th>434</th>\n",
       "      <td>VERMONT</td>\n",
       "      <td>288</td>\n",
       "    </tr>\n",
       "    <tr>\n",
       "      <th>382</th>\n",
       "      <td>SANTA MONICA</td>\n",
       "      <td>264</td>\n",
       "    </tr>\n",
       "    <tr>\n",
       "      <th>21</th>\n",
       "      <td>3RD</td>\n",
       "      <td>262</td>\n",
       "    </tr>\n",
       "    <tr>\n",
       "      <th>221</th>\n",
       "      <td>HOLLYWOOD</td>\n",
       "      <td>254</td>\n",
       "    </tr>\n",
       "  </tbody>\n",
       "</table>\n",
       "</div>"
      ],
      "text/plain": [
       "      street_name  total\n",
       "410        SUNSET    405\n",
       "460      WILSHIRE    398\n",
       "352          PICO    371\n",
       "450       WESTERN    369\n",
       "175      FIGUEROA    334\n",
       "335       OLYMPIC    309\n",
       "434       VERMONT    288\n",
       "382  SANTA MONICA    264\n",
       "21            3RD    262\n",
       "221     HOLLYWOOD    254"
      ]
     },
     "execution_count": 66,
     "metadata": {},
     "output_type": "execute_result"
    }
   ],
   "source": [
    "top_ten_all"
   ]
  },
  {
   "cell_type": "markdown",
   "id": "e780ae67",
   "metadata": {},
   "source": [
    "Jalan SUNSET menempati posisi pertama dengan 405 tempat usaha, dan jalan HOLLYWOOD di posisi ke 10 dengan 254 tempat usaha.\n",
    "\n",
    "**Top 10 lokasi usaha waralaba**"
   ]
  },
  {
   "cell_type": "code",
   "execution_count": 67,
   "id": "3b28eefe",
   "metadata": {},
   "outputs": [
    {
     "data": {
      "text/html": [
       "<div>\n",
       "<style scoped>\n",
       "    .dataframe tbody tr th:only-of-type {\n",
       "        vertical-align: middle;\n",
       "    }\n",
       "\n",
       "    .dataframe tbody tr th {\n",
       "        vertical-align: top;\n",
       "    }\n",
       "\n",
       "    .dataframe thead th {\n",
       "        text-align: right;\n",
       "    }\n",
       "</style>\n",
       "<table border=\"1\" class=\"dataframe\">\n",
       "  <thead>\n",
       "    <tr style=\"text-align: right;\">\n",
       "      <th></th>\n",
       "      <th>street_name</th>\n",
       "      <th>franchise</th>\n",
       "    </tr>\n",
       "  </thead>\n",
       "  <tbody>\n",
       "    <tr>\n",
       "      <th>410</th>\n",
       "      <td>SUNSET</td>\n",
       "      <td>263</td>\n",
       "    </tr>\n",
       "    <tr>\n",
       "      <th>352</th>\n",
       "      <td>PICO</td>\n",
       "      <td>247</td>\n",
       "    </tr>\n",
       "    <tr>\n",
       "      <th>460</th>\n",
       "      <td>WILSHIRE</td>\n",
       "      <td>243</td>\n",
       "    </tr>\n",
       "    <tr>\n",
       "      <th>450</th>\n",
       "      <td>WESTERN</td>\n",
       "      <td>225</td>\n",
       "    </tr>\n",
       "    <tr>\n",
       "      <th>335</th>\n",
       "      <td>OLYMPIC</td>\n",
       "      <td>194</td>\n",
       "    </tr>\n",
       "    <tr>\n",
       "      <th>175</th>\n",
       "      <td>FIGUEROA</td>\n",
       "      <td>187</td>\n",
       "    </tr>\n",
       "    <tr>\n",
       "      <th>434</th>\n",
       "      <td>VERMONT</td>\n",
       "      <td>175</td>\n",
       "    </tr>\n",
       "    <tr>\n",
       "      <th>221</th>\n",
       "      <td>HOLLYWOOD</td>\n",
       "      <td>169</td>\n",
       "    </tr>\n",
       "    <tr>\n",
       "      <th>21</th>\n",
       "      <td>3RD</td>\n",
       "      <td>168</td>\n",
       "    </tr>\n",
       "    <tr>\n",
       "      <th>382</th>\n",
       "      <td>SANTA MONICA</td>\n",
       "      <td>159</td>\n",
       "    </tr>\n",
       "  </tbody>\n",
       "</table>\n",
       "</div>"
      ],
      "text/plain": [
       "      street_name  franchise\n",
       "410        SUNSET        263\n",
       "352          PICO        247\n",
       "460      WILSHIRE        243\n",
       "450       WESTERN        225\n",
       "335       OLYMPIC        194\n",
       "175      FIGUEROA        187\n",
       "434       VERMONT        175\n",
       "221     HOLLYWOOD        169\n",
       "21            3RD        168\n",
       "382  SANTA MONICA        159"
      ]
     },
     "execution_count": 67,
     "metadata": {},
     "output_type": "execute_result"
    }
   ],
   "source": [
    "top_ten_f"
   ]
  },
  {
   "cell_type": "markdown",
   "id": "99a684bd",
   "metadata": {},
   "source": [
    "Jalan SUNSET menempati posisi pertama dengan 263 tempat usaha waralaba, dan jalan SANTA MONICA di posisi ke 10 dengan 159 tempat usaha.\n",
    "\n",
    "**Top 10 lokasi usaha non-waralaba**"
   ]
  },
  {
   "cell_type": "code",
   "execution_count": 68,
   "id": "b2181088",
   "metadata": {},
   "outputs": [
    {
     "data": {
      "text/html": [
       "<div>\n",
       "<style scoped>\n",
       "    .dataframe tbody tr th:only-of-type {\n",
       "        vertical-align: middle;\n",
       "    }\n",
       "\n",
       "    .dataframe tbody tr th {\n",
       "        vertical-align: top;\n",
       "    }\n",
       "\n",
       "    .dataframe thead th {\n",
       "        text-align: right;\n",
       "    }\n",
       "</style>\n",
       "<table border=\"1\" class=\"dataframe\">\n",
       "  <thead>\n",
       "    <tr style=\"text-align: right;\">\n",
       "      <th></th>\n",
       "      <th>street_name</th>\n",
       "      <th>nonfranchise</th>\n",
       "    </tr>\n",
       "  </thead>\n",
       "  <tbody>\n",
       "    <tr>\n",
       "      <th>460</th>\n",
       "      <td>WILSHIRE</td>\n",
       "      <td>155</td>\n",
       "    </tr>\n",
       "    <tr>\n",
       "      <th>175</th>\n",
       "      <td>FIGUEROA</td>\n",
       "      <td>147</td>\n",
       "    </tr>\n",
       "    <tr>\n",
       "      <th>450</th>\n",
       "      <td>WESTERN</td>\n",
       "      <td>144</td>\n",
       "    </tr>\n",
       "    <tr>\n",
       "      <th>410</th>\n",
       "      <td>SUNSET</td>\n",
       "      <td>142</td>\n",
       "    </tr>\n",
       "    <tr>\n",
       "      <th>352</th>\n",
       "      <td>PICO</td>\n",
       "      <td>124</td>\n",
       "    </tr>\n",
       "    <tr>\n",
       "      <th>335</th>\n",
       "      <td>OLYMPIC</td>\n",
       "      <td>115</td>\n",
       "    </tr>\n",
       "    <tr>\n",
       "      <th>434</th>\n",
       "      <td>VERMONT</td>\n",
       "      <td>113</td>\n",
       "    </tr>\n",
       "    <tr>\n",
       "      <th>382</th>\n",
       "      <td>SANTA MONICA</td>\n",
       "      <td>105</td>\n",
       "    </tr>\n",
       "    <tr>\n",
       "      <th>21</th>\n",
       "      <td>3RD</td>\n",
       "      <td>94</td>\n",
       "    </tr>\n",
       "    <tr>\n",
       "      <th>94</th>\n",
       "      <td>BROADWAY</td>\n",
       "      <td>88</td>\n",
       "    </tr>\n",
       "  </tbody>\n",
       "</table>\n",
       "</div>"
      ],
      "text/plain": [
       "      street_name  nonfranchise\n",
       "460      WILSHIRE           155\n",
       "175      FIGUEROA           147\n",
       "450       WESTERN           144\n",
       "410        SUNSET           142\n",
       "352          PICO           124\n",
       "335       OLYMPIC           115\n",
       "434       VERMONT           113\n",
       "382  SANTA MONICA           105\n",
       "21            3RD            94\n",
       "94       BROADWAY            88"
      ]
     },
     "execution_count": 68,
     "metadata": {},
     "output_type": "execute_result"
    }
   ],
   "source": [
    "top_ten_nf"
   ]
  },
  {
   "cell_type": "markdown",
   "id": "9769a988",
   "metadata": {},
   "source": [
    "Jalan WILSHIRE menempati posisi pertama dengan 155 tempat usaha non-waralaba, dan jalan BROADWAY di posisi ke 10 dengan 88 tempat usaha.\n"
   ]
  },
  {
   "cell_type": "markdown",
   "id": "fd39cfb0",
   "metadata": {},
   "source": [
    "Selain 10 jalan terpopuler juga terdapat 1 jalan dengan 1 tempat usaha sebanyak 185 jalan di LA.\n",
    "\n",
    "Pada saat melihat jumlah kursi pada tempat usaha di 10 lokasi usaha terpopuler secara keseluruhan, kebanyakan tempat usaha memiliki 1-50 kursi per tempat."
   ]
  },
  {
   "cell_type": "markdown",
   "id": "32f56318",
   "metadata": {},
   "source": [
    "Presentasi : https://drive.google.com/file/d/1hbrQEbmdkXovVN9GHN7W8-IH2z6NlQ5-/view?usp=sharing"
   ]
  },
  {
   "cell_type": "code",
   "execution_count": null,
   "id": "1e244593",
   "metadata": {},
   "outputs": [],
   "source": []
  }
 ],
 "metadata": {
  "kernelspec": {
   "display_name": "Python 3 (ipykernel)",
   "language": "python",
   "name": "python3"
  },
  "language_info": {
   "codemirror_mode": {
    "name": "ipython",
    "version": 3
   },
   "file_extension": ".py",
   "mimetype": "text/x-python",
   "name": "python",
   "nbconvert_exporter": "python",
   "pygments_lexer": "ipython3",
   "version": "3.10.11"
  },
  "toc": {
   "base_numbering": 1,
   "nav_menu": {},
   "number_sections": true,
   "sideBar": true,
   "skip_h1_title": false,
   "title_cell": "Table of Contents",
   "title_sidebar": "Contents",
   "toc_cell": false,
   "toc_position": {
    "height": "calc(100% - 180px)",
    "left": "10px",
    "top": "150px",
    "width": "384px"
   },
   "toc_section_display": true,
   "toc_window_display": true
  }
 },
 "nbformat": 4,
 "nbformat_minor": 5
}
