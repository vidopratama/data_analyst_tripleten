{
 "cells": [
  {
   "cell_type": "markdown",
   "metadata": {
    "id": "E0vqbgi9ay0H"
   },
   "source": [
    "# Y.Music"
   ]
  },
  {
   "cell_type": "markdown",
   "metadata": {
    "id": "fhq_eyov_Zcs"
   },
   "source": [
    "# Konten <a id='back'></a>\n",
    "\n",
    "* [Pendahuluan](#intro)\n",
    "* [Tahap 1. Ikhtisar Data](#data_review)\n",
    "    * [Kesimpulan](#data_review_conclusions)\n",
    "* [Tahap 2. Pra-pemrosesan data](#data_preprocessing)\n",
    "    * [2.1 Gaya Penulisan Judul](#header_style)\n",
    "    * [2.2 Nilai-Nilai yang Hilang](#missing_values)\n",
    "    * [2.3 Duplikat](#duplicates)\n",
    "    * [2.4 Kesimpulan](#data_preprocessing_conclusions)\n",
    "* [Tahap 3. Pengujian Hipotesis](#hypotheses)\n",
    "    * [3.1 Hipotesis 1: Aktivitas pengguna di kedua kota](#activity)\n",
    "    * [3.2 Hipotesis 2: Preferensi musik pada hari Senin dan Jumat](#week)\n",
    "    * [3.3 Hipotesis 3: Preferensi genre di kota Springfield dan Shelbyville](#genre)\n",
    "* [Temuan](#end)"
   ]
  },
  {
   "cell_type": "markdown",
   "metadata": {
    "id": "VUC88oWjTJw2"
   },
   "source": [
    "## Pendahuluan <a id='intro'></a>\n",
    "Setiap kali kita melakukan analisis, kita perlu merumuskan beberapa hipotesis yang perlu kita uji lebih lanjut. Terkadang, pengujian yang kita lakukan membawa kita untuk menerima hipotesis tersebut, adakalanya kita juga perlu menolaknya. Untuk membuat keputusan yang tepat dalam bisnis, kita harus memahami apakah asumsi yang kita buat sudah tepat atau belum.\n",
    "\n",
    "Dalam proyek kali ini, Anda akan membandingkan preferensi musik pengguna di kota Springfield dan Shelbyville. Anda akan mempelajari data Y.Music yang sebenarnya untuk menguji hipotesis di bawah ini dan membandingkan perilaku pengguna di kedua kota ini.\n",
    "\n",
    "### Tujuan: \n",
    "Menguji tiga hipotesis:\n",
    "1. Aktivitas pengguna berbeda-beda tergantung pada hari dan kotanya.\n",
    "2. Pada senin pagi, penduduk Springfield dan Shelbyville mendengarkan genre yang berbeda. Hal ini juga berlaku pada hari Jumat malam.\n",
    "3. Pendengar di Springfield dan Shelbyville memiliki preferensi yang berbeda. Di Springfield, para pengguna lebih suka musik pop, sementara di Shelbyville musik rap memiliki lebih banyak penggemar.\n",
    "\n",
    "### Tahapan\n",
    "Data tentang perilaku pengguna disimpan dalam *file* `/datasets/music_project_en.csv`. Tidak ada informasi terkait kualitas data tersebut, jadi Anda perlu memeriksanya terlebih dahulu sebelum menguji hipotesis.\n",
    "\n",
    "Pertama, Anda akan mengevaluasi kualitas data dan melihat apakah masalahnya signifikan. Kemudian, selama pra-pemrosesan data, Anda akan mencoba mengatasi masalah yang paling serius.\n",
    " \n",
    "Proyek ini akan terdiri dari tiga tahap:\n",
    " 1. Ikhtisar Data\n",
    " 2. Pra-pemrosesan Data\n",
    " 3. Pengujian hipotesis\n",
    "\n",
    " \n",
    "[Kembali ke Konten](#back)"
   ]
  },
  {
   "cell_type": "markdown",
   "metadata": {
    "id": "Ml1hmfXC_Zcs"
   },
   "source": [
    "## Tahap 1. Ikhtisar Data <a id='data_review'></a>\n",
    "\n",
    "Buka data terkait Y.Music, lalu jelajahilah data tersebut."
   ]
  },
  {
   "cell_type": "markdown",
   "metadata": {
    "id": "57eAOGIz_Zcs"
   },
   "source": [
    "Anda akan membutuhkan *library* `Pandas`, oleh karena itu silakan mengimpornya."
   ]
  },
  {
   "cell_type": "code",
   "execution_count": 28,
   "metadata": {
    "id": "AXN7PHPN_Zcs"
   },
   "outputs": [],
   "source": [
    "# mengimpor Pandas\n",
    "import pandas as pd"
   ]
  },
  {
   "cell_type": "markdown",
   "metadata": {
    "id": "SG23P8tt_Zcs"
   },
   "source": [
    "Baca *file* `music_project_en.csv` dari folder `/datasets/` lalu simpan di variabel `df`:"
   ]
  },
  {
   "cell_type": "code",
   "execution_count": 29,
   "metadata": {},
   "outputs": [],
   "source": [
    "# membaca berkas dan menyimpannya ke df\n",
    "\n",
    "try :\n",
    "    df = pd.read_csv(r'C:\\Users\\vidop\\Documents\\Practicum\\Sprint 1\\File\\music_project_en.csv')\n",
    "\n",
    "except :\n",
    "    df = pd.read_csv('/datasets/music_project_en.csv')"
   ]
  },
  {
   "cell_type": "markdown",
   "metadata": {
    "id": "rDoOMd3uTqnZ"
   },
   "source": [
    "Tampilkan 10 baris tabel pertamanya:"
   ]
  },
  {
   "cell_type": "code",
   "execution_count": 30,
   "metadata": {
    "id": "oWTVX3gW_Zct"
   },
   "outputs": [
    {
     "data": {
      "text/html": [
       "<div>\n",
       "<style scoped>\n",
       "    .dataframe tbody tr th:only-of-type {\n",
       "        vertical-align: middle;\n",
       "    }\n",
       "\n",
       "    .dataframe tbody tr th {\n",
       "        vertical-align: top;\n",
       "    }\n",
       "\n",
       "    .dataframe thead th {\n",
       "        text-align: right;\n",
       "    }\n",
       "</style>\n",
       "<table border=\"1\" class=\"dataframe\">\n",
       "  <thead>\n",
       "    <tr style=\"text-align: right;\">\n",
       "      <th></th>\n",
       "      <th>userID</th>\n",
       "      <th>Track</th>\n",
       "      <th>artist</th>\n",
       "      <th>genre</th>\n",
       "      <th>City</th>\n",
       "      <th>time</th>\n",
       "      <th>Day</th>\n",
       "    </tr>\n",
       "  </thead>\n",
       "  <tbody>\n",
       "    <tr>\n",
       "      <th>0</th>\n",
       "      <td>FFB692EC</td>\n",
       "      <td>Kamigata To Boots</td>\n",
       "      <td>The Mass Missile</td>\n",
       "      <td>rock</td>\n",
       "      <td>Shelbyville</td>\n",
       "      <td>20:28:33</td>\n",
       "      <td>Wednesday</td>\n",
       "    </tr>\n",
       "    <tr>\n",
       "      <th>1</th>\n",
       "      <td>55204538</td>\n",
       "      <td>Delayed Because of Accident</td>\n",
       "      <td>Andreas Rönnberg</td>\n",
       "      <td>rock</td>\n",
       "      <td>Springfield</td>\n",
       "      <td>14:07:09</td>\n",
       "      <td>Friday</td>\n",
       "    </tr>\n",
       "    <tr>\n",
       "      <th>2</th>\n",
       "      <td>20EC38</td>\n",
       "      <td>Funiculì funiculà</td>\n",
       "      <td>Mario Lanza</td>\n",
       "      <td>pop</td>\n",
       "      <td>Shelbyville</td>\n",
       "      <td>20:58:07</td>\n",
       "      <td>Wednesday</td>\n",
       "    </tr>\n",
       "    <tr>\n",
       "      <th>3</th>\n",
       "      <td>A3DD03C9</td>\n",
       "      <td>Dragons in the Sunset</td>\n",
       "      <td>Fire + Ice</td>\n",
       "      <td>folk</td>\n",
       "      <td>Shelbyville</td>\n",
       "      <td>08:37:09</td>\n",
       "      <td>Monday</td>\n",
       "    </tr>\n",
       "    <tr>\n",
       "      <th>4</th>\n",
       "      <td>E2DC1FAE</td>\n",
       "      <td>Soul People</td>\n",
       "      <td>Space Echo</td>\n",
       "      <td>dance</td>\n",
       "      <td>Springfield</td>\n",
       "      <td>08:34:34</td>\n",
       "      <td>Monday</td>\n",
       "    </tr>\n",
       "    <tr>\n",
       "      <th>5</th>\n",
       "      <td>842029A1</td>\n",
       "      <td>Chains</td>\n",
       "      <td>Obladaet</td>\n",
       "      <td>rusrap</td>\n",
       "      <td>Shelbyville</td>\n",
       "      <td>13:09:41</td>\n",
       "      <td>Friday</td>\n",
       "    </tr>\n",
       "    <tr>\n",
       "      <th>6</th>\n",
       "      <td>4CB90AA5</td>\n",
       "      <td>True</td>\n",
       "      <td>Roman Messer</td>\n",
       "      <td>dance</td>\n",
       "      <td>Springfield</td>\n",
       "      <td>13:00:07</td>\n",
       "      <td>Wednesday</td>\n",
       "    </tr>\n",
       "    <tr>\n",
       "      <th>7</th>\n",
       "      <td>F03E1C1F</td>\n",
       "      <td>Feeling This Way</td>\n",
       "      <td>Polina Griffith</td>\n",
       "      <td>dance</td>\n",
       "      <td>Springfield</td>\n",
       "      <td>20:47:49</td>\n",
       "      <td>Wednesday</td>\n",
       "    </tr>\n",
       "    <tr>\n",
       "      <th>8</th>\n",
       "      <td>8FA1D3BE</td>\n",
       "      <td>L’estate</td>\n",
       "      <td>Julia Dalia</td>\n",
       "      <td>ruspop</td>\n",
       "      <td>Springfield</td>\n",
       "      <td>09:17:40</td>\n",
       "      <td>Friday</td>\n",
       "    </tr>\n",
       "    <tr>\n",
       "      <th>9</th>\n",
       "      <td>E772D5C0</td>\n",
       "      <td>Pessimist</td>\n",
       "      <td>NaN</td>\n",
       "      <td>dance</td>\n",
       "      <td>Shelbyville</td>\n",
       "      <td>21:20:49</td>\n",
       "      <td>Wednesday</td>\n",
       "    </tr>\n",
       "  </tbody>\n",
       "</table>\n",
       "</div>"
      ],
      "text/plain": [
       "     userID                        Track            artist   genre  \\\n",
       "0  FFB692EC            Kamigata To Boots  The Mass Missile    rock   \n",
       "1  55204538  Delayed Because of Accident  Andreas Rönnberg    rock   \n",
       "2    20EC38            Funiculì funiculà       Mario Lanza     pop   \n",
       "3  A3DD03C9        Dragons in the Sunset        Fire + Ice    folk   \n",
       "4  E2DC1FAE                  Soul People        Space Echo   dance   \n",
       "5  842029A1                       Chains          Obladaet  rusrap   \n",
       "6  4CB90AA5                         True      Roman Messer   dance   \n",
       "7  F03E1C1F             Feeling This Way   Polina Griffith   dance   \n",
       "8  8FA1D3BE                     L’estate       Julia Dalia  ruspop   \n",
       "9  E772D5C0                    Pessimist               NaN   dance   \n",
       "\n",
       "        City        time        Day  \n",
       "0  Shelbyville  20:28:33  Wednesday  \n",
       "1  Springfield  14:07:09     Friday  \n",
       "2  Shelbyville  20:58:07  Wednesday  \n",
       "3  Shelbyville  08:37:09     Monday  \n",
       "4  Springfield  08:34:34     Monday  \n",
       "5  Shelbyville  13:09:41     Friday  \n",
       "6  Springfield  13:00:07  Wednesday  \n",
       "7  Springfield  20:47:49  Wednesday  \n",
       "8  Springfield  09:17:40     Friday  \n",
       "9  Shelbyville  21:20:49  Wednesday  "
      ]
     },
     "execution_count": 30,
     "metadata": {},
     "output_type": "execute_result"
    }
   ],
   "source": [
    "# memperoleh 10 baris pertama dari tabel df\n",
    "df.head(10)"
   ]
  },
  {
   "cell_type": "markdown",
   "metadata": {
    "id": "EO73Kwic_Zct"
   },
   "source": [
    "Dapatkan informasi umum tentang tabel dengan satu perintah:"
   ]
  },
  {
   "cell_type": "code",
   "execution_count": 31,
   "metadata": {
    "id": "DSf2kIb-_Zct"
   },
   "outputs": [
    {
     "name": "stdout",
     "output_type": "stream",
     "text": [
      "<class 'pandas.core.frame.DataFrame'>\n",
      "RangeIndex: 65079 entries, 0 to 65078\n",
      "Data columns (total 7 columns):\n",
      " #   Column    Non-Null Count  Dtype \n",
      "---  ------    --------------  ----- \n",
      " 0     userID  65079 non-null  object\n",
      " 1   Track     63736 non-null  object\n",
      " 2   artist    57512 non-null  object\n",
      " 3   genre     63881 non-null  object\n",
      " 4     City    65079 non-null  object\n",
      " 5   time      65079 non-null  object\n",
      " 6   Day       65079 non-null  object\n",
      "dtypes: object(7)\n",
      "memory usage: 3.5+ MB\n"
     ]
    }
   ],
   "source": [
    "# memperoleh informasi umum tentang data yang tersedia di df\n",
    "df.info()"
   ]
  },
  {
   "cell_type": "markdown",
   "metadata": {
    "id": "TaQ2Iwbr_Zct"
   },
   "source": [
    "Terdapat pula jumlah nilai yang berbeda antar kolom. Semuanya menyimpan tipe data yang sama, yaitu: `object`.\n",
    "\n",
    "Berdasarkan dokumentasi:\n",
    "- `'userID'` — ID pengguna\n",
    "- `'Track'` — judul trek lagu\n",
    "- `'artist'` — nama artis\n",
    "- `'genre'` — jenis aliran musik\n",
    "- `'City'` — kota tempat pengguna berada\n",
    "- `'time'` — lama waktu lagu tersebut dimainkan\n",
    "- `'Day'` — hari dalam seminggu\n",
    "\n",
    "Kita dapat melihat tiga masalah dengan gaya penulisan nama kolom:\n",
    "1. Beberapa nama ditulis dalam huruf besar, beberapa dalam huruf kecil.\n",
    "2. Beberapa nama menggunakan spasi.\n",
    "3. Gaya penulisan tidak menggunakan gaya snake_case. pada nama kolom 'userID' seharusnya ditulis menjadi 'user_id'.\n",
    "\n",
    "Jumlah nilai kolom berbeda. Hal ini menandakan bahwa data yang kita miliki mengandung nilai yang hilang.\n"
   ]
  },
  {
   "cell_type": "markdown",
   "metadata": {
    "id": "MCB6-dXG_Zct"
   },
   "source": [
    "### Kesimpulan <a id='data_review_conclusions'></a> \n",
    "\n",
    "Setiap baris dalam tabel menyimpan data terkait trek lagu yang diputar. Sejumlah kolom menyimpan data yang mendeskripsikan trek itu sendiri: judul trek, artis, dan genre. Sisanya menyimpan data terkait informasi pengguna: kota asal mereka, waktu mereka memutar trek lagu tersebut.\n",
    "\n",
    "Jelas bahwa data yang kita miliki cukup untuk menguji hipotesis. Meski demikian, kita memiliki nilai-nilai yang hilang.\n",
    "\n",
    "Untuk melanjutkan analisis, kita perlu melakukan pra-pemrosesan data terlebih dahulu."
   ]
  },
  {
   "cell_type": "markdown",
   "metadata": {
    "id": "3eL__vcwViOi"
   },
   "source": [
    "[Kembali ke Daftar Isi](#back)"
   ]
  },
  {
   "cell_type": "markdown",
   "metadata": {
    "id": "SjYF6Ub9_Zct"
   },
   "source": [
    "## Tahap 2. Pra-pemrosesan Data <a id='data_preprocessing'></a>\n",
    "Perbaiki format pada judul kolom dan atasi nilai yang hilang. Kemudian, periksa apakah data Anda mengandung duplikat."
   ]
  },
  {
   "cell_type": "markdown",
   "metadata": {
    "id": "dIaKXr29_Zct"
   },
   "source": [
    "### Gaya Penulisan Judul <a id='header_style'></a>\n",
    "Tampilkan judul kolom:\n"
   ]
  },
  {
   "cell_type": "code",
   "execution_count": 32,
   "metadata": {
    "id": "oKOTdF_Q_Zct"
   },
   "outputs": [
    {
     "name": "stdout",
     "output_type": "stream",
     "text": [
      "Index(['  userID', 'Track', 'artist', 'genre', '  City  ', 'time', 'Day'], dtype='object')\n"
     ]
    }
   ],
   "source": [
    "# list nama kolom pada tabel df\n",
    "print(df.columns)"
   ]
  },
  {
   "cell_type": "markdown",
   "metadata": {
    "id": "zj5534cv_Zct"
   },
   "source": [
    "Ubah nama kolom sesuai dengan aturan gaya penulisan yang baik:\n",
    "* Jika nama memiliki beberapa kata, gunakan snake_case\n",
    "* Semua karakter harus menggunakan huruf kecil\n",
    "* Hapus spasi"
   ]
  },
  {
   "cell_type": "code",
   "execution_count": 33,
   "metadata": {
    "id": "ISlFqs5y_Zct"
   },
   "outputs": [],
   "source": [
    "# mengganti nama kolom\n",
    "df = df.rename(\n",
    "     columns={'  userID': 'user_id',\n",
    "              'Track' : 'track',\n",
    "              '  City  ' : 'city',\n",
    "              'Day' : 'day',\n",
    "         \n",
    "     }\n",
    ")"
   ]
  },
  {
   "cell_type": "markdown",
   "metadata": {
    "id": "1dqbh00J_Zct"
   },
   "source": [
    "Periksa hasilnya. Tampilkan nama kolom sekali lagi:"
   ]
  },
  {
   "cell_type": "code",
   "execution_count": 34,
   "metadata": {
    "id": "d4NOAmTW_Zct"
   },
   "outputs": [
    {
     "name": "stdout",
     "output_type": "stream",
     "text": [
      "Index(['user_id', 'track', 'artist', 'genre', 'city', 'time', 'day'], dtype='object')\n"
     ]
    }
   ],
   "source": [
    "# mengecek hasil Anda: tampilkan sekali lagi list nama kolom\n",
    "print(df.columns)"
   ]
  },
  {
   "cell_type": "markdown",
   "metadata": {
    "id": "xYJk6ksJVpOl"
   },
   "source": [
    "[Kembali ke Daftar Isi](#back)"
   ]
  },
  {
   "cell_type": "markdown",
   "metadata": {
    "id": "5ISfbcfY_Zct"
   },
   "source": [
    "### Nilai-Nilai yang Hilang <a id='missing_values'></a>\n",
    "Pertama, temukan jumlah nilai yang hilang dalam tabel. Untuk melakukannya, gunakan dua metode `Pandas`:"
   ]
  },
  {
   "cell_type": "code",
   "execution_count": 35,
   "metadata": {
    "id": "RskX29qr_Zct"
   },
   "outputs": [
    {
     "name": "stdout",
     "output_type": "stream",
     "text": [
      "user_id       0\n",
      "track      1343\n",
      "artist     7567\n",
      "genre      1198\n",
      "city          0\n",
      "time          0\n",
      "day           0\n",
      "dtype: int64\n"
     ]
    }
   ],
   "source": [
    "# menghitung nilai yang hilang\n",
    "print(df.isna().sum())"
   ]
  },
  {
   "cell_type": "markdown",
   "metadata": {
    "id": "qubhgnlO_Zct"
   },
   "source": [
    "Tidak semua nilai yang hilang berpengaruh terhadap penelitian. Misalnya, nilai yang hilang dalam kolom `track` dan `artist` tidak begitu penting. Anda cukup menggantinya dengan penanda yang jelas.\n",
    "Namun, nilai yang hilang dalam kolom `'genre'` dapat memengaruhi perbandingan preferensi musik di Springfield dan Shelbyville. Dalam kehidupan nyata, sangatlah berguna untuk mempelajari alasan mengapa data tersebut hilang dan mencoba memperbaikinya. Sayangnya, kita belum memiliki kesempatan tersebut dalam proyek ini. Oleh karena itu, Anda harus:\n",
    "* Mengisi nilai yang hilang dengan penanda\n",
    "* Mengevaluasi seberapa besar nilai yang hilang dapat memengaruhi perhitungan Anda"
   ]
  },
  {
   "cell_type": "markdown",
   "metadata": {
    "id": "fSv2laPA_Zct"
   },
   "source": [
    "Ganti nilai yang hilang pada kolom `'track'`, `'artist'`, dan `'genre'` dengan *string* `'unknown'`. Untuk melakukannya, buat *list* `columns_to_replace`, terapkan *loop* dengan `for` pada *list* tersebut, dan ganti nilai yang hilang di setiap kolom:"
   ]
  },
  {
   "cell_type": "code",
   "execution_count": 36,
   "metadata": {
    "id": "KplB5qWs_Zct"
   },
   "outputs": [],
   "source": [
    "# loop nama kolom dan ganti nilai yang hilang dengan 'unknown'\n",
    "columns_to_replace = ['track','artist','genre']\n",
    "\n",
    "for columns in columns_to_replace :\n",
    "    df[columns].fillna('unknown', inplace=True)\n",
    "\n",
    "\n"
   ]
  },
  {
   "cell_type": "markdown",
   "metadata": {
    "id": "Ilsm-MZo_Zct"
   },
   "source": [
    "Pastikan tidak ada tabel lagi yang berisi nilai yang hilang. Hitung kembali nilai yang hilang."
   ]
  },
  {
   "cell_type": "code",
   "execution_count": 37,
   "metadata": {
    "id": "Tq4nYRX4_Zct"
   },
   "outputs": [
    {
     "name": "stdout",
     "output_type": "stream",
     "text": [
      "user_id    0\n",
      "track      0\n",
      "artist     0\n",
      "genre      0\n",
      "city       0\n",
      "time       0\n",
      "day        0\n",
      "dtype: int64\n"
     ]
    }
   ],
   "source": [
    "# menghitung nilai yang hilang\n",
    "print(df.isna().sum())\n"
   ]
  },
  {
   "cell_type": "markdown",
   "metadata": {
    "id": "74ZIBmq9VrsK"
   },
   "source": [
    "[Kembali ke Daftar Isi](#back)"
   ]
  },
  {
   "cell_type": "markdown",
   "metadata": {
    "id": "BWKRtBJ3_Zct"
   },
   "source": [
    "### Duplikat <a id='duplicates'></a>\n",
    "Temukan jumlah duplikat eksplisit dalam tabel menggunakan satu perintah:"
   ]
  },
  {
   "cell_type": "code",
   "execution_count": 38,
   "metadata": {
    "id": "36eES_S0_Zct"
   },
   "outputs": [
    {
     "name": "stdout",
     "output_type": "stream",
     "text": [
      "3826\n"
     ]
    }
   ],
   "source": [
    "# menghitung duplikat eksplisit\n",
    "print(df.duplicated().sum())"
   ]
  },
  {
   "cell_type": "markdown",
   "metadata": {
    "id": "Ot25h6XR_Zct"
   },
   "source": [
    "Panggil metode `Pandas` untuk menghapus duplikat eksplisit:"
   ]
  },
  {
   "cell_type": "code",
   "execution_count": 39,
   "metadata": {
    "id": "exFHq6tt_Zct"
   },
   "outputs": [],
   "source": [
    "# menghapus duplikat eksplisit\n",
    "df = df.drop_duplicates().reset_index(drop=True)\n"
   ]
  },
  {
   "cell_type": "markdown",
   "metadata": {
    "id": "Im2YwBEG_Zct"
   },
   "source": [
    "Hitung duplikat eksplisit sekali lagi untuk memastikan bahwa Anda telah menghapus semuanya:"
   ]
  },
  {
   "cell_type": "code",
   "execution_count": 40,
   "metadata": {
    "id": "-8PuNWQ0_Zct",
    "scrolled": true
   },
   "outputs": [
    {
     "name": "stdout",
     "output_type": "stream",
     "text": [
      "0\n"
     ]
    }
   ],
   "source": [
    "# memeriksa duplikat\n",
    "print(df.duplicated().sum())"
   ]
  },
  {
   "cell_type": "markdown",
   "metadata": {
    "id": "QlFBsxAr_Zct"
   },
   "source": [
    "Sekarang hapus duplikat implisit di kolom `genre`. Misalnya, nama genre dapat ditulis dengan cara yang berbeda. Kesalahan seperti ini juga akan memengaruhi hasil Anda."
   ]
  },
  {
   "cell_type": "markdown",
   "metadata": {
    "id": "eSjWwsOh_Zct"
   },
   "source": [
    "Tampilkan *list* yang memuat nama genre unik, lalu urutkan *list* tersebut berdasarkan abjad. Untuk melakukannya:\n",
    "* Ambil kolom DataFrame yang dimaksud\n",
    "* Terapkan metode pengurutan pada kolom tersebut\n",
    "* Untuk kolom yang telah diurutkan, panggil metode yang akan menghasilkan semua nilai unik kolom"
   ]
  },
  {
   "cell_type": "code",
   "execution_count": 41,
   "metadata": {
    "id": "JIUcqzZN_Zct"
   },
   "outputs": [
    {
     "name": "stdout",
     "output_type": "stream",
     "text": [
      "['acid', 'acoustic', 'action', 'adult', 'africa', 'afrikaans', 'alternative', 'ambient', 'americana', 'animated', 'anime', 'arabesk', 'arabic', 'arena', 'argentinetango', 'art', 'audiobook', 'avantgarde', 'axé', 'baile', 'balkan', 'beats', 'bigroom', 'black', 'bluegrass', 'blues', 'bollywood', 'bossa', 'brazilian', 'breakbeat', 'breaks', 'broadway', 'cantautori', 'cantopop', 'canzone', 'caribbean', 'caucasian', 'celtic', 'chamber', 'children', 'chill', 'chinese', 'choral', 'christian', 'christmas', 'classical', 'classicmetal', 'club', 'colombian', 'comedy', 'conjazz', 'contemporary', 'country', 'cuban', 'dance', 'dancehall', 'dancepop', 'dark', 'death', 'deep', 'deutschrock', 'deutschspr', 'dirty', 'disco', 'dnb', 'documentary', 'downbeat', 'downtempo', 'drum', 'dub', 'dubstep', 'eastern', 'easy', 'electronic', 'electropop', 'emo', 'entehno', 'epicmetal', 'estrada', 'ethnic', 'eurofolk', 'european', 'experimental', 'extrememetal', 'fado', 'film', 'fitness', 'flamenco', 'folk', 'folklore', 'folkmetal', 'folkrock', 'folktronica', 'forró', 'frankreich', 'französisch', 'french', 'funk', 'future', 'gangsta', 'garage', 'german', 'ghazal', 'gitarre', 'glitch', 'gospel', 'gothic', 'grime', 'grunge', 'gypsy', 'handsup', \"hard'n'heavy\", 'hardcore', 'hardstyle', 'hardtechno', 'hip', 'hip-hop', 'hiphop', 'historisch', 'holiday', 'hop', 'horror', 'house', 'idm', 'independent', 'indian', 'indie', 'indipop', 'industrial', 'inspirational', 'instrumental', 'international', 'irish', 'jam', 'japanese', 'jazz', 'jewish', 'jpop', 'jungle', 'k-pop', 'karadeniz', 'karaoke', 'kayokyoku', 'korean', 'laiko', 'latin', 'latino', 'leftfield', 'local', 'lounge', 'loungeelectronic', 'lovers', 'malaysian', 'mandopop', 'marschmusik', 'meditative', 'mediterranean', 'melodic', 'metal', 'metalcore', 'mexican', 'middle', 'minimal', 'miscellaneous', 'modern', 'mood', 'mpb', 'muslim', 'native', 'neoklassik', 'neue', 'new', 'newage', 'newwave', 'nu', 'nujazz', 'numetal', 'oceania', 'old', 'opera', 'orchestral', 'other', 'piano', 'pop', 'popelectronic', 'popeurodance', 'post', 'posthardcore', 'postrock', 'power', 'progmetal', 'progressive', 'psychedelic', 'punjabi', 'punk', 'quebecois', 'ragga', 'ram', 'rancheras', 'rap', 'rave', 'reggae', 'reggaeton', 'regional', 'relax', 'religious', 'retro', 'rhythm', 'rnb', 'rnr', 'rock', 'rockabilly', 'romance', 'roots', 'ruspop', 'rusrap', 'rusrock', 'salsa', 'samba', 'schlager', 'self', 'sertanejo', 'shoegazing', 'showtunes', 'singer', 'ska', 'slow', 'smooth', 'soul', 'soulful', 'sound', 'soundtrack', 'southern', 'specialty', 'speech', 'spiritual', 'sport', 'stonerrock', 'surf', 'swing', 'synthpop', 'sängerportrait', 'tango', 'tanzorchester', 'taraftar', 'tech', 'techno', 'thrash', 'top', 'traditional', 'tradjazz', 'trance', 'tribal', 'trip', 'triphop', 'tropical', 'türk', 'türkçe', 'unknown', 'urban', 'uzbek', 'variété', 'vi', 'videogame', 'vocal', 'western', 'world', 'worldbeat', 'ïîï']\n"
     ]
    }
   ],
   "source": [
    "# melihat nama genre yang unik\n",
    "print(sorted(df['genre'].unique()))"
   ]
  },
  {
   "cell_type": "markdown",
   "metadata": {
    "id": "qej-Qmuo_Zct"
   },
   "source": [
    "Lihat baik-baik *list*-nya untuk menemukan duplikat implisit dari genre `hiphop`. Duplikat tersebut bisa berupa nama yang ditulis secara tidak tepat atau nama alternatif dari genre yang sama.\n",
    "\n",
    "Anda akan melihat duplikat implisit berikut:\n",
    "* `hip`\n",
    "* `hop`\n",
    "* `hip-hop`\n",
    "\n",
    "Untuk menghapusnya, gunakan fungsi `replace_wrong_genres()` dengan dua parameter:\n",
    "* `wrong_genres=` — *list* dari duplikat yang ingin diganti\n",
    "* `correct_genre=` — *string* dengan nilai yang benar\n",
    "\n",
    "Fungsi tersebut harus mengoreksi nama dalam kolom `'genre'` dari tabel `df` dengan mengganti setiap nilai dari *list* `wrong_genres` dengan nilai dari `correct_genre`."
   ]
  },
  {
   "cell_type": "code",
   "execution_count": 42,
   "metadata": {
    "id": "ErNDkmns_Zct"
   },
   "outputs": [],
   "source": [
    "# fungsi untuk mengganti duplikat implisit\n",
    "def replace_wrong_values(wrong_values, correct_value):\n",
    "    for wrong_value in wrong_values:\n",
    "        df['genre'] = df['genre'].replace(wrong_value, correct_value)\n",
    "\n",
    "wrong_genres = ['hip','hop','hip-hop']\n",
    "correct_genre = 'hiphop'\n"
   ]
  },
  {
   "cell_type": "markdown",
   "metadata": {
    "id": "aDoBJxbA_Zct"
   },
   "source": [
    "Panggil `replace_wrong_genres()` dan teruskan argumen kepada fungsi tersebut, sehingga ia dapat menghapus duplikat implisit (`hip`, `hop`, dan `hip-hop`) dan menggantinya dengan `hiphop`:"
   ]
  },
  {
   "cell_type": "code",
   "execution_count": 43,
   "metadata": {
    "id": "YN5i2hpmSo09"
   },
   "outputs": [],
   "source": [
    "# masukkan fungsi yang mengganti duplikat implisit\n",
    "replace_wrong_values(wrong_genres, correct_genre)"
   ]
  },
  {
   "cell_type": "markdown",
   "metadata": {
    "id": "zQKF16_RG15m"
   },
   "source": [
    "Pastikan bahwa nilai yang terduplikasi telah dihapus. Tampilkan *list* nilai unik dari kolom `'genre'`:"
   ]
  },
  {
   "cell_type": "code",
   "execution_count": 44,
   "metadata": {
    "id": "wvixALnFG15m"
   },
   "outputs": [
    {
     "name": "stdout",
     "output_type": "stream",
     "text": [
      "['acid', 'acoustic', 'action', 'adult', 'africa', 'afrikaans', 'alternative', 'ambient', 'americana', 'animated', 'anime', 'arabesk', 'arabic', 'arena', 'argentinetango', 'art', 'audiobook', 'avantgarde', 'axé', 'baile', 'balkan', 'beats', 'bigroom', 'black', 'bluegrass', 'blues', 'bollywood', 'bossa', 'brazilian', 'breakbeat', 'breaks', 'broadway', 'cantautori', 'cantopop', 'canzone', 'caribbean', 'caucasian', 'celtic', 'chamber', 'children', 'chill', 'chinese', 'choral', 'christian', 'christmas', 'classical', 'classicmetal', 'club', 'colombian', 'comedy', 'conjazz', 'contemporary', 'country', 'cuban', 'dance', 'dancehall', 'dancepop', 'dark', 'death', 'deep', 'deutschrock', 'deutschspr', 'dirty', 'disco', 'dnb', 'documentary', 'downbeat', 'downtempo', 'drum', 'dub', 'dubstep', 'eastern', 'easy', 'electronic', 'electropop', 'emo', 'entehno', 'epicmetal', 'estrada', 'ethnic', 'eurofolk', 'european', 'experimental', 'extrememetal', 'fado', 'film', 'fitness', 'flamenco', 'folk', 'folklore', 'folkmetal', 'folkrock', 'folktronica', 'forró', 'frankreich', 'französisch', 'french', 'funk', 'future', 'gangsta', 'garage', 'german', 'ghazal', 'gitarre', 'glitch', 'gospel', 'gothic', 'grime', 'grunge', 'gypsy', 'handsup', \"hard'n'heavy\", 'hardcore', 'hardstyle', 'hardtechno', 'hiphop', 'historisch', 'holiday', 'horror', 'house', 'idm', 'independent', 'indian', 'indie', 'indipop', 'industrial', 'inspirational', 'instrumental', 'international', 'irish', 'jam', 'japanese', 'jazz', 'jewish', 'jpop', 'jungle', 'k-pop', 'karadeniz', 'karaoke', 'kayokyoku', 'korean', 'laiko', 'latin', 'latino', 'leftfield', 'local', 'lounge', 'loungeelectronic', 'lovers', 'malaysian', 'mandopop', 'marschmusik', 'meditative', 'mediterranean', 'melodic', 'metal', 'metalcore', 'mexican', 'middle', 'minimal', 'miscellaneous', 'modern', 'mood', 'mpb', 'muslim', 'native', 'neoklassik', 'neue', 'new', 'newage', 'newwave', 'nu', 'nujazz', 'numetal', 'oceania', 'old', 'opera', 'orchestral', 'other', 'piano', 'pop', 'popelectronic', 'popeurodance', 'post', 'posthardcore', 'postrock', 'power', 'progmetal', 'progressive', 'psychedelic', 'punjabi', 'punk', 'quebecois', 'ragga', 'ram', 'rancheras', 'rap', 'rave', 'reggae', 'reggaeton', 'regional', 'relax', 'religious', 'retro', 'rhythm', 'rnb', 'rnr', 'rock', 'rockabilly', 'romance', 'roots', 'ruspop', 'rusrap', 'rusrock', 'salsa', 'samba', 'schlager', 'self', 'sertanejo', 'shoegazing', 'showtunes', 'singer', 'ska', 'slow', 'smooth', 'soul', 'soulful', 'sound', 'soundtrack', 'southern', 'specialty', 'speech', 'spiritual', 'sport', 'stonerrock', 'surf', 'swing', 'synthpop', 'sängerportrait', 'tango', 'tanzorchester', 'taraftar', 'tech', 'techno', 'thrash', 'top', 'traditional', 'tradjazz', 'trance', 'tribal', 'trip', 'triphop', 'tropical', 'türk', 'türkçe', 'unknown', 'urban', 'uzbek', 'variété', 'vi', 'videogame', 'vocal', 'western', 'world', 'worldbeat', 'ïîï']\n"
     ]
    }
   ],
   "source": [
    "# memeriksa duplikat implisit\n",
    "print(sorted(df['genre'].unique()))\n"
   ]
  },
  {
   "cell_type": "markdown",
   "metadata": {
    "id": "ALgNbvF3VtPA"
   },
   "source": [
    "[Kembali ke Daftar Isi](#back)"
   ]
  },
  {
   "cell_type": "markdown",
   "metadata": {
    "id": "jz6a9-7HQUDd"
   },
   "source": [
    "### Kesimpulan <a id='data_preprocessing_conclusions'></a>\n",
    "Kita telah mendeteksi tiga masalah dalam data kita:\n",
    "\n",
    "- Gaya penulisan judul yang salah\n",
    "- Nilai-nilai yang hilang\n",
    "- Duplikat eksplisit dan implisit\n",
    "\n",
    "Judul kolom sekarang telah dibersihkan untuk mempermudah pemrosesan tabel.\n",
    "Semua nilai yang hilang telah diganti dengan `'unknown'`. Meski demikian, kita masih harus melihat apakah nilai yang hilang dalam kolom `'genre'` akan memengaruhi perhitungan kita.\n",
    "\n",
    "Ketiadaan duplikat akan membuat hasil yang kita dapat lebih tepat dan lebih mudah dipahami.\n",
    "\n",
    "Sekarang, kita dapat melanjutkan ke pengujian hipotesis."
   ]
  },
  {
   "cell_type": "markdown",
   "metadata": {
    "id": "eK1es74rVujj"
   },
   "source": [
    "[Kembali ke Daftar Isi](#back)"
   ]
  },
  {
   "cell_type": "markdown",
   "metadata": {
    "id": "WttZHXH0SqKk"
   },
   "source": [
    "## Tahap 3. Pengujian Hipotesis <a id='hypotheses'></a>"
   ]
  },
  {
   "cell_type": "markdown",
   "metadata": {
    "id": "Im936VVi_Zcu"
   },
   "source": [
    "### Hipotesis 1: Membandingkan Perilaku Pengguna di Dua Kota <a id='activity'></a>"
   ]
  },
  {
   "cell_type": "markdown",
   "metadata": {
    "id": "nwt_MuaL_Zcu"
   },
   "source": [
    "Menurut hipotesis pertama, pengguna dari Springfield dan Shelbyville memiliki perbedaan perilaku dalam mendengarkan musik. Pengujian ini menggunakan data yang diambil dari tiga hari dalam seminggu: Senin, Rabu, dan Jumat.\n",
    "\n",
    "* Bagilah pengguna ke dalam beberapa kelompok berdasarkan kota.\n",
    "* Bandingkan seberapa banyak trek lagu yang dimainkan setiap kelompok pada hari Senin, Rabu, dan Jumat."
   ]
  },
  {
   "cell_type": "markdown",
   "metadata": {
    "id": "8Dw_YMmT_Zcu"
   },
   "source": [
    "Hanya sebagai latihan, lakukan setiap perhitungan secara terpisah.\n",
    "\n",
    "Evaluasi aktivitas pengguna di setiap kota. Kelompokkan data berdasarkan kota dan temukan jumlah trek lagu yang diputar di setiap kelompok.\n",
    "\n"
   ]
  },
  {
   "cell_type": "code",
   "execution_count": 45,
   "metadata": {
    "id": "0_Qs96oh_Zcu",
    "scrolled": true
   },
   "outputs": [
    {
     "name": "stdout",
     "output_type": "stream",
     "text": [
      "city\n",
      "Shelbyville    18512\n",
      "Springfield    42741\n",
      "Name: user_id, dtype: int64\n"
     ]
    }
   ],
   "source": [
    "# Menghitung trek lagu yang diputar di setiap kota\n",
    "print(df.groupby('city')['user_id'].count())\n"
   ]
  },
  {
   "cell_type": "markdown",
   "metadata": {
    "id": "dzli3w8o_Zcu"
   },
   "source": [
    "Pengguna dari Springfield memutar lebih banyak trek lagu daripada pengguna Shelbyville. Namun, hal ini tidak mengisyaratkan bahwa warga Springfield lebih sering mendengarkan musik. Kota ini lebih besar, dan terdapat lebih banyak pengguna.\n",
    "\n",
    "Sekarang, kelompokkan data berdasarkan hari dan temukan jumlah trek lagu yang diputar pada hari Senin, Rabu, dan Jumat."
   ]
  },
  {
   "cell_type": "code",
   "execution_count": 46,
   "metadata": {
    "id": "uZMKjiJz_Zcu",
    "scrolled": true
   },
   "outputs": [
    {
     "name": "stdout",
     "output_type": "stream",
     "text": [
      "day\n",
      "Friday       21840\n",
      "Monday       21354\n",
      "Wednesday    18059\n",
      "Name: user_id, dtype: int64\n"
     ]
    }
   ],
   "source": [
    "# Menghitung trek lagu yang diputar pada masing-masing hari\n",
    "print(df.groupby('day')['user_id'].count())"
   ]
  },
  {
   "cell_type": "markdown",
   "metadata": {
    "id": "cC2tNrlL_Zcu"
   },
   "source": [
    "Rabu adalah hari yang paling tenang secara keseluruhan. Namun jika kita mempertimbangkan kedua kota secara terpisah, kita mungkin akan mendapatkan kesimpulan yang berbeda."
   ]
  },
  {
   "cell_type": "markdown",
   "metadata": {
    "id": "POzs8bGa_Zcu"
   },
   "source": [
    "Anda telah melihat cara kerja pengelompokan berdasarkan kota atau hari. Sekarang, tuliskan sebuah fungsi yang akan mengelompokkan data berdasarkan kota dan hari.\n",
    "\n",
    "Buat fungsi `number_tracks()` untuk menghitung jumlah trek lagu yang diputar untuk hari dan kota tertentu. Fungsi tersebut akan membutuhkan dua parameter:\n",
    "* nama hari dalam seminggu\n",
    "* nama kota\n",
    "\n",
    "Dalam fungsi yang kita buat, gunakan variabel untuk menyimpan baris dari tabel asli, di mana:\n",
    "  *  Nilai kolom `'day'` sama dengan parameter `day`\n",
    "  * Nilai kolom `'city'` sama dengan parameter `city`\n",
    "\n",
    "Terapkan pemfilteran berurutan dengan pengindeksan logika.\n",
    "\n",
    "Kemudian hitung nilai kolom `'user_id'` pada tabel yang dihasilkan. Simpan hasilnya ke dalam variabel baru. Kembalikan variabel ini dari fungsi."
   ]
  },
  {
   "cell_type": "code",
   "execution_count": 47,
   "metadata": {
    "id": "Nz3GdQB1_Zcu"
   },
   "outputs": [],
   "source": [
    "# <membuat fungsi number_tracks()>\n",
    "# Kita akan mendeklarasikan sebuah fungsi dengan dua parameter: day=, city=.\n",
    "# Buat agar variabel track_list_count menyimpan jumlah nilai kolom 'user_id' pada track_list\n",
    "# (temukan dengan metode count()).\n",
    "# Buat agar fungsi yang Anda ciptakan menghasilkan angka: nilai track_list_count.\n",
    "# Fungsi tersebut menghitung trek lagu yang diputar untuk kota dan hari tertentu.\n",
    "# Pertama-tama ia akan mengambil baris dengan hari yang diinginkan dari tabel,# kemudian memfilter baris tersebut dengan kota yang diinginkan,\n",
    "# kemudian mencari jumlah nilai 'user_id' pada tabel yang telah difilter,\n",
    "# kemudian menghasilkan jumlah tersebut.\n",
    "# Untuk melihat apa yang dihasilkan, kemas pemanggilan fungsi pada print().    \n",
    "# Buat agar variabel track_list menyimpan baris df, di mana\n",
    "# nilai di kolom 'day' sama dengan parameter day=, serta pada saat yang bersamaan,\n",
    "# nilai pada kolom 'city' sama dengan parameter city= (terapkan pemfilteran berurutan\n",
    "# dengan pengindeksan logis).    \n",
    "\n",
    "def number_tracks(city = 'Springfield', day = 'Monday'):\n",
    "    track_list = df[(df['city'] == city) & (df['day'] == day)]\n",
    "    track_list_count = track_list['user_id'].count()\n",
    "    return track_list_count\n"
   ]
  },
  {
   "cell_type": "markdown",
   "metadata": {
    "id": "ytf7xFrFJQ2r"
   },
   "source": [
    "Panggil `number_tracks()` enam kali dan ubahlah nilai parameternya pada masing-masing panggilan, sehingga Anda bisa mengambil data kedua kota untuk masing-masing hari (Senin, Rabu, dan Jumat)."
   ]
  },
  {
   "cell_type": "code",
   "execution_count": 48,
   "metadata": {
    "id": "rJcRATNQ_Zcu"
   },
   "outputs": [
    {
     "data": {
      "text/plain": [
       "15740"
      ]
     },
     "execution_count": 48,
     "metadata": {},
     "output_type": "execute_result"
    }
   ],
   "source": [
    "# jumlah lagu yang diputar di Springfield pada hari Senin\n",
    "number_tracks()"
   ]
  },
  {
   "cell_type": "code",
   "execution_count": 49,
   "metadata": {
    "id": "hq_ncZ5T_Zcu"
   },
   "outputs": [
    {
     "data": {
      "text/plain": [
       "5614"
      ]
     },
     "execution_count": 49,
     "metadata": {},
     "output_type": "execute_result"
    }
   ],
   "source": [
    "# jumlah lagu yang diputar di Shelbyville pada hari Senin\n",
    "number_tracks('Shelbyville', 'Monday')"
   ]
  },
  {
   "cell_type": "code",
   "execution_count": 50,
   "metadata": {
    "id": "_NTy2VPU_Zcu"
   },
   "outputs": [
    {
     "data": {
      "text/plain": [
       "11056"
      ]
     },
     "execution_count": 50,
     "metadata": {},
     "output_type": "execute_result"
    }
   ],
   "source": [
    "#  jumlah lagu yang diputar di Springfield pada hari Rabu\n",
    "number_tracks('Springfield', 'Wednesday')"
   ]
  },
  {
   "cell_type": "code",
   "execution_count": 51,
   "metadata": {
    "id": "j2y3TAwo_Zcu"
   },
   "outputs": [
    {
     "data": {
      "text/plain": [
       "7003"
      ]
     },
     "execution_count": 51,
     "metadata": {},
     "output_type": "execute_result"
    }
   ],
   "source": [
    "#  jumlah lagu yang diputar di Shelbyville pada hari Rabu\n",
    "number_tracks('Shelbyville', 'Wednesday')"
   ]
  },
  {
   "cell_type": "code",
   "execution_count": 52,
   "metadata": {
    "id": "vYDw5u_K_Zcu"
   },
   "outputs": [
    {
     "data": {
      "text/plain": [
       "15945"
      ]
     },
     "execution_count": 52,
     "metadata": {},
     "output_type": "execute_result"
    }
   ],
   "source": [
    "# jumlah lagu yang diputar di Springfield pada hari Jumat\n",
    "number_tracks('Springfield', 'Friday')"
   ]
  },
  {
   "cell_type": "code",
   "execution_count": 53,
   "metadata": {
    "id": "8_yzFtW3_Zcu"
   },
   "outputs": [
    {
     "data": {
      "text/plain": [
       "5895"
      ]
     },
     "execution_count": 53,
     "metadata": {},
     "output_type": "execute_result"
    }
   ],
   "source": [
    "# jumlah lagu yang diputar di Shelbyville pada hari Jumat\n",
    "number_tracks('Shelbyville', 'Friday')"
   ]
  },
  {
   "cell_type": "markdown",
   "metadata": {
    "id": "7QXffbO-_Zcu"
   },
   "source": [
    "Gunakan `pd.DataFrame` untuk membuat sebuah tabel, yang\n",
    "* Nama kolomnya adalah: `['city', 'monday', 'wednesday', 'friday']`\n",
    "* Datanya adalah hasil dari `number_tracks()` `number_tracks()`"
   ]
  },
  {
   "cell_type": "code",
   "execution_count": 54,
   "metadata": {
    "id": "APAcLpOr_Zcu"
   },
   "outputs": [
    {
     "name": "stdout",
     "output_type": "stream",
     "text": [
      "          city  monday  wednesday  friday\n",
      "0  springfield   15740      11056   15945\n",
      "1  shelbyville    5614       7003    5895\n"
     ]
    }
   ],
   "source": [
    "# tabel dengan hasil\n",
    "\n",
    "data = {\"city\": ['springfield', 'shelbyville'],\n",
    "        \"monday\": [15740, 5614],\n",
    "        \"wednesday\": [11056, 7003],\n",
    "        \"friday\": [15945, 5895]\n",
    "       }\n",
    "\n",
    "df1 = pd.DataFrame(data)\n",
    "\n",
    "print(df1)\n"
   ]
  },
  {
   "cell_type": "markdown",
   "metadata": {
    "id": "-EgPIHYu_Zcu"
   },
   "source": [
    "**Kesimpulan**\n",
    "\n",
    "Data yang Anda dapatkan mengungkapkan perbedaan perilaku pengguna:\n",
    "\n",
    "- Di kota Springfield, jumlah trek lagu yang diputar mencapai puncaknya pada hari Senin dan Jumat, sedangkan pada hari Rabu terjadi penurunan aktivitas.\n",
    "- Di kota Shelbyville, sebaliknya, pengguna lebih banyak mendengarkan musik pada hari Rabu.\n",
    "\n",
    "Aktivitas pengguna pada hari Senin dan Jumat lebih sedikit."
   ]
  },
  {
   "cell_type": "markdown",
   "metadata": {
    "id": "p7nFQajCVw5B"
   },
   "source": [
    "[Kembali ke Daftar Isi](#back)"
   ]
  },
  {
   "cell_type": "markdown",
   "metadata": {
    "id": "atZAxtq4_Zcu"
   },
   "source": [
    "### Hipotesis 2: Musik di Awal dan Akhir Minggu <a id='week'></a>"
   ]
  },
  {
   "cell_type": "markdown",
   "metadata": {
    "id": "eXrQqXFH_Zcu"
   },
   "source": [
    "Menurut hipotesis kedua, pada Senin pagi dan Jumat malam, warga Springfield mendengarkan genre musik yang berbeda dari yang dinikmati warga Shelbyville."
   ]
  },
  {
   "cell_type": "markdown",
   "metadata": {
    "id": "S8UcW6Hw_Zcu"
   },
   "source": [
    "Dapatkan tabel (pastikan nama tabel gabungan Anda cocok dengan DataFrame yang diberikan dalam dua blok kode di bawah):\n",
    "* Untuk Springfield — `spr_general`\n",
    "* Untuk Shelbyville — `shel_general`"
   ]
  },
  {
   "cell_type": "code",
   "execution_count": 55,
   "metadata": {
    "id": "qeaFfM_P_Zcu"
   },
   "outputs": [],
   "source": [
    "# mendapatkan tabel spr_general dari baris df,\n",
    "# yang nilai dari kolom 'city'-nya adalah 'Springfield'\n",
    "\n",
    "spr_general = df[(df['city'] == 'Springfield')]"
   ]
  },
  {
   "cell_type": "code",
   "execution_count": 56,
   "metadata": {
    "id": "ORaVRKto_Zcu"
   },
   "outputs": [],
   "source": [
    "# mendapatkan shel_general dari baris df,\n",
    "# yang nilai dari kolom 'city'-nya adalah 'Shelbyville'\n",
    "\n",
    "shel_general = df[(df['city'] == 'Shelbyville')]"
   ]
  },
  {
   "cell_type": "markdown",
   "metadata": {
    "id": "MEJV-CX2_Zcu"
   },
   "source": [
    "Tulis fungsi `genre_weekday()` dengan empat parameter:\n",
    "* Sebuah tabel untuk data\n",
    "* Nama hari\n",
    "* Stempel waktu pertama, dalam format 'hh:mm'\n",
    "* Stempel waktu terakhir, dalam format 'hh:mm'\n",
    "\n",
    "Fungsi tersebut harus menghasilkan informasi tentang 15 genre paling populer pada hari tertentu dalam periode antara dua stempel waktu."
   ]
  },
  {
   "cell_type": "code",
   "execution_count": 57,
   "metadata": {
    "id": "laJT9BYl_Zcu"
   },
   "outputs": [],
   "source": [
    "# Mendeklarasikan fungsi genre_weekday() dengan parameter day=, time1=, dan time2=. Fungsi tersebut harus\n",
    "# memberikan informasi tentang genre yang paling populer pada hari dan waktu tertentu:\n",
    "    \n",
    "# 1) Buat agar variabel genre_df menyimpan baris yang memenuhi beberapa kondisi berikut:\n",
    "#    - nilai pada kolom 'day' sama dengan nilai argumen day=\n",
    "#    - nilai pada kolom 'time' lebih besar dari nilai argumen time1=\n",
    "#    - nilai pada kolom 'time' lebih kecil dari nilai argumen time2=\n",
    "#    Gunakan pemfilteran berurutan dengan pengindeksan logis.\n",
    "\n",
    "# 2) Kelompokkan genre_df berdasarkan kolom 'genre', lalu ambil salah satu kolomnya,\n",
    "#    dan gunakan metode count() untuk menemukan jumlah entri untuk masing-masing\n",
    "#    genre yang terwakili; simpan Series yang dihasilkan ke dalam\n",
    "#    variabel genre_df_count\n",
    "\n",
    "# 3) Urutkan genre_df_count dalam urutan menurun berdasarkan frekuensi dan simpan hasilnya\n",
    "#    ke dalam variabel genre_df_sorted\n",
    "\n",
    "# 4) Hasilkan sebuah objek Series dengan 15 nilai genre_df_sorted pertama - 15 genre paling\n",
    "#    populer (pada hari tertentu, dalam jangka waktu tertentu)\n",
    "\n",
    "def genre_weekdays(day, time1, time2):\n",
    "    genre_df = df[(df['day'] == day) & (df['time'] >= time1) & (df['time'] <= time2)]\n",
    "    genre_df_count = genre_df.groupby('genre')['user_id'].count()\n",
    "    genre_df_sorted = genre_df_count.sort_values(ascending = False)\n",
    "    genre_df_sorted[:15] = genre_df_sorted.head(15)\n",
    "    return genre_df_sorted[:15]\n",
    "\n",
    "# tulis fungsi Anda di sini\n",
    "\n",
    "def genre_weekday(day, time1, time2):\n",
    "    \n",
    "    # pemfilteran berturut-turut\n",
    "    # genre_df hanya akan menyimpan baris df yang day-nya sama dengan day\n",
    "    genre_df = df[(df['day'] == day)] # tulis kode program Anda di sini\n",
    "\n",
    "    # genre_df hanya akan menyimpan baris df yang time-nya lebih kecil dari time2\n",
    "    genre_df = df[(df['time'] <= time2)]# tulis kode program Anda di sini\n",
    "\n",
    "    # genre_df hanya akan menyimpan baris df yang time-nya lebih besar dari time1\n",
    "    genre_df = df[(df['time'] >= time1)]# tulis kode program Anda di sini\n",
    "\n",
    "    # kelompokkan DataFrame yang telah difilter berdasarkan kolom dengan nama genre, ambil kolom genre, dan temukan jumlah baris untuk setiap genre dengan metode count()\n",
    "    genre_df_grouped = df[(df['day'] == day) & (df['time'] >= time1) & (df['time'] <= time2)].groupby('genre')['user_id'].count() # tulis kode program Anda di sini\n",
    "\n",
    "    # kita akan mengurutkan hasilnya dalam urutan menurun (sehingga genre yang paling populer ditampilkan lebih awal pada objek Series\n",
    "    genre_df_sorted = genre_df_grouped.sort_values(ascending = False) # tulis kode program Anda di sini\n",
    "\n",
    "    # kita akan menghasilkan objek Series yang menyimpan 15 genre paling populer pada hari tertentu dalam jangka waktu tertentu\n",
    "    return genre_df_sorted[:15]"
   ]
  },
  {
   "cell_type": "markdown",
   "metadata": {
    "id": "la2s2_PF_Zcu"
   },
   "source": [
    "Bandingkan hasil fungsi `genre_weekday()` untuk Springfield dan Shelbyville pada Senin pagi (dari pukul 07.00 hingga 11.00) dan pada Jumat malam (dari pukul 17:00 hingga 23:00):"
   ]
  },
  {
   "cell_type": "code",
   "execution_count": 58,
   "metadata": {
    "id": "yz7itPUQ_Zcu"
   },
   "outputs": [
    {
     "data": {
      "text/plain": [
       "genre\n",
       "pop            781\n",
       "dance          549\n",
       "electronic     480\n",
       "rock           474\n",
       "hiphop         286\n",
       "ruspop         186\n",
       "world          181\n",
       "rusrap         175\n",
       "alternative    164\n",
       "unknown        161\n",
       "classical      157\n",
       "metal          120\n",
       "jazz           100\n",
       "folk            97\n",
       "soundtrack      95\n",
       "Name: user_id, dtype: int64"
      ]
     },
     "execution_count": 58,
     "metadata": {},
     "output_type": "execute_result"
    }
   ],
   "source": [
    "# memanggil fungsi untuk Senin pagi di Springfield (gunakan spr_general alih-alih tabel df)\n",
    "def genre_weekday_spr(day, time1, time2):\n",
    "    genre_df = spr_general[(spr_general['day'] == day) & (spr_general['time'] >= time1) & (spr_general['time'] <= time2)]\n",
    "    genre_df_count = genre_df.groupby('genre')['user_id'].count()\n",
    "    genre_df_sorted = genre_df_count.sort_values(ascending = False)\n",
    "    genre_df_sorted[:15] = genre_df_sorted.head(15)\n",
    "    return genre_df_sorted[:15]\n",
    "\n",
    "genre_weekday_spr('Monday', '07:00', \"11:00\")"
   ]
  },
  {
   "cell_type": "code",
   "execution_count": 59,
   "metadata": {
    "id": "kwUcHPdy_Zcu"
   },
   "outputs": [
    {
     "data": {
      "text/plain": [
       "genre\n",
       "pop            218\n",
       "dance          182\n",
       "rock           162\n",
       "electronic     147\n",
       "hiphop          80\n",
       "ruspop          64\n",
       "alternative     58\n",
       "rusrap          55\n",
       "jazz            44\n",
       "classical       40\n",
       "world           36\n",
       "rap             32\n",
       "soundtrack      31\n",
       "rnb             27\n",
       "metal           27\n",
       "Name: user_id, dtype: int64"
      ]
     },
     "execution_count": 59,
     "metadata": {},
     "output_type": "execute_result"
    }
   ],
   "source": [
    "# memanggil fungsi untuk Senin pagi di Shelbyville (gunakan shel_general alih-alih tabel df)\n",
    "def genre_weekday_shel(day, time1, time2):\n",
    "    genre_df = shel_general[(shel_general['day'] == day) & (shel_general['time'] >= time1) & (shel_general['time'] <= time2)]\n",
    "    genre_df_count = genre_df.groupby('genre')['user_id'].count()\n",
    "    genre_df_sorted = genre_df_count.sort_values(ascending = False)\n",
    "    genre_df_sorted[:15] = genre_df_sorted.head(15)\n",
    "    return genre_df_sorted[:15]\n",
    "\n",
    "genre_weekday_shel('Monday', '07:00', \"11:00\")"
   ]
  },
  {
   "cell_type": "code",
   "execution_count": 60,
   "metadata": {
    "id": "EzXVRE1o_Zcu"
   },
   "outputs": [
    {
     "data": {
      "text/plain": [
       "genre\n",
       "pop            713\n",
       "rock           517\n",
       "dance          495\n",
       "electronic     482\n",
       "hiphop         273\n",
       "world          208\n",
       "ruspop         170\n",
       "classical      163\n",
       "alternative    163\n",
       "rusrap         142\n",
       "jazz           111\n",
       "unknown        110\n",
       "soundtrack     105\n",
       "rnb             90\n",
       "metal           88\n",
       "Name: user_id, dtype: int64"
      ]
     },
     "execution_count": 60,
     "metadata": {},
     "output_type": "execute_result"
    }
   ],
   "source": [
    "# memanggil fungsi untuk Jumat malam di Springfield\n",
    "genre_weekday_spr('Friday', '17:00', '23:00')"
   ]
  },
  {
   "cell_type": "code",
   "execution_count": 61,
   "metadata": {
    "id": "JZaEKu5v_Zcu"
   },
   "outputs": [
    {
     "data": {
      "text/plain": [
       "genre\n",
       "pop            256\n",
       "rock           216\n",
       "electronic     216\n",
       "dance          210\n",
       "hiphop          97\n",
       "alternative     63\n",
       "jazz            61\n",
       "classical       60\n",
       "rusrap          59\n",
       "world           54\n",
       "unknown         47\n",
       "ruspop          47\n",
       "soundtrack      40\n",
       "metal           39\n",
       "rap             36\n",
       "Name: user_id, dtype: int64"
      ]
     },
     "execution_count": 61,
     "metadata": {},
     "output_type": "execute_result"
    }
   ],
   "source": [
    "# memanggil fungsi untuk Jumat malam di Shelbyville\n",
    "genre_weekday_shel('Friday', '17:00', '23:00')"
   ]
  },
  {
   "cell_type": "markdown",
   "metadata": {
    "id": "wrCe4MNX_Zcu"
   },
   "source": [
    "**Kesimpulan**\n",
    "\n",
    "Setelah membandingkan 15 genre teratas pada Senin pagi, kita dapat menarik kesimpulan berikut:\n",
    "\n",
    "1. Pengguna dari Springfield dan Shelbyville mendengarkan musik dengan genre yang sama. Lima genre teratas dari kedua kota sama, hanya genre rock dan elektronik yang bertukar tempat.\n",
    "\n",
    "2. Di Springfield, jumlah nilai yang hilang ternyata sangat besar, sehingga nilai `'unknown'` berada di urutan ke-10. Ini berarti bahwa nilai-nilai yang hilang mencakup proporsi data yang cukup besar, sehingga fakta ini bisa menjadi dasar untuk mempertanyakan reliabilitas kesimpulan kami.\n",
    "\n",
    "Untuk hari Jumat malam, situasinya juga serupa. Genre individual cukup bervariasi, tetapi secara keseluruhan, 15 besar genre untuk kedua kota sama.\n",
    "\n",
    "Dengan demikian, hipotesis kedua sebagian terbukti benar:\n",
    "* Pengguna mendengarkan musik yang sama di awal dan akhir minggu.\n",
    "* Tidak ada perbedaan yang mencolok antara Springfield dan Shelbyville. Di kedua kota tersebut, pop adalah genre yang paling populer.\n",
    "\n",
    "Meski demikian, signifikansi jumlah nilai yang hilang membuat hasil ini patut dipertanyakan. Di Springfield, terdapat begitu banyak nilai hilang yang memengaruhi hasil 15 genre teratas kita. Jika kita tidak memiliki nilai-nilai yang hilang ini, hasilnya mungkin akan berbeda."
   ]
  },
  {
   "cell_type": "markdown",
   "metadata": {
    "id": "jLmXgdanVyhP"
   },
   "source": [
    "[Kembali ke Daftar Isi](#back)"
   ]
  },
  {
   "cell_type": "markdown",
   "metadata": {
    "id": "JolODAqr_Zcu"
   },
   "source": [
    "### Hipotesis 3: Preferensi Genre di Springfield dan Shelbyville <a id='genre'></a>\n",
    "\n",
    "Hipotesis: Shelbyville menyukai musik rap. Warga Springfield lebih menyukai pop."
   ]
  },
  {
   "cell_type": "markdown",
   "metadata": {
    "id": "DlegSvaT_Zcu"
   },
   "source": [
    "Kelompokkan tabel `spr_general` berdasarkan genre dan temukan jumlah trek lagu yang dimainkan untuk setiap genre dengan metode `count()`. Kemudian, urutkan hasilnya dalam urutan menurun dan simpanlah ke `spr_genres`."
   ]
  },
  {
   "cell_type": "code",
   "execution_count": 62,
   "metadata": {
    "id": "r19lIPke_Zcu"
   },
   "outputs": [],
   "source": [
    "# dalam satu baris: kelompokkan tabel spr_general berdasarkan kolom 'genre',\n",
    "# hitung nilai kolom 'genre' dengan count() dalam pengelompokan,\n",
    "# urutkan Series yang dihasilkan dalam urutan menurun, lalu simpan hasilnya ke spr_genres\n",
    "\n",
    "spr_genres = spr_general.groupby('genre')['user_id'].count().sort_values(ascending = False)"
   ]
  },
  {
   "cell_type": "markdown",
   "metadata": {
    "id": "6kMuomxTiIr8"
   },
   "source": [
    "Tampilkan 10 baris pertama dari `spr_genres`:"
   ]
  },
  {
   "cell_type": "code",
   "execution_count": 63,
   "metadata": {
    "id": "WhCSooF8_Zcv"
   },
   "outputs": [
    {
     "name": "stdout",
     "output_type": "stream",
     "text": [
      "genre\n",
      "pop            5892\n",
      "dance          4435\n",
      "rock           3965\n",
      "electronic     3786\n",
      "hiphop         2096\n",
      "classical      1616\n",
      "world          1432\n",
      "alternative    1379\n",
      "ruspop         1372\n",
      "rusrap         1161\n",
      "Name: user_id, dtype: int64\n"
     ]
    }
   ],
   "source": [
    "# menampilkan 10 baris pertama dari spr_genres\n",
    "print(spr_genres.head(10))"
   ]
  },
  {
   "cell_type": "markdown",
   "metadata": {
    "id": "cnPG2vnN_Zcv"
   },
   "source": [
    "Sekarang lakukan hal yang sama pada data dari Shelbyville.\n",
    "\n",
    "Kelompokkan tabel `shel_general` berdasarkan genre dan temukan jumlah trek lagu yang dimainkan untuk setiap genre. Kemudian, urutkan hasilnya dalam urutan menurun dan simpan hasil tersebut ke tabel `shel_genres`:"
   ]
  },
  {
   "cell_type": "code",
   "execution_count": 64,
   "metadata": {
    "id": "gluLIpE7_Zcv"
   },
   "outputs": [],
   "source": [
    "# dalam satu baris: kelompokkan tabel shel_general berdasarkan kolom 'genre',\n",
    "# hitung nilai kolom 'genre' dalam pengelompokan menggunakan count(),\n",
    "# urutkan Series yang dihasilkan dalam urutan menurun dan simpanlah ke shel_genres\n",
    "shel_genres = shel_general.groupby('genre')['user_id'].count().sort_values(ascending = False)"
   ]
  },
  {
   "cell_type": "markdown",
   "metadata": {
    "id": "5Doha_ODgyQ8"
   },
   "source": [
    "Tampilkan 10 baris pertama dari `shel_genres`:"
   ]
  },
  {
   "cell_type": "code",
   "execution_count": 65,
   "metadata": {
    "id": "uaGJHjVU_Zcv"
   },
   "outputs": [
    {
     "name": "stdout",
     "output_type": "stream",
     "text": [
      "genre\n",
      "pop            2431\n",
      "dance          1932\n",
      "rock           1879\n",
      "electronic     1736\n",
      "hiphop          960\n",
      "alternative     649\n",
      "classical       646\n",
      "rusrap          564\n",
      "ruspop          538\n",
      "world           515\n",
      "Name: user_id, dtype: int64\n"
     ]
    }
   ],
   "source": [
    "# menampilkan 10 baris pertama dari shel_genres\n",
    "print(shel_genres.head(10))"
   ]
  },
  {
   "cell_type": "markdown",
   "metadata": {
    "id": "RY51YJYu_Zcv"
   },
   "source": [
    "**Kesimpulan**"
   ]
  },
  {
   "cell_type": "markdown",
   "metadata": {
    "id": "nVhnJEm__Zcv"
   },
   "source": [
    "Hipotesis ini terbukti benar sebagian:\n",
    "* Musik pop adalah genre yang paling populer di Springfield, seperti yang kita perkirakan.\n",
    "* Namun, musik pop ternyata sama populernya baik di Springfield maupun di Shelbyville, dan musik rap ternyata tidak masuk ke daftar 5 besar genre untuk kedua kota tersebut.\n"
   ]
  },
  {
   "cell_type": "markdown",
   "metadata": {
    "id": "Byr0RfpPVz14"
   },
   "source": [
    "[Kembali ke Daftar Isi](#back)"
   ]
  },
  {
   "cell_type": "markdown",
   "metadata": {
    "id": "ykKQ0N65_Zcv"
   },
   "source": [
    "# Temuan <a id='end'></a>"
   ]
  },
  {
   "cell_type": "markdown",
   "metadata": {
    "id": "tjUwbHb3_Zcv"
   },
   "source": [
    "Kita telah menguji tiga hipotesis berikut:\n",
    "\n",
    "1. Aktivitas pengguna di Springfield dan Shelbyville bergantung pada hari dalam seminggu, meskipun kedua kota ini bervariasi dalam berbagai cara.\n",
    "2. Pada senin pagi, penduduk Springfield dan Shelbyville mendengarkan genre yang berbeda. Hal ini juga berlaku pada hari Jumat malam.\n",
    "3. Pendengar di Springfield dan Shelbyville memiliki preferensi yang berbeda. Baik Springfield maupun di Shelbyville, mereka lebih suka musik pop.\n",
    "\n",
    "Setelah menganalisis data yang tersedia, kita dapat menyimpulkan bahwa:\n",
    "\n",
    "1. Aktivitas pengguna di Springfield dan Shelbyville bergantung pada harinya, walaupun kotanya berbeda.\n",
    "\n",
    "Hipotesis pertama dapat diterima sepenuhnya.\n",
    "\n",
    "2. Preferensi musik tidak bervariasi secara signifikan sepanjang minggu di Springfield dan Shelbyville. Kita bisa melihat perbedaan kecil dalam urutan pada hari Senin, tetapi:\n",
    "* Baik di Springfield maupun di Shelbyville, pengguna paling banyak mendengarkan musik pop.\n",
    "\n",
    "Oleh karena itu, hipotesis ini tidak dapat kita terima. Penting juga untuk mengingat bahwa hasil yang diperoleh bisa saja berbeda seandainya kita tidak memiliki nilai yang hilang.\n",
    "3. Ternyata preferensi musik pengguna dari Springfield dan Shelbyville sangat mirip.\n",
    "\n",
    "Hipotesis ketiga ditolak. Jika memang terdapat perbedaan preferensi, sayangnya hal ini tidak dapat kita ketahui dari data ini.\n",
    "### Catatan\n",
    "Dalam proyek sesungguhnya, penelitian melibatkan pengujian hipotesis statistik, yang tentunya lebih tepat dan lebih kuantitatif. Perhatikan juga bahwa Anda tidak dapat selalu menarik kesimpulan tentang seluruh kota berdasarkan data dari satu sumber saja.\n",
    "\n",
    "Anda akan mempelajari pengujian hipotesis dalam sprint analisis data statistik."
   ]
  },
  {
   "cell_type": "markdown",
   "metadata": {
    "id": "Ju4AHDSgV1FE"
   },
   "source": [
    "[Kembali ke Daftar Isi](#back)"
   ]
  },
  {
   "cell_type": "code",
   "execution_count": null,
   "metadata": {},
   "outputs": [],
   "source": []
  }
 ],
 "metadata": {
  "colab": {
   "collapsed_sections": [
    "E0vqbgi9ay0H",
    "VUC88oWjTJw2",
    "atZAxtq4_Zcu"
   ],
   "name": "EmptyFinalProject.ipynb\"",
   "provenance": []
  },
  "kernelspec": {
   "display_name": "Python 3 (ipykernel)",
   "language": "python",
   "name": "python3"
  },
  "language_info": {
   "codemirror_mode": {
    "name": "ipython",
    "version": 3
   },
   "file_extension": ".py",
   "mimetype": "text/x-python",
   "name": "python",
   "nbconvert_exporter": "python",
   "pygments_lexer": "ipython3",
   "version": "3.10.11"
  },
  "toc": {
   "base_numbering": 1,
   "nav_menu": {},
   "number_sections": true,
   "sideBar": true,
   "skip_h1_title": true,
   "title_cell": "Table of Contents",
   "title_sidebar": "Contents",
   "toc_cell": false,
   "toc_position": {},
   "toc_section_display": true,
   "toc_window_display": true
  }
 },
 "nbformat": 4,
 "nbformat_minor": 4
}
