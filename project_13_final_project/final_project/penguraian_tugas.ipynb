{
 "cells": [
  {
   "cell_type": "markdown",
   "id": "79d4ce88",
   "metadata": {},
   "source": [
    "# Pendahuluan"
   ]
  },
  {
   "cell_type": "markdown",
   "id": "6a62366c",
   "metadata": {},
   "source": [
    "Dataset berisi data tentang penjualan yang dilakukan oleh pengecer atau retailer bahan bangunan \"Home World\" di Amerika Serikat. Semua pelanggannya memiliki kartu keanggotaan. Sebagai catatan, para pelanggan dapat menjadi anggota program loyalitas toko dengan biaya $20 per bulan. Program ini mencakup pemberian diskon, informasi tentang penawaran spesial, dan sejumlah hadiah.\n",
    "\n",
    "Periode dataset dimulai dari tanggal 2016-12-01 sampai 2017-02-28.\n"
   ]
  },
  {
   "cell_type": "markdown",
   "id": "1d6e2283",
   "metadata": {},
   "source": [
    "# Menetapkan Tujuan"
   ]
  },
  {
   "cell_type": "markdown",
   "id": "2e54defe",
   "metadata": {},
   "source": [
    "Tujuan dari menganalisis data penjualan adalah untuk memberikan wawasan yang mendalam kepada tingkat manajemen dan membantu mereka dalam mengambil keputusan yang dapat menguntungkan bisnis dengan berbagai cara. Berikut tujuan analisa data penjualan ini :\n"
   ]
  },
  {
   "cell_type": "markdown",
   "id": "2b23f032",
   "metadata": {},
   "source": [
    "1. Untuk memahami kinerja penjualan secara keseluruhan pada semua gerai dan untuk menentukan rata-rata kinerja per gerai.\n",
    "\n"
   ]
  },
  {
   "cell_type": "markdown",
   "id": "dd0f6640",
   "metadata": {},
   "source": [
    "2. Mengevaluasi dan membandingkan kinerja penjualan masing-masing gerai.."
   ]
  },
  {
   "cell_type": "markdown",
   "id": "3f90d68a",
   "metadata": {},
   "source": [
    "3. Untuk menunjukkan gerai yang berkinerja buruk dibandingkan dengan rata-rata keseluruhan atau menunjukkan gerai yang mungkin memerlukan perbaikan atau perhatian.\n",
    "       "
   ]
  },
  {
   "cell_type": "markdown",
   "id": "8ff59258",
   "metadata": {},
   "source": [
    "4. Untuk mendapatkan wawasan tentang hubungan antara berbagai faktor dan kinerja penjualan serta untuk memahami karakteristik gerai yang berkinerja tinggi dan rendah.\n"
   ]
  },
  {
   "cell_type": "markdown",
   "id": "6c4e94f4",
   "metadata": {},
   "source": [
    "5. Untuk menguji secara statistik apakah faktor-faktor tertentu berbeda secara signifikan antara gerai yang berkinerja tinggi dan rendah.\n"
   ]
  },
  {
   "cell_type": "markdown",
   "id": "e9f0dc94",
   "metadata": {},
   "source": [
    "6. Meringkas temuan dan memberikan rekomendasi berdasarkan data dan pengujian hipotesis sehingga dapat berguna untuk pengambilan keputusan dan strategi dalam meningkatkan kinerja penjualan.\n"
   ]
  },
  {
   "cell_type": "markdown",
   "id": "0da01ae1",
   "metadata": {},
   "source": [
    "# Referensi"
   ]
  },
  {
   "cell_type": "markdown",
   "id": "b5e0a1bc",
   "metadata": {},
   "source": [
    "Mari kita mulai dengan mendefinisikan model keanggotaan dan karakteristiknya. Pada intinya, keanggotaan memberi pelanggan akses terhadap sesuatu—apa pun yang dapat ditentukan oleh masing-masing bisnis. Keanggotaan bisa berbayar atau gratis; yang penting mereka memberikan akses khusus kepada anggota terhadap produk, layanan, diskon, atau keuntungan lainnya. https://rechargepayments.com/blog/everything-you-need-to-know-about-the-membership-business-model/"
   ]
  },
  {
   "cell_type": "markdown",
   "id": "2774a52a",
   "metadata": {},
   "source": [
    "Laporan penjualan merinci semua aktivitas penjualan bisnis Anda dan memberikan wawasan tentang apa yang harus dilakukan perusahaan Anda secara berbeda. https://www.businessnewsdaily.com/15988-how-to-write-a-sales-report.html"
   ]
  },
  {
   "cell_type": "markdown",
   "id": "1a3b9a29",
   "metadata": {},
   "source": [
    "Berbeda dengan total penjualan, metrik volume penjualan berfokus pada jumlah produk yang terjual bukan keuntungan moneter. Tampaknya volume penjualan tidak sepenting total penjualan, namun sebenarnya tidak demikian. Volume penjualan merupakan indikator penting kesehatan bisnis. Ini memungkinkan Anda melacak kinerja kampanye pemasaran, mengevaluasi upaya perwakilan penjualan, dan memilih tempat terbaik untuk toko fisik. https://sendpulse.com/support/glossary/sales-volume"
   ]
  },
  {
   "cell_type": "markdown",
   "id": "fea7adf1",
   "metadata": {},
   "source": [
    "Tentu saja, jangan membuang jumlah keanggotaan Anda sepenuhnya. Untuk advokasi, hal ini dapat mewakili pengaruh kolektif asosiasi Anda. Untuk pemasaran, ini dapat menandakan luasnya komunitas di mana anggotanya dapat menjadi bagiannya. Dan jika Anda telah menentukan bahwa pertumbuhan keanggotaan akan mendukung misi Anda, maka hal ini merupakan indikator utama kemajuan. Tapi itu hanya satu dari sekian banyak angka yang harus Anda lacak, dan ini adalah angka yang agak sederhana. https://associationsnow.com/2014/06/apples-oranges-counting-members-isnt-always-useful/"
   ]
  },
  {
   "cell_type": "markdown",
   "id": "cafba845",
   "metadata": {},
   "source": [
    "Analisis tren adalah teknik yang digunakan untuk memeriksa dan memprediksi pergerakan suatu item berdasarkan data terkini dan historis. Anda dapat menggunakan analisis tren untuk meningkatkan bisnis Anda menggunakan data tren untuk menginformasikan pengambilan keputusan Anda. https://www.business.qld.gov.au/running-business/growing-business/trend-analysis"
   ]
  },
  {
   "cell_type": "markdown",
   "id": "d7559a48",
   "metadata": {},
   "source": [
    "Analisis Korelasi adalah metode statistik yang digunakan untuk mengetahui apakah terdapat hubungan antara dua variabel/dataset, dan seberapa kuat hubungan tersebut. Pada dasarnya, analisis korelasi digunakan untuk menemukan pola dalam kumpulan data. Hasil korelasi yang positif berarti kedua variabel saling meningkat, sedangkan korelasi negatif berarti jika salah satu variabel menurun maka variabel lainnya meningkat. https://blog.flexmr.net/correlation-analysis-definition-exploration\n",
    "\n"
   ]
  },
  {
   "cell_type": "markdown",
   "id": "5d1ee944",
   "metadata": {},
   "source": [
    "Pengujian hipotesis, terkadang disebut pengujian signifikansi, adalah tindakan dalam statistik dimana seorang analis menguji asumsi mengenai parameter populasi. Metodologi yang digunakan oleh analis bergantung pada sifat data yang digunakan dan alasan analisisnya. https://www.investopedia.com/terms/h/hypothesistesting.asp"
   ]
  },
  {
   "cell_type": "markdown",
   "id": "baa6b916",
   "metadata": {},
   "source": [
    "# Menambahkan Tahap-Tahap Wajib Analisis"
   ]
  },
  {
   "cell_type": "markdown",
   "id": "fc3e39c0",
   "metadata": {},
   "source": [
    "1. Mengumpulkan data."
   ]
  },
  {
   "cell_type": "markdown",
   "id": "4018bbea",
   "metadata": {},
   "source": [
    "2. Memeriksa dan memperbaiki data."
   ]
  },
  {
   "cell_type": "markdown",
   "id": "fdf21c6a",
   "metadata": {},
   "source": [
    "# Penguraian lebih lanjut"
   ]
  },
  {
   "cell_type": "markdown",
   "id": "86c78f82",
   "metadata": {},
   "source": [
    "1. Mempelajari nilai yang hilang pada dataset.\n"
   ]
  },
  {
   "cell_type": "markdown",
   "id": "60b6dcbf",
   "metadata": {},
   "source": [
    "2. Mempelajari nilai yang tidak wajar pada dataset."
   ]
  },
  {
   "cell_type": "markdown",
   "id": "6f430bb7",
   "metadata": {},
   "source": [
    "3. Memutuskan untuk menghapus atau tidak nilai yang bermasalah pada dataset."
   ]
  },
  {
   "cell_type": "markdown",
   "id": "1a504ddf",
   "metadata": {},
   "source": [
    "4. Mempelajari karaketristik gerai yang berkinerja tinggi dan rendah."
   ]
  },
  {
   "cell_type": "markdown",
   "id": "00eba49b",
   "metadata": {},
   "source": [
    "# Analisis Data Exploratif"
   ]
  },
  {
   "cell_type": "markdown",
   "id": "81aeab93",
   "metadata": {},
   "source": [
    "1. Melihat korelasi secara keseluruhan dari fitur data terhadap penjualan."
   ]
  },
  {
   "cell_type": "markdown",
   "id": "25b495af",
   "metadata": {},
   "source": [
    "2. Mempelajari parameter gerai dengan kinerja tinggi."
   ]
  },
  {
   "cell_type": "markdown",
   "id": "98feb22d",
   "metadata": {},
   "source": [
    "3. Mempelajari parameter gerai dengan kinerja rendah."
   ]
  },
  {
   "cell_type": "markdown",
   "id": "c17a4560",
   "metadata": {},
   "source": [
    "# Mengajukan hipotesis"
   ]
  },
  {
   "cell_type": "markdown",
   "id": "3430dfe1",
   "metadata": {},
   "source": [
    "1. Terdapat hubungan positif antara kinerja tinggi gerai yang diukur dengan penjualan bulanan dengan peningkatan penjualan bulanan."
   ]
  },
  {
   "cell_type": "markdown",
   "id": "e100164e",
   "metadata": {},
   "source": [
    "2. Terdapat hubungan positif antara kinerja tinggi gerai yang diukur dengan volume penjualan bulanan dengan peningkatan volume penjualan bulanan"
   ]
  },
  {
   "cell_type": "markdown",
   "id": "08d3cf51",
   "metadata": {},
   "source": [
    "3. Terdapat hubungan positif antara kinerja tinggi gerai yang diukur dengan jumlah anggota reguler dengan peningkatan penjualan anggota reguler. "
   ]
  },
  {
   "cell_type": "markdown",
   "id": "42ad8cf3",
   "metadata": {},
   "source": [
    "4. Terdapat hubungan positif antara kinerja tinggi gerai yang diukur dengan jumlah anggota loyalitas dengan peningkatan penjualan anggota loyalitas. "
   ]
  },
  {
   "cell_type": "markdown",
   "id": "213b5e62",
   "metadata": {},
   "source": [
    "# Mengubah Hipotesis menjadi Rencana Tindakan yang Nyata"
   ]
  },
  {
   "cell_type": "markdown",
   "id": "0385df5c",
   "metadata": {},
   "source": [
    "1. Melakukan tes hipotesis statistik. "
   ]
  },
  {
   "cell_type": "markdown",
   "id": "9b31d384",
   "metadata": {},
   "source": [
    "# Kesimpulan"
   ]
  },
  {
   "cell_type": "markdown",
   "id": "66d1a052",
   "metadata": {},
   "source": [
    "1. Merangkum temuan dan informasi yang diperoleh dari analisa."
   ]
  },
  {
   "cell_type": "markdown",
   "id": "2600c4f6",
   "metadata": {},
   "source": [
    "2. Berdasarkan kesimpulan yang diambil dari analisa, memberikan saran / rekomendasi yang dapat ditindaklanjuti."
   ]
  },
  {
   "cell_type": "code",
   "execution_count": null,
   "id": "b75546cb",
   "metadata": {},
   "outputs": [],
   "source": []
  }
 ],
 "metadata": {
  "kernelspec": {
   "display_name": "Python 3 (ipykernel)",
   "language": "python",
   "name": "python3"
  },
  "language_info": {
   "codemirror_mode": {
    "name": "ipython",
    "version": 3
   },
   "file_extension": ".py",
   "mimetype": "text/x-python",
   "name": "python",
   "nbconvert_exporter": "python",
   "pygments_lexer": "ipython3",
   "version": "3.10.11"
  },
  "toc": {
   "base_numbering": 1,
   "nav_menu": {},
   "number_sections": true,
   "sideBar": true,
   "skip_h1_title": false,
   "title_cell": "Table of Contents",
   "title_sidebar": "Contents",
   "toc_cell": false,
   "toc_position": {},
   "toc_section_display": true,
   "toc_window_display": false
  }
 },
 "nbformat": 4,
 "nbformat_minor": 5
}
