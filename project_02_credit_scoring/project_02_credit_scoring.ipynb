{
 "cells": [
  {
   "cell_type": "markdown",
   "id": "eaa7ef5a",
   "metadata": {},
   "source": [
    "# Menganalisis Risiko Gagal Bayar Peminjam\n",
    "\n",
    "Tugas Anda adalah menyiapkan laporan untuk divisi kredit suatu bank. Anda akan mencari tahu pengaruh status perkawinan seorang nasabah dan jumlah anak yang dimilikinya terhadap probabilitas gagal bayar dalam pelunasan pinjaman. Pihak bank sudah memiliki beberapa data mengenai kelayakan kredit nasabah.\n",
    "\n",
    "Laporan Anda akan dipertimbangkan pada saat membuat **penilaian kredit** untuk calon nasabah. **Penilaian kredit** digunakan untuk mengevaluasi kemampuan calon peminjam untuk melunasi pinjaman mereka.\n",
    "\n",
    "Dengan banyaknya pengajuan pinjaman oleh nasabah, maka diperlukan analisis mengenai kemungkinan gagal bayar dari data nasabah yang ada. Dari dataset yang ada, akan diolah sebaik mungkin dengan melihat masalah dan solusi yang dapat dilakukan untuk memperbaiki informasi di dalam dataset ini sehingga dapat di analisa.\n",
    "\n",
    "Tujuan dari proyek ini untuk mengidentifikasi karakteristik dari nasabah gagal bayar yang akan diuji dengan :\n",
    "\n",
    "1. Pengaruh jumlah anak terhadap gagal bayar pinjaman.\n",
    "2. Pengaruh status keluarga terhadap gagal bayar pinjaman.\n",
    "3. Pengaruh tingkat penghasilan terhadap gagal bayar pinjaman.\n",
    "4. Pengaruh tujuan pinjaman terhadap gagal bayar pinjaman."
   ]
  },
  {
   "cell_type": "markdown",
   "id": "368db342",
   "metadata": {},
   "source": [
    "## Buka *file* data dan baca informasi umumnya.\n"
   ]
  },
  {
   "cell_type": "code",
   "execution_count": 3,
   "id": "8f173730",
   "metadata": {},
   "outputs": [],
   "source": [
    "# Muat semua *library*\n",
    "import pandas as pd"
   ]
  },
  {
   "cell_type": "code",
   "execution_count": 4,
   "id": "f40156b6",
   "metadata": {},
   "outputs": [],
   "source": [
    "# Muat datanya\n",
    "try :\n",
    "    data = pd.read_csv(r'C:\\Users\\vidop\\Documents\\Practicum\\Sprint 2\\File\\credit_scoring_eng.csv')\n",
    "\n",
    "except :\n",
    "    data = pd.read_csv('/datasets/credit_scoring_eng.csv')"
   ]
  },
  {
   "cell_type": "markdown",
   "id": "60f350c9",
   "metadata": {},
   "source": [
    "## Soal 1. Eksplorasi data\n",
    "\n",
    "**Deskripsi Data**\n",
    "- `children` - jumlah anak dalam keluarga\n",
    "- `days_employed` - pengalaman kerja nasabah dalam hari\n",
    "- `dob_years` - usia nasabah dalam tahun\n",
    "- `education` - tingkat pendidikan nasabah\n",
    "- `education_id` - pengidentifikasi untuk tingkat pendidikan nasabah\n",
    "- `family_status` - pengidentifikasi untuk status perkawinan nasabah\n",
    "- `family_status_id` - tanda pengenal status perkawinan\n",
    "- `gender` - jenis kelamin nasabah\n",
    "- `income_type` - jenis pekerjaan\n",
    "- `debt` - apakah nasabah pernah melakukan gagal bayar pinjaman\n",
    "- `total_income` - pendapatan bulanan\n",
    "- `purpose` - tujuan mendapatkan pinjaman\n"
   ]
  },
  {
   "cell_type": "code",
   "execution_count": 5,
   "id": "3fa2ea4f",
   "metadata": {},
   "outputs": [
    {
     "data": {
      "text/plain": [
       "258300"
      ]
     },
     "execution_count": 5,
     "metadata": {},
     "output_type": "execute_result"
    }
   ],
   "source": [
    "# Mari kita lihat berapa banyak baris dan kolom yang dimiliki oleh dataset kita\n",
    "data.size"
   ]
  },
  {
   "cell_type": "code",
   "execution_count": 6,
   "id": "ab4ae291",
   "metadata": {
    "scrolled": false
   },
   "outputs": [
    {
     "data": {
      "text/html": [
       "<div>\n",
       "<style scoped>\n",
       "    .dataframe tbody tr th:only-of-type {\n",
       "        vertical-align: middle;\n",
       "    }\n",
       "\n",
       "    .dataframe tbody tr th {\n",
       "        vertical-align: top;\n",
       "    }\n",
       "\n",
       "    .dataframe thead th {\n",
       "        text-align: right;\n",
       "    }\n",
       "</style>\n",
       "<table border=\"1\" class=\"dataframe\">\n",
       "  <thead>\n",
       "    <tr style=\"text-align: right;\">\n",
       "      <th></th>\n",
       "      <th>children</th>\n",
       "      <th>days_employed</th>\n",
       "      <th>dob_years</th>\n",
       "      <th>education</th>\n",
       "      <th>education_id</th>\n",
       "      <th>family_status</th>\n",
       "      <th>family_status_id</th>\n",
       "      <th>gender</th>\n",
       "      <th>income_type</th>\n",
       "      <th>debt</th>\n",
       "      <th>total_income</th>\n",
       "      <th>purpose</th>\n",
       "    </tr>\n",
       "  </thead>\n",
       "  <tbody>\n",
       "    <tr>\n",
       "      <th>0</th>\n",
       "      <td>1</td>\n",
       "      <td>-8437.673028</td>\n",
       "      <td>42</td>\n",
       "      <td>bachelor's degree</td>\n",
       "      <td>0</td>\n",
       "      <td>married</td>\n",
       "      <td>0</td>\n",
       "      <td>F</td>\n",
       "      <td>employee</td>\n",
       "      <td>0</td>\n",
       "      <td>40620.102</td>\n",
       "      <td>purchase of the house</td>\n",
       "    </tr>\n",
       "    <tr>\n",
       "      <th>1</th>\n",
       "      <td>1</td>\n",
       "      <td>-4024.803754</td>\n",
       "      <td>36</td>\n",
       "      <td>secondary education</td>\n",
       "      <td>1</td>\n",
       "      <td>married</td>\n",
       "      <td>0</td>\n",
       "      <td>F</td>\n",
       "      <td>employee</td>\n",
       "      <td>0</td>\n",
       "      <td>17932.802</td>\n",
       "      <td>car purchase</td>\n",
       "    </tr>\n",
       "    <tr>\n",
       "      <th>2</th>\n",
       "      <td>0</td>\n",
       "      <td>-5623.422610</td>\n",
       "      <td>33</td>\n",
       "      <td>Secondary Education</td>\n",
       "      <td>1</td>\n",
       "      <td>married</td>\n",
       "      <td>0</td>\n",
       "      <td>M</td>\n",
       "      <td>employee</td>\n",
       "      <td>0</td>\n",
       "      <td>23341.752</td>\n",
       "      <td>purchase of the house</td>\n",
       "    </tr>\n",
       "    <tr>\n",
       "      <th>3</th>\n",
       "      <td>3</td>\n",
       "      <td>-4124.747207</td>\n",
       "      <td>32</td>\n",
       "      <td>secondary education</td>\n",
       "      <td>1</td>\n",
       "      <td>married</td>\n",
       "      <td>0</td>\n",
       "      <td>M</td>\n",
       "      <td>employee</td>\n",
       "      <td>0</td>\n",
       "      <td>42820.568</td>\n",
       "      <td>supplementary education</td>\n",
       "    </tr>\n",
       "    <tr>\n",
       "      <th>4</th>\n",
       "      <td>0</td>\n",
       "      <td>340266.072047</td>\n",
       "      <td>53</td>\n",
       "      <td>secondary education</td>\n",
       "      <td>1</td>\n",
       "      <td>civil partnership</td>\n",
       "      <td>1</td>\n",
       "      <td>F</td>\n",
       "      <td>retiree</td>\n",
       "      <td>0</td>\n",
       "      <td>25378.572</td>\n",
       "      <td>to have a wedding</td>\n",
       "    </tr>\n",
       "    <tr>\n",
       "      <th>5</th>\n",
       "      <td>0</td>\n",
       "      <td>-926.185831</td>\n",
       "      <td>27</td>\n",
       "      <td>bachelor's degree</td>\n",
       "      <td>0</td>\n",
       "      <td>civil partnership</td>\n",
       "      <td>1</td>\n",
       "      <td>M</td>\n",
       "      <td>business</td>\n",
       "      <td>0</td>\n",
       "      <td>40922.170</td>\n",
       "      <td>purchase of the house</td>\n",
       "    </tr>\n",
       "    <tr>\n",
       "      <th>6</th>\n",
       "      <td>0</td>\n",
       "      <td>-2879.202052</td>\n",
       "      <td>43</td>\n",
       "      <td>bachelor's degree</td>\n",
       "      <td>0</td>\n",
       "      <td>married</td>\n",
       "      <td>0</td>\n",
       "      <td>F</td>\n",
       "      <td>business</td>\n",
       "      <td>0</td>\n",
       "      <td>38484.156</td>\n",
       "      <td>housing transactions</td>\n",
       "    </tr>\n",
       "    <tr>\n",
       "      <th>7</th>\n",
       "      <td>0</td>\n",
       "      <td>-152.779569</td>\n",
       "      <td>50</td>\n",
       "      <td>SECONDARY EDUCATION</td>\n",
       "      <td>1</td>\n",
       "      <td>married</td>\n",
       "      <td>0</td>\n",
       "      <td>M</td>\n",
       "      <td>employee</td>\n",
       "      <td>0</td>\n",
       "      <td>21731.829</td>\n",
       "      <td>education</td>\n",
       "    </tr>\n",
       "    <tr>\n",
       "      <th>8</th>\n",
       "      <td>2</td>\n",
       "      <td>-6929.865299</td>\n",
       "      <td>35</td>\n",
       "      <td>BACHELOR'S DEGREE</td>\n",
       "      <td>0</td>\n",
       "      <td>civil partnership</td>\n",
       "      <td>1</td>\n",
       "      <td>F</td>\n",
       "      <td>employee</td>\n",
       "      <td>0</td>\n",
       "      <td>15337.093</td>\n",
       "      <td>having a wedding</td>\n",
       "    </tr>\n",
       "    <tr>\n",
       "      <th>9</th>\n",
       "      <td>0</td>\n",
       "      <td>-2188.756445</td>\n",
       "      <td>41</td>\n",
       "      <td>secondary education</td>\n",
       "      <td>1</td>\n",
       "      <td>married</td>\n",
       "      <td>0</td>\n",
       "      <td>M</td>\n",
       "      <td>employee</td>\n",
       "      <td>0</td>\n",
       "      <td>23108.150</td>\n",
       "      <td>purchase of the house for my family</td>\n",
       "    </tr>\n",
       "    <tr>\n",
       "      <th>10</th>\n",
       "      <td>2</td>\n",
       "      <td>-4171.483647</td>\n",
       "      <td>36</td>\n",
       "      <td>bachelor's degree</td>\n",
       "      <td>0</td>\n",
       "      <td>married</td>\n",
       "      <td>0</td>\n",
       "      <td>M</td>\n",
       "      <td>business</td>\n",
       "      <td>0</td>\n",
       "      <td>18230.959</td>\n",
       "      <td>buy real estate</td>\n",
       "    </tr>\n",
       "    <tr>\n",
       "      <th>11</th>\n",
       "      <td>0</td>\n",
       "      <td>-792.701887</td>\n",
       "      <td>40</td>\n",
       "      <td>secondary education</td>\n",
       "      <td>1</td>\n",
       "      <td>married</td>\n",
       "      <td>0</td>\n",
       "      <td>F</td>\n",
       "      <td>employee</td>\n",
       "      <td>0</td>\n",
       "      <td>12331.077</td>\n",
       "      <td>buy commercial real estate</td>\n",
       "    </tr>\n",
       "    <tr>\n",
       "      <th>12</th>\n",
       "      <td>0</td>\n",
       "      <td>NaN</td>\n",
       "      <td>65</td>\n",
       "      <td>secondary education</td>\n",
       "      <td>1</td>\n",
       "      <td>civil partnership</td>\n",
       "      <td>1</td>\n",
       "      <td>M</td>\n",
       "      <td>retiree</td>\n",
       "      <td>0</td>\n",
       "      <td>NaN</td>\n",
       "      <td>to have a wedding</td>\n",
       "    </tr>\n",
       "    <tr>\n",
       "      <th>13</th>\n",
       "      <td>0</td>\n",
       "      <td>-1846.641941</td>\n",
       "      <td>54</td>\n",
       "      <td>some college</td>\n",
       "      <td>2</td>\n",
       "      <td>married</td>\n",
       "      <td>0</td>\n",
       "      <td>F</td>\n",
       "      <td>employee</td>\n",
       "      <td>0</td>\n",
       "      <td>20873.317</td>\n",
       "      <td>car purchase</td>\n",
       "    </tr>\n",
       "    <tr>\n",
       "      <th>14</th>\n",
       "      <td>0</td>\n",
       "      <td>-1844.956182</td>\n",
       "      <td>56</td>\n",
       "      <td>bachelor's degree</td>\n",
       "      <td>0</td>\n",
       "      <td>civil partnership</td>\n",
       "      <td>1</td>\n",
       "      <td>F</td>\n",
       "      <td>business</td>\n",
       "      <td>1</td>\n",
       "      <td>26420.466</td>\n",
       "      <td>buy residential real estate</td>\n",
       "    </tr>\n",
       "  </tbody>\n",
       "</table>\n",
       "</div>"
      ],
      "text/plain": [
       "    children  days_employed  dob_years            education  education_id  \\\n",
       "0          1   -8437.673028         42    bachelor's degree             0   \n",
       "1          1   -4024.803754         36  secondary education             1   \n",
       "2          0   -5623.422610         33  Secondary Education             1   \n",
       "3          3   -4124.747207         32  secondary education             1   \n",
       "4          0  340266.072047         53  secondary education             1   \n",
       "5          0    -926.185831         27    bachelor's degree             0   \n",
       "6          0   -2879.202052         43    bachelor's degree             0   \n",
       "7          0    -152.779569         50  SECONDARY EDUCATION             1   \n",
       "8          2   -6929.865299         35    BACHELOR'S DEGREE             0   \n",
       "9          0   -2188.756445         41  secondary education             1   \n",
       "10         2   -4171.483647         36    bachelor's degree             0   \n",
       "11         0    -792.701887         40  secondary education             1   \n",
       "12         0            NaN         65  secondary education             1   \n",
       "13         0   -1846.641941         54         some college             2   \n",
       "14         0   -1844.956182         56    bachelor's degree             0   \n",
       "\n",
       "        family_status  family_status_id gender income_type  debt  \\\n",
       "0             married                 0      F    employee     0   \n",
       "1             married                 0      F    employee     0   \n",
       "2             married                 0      M    employee     0   \n",
       "3             married                 0      M    employee     0   \n",
       "4   civil partnership                 1      F     retiree     0   \n",
       "5   civil partnership                 1      M    business     0   \n",
       "6             married                 0      F    business     0   \n",
       "7             married                 0      M    employee     0   \n",
       "8   civil partnership                 1      F    employee     0   \n",
       "9             married                 0      M    employee     0   \n",
       "10            married                 0      M    business     0   \n",
       "11            married                 0      F    employee     0   \n",
       "12  civil partnership                 1      M     retiree     0   \n",
       "13            married                 0      F    employee     0   \n",
       "14  civil partnership                 1      F    business     1   \n",
       "\n",
       "    total_income                              purpose  \n",
       "0      40620.102                purchase of the house  \n",
       "1      17932.802                         car purchase  \n",
       "2      23341.752                purchase of the house  \n",
       "3      42820.568              supplementary education  \n",
       "4      25378.572                    to have a wedding  \n",
       "5      40922.170                purchase of the house  \n",
       "6      38484.156                 housing transactions  \n",
       "7      21731.829                            education  \n",
       "8      15337.093                     having a wedding  \n",
       "9      23108.150  purchase of the house for my family  \n",
       "10     18230.959                      buy real estate  \n",
       "11     12331.077           buy commercial real estate  \n",
       "12           NaN                    to have a wedding  \n",
       "13     20873.317                         car purchase  \n",
       "14     26420.466          buy residential real estate  "
      ]
     },
     "execution_count": 6,
     "metadata": {},
     "output_type": "execute_result"
    }
   ],
   "source": [
    "# Mari tampilkan N baris pertama\n",
    "data.head(15)"
   ]
  },
  {
   "cell_type": "markdown",
   "id": "e7d87042",
   "metadata": {},
   "source": [
    "Dari data sampel diatas terdapat beberapa masalah yaitu :\n",
    "\n",
    "1. Pada data ini tidak memiliki informasi identitas pada tiap barisnya.\n",
    "2. Pada kolom 'days_employed' , di dalam baris datanya memiliki nilai positif (+) dan negatif (-). seharusnya hanya nilai positif saja.\n",
    "3. Pada kolom 'days_employed' memiliki data 'Nan' / hilang.\n",
    "4. Pada kolom 'education', format penulisan di dalam baris data tidak seragam.\n",
    "5. Pada kolom 'total_income\", memiliki data 'Nan' / hilang.\n",
    "\n",
    "\n",
    "\n"
   ]
  },
  {
   "cell_type": "code",
   "execution_count": 7,
   "id": "f0259941",
   "metadata": {
    "scrolled": false
   },
   "outputs": [
    {
     "name": "stdout",
     "output_type": "stream",
     "text": [
      "<class 'pandas.core.frame.DataFrame'>\n",
      "RangeIndex: 21525 entries, 0 to 21524\n",
      "Data columns (total 12 columns):\n",
      " #   Column            Non-Null Count  Dtype  \n",
      "---  ------            --------------  -----  \n",
      " 0   children          21525 non-null  int64  \n",
      " 1   days_employed     19351 non-null  float64\n",
      " 2   dob_years         21525 non-null  int64  \n",
      " 3   education         21525 non-null  object \n",
      " 4   education_id      21525 non-null  int64  \n",
      " 5   family_status     21525 non-null  object \n",
      " 6   family_status_id  21525 non-null  int64  \n",
      " 7   gender            21525 non-null  object \n",
      " 8   income_type       21525 non-null  object \n",
      " 9   debt              21525 non-null  int64  \n",
      " 10  total_income      19351 non-null  float64\n",
      " 11  purpose           21525 non-null  object \n",
      "dtypes: float64(2), int64(5), object(5)\n",
      "memory usage: 2.0+ MB\n"
     ]
    }
   ],
   "source": [
    "# Dapatkan informasi data\n",
    "data.info()"
   ]
  },
  {
   "cell_type": "markdown",
   "id": "16ad99ee",
   "metadata": {},
   "source": [
    "Jumlah baris data pada kolom 'days_employed' dan 'total_income' tidak sama dengan total baris data.\n"
   ]
  },
  {
   "cell_type": "code",
   "execution_count": 8,
   "id": "0d75e65a",
   "metadata": {
    "scrolled": false
   },
   "outputs": [
    {
     "data": {
      "text/plain": [
       "children               0\n",
       "days_employed       2174\n",
       "dob_years              0\n",
       "education              0\n",
       "education_id           0\n",
       "family_status          0\n",
       "family_status_id       0\n",
       "gender                 0\n",
       "income_type            0\n",
       "debt                   0\n",
       "total_income        2174\n",
       "purpose                0\n",
       "dtype: int64"
      ]
     },
     "execution_count": 8,
     "metadata": {},
     "output_type": "execute_result"
    }
   ],
   "source": [
    "# Mari kita lihat tabel yang telah difilter dengan nilai yang hilang di kolom pertama yang mengandung data yang hilang\n",
    "\n",
    "data.isna().sum()"
   ]
  },
  {
   "cell_type": "markdown",
   "id": "47bcea58",
   "metadata": {},
   "source": [
    "Jumlah baris nilai yang hilang tampak simetris di kedua kolom, namun bukan berarti setiap nilai yang hilang di kolom 'days_employed' dan 'total_income' berada di baris yang sama. \n",
    "\n"
   ]
  },
  {
   "cell_type": "code",
   "execution_count": 9,
   "id": "7af4a614",
   "metadata": {},
   "outputs": [
    {
     "data": {
      "text/plain": [
       "2174"
      ]
     },
     "execution_count": 9,
     "metadata": {},
     "output_type": "execute_result"
    }
   ],
   "source": [
    "# Mari kita terapkan beberapa kondisi untuk memfilter data dan melihat jumlah baris dalam tabel yang telah difilter.\n",
    "\n",
    "((data['days_employed'].isna()) & (data['total_income'].isna())).sum()"
   ]
  },
  {
   "cell_type": "markdown",
   "id": "0dfa973d",
   "metadata": {},
   "source": [
    "**Kesimpulan sementara**\n",
    "\n",
    "Jumlah baris yang telah di filter sama dengan baris nilai yang hilang, maka setiap baris yang memiliki nilai yang hilang pada kolom 'days_employed' juga memiliki nilai yang hilang pada kolom 'total_income'.\n",
    "\n",
    "Persentase jumlah baris nilai yang hilang sebesar 10% dari total baris data.\n"
   ]
  },
  {
   "cell_type": "code",
   "execution_count": 10,
   "id": "892b3a97",
   "metadata": {},
   "outputs": [
    {
     "data": {
      "text/html": [
       "<div>\n",
       "<style scoped>\n",
       "    .dataframe tbody tr th:only-of-type {\n",
       "        vertical-align: middle;\n",
       "    }\n",
       "\n",
       "    .dataframe tbody tr th {\n",
       "        vertical-align: top;\n",
       "    }\n",
       "\n",
       "    .dataframe thead th {\n",
       "        text-align: right;\n",
       "    }\n",
       "</style>\n",
       "<table border=\"1\" class=\"dataframe\">\n",
       "  <thead>\n",
       "    <tr style=\"text-align: right;\">\n",
       "      <th></th>\n",
       "      <th>children</th>\n",
       "      <th>days_employed</th>\n",
       "      <th>dob_years</th>\n",
       "      <th>education</th>\n",
       "      <th>education_id</th>\n",
       "      <th>family_status</th>\n",
       "      <th>family_status_id</th>\n",
       "      <th>gender</th>\n",
       "      <th>income_type</th>\n",
       "      <th>debt</th>\n",
       "      <th>total_income</th>\n",
       "      <th>purpose</th>\n",
       "    </tr>\n",
       "  </thead>\n",
       "  <tbody>\n",
       "    <tr>\n",
       "      <th>12</th>\n",
       "      <td>0</td>\n",
       "      <td>NaN</td>\n",
       "      <td>65</td>\n",
       "      <td>secondary education</td>\n",
       "      <td>1</td>\n",
       "      <td>civil partnership</td>\n",
       "      <td>1</td>\n",
       "      <td>M</td>\n",
       "      <td>retiree</td>\n",
       "      <td>0</td>\n",
       "      <td>NaN</td>\n",
       "      <td>to have a wedding</td>\n",
       "    </tr>\n",
       "    <tr>\n",
       "      <th>26</th>\n",
       "      <td>0</td>\n",
       "      <td>NaN</td>\n",
       "      <td>41</td>\n",
       "      <td>secondary education</td>\n",
       "      <td>1</td>\n",
       "      <td>married</td>\n",
       "      <td>0</td>\n",
       "      <td>M</td>\n",
       "      <td>civil servant</td>\n",
       "      <td>0</td>\n",
       "      <td>NaN</td>\n",
       "      <td>education</td>\n",
       "    </tr>\n",
       "    <tr>\n",
       "      <th>29</th>\n",
       "      <td>0</td>\n",
       "      <td>NaN</td>\n",
       "      <td>63</td>\n",
       "      <td>secondary education</td>\n",
       "      <td>1</td>\n",
       "      <td>unmarried</td>\n",
       "      <td>4</td>\n",
       "      <td>F</td>\n",
       "      <td>retiree</td>\n",
       "      <td>0</td>\n",
       "      <td>NaN</td>\n",
       "      <td>building a real estate</td>\n",
       "    </tr>\n",
       "    <tr>\n",
       "      <th>41</th>\n",
       "      <td>0</td>\n",
       "      <td>NaN</td>\n",
       "      <td>50</td>\n",
       "      <td>secondary education</td>\n",
       "      <td>1</td>\n",
       "      <td>married</td>\n",
       "      <td>0</td>\n",
       "      <td>F</td>\n",
       "      <td>civil servant</td>\n",
       "      <td>0</td>\n",
       "      <td>NaN</td>\n",
       "      <td>second-hand car purchase</td>\n",
       "    </tr>\n",
       "    <tr>\n",
       "      <th>55</th>\n",
       "      <td>0</td>\n",
       "      <td>NaN</td>\n",
       "      <td>54</td>\n",
       "      <td>secondary education</td>\n",
       "      <td>1</td>\n",
       "      <td>civil partnership</td>\n",
       "      <td>1</td>\n",
       "      <td>F</td>\n",
       "      <td>retiree</td>\n",
       "      <td>1</td>\n",
       "      <td>NaN</td>\n",
       "      <td>to have a wedding</td>\n",
       "    </tr>\n",
       "    <tr>\n",
       "      <th>65</th>\n",
       "      <td>0</td>\n",
       "      <td>NaN</td>\n",
       "      <td>21</td>\n",
       "      <td>secondary education</td>\n",
       "      <td>1</td>\n",
       "      <td>unmarried</td>\n",
       "      <td>4</td>\n",
       "      <td>M</td>\n",
       "      <td>business</td>\n",
       "      <td>0</td>\n",
       "      <td>NaN</td>\n",
       "      <td>transactions with commercial real estate</td>\n",
       "    </tr>\n",
       "    <tr>\n",
       "      <th>67</th>\n",
       "      <td>0</td>\n",
       "      <td>NaN</td>\n",
       "      <td>52</td>\n",
       "      <td>bachelor's degree</td>\n",
       "      <td>0</td>\n",
       "      <td>married</td>\n",
       "      <td>0</td>\n",
       "      <td>F</td>\n",
       "      <td>retiree</td>\n",
       "      <td>0</td>\n",
       "      <td>NaN</td>\n",
       "      <td>purchase of the house for my family</td>\n",
       "    </tr>\n",
       "    <tr>\n",
       "      <th>72</th>\n",
       "      <td>1</td>\n",
       "      <td>NaN</td>\n",
       "      <td>32</td>\n",
       "      <td>bachelor's degree</td>\n",
       "      <td>0</td>\n",
       "      <td>married</td>\n",
       "      <td>0</td>\n",
       "      <td>M</td>\n",
       "      <td>civil servant</td>\n",
       "      <td>0</td>\n",
       "      <td>NaN</td>\n",
       "      <td>transactions with commercial real estate</td>\n",
       "    </tr>\n",
       "    <tr>\n",
       "      <th>82</th>\n",
       "      <td>2</td>\n",
       "      <td>NaN</td>\n",
       "      <td>50</td>\n",
       "      <td>bachelor's degree</td>\n",
       "      <td>0</td>\n",
       "      <td>married</td>\n",
       "      <td>0</td>\n",
       "      <td>F</td>\n",
       "      <td>employee</td>\n",
       "      <td>0</td>\n",
       "      <td>NaN</td>\n",
       "      <td>housing</td>\n",
       "    </tr>\n",
       "    <tr>\n",
       "      <th>83</th>\n",
       "      <td>0</td>\n",
       "      <td>NaN</td>\n",
       "      <td>52</td>\n",
       "      <td>secondary education</td>\n",
       "      <td>1</td>\n",
       "      <td>married</td>\n",
       "      <td>0</td>\n",
       "      <td>M</td>\n",
       "      <td>employee</td>\n",
       "      <td>0</td>\n",
       "      <td>NaN</td>\n",
       "      <td>housing</td>\n",
       "    </tr>\n",
       "    <tr>\n",
       "      <th>90</th>\n",
       "      <td>2</td>\n",
       "      <td>NaN</td>\n",
       "      <td>35</td>\n",
       "      <td>bachelor's degree</td>\n",
       "      <td>0</td>\n",
       "      <td>married</td>\n",
       "      <td>0</td>\n",
       "      <td>F</td>\n",
       "      <td>employee</td>\n",
       "      <td>0</td>\n",
       "      <td>NaN</td>\n",
       "      <td>housing transactions</td>\n",
       "    </tr>\n",
       "    <tr>\n",
       "      <th>94</th>\n",
       "      <td>1</td>\n",
       "      <td>NaN</td>\n",
       "      <td>34</td>\n",
       "      <td>bachelor's degree</td>\n",
       "      <td>0</td>\n",
       "      <td>civil partnership</td>\n",
       "      <td>1</td>\n",
       "      <td>F</td>\n",
       "      <td>business</td>\n",
       "      <td>0</td>\n",
       "      <td>NaN</td>\n",
       "      <td>having a wedding</td>\n",
       "    </tr>\n",
       "    <tr>\n",
       "      <th>96</th>\n",
       "      <td>0</td>\n",
       "      <td>NaN</td>\n",
       "      <td>44</td>\n",
       "      <td>SECONDARY EDUCATION</td>\n",
       "      <td>1</td>\n",
       "      <td>married</td>\n",
       "      <td>0</td>\n",
       "      <td>F</td>\n",
       "      <td>employee</td>\n",
       "      <td>0</td>\n",
       "      <td>NaN</td>\n",
       "      <td>buy residential real estate</td>\n",
       "    </tr>\n",
       "    <tr>\n",
       "      <th>97</th>\n",
       "      <td>0</td>\n",
       "      <td>NaN</td>\n",
       "      <td>47</td>\n",
       "      <td>bachelor's degree</td>\n",
       "      <td>0</td>\n",
       "      <td>married</td>\n",
       "      <td>0</td>\n",
       "      <td>F</td>\n",
       "      <td>employee</td>\n",
       "      <td>0</td>\n",
       "      <td>NaN</td>\n",
       "      <td>profile education</td>\n",
       "    </tr>\n",
       "    <tr>\n",
       "      <th>120</th>\n",
       "      <td>0</td>\n",
       "      <td>NaN</td>\n",
       "      <td>46</td>\n",
       "      <td>secondary education</td>\n",
       "      <td>1</td>\n",
       "      <td>married</td>\n",
       "      <td>0</td>\n",
       "      <td>F</td>\n",
       "      <td>employee</td>\n",
       "      <td>0</td>\n",
       "      <td>NaN</td>\n",
       "      <td>university education</td>\n",
       "    </tr>\n",
       "  </tbody>\n",
       "</table>\n",
       "</div>"
      ],
      "text/plain": [
       "     children  days_employed  dob_years            education  education_id  \\\n",
       "12          0            NaN         65  secondary education             1   \n",
       "26          0            NaN         41  secondary education             1   \n",
       "29          0            NaN         63  secondary education             1   \n",
       "41          0            NaN         50  secondary education             1   \n",
       "55          0            NaN         54  secondary education             1   \n",
       "65          0            NaN         21  secondary education             1   \n",
       "67          0            NaN         52    bachelor's degree             0   \n",
       "72          1            NaN         32    bachelor's degree             0   \n",
       "82          2            NaN         50    bachelor's degree             0   \n",
       "83          0            NaN         52  secondary education             1   \n",
       "90          2            NaN         35    bachelor's degree             0   \n",
       "94          1            NaN         34    bachelor's degree             0   \n",
       "96          0            NaN         44  SECONDARY EDUCATION             1   \n",
       "97          0            NaN         47    bachelor's degree             0   \n",
       "120         0            NaN         46  secondary education             1   \n",
       "\n",
       "         family_status  family_status_id gender    income_type  debt  \\\n",
       "12   civil partnership                 1      M        retiree     0   \n",
       "26             married                 0      M  civil servant     0   \n",
       "29           unmarried                 4      F        retiree     0   \n",
       "41             married                 0      F  civil servant     0   \n",
       "55   civil partnership                 1      F        retiree     1   \n",
       "65           unmarried                 4      M       business     0   \n",
       "67             married                 0      F        retiree     0   \n",
       "72             married                 0      M  civil servant     0   \n",
       "82             married                 0      F       employee     0   \n",
       "83             married                 0      M       employee     0   \n",
       "90             married                 0      F       employee     0   \n",
       "94   civil partnership                 1      F       business     0   \n",
       "96             married                 0      F       employee     0   \n",
       "97             married                 0      F       employee     0   \n",
       "120            married                 0      F       employee     0   \n",
       "\n",
       "     total_income                                   purpose  \n",
       "12            NaN                         to have a wedding  \n",
       "26            NaN                                 education  \n",
       "29            NaN                    building a real estate  \n",
       "41            NaN                  second-hand car purchase  \n",
       "55            NaN                         to have a wedding  \n",
       "65            NaN  transactions with commercial real estate  \n",
       "67            NaN       purchase of the house for my family  \n",
       "72            NaN  transactions with commercial real estate  \n",
       "82            NaN                                   housing  \n",
       "83            NaN                                   housing  \n",
       "90            NaN                      housing transactions  \n",
       "94            NaN                          having a wedding  \n",
       "96            NaN               buy residential real estate  \n",
       "97            NaN                         profile education  \n",
       "120           NaN                      university education  "
      ]
     },
     "execution_count": 10,
     "metadata": {},
     "output_type": "execute_result"
    }
   ],
   "source": [
    "# Mari kita periksa nasabah yang tidak memiliki data tentang karakteristik yang teridentifikasi dan kolom dengan nilai yang hilang\n",
    "incomplete_data = data[(data['days_employed'].isna()) & (data['total_income'].isna())]\n",
    "\n",
    "incomplete_data.head(15)"
   ]
  },
  {
   "cell_type": "code",
   "execution_count": 11,
   "id": "37330dd0",
   "metadata": {},
   "outputs": [
    {
     "data": {
      "text/plain": [
       "income_type\n",
       "employee         1105\n",
       "business          508\n",
       "retiree           413\n",
       "civil servant     147\n",
       "entrepreneur        1\n",
       "Name: count, dtype: int64"
      ]
     },
     "execution_count": 11,
     "metadata": {},
     "output_type": "execute_result"
    }
   ],
   "source": [
    "# Periksalah distribusinya\n",
    "incomplete_data['income_type'].value_counts()"
   ]
  },
  {
   "cell_type": "markdown",
   "id": "ecd2f292",
   "metadata": {},
   "source": [
    "Data nasabah yang memiliki nilai yang hilang paling banyak bekerja sebagai karyawan ('employee')\n",
    "\n",
    "\n",
    "**Kemungkinan penyebab hilangnya nilai dalam data**\n",
    "\n",
    "Kemungkinan nilai pada kolom 'days_employed' dan 'total_income' tidak di isi pada saat pengajuan pinjaman. Karena tidak mungkin jika nasabah yang memiliki pekerjaan sebagai karyawan ('employee') tidak memiliki pendapatan per bulan nya ('total_income').\n"
   ]
  },
  {
   "cell_type": "code",
   "execution_count": 12,
   "id": "c36e08a7",
   "metadata": {
    "scrolled": true
   },
   "outputs": [
    {
     "data": {
      "text/plain": [
       "income_type\n",
       "employee                       11119\n",
       "business                        5085\n",
       "retiree                         3856\n",
       "civil servant                   1459\n",
       "unemployed                         2\n",
       "entrepreneur                       2\n",
       "student                            1\n",
       "paternity / maternity leave        1\n",
       "Name: count, dtype: int64"
      ]
     },
     "execution_count": 12,
     "metadata": {},
     "output_type": "execute_result"
    }
   ],
   "source": [
    "# Memeriksa distribusi di seluruh *dataset*\n",
    "data['income_type'].value_counts()\n"
   ]
  },
  {
   "cell_type": "markdown",
   "id": "89ae5cbf",
   "metadata": {},
   "source": [
    "**Kesimpulan sementara**\n",
    "\n",
    "Distribusi data nilai yang hilang mirip dengan distribusi dataset asli. Data dengan nilai yang hilang terdistribusi di 5 jumlah baris kategori 'income_type' tertinggi."
   ]
  },
  {
   "cell_type": "code",
   "execution_count": 13,
   "id": "21cd13c0",
   "metadata": {},
   "outputs": [
    {
     "name": "stdout",
     "output_type": "stream",
     "text": [
      "Persentase nasabah gagal bayar dari data yang memiliki nilai yang hilang 7.82%\n",
      "Persentase nasabah gagal bayar dari total baris dataset asli 8.09%\n"
     ]
    }
   ],
   "source": [
    "# Periksa penyebab dan pola lain yang dapat mengakibatkan nilai yang hilang\n",
    "incomplete_data_debt_count = incomplete_data[(incomplete_data['debt'] == 1)]['purpose'].count()\n",
    "incomplete_data_debt_total = incomplete_data['purpose'].count()\n",
    "incomplete_data_debt_percentage = incomplete_data_debt_count / incomplete_data_debt_total\n",
    "\n",
    "data_debt_count = data[(data['debt'] == 1)]['purpose'].count()\n",
    "data_row_total = data['purpose'].count()\n",
    "data_debt_percentage = data_debt_count / data_row_total\n",
    "\n",
    "print(f\"Persentase nasabah gagal bayar dari data yang memiliki nilai yang hilang {incomplete_data_debt_percentage:.2%}\")\n",
    "print(f\"Persentase nasabah gagal bayar dari total baris dataset asli {data_debt_percentage:.2%}\")"
   ]
  },
  {
   "cell_type": "markdown",
   "id": "46b5bf41",
   "metadata": {},
   "source": [
    "**Kesimpulan sementara**\n",
    "\n",
    "Persentase data nasabah gagal bayar mirip antara data yang memiliki nilai yang hilang sebesar 7.82% dengan dataset asli sebesar 8.09%. \n"
   ]
  },
  {
   "cell_type": "code",
   "execution_count": 14,
   "id": "eb4f29df",
   "metadata": {
    "scrolled": false
   },
   "outputs": [
    {
     "data": {
      "text/html": [
       "<div>\n",
       "<style scoped>\n",
       "    .dataframe tbody tr th:only-of-type {\n",
       "        vertical-align: middle;\n",
       "    }\n",
       "\n",
       "    .dataframe tbody tr th {\n",
       "        vertical-align: top;\n",
       "    }\n",
       "\n",
       "    .dataframe thead th {\n",
       "        text-align: right;\n",
       "    }\n",
       "</style>\n",
       "<table border=\"1\" class=\"dataframe\">\n",
       "  <thead>\n",
       "    <tr style=\"text-align: right;\">\n",
       "      <th></th>\n",
       "      <th>children</th>\n",
       "      <th>days_employed</th>\n",
       "      <th>dob_years</th>\n",
       "      <th>education_id</th>\n",
       "      <th>family_status_id</th>\n",
       "      <th>debt</th>\n",
       "      <th>total_income</th>\n",
       "    </tr>\n",
       "  </thead>\n",
       "  <tbody>\n",
       "    <tr>\n",
       "      <th>count</th>\n",
       "      <td>21525.000000</td>\n",
       "      <td>19351.000000</td>\n",
       "      <td>21525.000000</td>\n",
       "      <td>21525.000000</td>\n",
       "      <td>21525.000000</td>\n",
       "      <td>21525.000000</td>\n",
       "      <td>19351.000000</td>\n",
       "    </tr>\n",
       "    <tr>\n",
       "      <th>mean</th>\n",
       "      <td>0.538908</td>\n",
       "      <td>63046.497661</td>\n",
       "      <td>43.293380</td>\n",
       "      <td>0.817236</td>\n",
       "      <td>0.972544</td>\n",
       "      <td>0.080883</td>\n",
       "      <td>26787.568355</td>\n",
       "    </tr>\n",
       "    <tr>\n",
       "      <th>std</th>\n",
       "      <td>1.381587</td>\n",
       "      <td>140827.311974</td>\n",
       "      <td>12.574584</td>\n",
       "      <td>0.548138</td>\n",
       "      <td>1.420324</td>\n",
       "      <td>0.272661</td>\n",
       "      <td>16475.450632</td>\n",
       "    </tr>\n",
       "    <tr>\n",
       "      <th>min</th>\n",
       "      <td>-1.000000</td>\n",
       "      <td>-18388.949901</td>\n",
       "      <td>0.000000</td>\n",
       "      <td>0.000000</td>\n",
       "      <td>0.000000</td>\n",
       "      <td>0.000000</td>\n",
       "      <td>3306.762000</td>\n",
       "    </tr>\n",
       "    <tr>\n",
       "      <th>25%</th>\n",
       "      <td>0.000000</td>\n",
       "      <td>-2747.423625</td>\n",
       "      <td>33.000000</td>\n",
       "      <td>1.000000</td>\n",
       "      <td>0.000000</td>\n",
       "      <td>0.000000</td>\n",
       "      <td>16488.504500</td>\n",
       "    </tr>\n",
       "    <tr>\n",
       "      <th>50%</th>\n",
       "      <td>0.000000</td>\n",
       "      <td>-1203.369529</td>\n",
       "      <td>42.000000</td>\n",
       "      <td>1.000000</td>\n",
       "      <td>0.000000</td>\n",
       "      <td>0.000000</td>\n",
       "      <td>23202.870000</td>\n",
       "    </tr>\n",
       "    <tr>\n",
       "      <th>75%</th>\n",
       "      <td>1.000000</td>\n",
       "      <td>-291.095954</td>\n",
       "      <td>53.000000</td>\n",
       "      <td>1.000000</td>\n",
       "      <td>1.000000</td>\n",
       "      <td>0.000000</td>\n",
       "      <td>32549.611000</td>\n",
       "    </tr>\n",
       "    <tr>\n",
       "      <th>max</th>\n",
       "      <td>20.000000</td>\n",
       "      <td>401755.400475</td>\n",
       "      <td>75.000000</td>\n",
       "      <td>4.000000</td>\n",
       "      <td>4.000000</td>\n",
       "      <td>1.000000</td>\n",
       "      <td>362496.645000</td>\n",
       "    </tr>\n",
       "  </tbody>\n",
       "</table>\n",
       "</div>"
      ],
      "text/plain": [
       "           children  days_employed     dob_years  education_id  \\\n",
       "count  21525.000000   19351.000000  21525.000000  21525.000000   \n",
       "mean       0.538908   63046.497661     43.293380      0.817236   \n",
       "std        1.381587  140827.311974     12.574584      0.548138   \n",
       "min       -1.000000  -18388.949901      0.000000      0.000000   \n",
       "25%        0.000000   -2747.423625     33.000000      1.000000   \n",
       "50%        0.000000   -1203.369529     42.000000      1.000000   \n",
       "75%        1.000000    -291.095954     53.000000      1.000000   \n",
       "max       20.000000  401755.400475     75.000000      4.000000   \n",
       "\n",
       "       family_status_id          debt   total_income  \n",
       "count      21525.000000  21525.000000   19351.000000  \n",
       "mean           0.972544      0.080883   26787.568355  \n",
       "std            1.420324      0.272661   16475.450632  \n",
       "min            0.000000      0.000000    3306.762000  \n",
       "25%            0.000000      0.000000   16488.504500  \n",
       "50%            0.000000      0.000000   23202.870000  \n",
       "75%            1.000000      0.000000   32549.611000  \n",
       "max            4.000000      1.000000  362496.645000  "
      ]
     },
     "execution_count": 14,
     "metadata": {},
     "output_type": "execute_result"
    }
   ],
   "source": [
    "# Periksa pola lainnya - jelaskan pola tersebut\n",
    "data.describe()"
   ]
  },
  {
   "cell_type": "markdown",
   "id": "2d275386",
   "metadata": {},
   "source": [
    "**Kesimpulan**\n",
    "\n",
    "Data yang memiliki nilai yang hilang selain memiliki distribusi data di kategori 'income_type' yang sama dengan dataset asli, juga memiliki persentase nasabah gagal bayar yang serupa.\n",
    "\n",
    "Terdapat 2 kemungkinan terjadinya hal ini :\n",
    "\n",
    "1. Data di kolom 'days_employed' & 'total_income' tidak di input.\n",
    "2. Terjadi error dalam proses tarik data di dataset asli sehingga menimbulkan nilai Nan. Selain itu data di kolom 'days_employed' juga memiliki nilai negatif.\n",
    "\n",
    "Untuk mengatasi nilai yang hilang pada kolom 'days_employed' dan 'total_income' akan di isi dengan nilai rata - rata atau median.\n",
    "\n",
    "Langkah selanjutnya untuk mentransformasi data :\n",
    "1. Memeriksa dan memperbaiki nilai di setiap kolom data jika diperlukan.\n",
    "2. Memeriksa dan menghapus data duplikat jika diperlukan.\n",
    "3. Memperbaiki nilai yang hilang."
   ]
  },
  {
   "cell_type": "markdown",
   "id": "4139098e",
   "metadata": {},
   "source": [
    "## Transformasi data"
   ]
  },
  {
   "cell_type": "code",
   "execution_count": 15,
   "id": "3ab33287",
   "metadata": {},
   "outputs": [
    {
     "data": {
      "text/plain": [
       "array([\"bachelor's degree\", 'secondary education', 'Secondary Education',\n",
       "       'SECONDARY EDUCATION', \"BACHELOR'S DEGREE\", 'some college',\n",
       "       'primary education', \"Bachelor's Degree\", 'SOME COLLEGE',\n",
       "       'Some College', 'PRIMARY EDUCATION', 'Primary Education',\n",
       "       'Graduate Degree', 'GRADUATE DEGREE', 'graduate degree'],\n",
       "      dtype=object)"
      ]
     },
     "execution_count": 15,
     "metadata": {},
     "output_type": "execute_result"
    }
   ],
   "source": [
    "# Mari kita lihat semua nilai di kolom pendidikan untuk memeriksa ejaan apa yang perlu diperbaiki\n",
    "data['education'].unique()\n"
   ]
  },
  {
   "cell_type": "code",
   "execution_count": 16,
   "id": "3b31d6a7",
   "metadata": {
    "scrolled": true
   },
   "outputs": [],
   "source": [
    "# Perbaiki pencatatan jika diperlukan\n",
    "data['education'] = data['education'].str.lower()\n",
    "\n"
   ]
  },
  {
   "cell_type": "code",
   "execution_count": 17,
   "id": "8c104058",
   "metadata": {},
   "outputs": [
    {
     "data": {
      "text/plain": [
       "array([\"bachelor's degree\", 'secondary education', 'some college',\n",
       "       'primary education', 'graduate degree'], dtype=object)"
      ]
     },
     "execution_count": 17,
     "metadata": {},
     "output_type": "execute_result"
    }
   ],
   "source": [
    "# Periksa semua nilai di kolom untuk memastikan bahwa kita telah memperbaikinya dengan tepat\n",
    "data['education'].unique()"
   ]
  },
  {
   "cell_type": "markdown",
   "id": "ead8d99f",
   "metadata": {},
   "source": [
    "[Periksa data kolom `children`]"
   ]
  },
  {
   "cell_type": "code",
   "execution_count": 18,
   "id": "1fbae2ba",
   "metadata": {},
   "outputs": [
    {
     "data": {
      "text/plain": [
       "count    21525.000000\n",
       "mean         0.538908\n",
       "std          1.381587\n",
       "min         -1.000000\n",
       "25%          0.000000\n",
       "50%          0.000000\n",
       "75%          1.000000\n",
       "max         20.000000\n",
       "Name: children, dtype: float64"
      ]
     },
     "execution_count": 18,
     "metadata": {},
     "output_type": "execute_result"
    }
   ],
   "source": [
    "# Mari kita lihat distribusi nilai pada kolom `children`\n",
    "data['children'].describe()"
   ]
  },
  {
   "cell_type": "markdown",
   "id": "10b76f7e",
   "metadata": {},
   "source": [
    "Nilai data yang terdapat di kolom 'children', memiliki nilai yang tidak wajar.\n",
    "Data memiliki jumlah anak -1, dan jumlah anak maximum 20."
   ]
  },
  {
   "cell_type": "code",
   "execution_count": 19,
   "id": "98f92f3c",
   "metadata": {
    "scrolled": false
   },
   "outputs": [
    {
     "data": {
      "text/plain": [
       "children\n",
       "-1        47\n",
       " 0     14149\n",
       " 1      4818\n",
       " 2      2055\n",
       " 3       330\n",
       " 4        41\n",
       " 5         9\n",
       " 20       76\n",
       "Name: purpose, dtype: int64"
      ]
     },
     "execution_count": 19,
     "metadata": {},
     "output_type": "execute_result"
    }
   ],
   "source": [
    "data.groupby('children')['purpose'].count()"
   ]
  },
  {
   "cell_type": "markdown",
   "id": "aa598fa3",
   "metadata": {},
   "source": [
    "Jika baris data dikelompokkan berdasarkan jumlah anak : \n",
    "1. Data yang memiliki jumlah anak -1 sebanyak 47 baris. Data yang memiliki nilai negatif ini akan dirubah menjadi nilai 1 (positif). Kemungkinan karena adanya salah penulisan data menjadi nilai negatif.\n",
    "2. Data yang memiliki jumlah anak 20 sebanyak 76 baris. Data yang memiliki nilai maximum ini akan dirubah menjadi nilai maximum data yang wajar yaitu 5. Karena tidak mungkin untuk mengecek data secara detail apakah memang benar nasabah memiliki anak sejumlah ini dan tidak diketahui kenapa nilainya begitu besar. "
   ]
  },
  {
   "cell_type": "code",
   "execution_count": 20,
   "id": "d6dab50d",
   "metadata": {},
   "outputs": [],
   "source": [
    "# [perbaiki data berdasarkan keputusan Anda]\n",
    "data.loc[data['children'] == -1, 'children'] = 1\n",
    "data.loc[data['children'] == 20, 'children'] = 5"
   ]
  },
  {
   "cell_type": "code",
   "execution_count": 21,
   "id": "e920207e",
   "metadata": {},
   "outputs": [
    {
     "data": {
      "text/plain": [
       "children\n",
       "0    14149\n",
       "1     4865\n",
       "2     2055\n",
       "3      330\n",
       "4       41\n",
       "5       85\n",
       "Name: purpose, dtype: int64"
      ]
     },
     "execution_count": 21,
     "metadata": {},
     "output_type": "execute_result"
    }
   ],
   "source": [
    "# Periksa kembali kolom `children` untuk memastikan bahwa semuanya telah diperbaiki\n",
    "data.groupby('children')['purpose'].count()\n"
   ]
  },
  {
   "cell_type": "code",
   "execution_count": 22,
   "id": "b387a7d9",
   "metadata": {
    "scrolled": false
   },
   "outputs": [
    {
     "data": {
      "text/plain": [
       "count     19351.000000\n",
       "mean      63046.497661\n",
       "std      140827.311974\n",
       "min      -18388.949901\n",
       "25%       -2747.423625\n",
       "50%       -1203.369529\n",
       "75%        -291.095954\n",
       "max      401755.400475\n",
       "Name: days_employed, dtype: float64"
      ]
     },
     "execution_count": 22,
     "metadata": {},
     "output_type": "execute_result"
    }
   ],
   "source": [
    "# Temukan data yang bermasalah di kolom `days_employed` jika memang terdapat masalah, dan hitung persentasenya\n",
    "data['days_employed'].describe()\n"
   ]
  },
  {
   "cell_type": "code",
   "execution_count": 23,
   "id": "6d6e312a",
   "metadata": {},
   "outputs": [
    {
     "name": "stdout",
     "output_type": "stream",
     "text": [
      "Jumlah baris data yang memiliki nilai negatif 15906 baris, 73.90% dari total baris data\n"
     ]
    }
   ],
   "source": [
    "negative_days_employed_count = data[(data['days_employed'] < 0)]['purpose'].count()\n",
    "negative_days_employed_percentage = negative_days_employed_count / data_row_total\n",
    "print(f\"Jumlah baris data yang memiliki nilai negatif {negative_days_employed_count} baris, {negative_days_employed_percentage:.2%} dari total baris data\")"
   ]
  },
  {
   "cell_type": "markdown",
   "id": "04669a57",
   "metadata": {},
   "source": [
    "Kolom 'days_employed' memiliki nilai data negatif dengan jumlah besar. kemungkinan disebabkan oleh error di dataset. karena tidak mungkin untuk menghitung secara manual nilai yang sebenarnya, maka nilai negatif ini akan dirubah menjadi positif."
   ]
  },
  {
   "cell_type": "code",
   "execution_count": 24,
   "id": "0f212ac7",
   "metadata": {},
   "outputs": [],
   "source": [
    "# Atasi nilai yang bermasalah, jika ada\n",
    "data['days_employed'] = data['days_employed'].abs()\n"
   ]
  },
  {
   "cell_type": "code",
   "execution_count": 25,
   "id": "21833a25",
   "metadata": {},
   "outputs": [
    {
     "data": {
      "text/plain": [
       "0"
      ]
     },
     "execution_count": 25,
     "metadata": {},
     "output_type": "execute_result"
    }
   ],
   "source": [
    "# Periksa hasilnya - pastikan bahwa masalahnya telah diperbaiki\n",
    "data[(data['days_employed'] < 0)]['purpose'].count()"
   ]
  },
  {
   "cell_type": "code",
   "execution_count": 26,
   "id": "59f07abc",
   "metadata": {
    "scrolled": true
   },
   "outputs": [
    {
     "data": {
      "text/plain": [
       "count    21525.000000\n",
       "mean        43.293380\n",
       "std         12.574584\n",
       "min          0.000000\n",
       "25%         33.000000\n",
       "50%         42.000000\n",
       "75%         53.000000\n",
       "max         75.000000\n",
       "Name: dob_years, dtype: float64"
      ]
     },
     "execution_count": 26,
     "metadata": {},
     "output_type": "execute_result"
    }
   ],
   "source": [
    "# Periksa `dob_years` untuk nilai yang mencurigakan dan hitung persentasenya\n",
    "data['dob_years'].describe()\n"
   ]
  },
  {
   "cell_type": "code",
   "execution_count": 27,
   "id": "4d334146",
   "metadata": {},
   "outputs": [
    {
     "name": "stdout",
     "output_type": "stream",
     "text": [
      "'zero_dob_years' yang memiliki nilai 0 sebanyak 101 baris, 0.47% dari total baris data\n",
      "Rata -rata umur nasabah 43.29, Median umur nasabah 42.0\n"
     ]
    }
   ],
   "source": [
    "zero_dob_years = data[(data['dob_years'] == 0)]['purpose'].count()\n",
    "total_data_row = data['purpose'].count()\n",
    "percentage = (zero_dob_years / total_data_row)\n",
    "dob_years_avg = data['dob_years'].mean()\n",
    "dob_years_median = data['dob_years'].median()\n",
    "print(f\"'zero_dob_years' yang memiliki nilai 0 sebanyak {zero_dob_years} baris, {percentage:.2%} dari total baris data\")\n",
    "print(f\"Rata -rata umur nasabah {dob_years_avg:.2f}, Median umur nasabah {dob_years_median}\")\n"
   ]
  },
  {
   "cell_type": "markdown",
   "id": "f7c8058a",
   "metadata": {},
   "source": [
    "Data yang memiliki nilai 0 ini akan di isi dengan nilai rata - rata umur nasabah. Karena persentase data bermasalah ini hanya 0.47% dari total baris data, seharusnya tidak berpengaruh banyak."
   ]
  },
  {
   "cell_type": "code",
   "execution_count": 28,
   "id": "615842d9",
   "metadata": {},
   "outputs": [],
   "source": [
    "# Atasi masalah pada kolom `dob_years`, jika terdapat masalah\n",
    "data.loc[data['dob_years'] == 0, 'dob_years'] = dob_years_avg"
   ]
  },
  {
   "cell_type": "code",
   "execution_count": 29,
   "id": "2afa52f9",
   "metadata": {},
   "outputs": [
    {
     "data": {
      "text/plain": [
       "0"
      ]
     },
     "execution_count": 29,
     "metadata": {},
     "output_type": "execute_result"
    }
   ],
   "source": [
    "# Periksa hasilnya - pastikan bahwa masalahnya telah diperbaiki\n",
    "data[(data['dob_years'] == 0)]['purpose'].count()"
   ]
  },
  {
   "cell_type": "code",
   "execution_count": 30,
   "id": "adb2dda8",
   "metadata": {},
   "outputs": [
    {
     "data": {
      "text/plain": [
       "array(['married', 'civil partnership', 'widow / widower', 'divorced',\n",
       "       'unmarried'], dtype=object)"
      ]
     },
     "execution_count": 30,
     "metadata": {},
     "output_type": "execute_result"
    }
   ],
   "source": [
    "# Mari kita lihat nilai untuk kolom ini\n",
    "data['family_status'].unique()\n"
   ]
  },
  {
   "cell_type": "code",
   "execution_count": 31,
   "id": "9a935b00",
   "metadata": {},
   "outputs": [],
   "source": [
    "# Atasi nilai yang bermasalah di `family_status`, jika ada\n",
    "data.loc[data['family_status'] == 'unmarried', 'family_status'] = 'single'\n"
   ]
  },
  {
   "cell_type": "code",
   "execution_count": 32,
   "id": "26320f21",
   "metadata": {},
   "outputs": [
    {
     "data": {
      "text/plain": [
       "array(['married', 'civil partnership', 'widow / widower', 'divorced',\n",
       "       'single'], dtype=object)"
      ]
     },
     "execution_count": 32,
     "metadata": {},
     "output_type": "execute_result"
    }
   ],
   "source": [
    "# Periksa hasilnya - pastikan nilainya telah diperbaiki\n",
    "data['family_status'].unique()"
   ]
  },
  {
   "cell_type": "code",
   "execution_count": 33,
   "id": "39d21307",
   "metadata": {},
   "outputs": [
    {
     "data": {
      "text/plain": [
       "gender\n",
       "F      14236\n",
       "M       7288\n",
       "XNA        1\n",
       "Name: count, dtype: int64"
      ]
     },
     "execution_count": 33,
     "metadata": {},
     "output_type": "execute_result"
    }
   ],
   "source": [
    "# Mari kita liat nilai dalam kolom ini\n",
    "data['gender'].value_counts()"
   ]
  },
  {
   "cell_type": "code",
   "execution_count": 34,
   "id": "dc4959f0",
   "metadata": {},
   "outputs": [],
   "source": [
    "# Atasi nilai-nilai yang bermasalah, jika ada\n",
    "data.loc[data['gender'] == 'XNA', 'gender'] = 'F'"
   ]
  },
  {
   "cell_type": "code",
   "execution_count": 35,
   "id": "cf62ef88",
   "metadata": {},
   "outputs": [
    {
     "data": {
      "text/plain": [
       "gender\n",
       "F    14237\n",
       "M     7288\n",
       "Name: count, dtype: int64"
      ]
     },
     "execution_count": 35,
     "metadata": {},
     "output_type": "execute_result"
    }
   ],
   "source": [
    "# Periksa hasilnya - pastikan bahwa masalahnya telah diperbaiki\n",
    "data['gender'].value_counts()"
   ]
  },
  {
   "cell_type": "code",
   "execution_count": 36,
   "id": "bb9c7fcc",
   "metadata": {},
   "outputs": [
    {
     "data": {
      "text/plain": [
       "income_type\n",
       "employee                       11119\n",
       "business                        5085\n",
       "retiree                         3856\n",
       "civil servant                   1459\n",
       "unemployed                         2\n",
       "entrepreneur                       2\n",
       "student                            1\n",
       "paternity / maternity leave        1\n",
       "Name: count, dtype: int64"
      ]
     },
     "execution_count": 36,
     "metadata": {},
     "output_type": "execute_result"
    }
   ],
   "source": [
    "# Mari kita lihat nilai dalam kolom ini\n",
    "data['income_type'].value_counts()"
   ]
  },
  {
   "cell_type": "code",
   "execution_count": 37,
   "id": "149c7484",
   "metadata": {},
   "outputs": [],
   "source": [
    "# Atasi nilai yang bermasalah, jika ada\n",
    "data.loc[data['income_type'] == 'paternity / maternity leave', 'income_type'] = 'employee'"
   ]
  },
  {
   "cell_type": "code",
   "execution_count": 38,
   "id": "ff80559b",
   "metadata": {},
   "outputs": [
    {
     "data": {
      "text/plain": [
       "income_type\n",
       "employee         11120\n",
       "business          5085\n",
       "retiree           3856\n",
       "civil servant     1459\n",
       "unemployed           2\n",
       "entrepreneur         2\n",
       "student              1\n",
       "Name: count, dtype: int64"
      ]
     },
     "execution_count": 38,
     "metadata": {},
     "output_type": "execute_result"
    }
   ],
   "source": [
    "# Periksa hasilnya - pastikan bahwa masalahnya telah diperbaiki\n",
    "data['income_type'].value_counts()\n"
   ]
  },
  {
   "cell_type": "code",
   "execution_count": 39,
   "id": "9de4485e",
   "metadata": {},
   "outputs": [
    {
     "data": {
      "text/plain": [
       "71"
      ]
     },
     "execution_count": 39,
     "metadata": {},
     "output_type": "execute_result"
    }
   ],
   "source": [
    "# Periksa duplikat\n",
    "data.duplicated().sum()"
   ]
  },
  {
   "cell_type": "markdown",
   "id": "a8c6356a",
   "metadata": {},
   "source": [
    "Dataset asli memiliki duplikat eksplisit sebanyak 71 baris, data duplikat ini akan di hapus."
   ]
  },
  {
   "cell_type": "code",
   "execution_count": 40,
   "id": "e25e5d54",
   "metadata": {},
   "outputs": [],
   "source": [
    "# Atasi duplikat, jika ada\n",
    "data = data.drop_duplicates().reset_index(drop=True)"
   ]
  },
  {
   "cell_type": "code",
   "execution_count": 41,
   "id": "0208fc7b",
   "metadata": {},
   "outputs": [
    {
     "data": {
      "text/plain": [
       "0"
      ]
     },
     "execution_count": 41,
     "metadata": {},
     "output_type": "execute_result"
    }
   ],
   "source": [
    "# Lakukan pemeriksaan terakhir untuk mengecek apakah kita memiliki duplikat\n",
    "data.duplicated().sum()"
   ]
  },
  {
   "cell_type": "code",
   "execution_count": 42,
   "id": "b9e16742",
   "metadata": {},
   "outputs": [
    {
     "name": "stdout",
     "output_type": "stream",
     "text": [
      "<class 'pandas.core.frame.DataFrame'>\n",
      "RangeIndex: 21454 entries, 0 to 21453\n",
      "Data columns (total 12 columns):\n",
      " #   Column            Non-Null Count  Dtype  \n",
      "---  ------            --------------  -----  \n",
      " 0   children          21454 non-null  int64  \n",
      " 1   days_employed     19351 non-null  float64\n",
      " 2   dob_years         21454 non-null  float64\n",
      " 3   education         21454 non-null  object \n",
      " 4   education_id      21454 non-null  int64  \n",
      " 5   family_status     21454 non-null  object \n",
      " 6   family_status_id  21454 non-null  int64  \n",
      " 7   gender            21454 non-null  object \n",
      " 8   income_type       21454 non-null  object \n",
      " 9   debt              21454 non-null  int64  \n",
      " 10  total_income      19351 non-null  float64\n",
      " 11  purpose           21454 non-null  object \n",
      "dtypes: float64(3), int64(4), object(5)\n",
      "memory usage: 2.0+ MB\n"
     ]
    }
   ],
   "source": [
    "# Periksa ukuran dataset yang sekarang Anda miliki setelah manipulasi pertama yang Anda lakukan\n",
    "data.info()"
   ]
  },
  {
   "cell_type": "markdown",
   "id": "3e38cfb0",
   "metadata": {},
   "source": [
    "Jumlah baris dataset baru berkurang sebanyak 71 baris dari dataset lama karena duplikat eksplisit selain itu juga terdapat perubahan didalam nilai kolomnya yaitu :\n",
    "1. Perubahan penulisan menjadi lower case pada kolom 'education'.\n",
    "2. Perbaikan nilai negatif dan nilai maximum yang wajar pada kolom 'children'.\n",
    "3. Perbaikan nilai negatif pada kolom 'days_employed'.\n",
    "4. Perbaikan nilai 0 menjadi rata - rata pada kolom 'dob_years'.\n",
    "5. Perubahan status 'unmarried' menjadi 'single' pada kolom 'family_status'.\n",
    "6. Perubahan data 'XNA' menjadi 'F' pada kolom 'gender'.\n",
    "7. Perubahan data 'paternity / maternity leave' menjadi 'employee' pada kolom 'income_type'.\n"
   ]
  },
  {
   "cell_type": "markdown",
   "id": "8ed2459a",
   "metadata": {},
   "source": [
    "# Bekerja dengan nilai yang hilang"
   ]
  },
  {
   "cell_type": "code",
   "execution_count": 43,
   "id": "ae187d4e",
   "metadata": {},
   "outputs": [],
   "source": [
    "# Temukan dictionary\n",
    "family_status_id = ['married', 'civil partnership', 'widow / widower', 'divorced', 'single']\n",
    "education_id = [\"bachelor's degree\", 'secondary education', 'some college', 'primary education', 'graduate degree']\n"
   ]
  },
  {
   "cell_type": "markdown",
   "id": "9b0a6568",
   "metadata": {},
   "source": [
    "## Memperbaiki nilai yang hilang di `total_income`"
   ]
  },
  {
   "cell_type": "markdown",
   "id": "e23ce769",
   "metadata": {},
   "source": [
    "Terdapat data yang memiliki nilai yang hilang pada kolom 'total_income' dan 'days_employed'.\n",
    "Dari data di kedua kolom ini akan dilihat apakah nilai yang akan diperbaiki akan menggunakan nilai median atau rata -rata.\n"
   ]
  },
  {
   "cell_type": "code",
   "execution_count": 44,
   "id": "a5d4c6e2",
   "metadata": {},
   "outputs": [],
   "source": [
    "# Mari kita tulis sebuah fungsi untuk menghitung kategori usia\n",
    "def age_grouping(row):\n",
    "    dob_years = row['dob_years']\n",
    "    if dob_years <= 30 :\n",
    "        return '19-30'\n",
    "    if dob_years <= 40 :\n",
    "        return '31-40'\n",
    "    if dob_years <=50 :\n",
    "        return '41-50'\n",
    "    if dob_years <=60 :\n",
    "        return '51-60'\n",
    "    if dob_years <=70 :\n",
    "        return '61-70'\n",
    "    return '71+'\n",
    "\n",
    "\n",
    "    "
   ]
  },
  {
   "cell_type": "code",
   "execution_count": 45,
   "id": "655f2490",
   "metadata": {},
   "outputs": [
    {
     "name": "stdout",
     "output_type": "stream",
     "text": [
      "19-30\n",
      "31-40\n",
      "41-50\n",
      "51-60\n",
      "61-70\n",
      "71+\n"
     ]
    }
   ],
   "source": [
    "# Lakukan pengujian untuk melihat apakah fungsi Anda bekerja atau tidak\n",
    "cat1 = data.iloc[766]\n",
    "cat2 = data.iloc[8]\n",
    "cat3 = data.iloc[48]\n",
    "cat4 = data.iloc[122]\n",
    "cat5 = data.iloc[12]\n",
    "cat6 = data.iloc[850]\n",
    "\n",
    "print(age_grouping(cat1))\n",
    "print(age_grouping(cat2))\n",
    "print(age_grouping(cat3))\n",
    "print(age_grouping(cat4))\n",
    "print(age_grouping(cat5))\n",
    "print(age_grouping(cat6))"
   ]
  },
  {
   "cell_type": "code",
   "execution_count": 46,
   "id": "46ef87ef",
   "metadata": {},
   "outputs": [],
   "source": [
    "# Buatlah kolom baru berdasarkan fungsi\n",
    "data['age_group'] = data.apply(age_grouping, axis=1)\n"
   ]
  },
  {
   "cell_type": "code",
   "execution_count": 47,
   "id": "98b9be8e",
   "metadata": {},
   "outputs": [
    {
     "data": {
      "text/html": [
       "<div>\n",
       "<style scoped>\n",
       "    .dataframe tbody tr th:only-of-type {\n",
       "        vertical-align: middle;\n",
       "    }\n",
       "\n",
       "    .dataframe tbody tr th {\n",
       "        vertical-align: top;\n",
       "    }\n",
       "\n",
       "    .dataframe thead th {\n",
       "        text-align: right;\n",
       "    }\n",
       "</style>\n",
       "<table border=\"1\" class=\"dataframe\">\n",
       "  <thead>\n",
       "    <tr style=\"text-align: right;\">\n",
       "      <th></th>\n",
       "      <th>children</th>\n",
       "      <th>days_employed</th>\n",
       "      <th>dob_years</th>\n",
       "      <th>education</th>\n",
       "      <th>education_id</th>\n",
       "      <th>family_status</th>\n",
       "      <th>family_status_id</th>\n",
       "      <th>gender</th>\n",
       "      <th>income_type</th>\n",
       "      <th>debt</th>\n",
       "      <th>total_income</th>\n",
       "      <th>purpose</th>\n",
       "      <th>age_group</th>\n",
       "    </tr>\n",
       "  </thead>\n",
       "  <tbody>\n",
       "    <tr>\n",
       "      <th>0</th>\n",
       "      <td>1</td>\n",
       "      <td>8437.673028</td>\n",
       "      <td>42.0</td>\n",
       "      <td>bachelor's degree</td>\n",
       "      <td>0</td>\n",
       "      <td>married</td>\n",
       "      <td>0</td>\n",
       "      <td>F</td>\n",
       "      <td>employee</td>\n",
       "      <td>0</td>\n",
       "      <td>40620.102</td>\n",
       "      <td>purchase of the house</td>\n",
       "      <td>41-50</td>\n",
       "    </tr>\n",
       "    <tr>\n",
       "      <th>1</th>\n",
       "      <td>1</td>\n",
       "      <td>4024.803754</td>\n",
       "      <td>36.0</td>\n",
       "      <td>secondary education</td>\n",
       "      <td>1</td>\n",
       "      <td>married</td>\n",
       "      <td>0</td>\n",
       "      <td>F</td>\n",
       "      <td>employee</td>\n",
       "      <td>0</td>\n",
       "      <td>17932.802</td>\n",
       "      <td>car purchase</td>\n",
       "      <td>31-40</td>\n",
       "    </tr>\n",
       "    <tr>\n",
       "      <th>2</th>\n",
       "      <td>0</td>\n",
       "      <td>5623.422610</td>\n",
       "      <td>33.0</td>\n",
       "      <td>secondary education</td>\n",
       "      <td>1</td>\n",
       "      <td>married</td>\n",
       "      <td>0</td>\n",
       "      <td>M</td>\n",
       "      <td>employee</td>\n",
       "      <td>0</td>\n",
       "      <td>23341.752</td>\n",
       "      <td>purchase of the house</td>\n",
       "      <td>31-40</td>\n",
       "    </tr>\n",
       "    <tr>\n",
       "      <th>3</th>\n",
       "      <td>3</td>\n",
       "      <td>4124.747207</td>\n",
       "      <td>32.0</td>\n",
       "      <td>secondary education</td>\n",
       "      <td>1</td>\n",
       "      <td>married</td>\n",
       "      <td>0</td>\n",
       "      <td>M</td>\n",
       "      <td>employee</td>\n",
       "      <td>0</td>\n",
       "      <td>42820.568</td>\n",
       "      <td>supplementary education</td>\n",
       "      <td>31-40</td>\n",
       "    </tr>\n",
       "    <tr>\n",
       "      <th>4</th>\n",
       "      <td>0</td>\n",
       "      <td>340266.072047</td>\n",
       "      <td>53.0</td>\n",
       "      <td>secondary education</td>\n",
       "      <td>1</td>\n",
       "      <td>civil partnership</td>\n",
       "      <td>1</td>\n",
       "      <td>F</td>\n",
       "      <td>retiree</td>\n",
       "      <td>0</td>\n",
       "      <td>25378.572</td>\n",
       "      <td>to have a wedding</td>\n",
       "      <td>51-60</td>\n",
       "    </tr>\n",
       "    <tr>\n",
       "      <th>5</th>\n",
       "      <td>0</td>\n",
       "      <td>926.185831</td>\n",
       "      <td>27.0</td>\n",
       "      <td>bachelor's degree</td>\n",
       "      <td>0</td>\n",
       "      <td>civil partnership</td>\n",
       "      <td>1</td>\n",
       "      <td>M</td>\n",
       "      <td>business</td>\n",
       "      <td>0</td>\n",
       "      <td>40922.170</td>\n",
       "      <td>purchase of the house</td>\n",
       "      <td>19-30</td>\n",
       "    </tr>\n",
       "    <tr>\n",
       "      <th>6</th>\n",
       "      <td>0</td>\n",
       "      <td>2879.202052</td>\n",
       "      <td>43.0</td>\n",
       "      <td>bachelor's degree</td>\n",
       "      <td>0</td>\n",
       "      <td>married</td>\n",
       "      <td>0</td>\n",
       "      <td>F</td>\n",
       "      <td>business</td>\n",
       "      <td>0</td>\n",
       "      <td>38484.156</td>\n",
       "      <td>housing transactions</td>\n",
       "      <td>41-50</td>\n",
       "    </tr>\n",
       "    <tr>\n",
       "      <th>7</th>\n",
       "      <td>0</td>\n",
       "      <td>152.779569</td>\n",
       "      <td>50.0</td>\n",
       "      <td>secondary education</td>\n",
       "      <td>1</td>\n",
       "      <td>married</td>\n",
       "      <td>0</td>\n",
       "      <td>M</td>\n",
       "      <td>employee</td>\n",
       "      <td>0</td>\n",
       "      <td>21731.829</td>\n",
       "      <td>education</td>\n",
       "      <td>41-50</td>\n",
       "    </tr>\n",
       "    <tr>\n",
       "      <th>8</th>\n",
       "      <td>2</td>\n",
       "      <td>6929.865299</td>\n",
       "      <td>35.0</td>\n",
       "      <td>bachelor's degree</td>\n",
       "      <td>0</td>\n",
       "      <td>civil partnership</td>\n",
       "      <td>1</td>\n",
       "      <td>F</td>\n",
       "      <td>employee</td>\n",
       "      <td>0</td>\n",
       "      <td>15337.093</td>\n",
       "      <td>having a wedding</td>\n",
       "      <td>31-40</td>\n",
       "    </tr>\n",
       "    <tr>\n",
       "      <th>9</th>\n",
       "      <td>0</td>\n",
       "      <td>2188.756445</td>\n",
       "      <td>41.0</td>\n",
       "      <td>secondary education</td>\n",
       "      <td>1</td>\n",
       "      <td>married</td>\n",
       "      <td>0</td>\n",
       "      <td>M</td>\n",
       "      <td>employee</td>\n",
       "      <td>0</td>\n",
       "      <td>23108.150</td>\n",
       "      <td>purchase of the house for my family</td>\n",
       "      <td>41-50</td>\n",
       "    </tr>\n",
       "    <tr>\n",
       "      <th>10</th>\n",
       "      <td>2</td>\n",
       "      <td>4171.483647</td>\n",
       "      <td>36.0</td>\n",
       "      <td>bachelor's degree</td>\n",
       "      <td>0</td>\n",
       "      <td>married</td>\n",
       "      <td>0</td>\n",
       "      <td>M</td>\n",
       "      <td>business</td>\n",
       "      <td>0</td>\n",
       "      <td>18230.959</td>\n",
       "      <td>buy real estate</td>\n",
       "      <td>31-40</td>\n",
       "    </tr>\n",
       "    <tr>\n",
       "      <th>11</th>\n",
       "      <td>0</td>\n",
       "      <td>792.701887</td>\n",
       "      <td>40.0</td>\n",
       "      <td>secondary education</td>\n",
       "      <td>1</td>\n",
       "      <td>married</td>\n",
       "      <td>0</td>\n",
       "      <td>F</td>\n",
       "      <td>employee</td>\n",
       "      <td>0</td>\n",
       "      <td>12331.077</td>\n",
       "      <td>buy commercial real estate</td>\n",
       "      <td>31-40</td>\n",
       "    </tr>\n",
       "    <tr>\n",
       "      <th>12</th>\n",
       "      <td>0</td>\n",
       "      <td>NaN</td>\n",
       "      <td>65.0</td>\n",
       "      <td>secondary education</td>\n",
       "      <td>1</td>\n",
       "      <td>civil partnership</td>\n",
       "      <td>1</td>\n",
       "      <td>M</td>\n",
       "      <td>retiree</td>\n",
       "      <td>0</td>\n",
       "      <td>NaN</td>\n",
       "      <td>to have a wedding</td>\n",
       "      <td>61-70</td>\n",
       "    </tr>\n",
       "    <tr>\n",
       "      <th>13</th>\n",
       "      <td>0</td>\n",
       "      <td>1846.641941</td>\n",
       "      <td>54.0</td>\n",
       "      <td>some college</td>\n",
       "      <td>2</td>\n",
       "      <td>married</td>\n",
       "      <td>0</td>\n",
       "      <td>F</td>\n",
       "      <td>employee</td>\n",
       "      <td>0</td>\n",
       "      <td>20873.317</td>\n",
       "      <td>car purchase</td>\n",
       "      <td>51-60</td>\n",
       "    </tr>\n",
       "    <tr>\n",
       "      <th>14</th>\n",
       "      <td>0</td>\n",
       "      <td>1844.956182</td>\n",
       "      <td>56.0</td>\n",
       "      <td>bachelor's degree</td>\n",
       "      <td>0</td>\n",
       "      <td>civil partnership</td>\n",
       "      <td>1</td>\n",
       "      <td>F</td>\n",
       "      <td>business</td>\n",
       "      <td>1</td>\n",
       "      <td>26420.466</td>\n",
       "      <td>buy residential real estate</td>\n",
       "      <td>51-60</td>\n",
       "    </tr>\n",
       "  </tbody>\n",
       "</table>\n",
       "</div>"
      ],
      "text/plain": [
       "    children  days_employed  dob_years            education  education_id  \\\n",
       "0          1    8437.673028       42.0    bachelor's degree             0   \n",
       "1          1    4024.803754       36.0  secondary education             1   \n",
       "2          0    5623.422610       33.0  secondary education             1   \n",
       "3          3    4124.747207       32.0  secondary education             1   \n",
       "4          0  340266.072047       53.0  secondary education             1   \n",
       "5          0     926.185831       27.0    bachelor's degree             0   \n",
       "6          0    2879.202052       43.0    bachelor's degree             0   \n",
       "7          0     152.779569       50.0  secondary education             1   \n",
       "8          2    6929.865299       35.0    bachelor's degree             0   \n",
       "9          0    2188.756445       41.0  secondary education             1   \n",
       "10         2    4171.483647       36.0    bachelor's degree             0   \n",
       "11         0     792.701887       40.0  secondary education             1   \n",
       "12         0            NaN       65.0  secondary education             1   \n",
       "13         0    1846.641941       54.0         some college             2   \n",
       "14         0    1844.956182       56.0    bachelor's degree             0   \n",
       "\n",
       "        family_status  family_status_id gender income_type  debt  \\\n",
       "0             married                 0      F    employee     0   \n",
       "1             married                 0      F    employee     0   \n",
       "2             married                 0      M    employee     0   \n",
       "3             married                 0      M    employee     0   \n",
       "4   civil partnership                 1      F     retiree     0   \n",
       "5   civil partnership                 1      M    business     0   \n",
       "6             married                 0      F    business     0   \n",
       "7             married                 0      M    employee     0   \n",
       "8   civil partnership                 1      F    employee     0   \n",
       "9             married                 0      M    employee     0   \n",
       "10            married                 0      M    business     0   \n",
       "11            married                 0      F    employee     0   \n",
       "12  civil partnership                 1      M     retiree     0   \n",
       "13            married                 0      F    employee     0   \n",
       "14  civil partnership                 1      F    business     1   \n",
       "\n",
       "    total_income                              purpose age_group  \n",
       "0      40620.102                purchase of the house     41-50  \n",
       "1      17932.802                         car purchase     31-40  \n",
       "2      23341.752                purchase of the house     31-40  \n",
       "3      42820.568              supplementary education     31-40  \n",
       "4      25378.572                    to have a wedding     51-60  \n",
       "5      40922.170                purchase of the house     19-30  \n",
       "6      38484.156                 housing transactions     41-50  \n",
       "7      21731.829                            education     41-50  \n",
       "8      15337.093                     having a wedding     31-40  \n",
       "9      23108.150  purchase of the house for my family     41-50  \n",
       "10     18230.959                      buy real estate     31-40  \n",
       "11     12331.077           buy commercial real estate     31-40  \n",
       "12           NaN                    to have a wedding     61-70  \n",
       "13     20873.317                         car purchase     51-60  \n",
       "14     26420.466          buy residential real estate     51-60  "
      ]
     },
     "execution_count": 47,
     "metadata": {},
     "output_type": "execute_result"
    }
   ],
   "source": [
    "# Periksa bagaimana nilai di dalam kolom baru\n",
    "data.head(15)"
   ]
  },
  {
   "cell_type": "code",
   "execution_count": 48,
   "id": "d78c1524",
   "metadata": {},
   "outputs": [
    {
     "data": {
      "text/html": [
       "<div>\n",
       "<style scoped>\n",
       "    .dataframe tbody tr th:only-of-type {\n",
       "        vertical-align: middle;\n",
       "    }\n",
       "\n",
       "    .dataframe tbody tr th {\n",
       "        vertical-align: top;\n",
       "    }\n",
       "\n",
       "    .dataframe thead th {\n",
       "        text-align: right;\n",
       "    }\n",
       "</style>\n",
       "<table border=\"1\" class=\"dataframe\">\n",
       "  <thead>\n",
       "    <tr style=\"text-align: right;\">\n",
       "      <th></th>\n",
       "      <th>children</th>\n",
       "      <th>days_employed</th>\n",
       "      <th>dob_years</th>\n",
       "      <th>education</th>\n",
       "      <th>education_id</th>\n",
       "      <th>family_status</th>\n",
       "      <th>family_status_id</th>\n",
       "      <th>gender</th>\n",
       "      <th>income_type</th>\n",
       "      <th>debt</th>\n",
       "      <th>total_income</th>\n",
       "      <th>purpose</th>\n",
       "      <th>age_group</th>\n",
       "    </tr>\n",
       "  </thead>\n",
       "  <tbody>\n",
       "    <tr>\n",
       "      <th>0</th>\n",
       "      <td>1</td>\n",
       "      <td>8437.673028</td>\n",
       "      <td>42.0</td>\n",
       "      <td>bachelor's degree</td>\n",
       "      <td>0</td>\n",
       "      <td>married</td>\n",
       "      <td>0</td>\n",
       "      <td>F</td>\n",
       "      <td>employee</td>\n",
       "      <td>0</td>\n",
       "      <td>40620.102</td>\n",
       "      <td>purchase of the house</td>\n",
       "      <td>41-50</td>\n",
       "    </tr>\n",
       "    <tr>\n",
       "      <th>1</th>\n",
       "      <td>1</td>\n",
       "      <td>4024.803754</td>\n",
       "      <td>36.0</td>\n",
       "      <td>secondary education</td>\n",
       "      <td>1</td>\n",
       "      <td>married</td>\n",
       "      <td>0</td>\n",
       "      <td>F</td>\n",
       "      <td>employee</td>\n",
       "      <td>0</td>\n",
       "      <td>17932.802</td>\n",
       "      <td>car purchase</td>\n",
       "      <td>31-40</td>\n",
       "    </tr>\n",
       "    <tr>\n",
       "      <th>2</th>\n",
       "      <td>0</td>\n",
       "      <td>5623.422610</td>\n",
       "      <td>33.0</td>\n",
       "      <td>secondary education</td>\n",
       "      <td>1</td>\n",
       "      <td>married</td>\n",
       "      <td>0</td>\n",
       "      <td>M</td>\n",
       "      <td>employee</td>\n",
       "      <td>0</td>\n",
       "      <td>23341.752</td>\n",
       "      <td>purchase of the house</td>\n",
       "      <td>31-40</td>\n",
       "    </tr>\n",
       "    <tr>\n",
       "      <th>3</th>\n",
       "      <td>3</td>\n",
       "      <td>4124.747207</td>\n",
       "      <td>32.0</td>\n",
       "      <td>secondary education</td>\n",
       "      <td>1</td>\n",
       "      <td>married</td>\n",
       "      <td>0</td>\n",
       "      <td>M</td>\n",
       "      <td>employee</td>\n",
       "      <td>0</td>\n",
       "      <td>42820.568</td>\n",
       "      <td>supplementary education</td>\n",
       "      <td>31-40</td>\n",
       "    </tr>\n",
       "    <tr>\n",
       "      <th>4</th>\n",
       "      <td>0</td>\n",
       "      <td>340266.072047</td>\n",
       "      <td>53.0</td>\n",
       "      <td>secondary education</td>\n",
       "      <td>1</td>\n",
       "      <td>civil partnership</td>\n",
       "      <td>1</td>\n",
       "      <td>F</td>\n",
       "      <td>retiree</td>\n",
       "      <td>0</td>\n",
       "      <td>25378.572</td>\n",
       "      <td>to have a wedding</td>\n",
       "      <td>51-60</td>\n",
       "    </tr>\n",
       "    <tr>\n",
       "      <th>...</th>\n",
       "      <td>...</td>\n",
       "      <td>...</td>\n",
       "      <td>...</td>\n",
       "      <td>...</td>\n",
       "      <td>...</td>\n",
       "      <td>...</td>\n",
       "      <td>...</td>\n",
       "      <td>...</td>\n",
       "      <td>...</td>\n",
       "      <td>...</td>\n",
       "      <td>...</td>\n",
       "      <td>...</td>\n",
       "      <td>...</td>\n",
       "    </tr>\n",
       "    <tr>\n",
       "      <th>21449</th>\n",
       "      <td>1</td>\n",
       "      <td>4529.316663</td>\n",
       "      <td>43.0</td>\n",
       "      <td>secondary education</td>\n",
       "      <td>1</td>\n",
       "      <td>civil partnership</td>\n",
       "      <td>1</td>\n",
       "      <td>F</td>\n",
       "      <td>business</td>\n",
       "      <td>0</td>\n",
       "      <td>35966.698</td>\n",
       "      <td>housing transactions</td>\n",
       "      <td>41-50</td>\n",
       "    </tr>\n",
       "    <tr>\n",
       "      <th>21450</th>\n",
       "      <td>0</td>\n",
       "      <td>343937.404131</td>\n",
       "      <td>67.0</td>\n",
       "      <td>secondary education</td>\n",
       "      <td>1</td>\n",
       "      <td>married</td>\n",
       "      <td>0</td>\n",
       "      <td>F</td>\n",
       "      <td>retiree</td>\n",
       "      <td>0</td>\n",
       "      <td>24959.969</td>\n",
       "      <td>purchase of a car</td>\n",
       "      <td>61-70</td>\n",
       "    </tr>\n",
       "    <tr>\n",
       "      <th>21451</th>\n",
       "      <td>1</td>\n",
       "      <td>2113.346888</td>\n",
       "      <td>38.0</td>\n",
       "      <td>secondary education</td>\n",
       "      <td>1</td>\n",
       "      <td>civil partnership</td>\n",
       "      <td>1</td>\n",
       "      <td>M</td>\n",
       "      <td>employee</td>\n",
       "      <td>1</td>\n",
       "      <td>14347.610</td>\n",
       "      <td>property</td>\n",
       "      <td>31-40</td>\n",
       "    </tr>\n",
       "    <tr>\n",
       "      <th>21452</th>\n",
       "      <td>3</td>\n",
       "      <td>3112.481705</td>\n",
       "      <td>38.0</td>\n",
       "      <td>secondary education</td>\n",
       "      <td>1</td>\n",
       "      <td>married</td>\n",
       "      <td>0</td>\n",
       "      <td>M</td>\n",
       "      <td>employee</td>\n",
       "      <td>1</td>\n",
       "      <td>39054.888</td>\n",
       "      <td>buying my own car</td>\n",
       "      <td>31-40</td>\n",
       "    </tr>\n",
       "    <tr>\n",
       "      <th>21453</th>\n",
       "      <td>2</td>\n",
       "      <td>1984.507589</td>\n",
       "      <td>40.0</td>\n",
       "      <td>secondary education</td>\n",
       "      <td>1</td>\n",
       "      <td>married</td>\n",
       "      <td>0</td>\n",
       "      <td>F</td>\n",
       "      <td>employee</td>\n",
       "      <td>0</td>\n",
       "      <td>13127.587</td>\n",
       "      <td>to buy a car</td>\n",
       "      <td>31-40</td>\n",
       "    </tr>\n",
       "  </tbody>\n",
       "</table>\n",
       "<p>19351 rows × 13 columns</p>\n",
       "</div>"
      ],
      "text/plain": [
       "       children  days_employed  dob_years            education  education_id  \\\n",
       "0             1    8437.673028       42.0    bachelor's degree             0   \n",
       "1             1    4024.803754       36.0  secondary education             1   \n",
       "2             0    5623.422610       33.0  secondary education             1   \n",
       "3             3    4124.747207       32.0  secondary education             1   \n",
       "4             0  340266.072047       53.0  secondary education             1   \n",
       "...         ...            ...        ...                  ...           ...   \n",
       "21449         1    4529.316663       43.0  secondary education             1   \n",
       "21450         0  343937.404131       67.0  secondary education             1   \n",
       "21451         1    2113.346888       38.0  secondary education             1   \n",
       "21452         3    3112.481705       38.0  secondary education             1   \n",
       "21453         2    1984.507589       40.0  secondary education             1   \n",
       "\n",
       "           family_status  family_status_id gender income_type  debt  \\\n",
       "0                married                 0      F    employee     0   \n",
       "1                married                 0      F    employee     0   \n",
       "2                married                 0      M    employee     0   \n",
       "3                married                 0      M    employee     0   \n",
       "4      civil partnership                 1      F     retiree     0   \n",
       "...                  ...               ...    ...         ...   ...   \n",
       "21449  civil partnership                 1      F    business     0   \n",
       "21450            married                 0      F     retiree     0   \n",
       "21451  civil partnership                 1      M    employee     1   \n",
       "21452            married                 0      M    employee     1   \n",
       "21453            married                 0      F    employee     0   \n",
       "\n",
       "       total_income                  purpose age_group  \n",
       "0         40620.102    purchase of the house     41-50  \n",
       "1         17932.802             car purchase     31-40  \n",
       "2         23341.752    purchase of the house     31-40  \n",
       "3         42820.568  supplementary education     31-40  \n",
       "4         25378.572        to have a wedding     51-60  \n",
       "...             ...                      ...       ...  \n",
       "21449     35966.698     housing transactions     41-50  \n",
       "21450     24959.969        purchase of a car     61-70  \n",
       "21451     14347.610                 property     31-40  \n",
       "21452     39054.888        buying my own car     31-40  \n",
       "21453     13127.587             to buy a car     31-40  \n",
       "\n",
       "[19351 rows x 13 columns]"
      ]
     },
     "execution_count": 48,
     "metadata": {},
     "output_type": "execute_result"
    }
   ],
   "source": [
    "# Buat tabel tanpa nilai yang hilang dan tampilkan beberapa barisnya untuk memastikan semuanya berjalan dengan baik\n",
    "key = data['total_income'].isnull()\n",
    "data_notna = data.loc[~key]\n",
    "data_notna"
   ]
  },
  {
   "cell_type": "code",
   "execution_count": 49,
   "id": "f07e6a0f",
   "metadata": {},
   "outputs": [
    {
     "data": {
      "text/plain": [
       "age_group\n",
       "19-30    25817.674826\n",
       "31-40    28376.735148\n",
       "41-50    28332.806009\n",
       "51-60    25482.856294\n",
       "61-70    23245.390243\n",
       "71+      19575.454327\n",
       "Name: total_income, dtype: float64"
      ]
     },
     "execution_count": 49,
     "metadata": {},
     "output_type": "execute_result"
    }
   ],
   "source": [
    "# Perhatikan nilai rata-rata untuk pendapatan berdasarkan faktor yang telah Anda identifikasi\n",
    "data_notna.groupby('age_group')['total_income'].mean()"
   ]
  },
  {
   "cell_type": "code",
   "execution_count": 50,
   "id": "8aa99b08",
   "metadata": {
    "scrolled": true
   },
   "outputs": [
    {
     "data": {
      "text/plain": [
       "age_group\n",
       "19-30    22957.1850\n",
       "31-40    24825.1865\n",
       "41-50    24563.6500\n",
       "51-60    22056.7710\n",
       "61-70    19705.8550\n",
       "71+      18611.5935\n",
       "Name: total_income, dtype: float64"
      ]
     },
     "execution_count": 50,
     "metadata": {},
     "output_type": "execute_result"
    }
   ],
   "source": [
    "# Perhatikan nilai median untuk pendapatan berdasarkan faktor yang telah Anda identifikasi\n",
    "data_notna.groupby('age_group')['total_income'].median()"
   ]
  },
  {
   "cell_type": "markdown",
   "id": "c9194f15",
   "metadata": {},
   "source": [
    "Terdapat nilai outlier yang tinggi di jenis 'income_type' sehingga mempengaruhi nilai rata - rata 'total_income' berdasarkan 'age_group'. Maka nilai yang hilang ini akan di isi dengan nilai median per 'age_group'."
   ]
  },
  {
   "cell_type": "code",
   "execution_count": 51,
   "id": "f324f961",
   "metadata": {},
   "outputs": [],
   "source": [
    "#  Tulis fungsi yang akan kita gunakan untuk mengisi nilai yang hilang\n",
    "median_by_age_group = data_notna.groupby('age_group')['total_income'].median()\n",
    "\n",
    "def change_total_income(row) :\n",
    "    age_group = row['age_group']\n",
    "    return median_by_age_group[age_group]\n",
    "\n",
    "data['test'] = data[(data['total_income'].isnull())].apply(change_total_income, axis=1)\n",
    "    "
   ]
  },
  {
   "cell_type": "code",
   "execution_count": 52,
   "id": "114f4aa8",
   "metadata": {
    "scrolled": true
   },
   "outputs": [
    {
     "data": {
      "text/html": [
       "<div>\n",
       "<style scoped>\n",
       "    .dataframe tbody tr th:only-of-type {\n",
       "        vertical-align: middle;\n",
       "    }\n",
       "\n",
       "    .dataframe tbody tr th {\n",
       "        vertical-align: top;\n",
       "    }\n",
       "\n",
       "    .dataframe thead th {\n",
       "        text-align: right;\n",
       "    }\n",
       "</style>\n",
       "<table border=\"1\" class=\"dataframe\">\n",
       "  <thead>\n",
       "    <tr style=\"text-align: right;\">\n",
       "      <th></th>\n",
       "      <th>children</th>\n",
       "      <th>days_employed</th>\n",
       "      <th>dob_years</th>\n",
       "      <th>education</th>\n",
       "      <th>education_id</th>\n",
       "      <th>family_status</th>\n",
       "      <th>family_status_id</th>\n",
       "      <th>gender</th>\n",
       "      <th>income_type</th>\n",
       "      <th>debt</th>\n",
       "      <th>total_income</th>\n",
       "      <th>purpose</th>\n",
       "      <th>age_group</th>\n",
       "      <th>test</th>\n",
       "    </tr>\n",
       "  </thead>\n",
       "  <tbody>\n",
       "    <tr>\n",
       "      <th>12</th>\n",
       "      <td>0</td>\n",
       "      <td>NaN</td>\n",
       "      <td>65.0</td>\n",
       "      <td>secondary education</td>\n",
       "      <td>1</td>\n",
       "      <td>civil partnership</td>\n",
       "      <td>1</td>\n",
       "      <td>M</td>\n",
       "      <td>retiree</td>\n",
       "      <td>0</td>\n",
       "      <td>NaN</td>\n",
       "      <td>to have a wedding</td>\n",
       "      <td>61-70</td>\n",
       "      <td>19705.8550</td>\n",
       "    </tr>\n",
       "    <tr>\n",
       "      <th>26</th>\n",
       "      <td>0</td>\n",
       "      <td>NaN</td>\n",
       "      <td>41.0</td>\n",
       "      <td>secondary education</td>\n",
       "      <td>1</td>\n",
       "      <td>married</td>\n",
       "      <td>0</td>\n",
       "      <td>M</td>\n",
       "      <td>civil servant</td>\n",
       "      <td>0</td>\n",
       "      <td>NaN</td>\n",
       "      <td>education</td>\n",
       "      <td>41-50</td>\n",
       "      <td>24563.6500</td>\n",
       "    </tr>\n",
       "    <tr>\n",
       "      <th>29</th>\n",
       "      <td>0</td>\n",
       "      <td>NaN</td>\n",
       "      <td>63.0</td>\n",
       "      <td>secondary education</td>\n",
       "      <td>1</td>\n",
       "      <td>single</td>\n",
       "      <td>4</td>\n",
       "      <td>F</td>\n",
       "      <td>retiree</td>\n",
       "      <td>0</td>\n",
       "      <td>NaN</td>\n",
       "      <td>building a real estate</td>\n",
       "      <td>61-70</td>\n",
       "      <td>19705.8550</td>\n",
       "    </tr>\n",
       "    <tr>\n",
       "      <th>41</th>\n",
       "      <td>0</td>\n",
       "      <td>NaN</td>\n",
       "      <td>50.0</td>\n",
       "      <td>secondary education</td>\n",
       "      <td>1</td>\n",
       "      <td>married</td>\n",
       "      <td>0</td>\n",
       "      <td>F</td>\n",
       "      <td>civil servant</td>\n",
       "      <td>0</td>\n",
       "      <td>NaN</td>\n",
       "      <td>second-hand car purchase</td>\n",
       "      <td>41-50</td>\n",
       "      <td>24563.6500</td>\n",
       "    </tr>\n",
       "    <tr>\n",
       "      <th>55</th>\n",
       "      <td>0</td>\n",
       "      <td>NaN</td>\n",
       "      <td>54.0</td>\n",
       "      <td>secondary education</td>\n",
       "      <td>1</td>\n",
       "      <td>civil partnership</td>\n",
       "      <td>1</td>\n",
       "      <td>F</td>\n",
       "      <td>retiree</td>\n",
       "      <td>1</td>\n",
       "      <td>NaN</td>\n",
       "      <td>to have a wedding</td>\n",
       "      <td>51-60</td>\n",
       "      <td>22056.7710</td>\n",
       "    </tr>\n",
       "    <tr>\n",
       "      <th>65</th>\n",
       "      <td>0</td>\n",
       "      <td>NaN</td>\n",
       "      <td>21.0</td>\n",
       "      <td>secondary education</td>\n",
       "      <td>1</td>\n",
       "      <td>single</td>\n",
       "      <td>4</td>\n",
       "      <td>M</td>\n",
       "      <td>business</td>\n",
       "      <td>0</td>\n",
       "      <td>NaN</td>\n",
       "      <td>transactions with commercial real estate</td>\n",
       "      <td>19-30</td>\n",
       "      <td>22957.1850</td>\n",
       "    </tr>\n",
       "    <tr>\n",
       "      <th>67</th>\n",
       "      <td>0</td>\n",
       "      <td>NaN</td>\n",
       "      <td>52.0</td>\n",
       "      <td>bachelor's degree</td>\n",
       "      <td>0</td>\n",
       "      <td>married</td>\n",
       "      <td>0</td>\n",
       "      <td>F</td>\n",
       "      <td>retiree</td>\n",
       "      <td>0</td>\n",
       "      <td>NaN</td>\n",
       "      <td>purchase of the house for my family</td>\n",
       "      <td>51-60</td>\n",
       "      <td>22056.7710</td>\n",
       "    </tr>\n",
       "    <tr>\n",
       "      <th>72</th>\n",
       "      <td>1</td>\n",
       "      <td>NaN</td>\n",
       "      <td>32.0</td>\n",
       "      <td>bachelor's degree</td>\n",
       "      <td>0</td>\n",
       "      <td>married</td>\n",
       "      <td>0</td>\n",
       "      <td>M</td>\n",
       "      <td>civil servant</td>\n",
       "      <td>0</td>\n",
       "      <td>NaN</td>\n",
       "      <td>transactions with commercial real estate</td>\n",
       "      <td>31-40</td>\n",
       "      <td>24825.1865</td>\n",
       "    </tr>\n",
       "    <tr>\n",
       "      <th>82</th>\n",
       "      <td>2</td>\n",
       "      <td>NaN</td>\n",
       "      <td>50.0</td>\n",
       "      <td>bachelor's degree</td>\n",
       "      <td>0</td>\n",
       "      <td>married</td>\n",
       "      <td>0</td>\n",
       "      <td>F</td>\n",
       "      <td>employee</td>\n",
       "      <td>0</td>\n",
       "      <td>NaN</td>\n",
       "      <td>housing</td>\n",
       "      <td>41-50</td>\n",
       "      <td>24563.6500</td>\n",
       "    </tr>\n",
       "    <tr>\n",
       "      <th>83</th>\n",
       "      <td>0</td>\n",
       "      <td>NaN</td>\n",
       "      <td>52.0</td>\n",
       "      <td>secondary education</td>\n",
       "      <td>1</td>\n",
       "      <td>married</td>\n",
       "      <td>0</td>\n",
       "      <td>M</td>\n",
       "      <td>employee</td>\n",
       "      <td>0</td>\n",
       "      <td>NaN</td>\n",
       "      <td>housing</td>\n",
       "      <td>51-60</td>\n",
       "      <td>22056.7710</td>\n",
       "    </tr>\n",
       "  </tbody>\n",
       "</table>\n",
       "</div>"
      ],
      "text/plain": [
       "    children  days_employed  dob_years            education  education_id  \\\n",
       "12         0            NaN       65.0  secondary education             1   \n",
       "26         0            NaN       41.0  secondary education             1   \n",
       "29         0            NaN       63.0  secondary education             1   \n",
       "41         0            NaN       50.0  secondary education             1   \n",
       "55         0            NaN       54.0  secondary education             1   \n",
       "65         0            NaN       21.0  secondary education             1   \n",
       "67         0            NaN       52.0    bachelor's degree             0   \n",
       "72         1            NaN       32.0    bachelor's degree             0   \n",
       "82         2            NaN       50.0    bachelor's degree             0   \n",
       "83         0            NaN       52.0  secondary education             1   \n",
       "\n",
       "        family_status  family_status_id gender    income_type  debt  \\\n",
       "12  civil partnership                 1      M        retiree     0   \n",
       "26            married                 0      M  civil servant     0   \n",
       "29             single                 4      F        retiree     0   \n",
       "41            married                 0      F  civil servant     0   \n",
       "55  civil partnership                 1      F        retiree     1   \n",
       "65             single                 4      M       business     0   \n",
       "67            married                 0      F        retiree     0   \n",
       "72            married                 0      M  civil servant     0   \n",
       "82            married                 0      F       employee     0   \n",
       "83            married                 0      M       employee     0   \n",
       "\n",
       "    total_income                                   purpose age_group  \\\n",
       "12           NaN                         to have a wedding     61-70   \n",
       "26           NaN                                 education     41-50   \n",
       "29           NaN                    building a real estate     61-70   \n",
       "41           NaN                  second-hand car purchase     41-50   \n",
       "55           NaN                         to have a wedding     51-60   \n",
       "65           NaN  transactions with commercial real estate     19-30   \n",
       "67           NaN       purchase of the house for my family     51-60   \n",
       "72           NaN  transactions with commercial real estate     31-40   \n",
       "82           NaN                                   housing     41-50   \n",
       "83           NaN                                   housing     51-60   \n",
       "\n",
       "          test  \n",
       "12  19705.8550  \n",
       "26  24563.6500  \n",
       "29  19705.8550  \n",
       "41  24563.6500  \n",
       "55  22056.7710  \n",
       "65  22957.1850  \n",
       "67  22056.7710  \n",
       "72  24825.1865  \n",
       "82  24563.6500  \n",
       "83  22056.7710  "
      ]
     },
     "execution_count": 52,
     "metadata": {},
     "output_type": "execute_result"
    }
   ],
   "source": [
    "# Memeriksa bagaimana nilai di dalam kolom baru\n",
    "data[(data['total_income'].isnull())].head(10)"
   ]
  },
  {
   "cell_type": "code",
   "execution_count": 53,
   "id": "2564ab02",
   "metadata": {},
   "outputs": [],
   "source": [
    "# Terapkan fungsi tersebut ke setiap baris\n",
    "data['total_income'] = data['total_income'].fillna(data['test'])"
   ]
  },
  {
   "cell_type": "code",
   "execution_count": 54,
   "id": "e4bcf1f5",
   "metadata": {},
   "outputs": [
    {
     "data": {
      "text/plain": [
       "0"
      ]
     },
     "execution_count": 54,
     "metadata": {},
     "output_type": "execute_result"
    }
   ],
   "source": [
    "# Periksa apakah kita mendapatkan kesalahandata_\n",
    "data['total_income'].isnull().sum()"
   ]
  },
  {
   "cell_type": "code",
   "execution_count": 55,
   "id": "99e1e6ef",
   "metadata": {
    "scrolled": true
   },
   "outputs": [
    {
     "data": {
      "text/html": [
       "<div>\n",
       "<style scoped>\n",
       "    .dataframe tbody tr th:only-of-type {\n",
       "        vertical-align: middle;\n",
       "    }\n",
       "\n",
       "    .dataframe tbody tr th {\n",
       "        vertical-align: top;\n",
       "    }\n",
       "\n",
       "    .dataframe thead th {\n",
       "        text-align: right;\n",
       "    }\n",
       "</style>\n",
       "<table border=\"1\" class=\"dataframe\">\n",
       "  <thead>\n",
       "    <tr style=\"text-align: right;\">\n",
       "      <th></th>\n",
       "      <th>children</th>\n",
       "      <th>days_employed</th>\n",
       "      <th>dob_years</th>\n",
       "      <th>education</th>\n",
       "      <th>education_id</th>\n",
       "      <th>family_status</th>\n",
       "      <th>family_status_id</th>\n",
       "      <th>gender</th>\n",
       "      <th>income_type</th>\n",
       "      <th>debt</th>\n",
       "      <th>total_income</th>\n",
       "      <th>purpose</th>\n",
       "      <th>age_group</th>\n",
       "      <th>test</th>\n",
       "    </tr>\n",
       "  </thead>\n",
       "  <tbody>\n",
       "    <tr>\n",
       "      <th>0</th>\n",
       "      <td>1</td>\n",
       "      <td>8437.673028</td>\n",
       "      <td>42.0</td>\n",
       "      <td>bachelor's degree</td>\n",
       "      <td>0</td>\n",
       "      <td>married</td>\n",
       "      <td>0</td>\n",
       "      <td>F</td>\n",
       "      <td>employee</td>\n",
       "      <td>0</td>\n",
       "      <td>40620.102</td>\n",
       "      <td>purchase of the house</td>\n",
       "      <td>41-50</td>\n",
       "      <td>NaN</td>\n",
       "    </tr>\n",
       "    <tr>\n",
       "      <th>1</th>\n",
       "      <td>1</td>\n",
       "      <td>4024.803754</td>\n",
       "      <td>36.0</td>\n",
       "      <td>secondary education</td>\n",
       "      <td>1</td>\n",
       "      <td>married</td>\n",
       "      <td>0</td>\n",
       "      <td>F</td>\n",
       "      <td>employee</td>\n",
       "      <td>0</td>\n",
       "      <td>17932.802</td>\n",
       "      <td>car purchase</td>\n",
       "      <td>31-40</td>\n",
       "      <td>NaN</td>\n",
       "    </tr>\n",
       "    <tr>\n",
       "      <th>2</th>\n",
       "      <td>0</td>\n",
       "      <td>5623.422610</td>\n",
       "      <td>33.0</td>\n",
       "      <td>secondary education</td>\n",
       "      <td>1</td>\n",
       "      <td>married</td>\n",
       "      <td>0</td>\n",
       "      <td>M</td>\n",
       "      <td>employee</td>\n",
       "      <td>0</td>\n",
       "      <td>23341.752</td>\n",
       "      <td>purchase of the house</td>\n",
       "      <td>31-40</td>\n",
       "      <td>NaN</td>\n",
       "    </tr>\n",
       "    <tr>\n",
       "      <th>3</th>\n",
       "      <td>3</td>\n",
       "      <td>4124.747207</td>\n",
       "      <td>32.0</td>\n",
       "      <td>secondary education</td>\n",
       "      <td>1</td>\n",
       "      <td>married</td>\n",
       "      <td>0</td>\n",
       "      <td>M</td>\n",
       "      <td>employee</td>\n",
       "      <td>0</td>\n",
       "      <td>42820.568</td>\n",
       "      <td>supplementary education</td>\n",
       "      <td>31-40</td>\n",
       "      <td>NaN</td>\n",
       "    </tr>\n",
       "    <tr>\n",
       "      <th>4</th>\n",
       "      <td>0</td>\n",
       "      <td>340266.072047</td>\n",
       "      <td>53.0</td>\n",
       "      <td>secondary education</td>\n",
       "      <td>1</td>\n",
       "      <td>civil partnership</td>\n",
       "      <td>1</td>\n",
       "      <td>F</td>\n",
       "      <td>retiree</td>\n",
       "      <td>0</td>\n",
       "      <td>25378.572</td>\n",
       "      <td>to have a wedding</td>\n",
       "      <td>51-60</td>\n",
       "      <td>NaN</td>\n",
       "    </tr>\n",
       "    <tr>\n",
       "      <th>5</th>\n",
       "      <td>0</td>\n",
       "      <td>926.185831</td>\n",
       "      <td>27.0</td>\n",
       "      <td>bachelor's degree</td>\n",
       "      <td>0</td>\n",
       "      <td>civil partnership</td>\n",
       "      <td>1</td>\n",
       "      <td>M</td>\n",
       "      <td>business</td>\n",
       "      <td>0</td>\n",
       "      <td>40922.170</td>\n",
       "      <td>purchase of the house</td>\n",
       "      <td>19-30</td>\n",
       "      <td>NaN</td>\n",
       "    </tr>\n",
       "    <tr>\n",
       "      <th>6</th>\n",
       "      <td>0</td>\n",
       "      <td>2879.202052</td>\n",
       "      <td>43.0</td>\n",
       "      <td>bachelor's degree</td>\n",
       "      <td>0</td>\n",
       "      <td>married</td>\n",
       "      <td>0</td>\n",
       "      <td>F</td>\n",
       "      <td>business</td>\n",
       "      <td>0</td>\n",
       "      <td>38484.156</td>\n",
       "      <td>housing transactions</td>\n",
       "      <td>41-50</td>\n",
       "      <td>NaN</td>\n",
       "    </tr>\n",
       "    <tr>\n",
       "      <th>7</th>\n",
       "      <td>0</td>\n",
       "      <td>152.779569</td>\n",
       "      <td>50.0</td>\n",
       "      <td>secondary education</td>\n",
       "      <td>1</td>\n",
       "      <td>married</td>\n",
       "      <td>0</td>\n",
       "      <td>M</td>\n",
       "      <td>employee</td>\n",
       "      <td>0</td>\n",
       "      <td>21731.829</td>\n",
       "      <td>education</td>\n",
       "      <td>41-50</td>\n",
       "      <td>NaN</td>\n",
       "    </tr>\n",
       "    <tr>\n",
       "      <th>8</th>\n",
       "      <td>2</td>\n",
       "      <td>6929.865299</td>\n",
       "      <td>35.0</td>\n",
       "      <td>bachelor's degree</td>\n",
       "      <td>0</td>\n",
       "      <td>civil partnership</td>\n",
       "      <td>1</td>\n",
       "      <td>F</td>\n",
       "      <td>employee</td>\n",
       "      <td>0</td>\n",
       "      <td>15337.093</td>\n",
       "      <td>having a wedding</td>\n",
       "      <td>31-40</td>\n",
       "      <td>NaN</td>\n",
       "    </tr>\n",
       "    <tr>\n",
       "      <th>9</th>\n",
       "      <td>0</td>\n",
       "      <td>2188.756445</td>\n",
       "      <td>41.0</td>\n",
       "      <td>secondary education</td>\n",
       "      <td>1</td>\n",
       "      <td>married</td>\n",
       "      <td>0</td>\n",
       "      <td>M</td>\n",
       "      <td>employee</td>\n",
       "      <td>0</td>\n",
       "      <td>23108.150</td>\n",
       "      <td>purchase of the house for my family</td>\n",
       "      <td>41-50</td>\n",
       "      <td>NaN</td>\n",
       "    </tr>\n",
       "  </tbody>\n",
       "</table>\n",
       "</div>"
      ],
      "text/plain": [
       "   children  days_employed  dob_years            education  education_id  \\\n",
       "0         1    8437.673028       42.0    bachelor's degree             0   \n",
       "1         1    4024.803754       36.0  secondary education             1   \n",
       "2         0    5623.422610       33.0  secondary education             1   \n",
       "3         3    4124.747207       32.0  secondary education             1   \n",
       "4         0  340266.072047       53.0  secondary education             1   \n",
       "5         0     926.185831       27.0    bachelor's degree             0   \n",
       "6         0    2879.202052       43.0    bachelor's degree             0   \n",
       "7         0     152.779569       50.0  secondary education             1   \n",
       "8         2    6929.865299       35.0    bachelor's degree             0   \n",
       "9         0    2188.756445       41.0  secondary education             1   \n",
       "\n",
       "       family_status  family_status_id gender income_type  debt  total_income  \\\n",
       "0            married                 0      F    employee     0     40620.102   \n",
       "1            married                 0      F    employee     0     17932.802   \n",
       "2            married                 0      M    employee     0     23341.752   \n",
       "3            married                 0      M    employee     0     42820.568   \n",
       "4  civil partnership                 1      F     retiree     0     25378.572   \n",
       "5  civil partnership                 1      M    business     0     40922.170   \n",
       "6            married                 0      F    business     0     38484.156   \n",
       "7            married                 0      M    employee     0     21731.829   \n",
       "8  civil partnership                 1      F    employee     0     15337.093   \n",
       "9            married                 0      M    employee     0     23108.150   \n",
       "\n",
       "                               purpose age_group  test  \n",
       "0                purchase of the house     41-50   NaN  \n",
       "1                         car purchase     31-40   NaN  \n",
       "2                purchase of the house     31-40   NaN  \n",
       "3              supplementary education     31-40   NaN  \n",
       "4                    to have a wedding     51-60   NaN  \n",
       "5                purchase of the house     19-30   NaN  \n",
       "6                 housing transactions     41-50   NaN  \n",
       "7                            education     41-50   NaN  \n",
       "8                     having a wedding     31-40   NaN  \n",
       "9  purchase of the house for my family     41-50   NaN  "
      ]
     },
     "execution_count": 55,
     "metadata": {},
     "output_type": "execute_result"
    }
   ],
   "source": [
    "data[data['test'].isnull()].head(10)"
   ]
  },
  {
   "cell_type": "code",
   "execution_count": 56,
   "id": "cf24227d",
   "metadata": {},
   "outputs": [],
   "source": [
    "# Ganti nilai yang hilang jika terdapat kesalahan"
   ]
  },
  {
   "cell_type": "code",
   "execution_count": 57,
   "id": "03dae98f",
   "metadata": {},
   "outputs": [
    {
     "name": "stdout",
     "output_type": "stream",
     "text": [
      "<class 'pandas.core.frame.DataFrame'>\n",
      "RangeIndex: 21454 entries, 0 to 21453\n",
      "Data columns (total 14 columns):\n",
      " #   Column            Non-Null Count  Dtype  \n",
      "---  ------            --------------  -----  \n",
      " 0   children          21454 non-null  int64  \n",
      " 1   days_employed     19351 non-null  float64\n",
      " 2   dob_years         21454 non-null  float64\n",
      " 3   education         21454 non-null  object \n",
      " 4   education_id      21454 non-null  int64  \n",
      " 5   family_status     21454 non-null  object \n",
      " 6   family_status_id  21454 non-null  int64  \n",
      " 7   gender            21454 non-null  object \n",
      " 8   income_type       21454 non-null  object \n",
      " 9   debt              21454 non-null  int64  \n",
      " 10  total_income      21454 non-null  float64\n",
      " 11  purpose           21454 non-null  object \n",
      " 12  age_group         21454 non-null  object \n",
      " 13  test              2103 non-null   float64\n",
      "dtypes: float64(4), int64(4), object(6)\n",
      "memory usage: 2.3+ MB\n"
     ]
    }
   ],
   "source": [
    "# Periksa jumlah entri di kolom\n",
    "data.info()"
   ]
  },
  {
   "cell_type": "markdown",
   "id": "00dd925a",
   "metadata": {},
   "source": [
    "##  Memperbaiki nilai di `days_employed`"
   ]
  },
  {
   "cell_type": "code",
   "execution_count": 58,
   "id": "c90625e7",
   "metadata": {
    "pycharm": {
     "name": "#%%\n"
    }
   },
   "outputs": [
    {
     "data": {
      "text/plain": [
       "income_type\n",
       "business           1547.382223\n",
       "civil servant      2689.368353\n",
       "employee           1574.429209\n",
       "entrepreneur        520.848083\n",
       "retiree          365213.306266\n",
       "student             578.751554\n",
       "unemployed       366413.652744\n",
       "Name: days_employed, dtype: float64"
      ]
     },
     "execution_count": 58,
     "metadata": {},
     "output_type": "execute_result"
    }
   ],
   "source": [
    "# Distribusi median dari `days_employed` berdasarkan parameter yang Anda identifikasi\n",
    "data_notna.groupby('income_type')['days_employed'].median()\n"
   ]
  },
  {
   "cell_type": "code",
   "execution_count": 59,
   "id": "19d95da1",
   "metadata": {},
   "outputs": [
    {
     "data": {
      "text/plain": [
       "income_type\n",
       "business           2111.524398\n",
       "civil servant      3399.896902\n",
       "employee           2326.596097\n",
       "entrepreneur        520.848083\n",
       "retiree          365003.491245\n",
       "student             578.751554\n",
       "unemployed       366413.652744\n",
       "Name: days_employed, dtype: float64"
      ]
     },
     "execution_count": 59,
     "metadata": {},
     "output_type": "execute_result"
    }
   ],
   "source": [
    "# Distribusi rata-rata dari `days_employed` berdasarkan parameter yang Anda identifikasi\n",
    "data_notna.groupby('income_type')['days_employed'].mean()"
   ]
  },
  {
   "cell_type": "markdown",
   "id": "2dfde444",
   "metadata": {},
   "source": [
    "Nilai yang hilang akan di ganti dengan nilai median 'days_employed'. Karena data days employed juga memiliki nilai outlier ekstrim."
   ]
  },
  {
   "cell_type": "code",
   "execution_count": 60,
   "id": "564b36cf",
   "metadata": {},
   "outputs": [],
   "source": [
    "# Mari tulis fungsi yang menghitung rata-rata atau median (tergantung keputusan Anda) berdasarkan parameter yang Anda identifikasi\n",
    "median_by_income_type = data_notna.groupby('income_type')['days_employed'].median()\n"
   ]
  },
  {
   "cell_type": "code",
   "execution_count": 61,
   "id": "0d5a4258",
   "metadata": {},
   "outputs": [
    {
     "data": {
      "text/plain": [
       "income_type\n",
       "business           1547.382223\n",
       "civil servant      2689.368353\n",
       "employee           1574.429209\n",
       "entrepreneur        520.848083\n",
       "retiree          365213.306266\n",
       "student             578.751554\n",
       "unemployed       366413.652744\n",
       "Name: days_employed, dtype: float64"
      ]
     },
     "execution_count": 61,
     "metadata": {},
     "output_type": "execute_result"
    }
   ],
   "source": [
    "# Periksa apakah fungsi Anda dapat bekerja\n",
    "median_by_income_type"
   ]
  },
  {
   "cell_type": "code",
   "execution_count": 62,
   "id": "c5cafdaa",
   "metadata": {},
   "outputs": [],
   "source": [
    "# Terapkan fungsi ke income_type\n",
    "def change_days_employed(row) :\n",
    "    typ = row['income_type']\n",
    "    return median_by_income_type[typ]\n"
   ]
  },
  {
   "cell_type": "code",
   "execution_count": 63,
   "id": "72312cde",
   "metadata": {},
   "outputs": [
    {
     "data": {
      "text/plain": [
       "2689.3683533043886"
      ]
     },
     "execution_count": 63,
     "metadata": {},
     "output_type": "execute_result"
    }
   ],
   "source": [
    "# Periksa apakah fungsi Anda bekerja\n",
    "change_days_employed(data.iloc[110])\n"
   ]
  },
  {
   "cell_type": "code",
   "execution_count": 64,
   "id": "4cda44aa",
   "metadata": {},
   "outputs": [],
   "source": [
    "# Ganti nilai yang hilang\n",
    "data['test1'] = data[(data['days_employed'].isnull())].apply(change_days_employed, axis=1)\n",
    "data['days_employed'] = data['days_employed'].fillna(data['test1'])"
   ]
  },
  {
   "cell_type": "markdown",
   "id": "479c69fc",
   "metadata": {},
   "source": [
    "Cek baris data setelah dilakukan perbaikan"
   ]
  },
  {
   "cell_type": "code",
   "execution_count": 65,
   "id": "15fa3d1f",
   "metadata": {},
   "outputs": [
    {
     "name": "stdout",
     "output_type": "stream",
     "text": [
      "<class 'pandas.core.frame.DataFrame'>\n",
      "RangeIndex: 21454 entries, 0 to 21453\n",
      "Data columns (total 15 columns):\n",
      " #   Column            Non-Null Count  Dtype  \n",
      "---  ------            --------------  -----  \n",
      " 0   children          21454 non-null  int64  \n",
      " 1   days_employed     21454 non-null  float64\n",
      " 2   dob_years         21454 non-null  float64\n",
      " 3   education         21454 non-null  object \n",
      " 4   education_id      21454 non-null  int64  \n",
      " 5   family_status     21454 non-null  object \n",
      " 6   family_status_id  21454 non-null  int64  \n",
      " 7   gender            21454 non-null  object \n",
      " 8   income_type       21454 non-null  object \n",
      " 9   debt              21454 non-null  int64  \n",
      " 10  total_income      21454 non-null  float64\n",
      " 11  purpose           21454 non-null  object \n",
      " 12  age_group         21454 non-null  object \n",
      " 13  test              2103 non-null   float64\n",
      " 14  test1             2103 non-null   float64\n",
      "dtypes: float64(5), int64(4), object(6)\n",
      "memory usage: 2.5+ MB\n"
     ]
    }
   ],
   "source": [
    "# Periksa entri di semua kolom - pastikan kita memperbaiki semua nilai yang hilang\n",
    "data.info()"
   ]
  },
  {
   "cell_type": "markdown",
   "id": "6bfa1014",
   "metadata": {},
   "source": [
    "# Pengkategorian Data\n"
   ]
  },
  {
   "cell_type": "code",
   "execution_count": 66,
   "id": "56559435",
   "metadata": {
    "scrolled": true
   },
   "outputs": [
    {
     "data": {
      "text/plain": [
       "count                21454\n",
       "unique                  38\n",
       "top       wedding ceremony\n",
       "freq                   791\n",
       "Name: purpose, dtype: object"
      ]
     },
     "execution_count": 66,
     "metadata": {},
     "output_type": "execute_result"
    }
   ],
   "source": [
    "# Tampilkan nilai data yang Anda pilih untuk pengkategorian\n",
    "data['purpose'].describe()\n"
   ]
  },
  {
   "cell_type": "code",
   "execution_count": 67,
   "id": "f2b5ea50",
   "metadata": {},
   "outputs": [
    {
     "data": {
      "text/plain": [
       "['building a property',\n",
       " 'building a real estate',\n",
       " 'buy commercial real estate',\n",
       " 'buy real estate',\n",
       " 'buy residential real estate',\n",
       " 'buying a second-hand car',\n",
       " 'buying my own car',\n",
       " 'buying property for renting out',\n",
       " 'car',\n",
       " 'car purchase',\n",
       " 'cars',\n",
       " 'construction of own property',\n",
       " 'education',\n",
       " 'getting an education',\n",
       " 'getting higher education',\n",
       " 'going to university',\n",
       " 'having a wedding',\n",
       " 'housing',\n",
       " 'housing renovation',\n",
       " 'housing transactions',\n",
       " 'profile education',\n",
       " 'property',\n",
       " 'purchase of a car',\n",
       " 'purchase of my own house',\n",
       " 'purchase of the house',\n",
       " 'purchase of the house for my family',\n",
       " 'real estate transactions',\n",
       " 'second-hand car purchase',\n",
       " 'supplementary education',\n",
       " 'to become educated',\n",
       " 'to buy a car',\n",
       " 'to get a supplementary education',\n",
       " 'to have a wedding',\n",
       " 'to own a car',\n",
       " 'transactions with commercial real estate',\n",
       " 'transactions with my real estate',\n",
       " 'university education',\n",
       " 'wedding ceremony']"
      ]
     },
     "execution_count": 67,
     "metadata": {},
     "output_type": "execute_result"
    }
   ],
   "source": [
    "# Periksa nilai unik\n",
    "sorted(data['purpose'].unique())"
   ]
  },
  {
   "cell_type": "markdown",
   "id": "c0314b67",
   "metadata": {},
   "source": [
    "Tujuan 'purpose' dapat dikategorikan menjadi :\n",
    "1. 'property loan' pinjaman property.\n",
    "2. 'car loan' pinjaman mobil.\n",
    "3. 'education loan' pinjaman pendidikan.\n",
    "4. 'wedding loan' pinjaman pernikahan.\n",
    "\n"
   ]
  },
  {
   "cell_type": "code",
   "execution_count": 68,
   "id": "1840a746",
   "metadata": {},
   "outputs": [],
   "source": [
    "# Mari kita tulis sebuah fungsi untuk mengategorikan data berdasarkan topik umum\n",
    "def categorize_purpose(purpose) :\n",
    "    if 'car' in purpose :\n",
    "        return 'car loan'\n",
    "    if 'educ' in purpose or 'univ' in purpose :\n",
    "        return 'education loan'\n",
    "    if 'hous' in purpose or 'proper'in purpose or 'real' in purpose:\n",
    "        return 'property loan'\n",
    "    if 'wedd' in purpose :\n",
    "        return 'wedding loan'\n"
   ]
  },
  {
   "cell_type": "code",
   "execution_count": 69,
   "id": "e053f7c4",
   "metadata": {},
   "outputs": [],
   "source": [
    "# Buat kolom yang memuat kategori dan hitung nilainya\n",
    "data['purpose_group'] = data['purpose'].apply(categorize_purpose)"
   ]
  },
  {
   "cell_type": "code",
   "execution_count": 70,
   "id": "31a7afc8",
   "metadata": {},
   "outputs": [
    {
     "data": {
      "text/plain": [
       "purpose_group\n",
       "car loan           4306\n",
       "education loan     4013\n",
       "property loan     10811\n",
       "wedding loan       2324\n",
       "Name: purpose, dtype: int64"
      ]
     },
     "execution_count": 70,
     "metadata": {},
     "output_type": "execute_result"
    }
   ],
   "source": [
    "data.groupby('purpose_group')['purpose'].count()"
   ]
  },
  {
   "cell_type": "code",
   "execution_count": 71,
   "id": "be961a84",
   "metadata": {
    "scrolled": true
   },
   "outputs": [
    {
     "data": {
      "text/html": [
       "<div>\n",
       "<style scoped>\n",
       "    .dataframe tbody tr th:only-of-type {\n",
       "        vertical-align: middle;\n",
       "    }\n",
       "\n",
       "    .dataframe tbody tr th {\n",
       "        vertical-align: top;\n",
       "    }\n",
       "\n",
       "    .dataframe thead th {\n",
       "        text-align: right;\n",
       "    }\n",
       "</style>\n",
       "<table border=\"1\" class=\"dataframe\">\n",
       "  <thead>\n",
       "    <tr style=\"text-align: right;\">\n",
       "      <th></th>\n",
       "      <th>children</th>\n",
       "      <th>days_employed</th>\n",
       "      <th>dob_years</th>\n",
       "      <th>education_id</th>\n",
       "      <th>family_status_id</th>\n",
       "      <th>debt</th>\n",
       "      <th>total_income</th>\n",
       "      <th>test</th>\n",
       "      <th>test1</th>\n",
       "    </tr>\n",
       "  </thead>\n",
       "  <tbody>\n",
       "    <tr>\n",
       "      <th>count</th>\n",
       "      <td>21454.000000</td>\n",
       "      <td>21454.000000</td>\n",
       "      <td>21454.000000</td>\n",
       "      <td>21454.000000</td>\n",
       "      <td>21454.000000</td>\n",
       "      <td>21454.000000</td>\n",
       "      <td>21454.000000</td>\n",
       "      <td>2103.000000</td>\n",
       "      <td>2103.000000</td>\n",
       "    </tr>\n",
       "    <tr>\n",
       "      <th>mean</th>\n",
       "      <td>0.491190</td>\n",
       "      <td>67059.271572</td>\n",
       "      <td>43.475046</td>\n",
       "      <td>0.817097</td>\n",
       "      <td>0.973898</td>\n",
       "      <td>0.081150</td>\n",
       "      <td>26448.175726</td>\n",
       "      <td>23325.214831</td>\n",
       "      <td>68389.297777</td>\n",
       "    </tr>\n",
       "    <tr>\n",
       "      <th>std</th>\n",
       "      <td>0.797313</td>\n",
       "      <td>139199.747434</td>\n",
       "      <td>12.213470</td>\n",
       "      <td>0.548674</td>\n",
       "      <td>1.421567</td>\n",
       "      <td>0.273072</td>\n",
       "      <td>15689.317737</td>\n",
       "      <td>1638.632896</td>\n",
       "      <td>140770.512812</td>\n",
       "    </tr>\n",
       "    <tr>\n",
       "      <th>min</th>\n",
       "      <td>0.000000</td>\n",
       "      <td>24.141633</td>\n",
       "      <td>19.000000</td>\n",
       "      <td>0.000000</td>\n",
       "      <td>0.000000</td>\n",
       "      <td>0.000000</td>\n",
       "      <td>3306.762000</td>\n",
       "      <td>18611.593500</td>\n",
       "      <td>520.848083</td>\n",
       "    </tr>\n",
       "    <tr>\n",
       "      <th>25%</th>\n",
       "      <td>0.000000</td>\n",
       "      <td>1023.662702</td>\n",
       "      <td>33.000000</td>\n",
       "      <td>1.000000</td>\n",
       "      <td>0.000000</td>\n",
       "      <td>0.000000</td>\n",
       "      <td>17219.817250</td>\n",
       "      <td>22056.771000</td>\n",
       "      <td>1574.429209</td>\n",
       "    </tr>\n",
       "    <tr>\n",
       "      <th>50%</th>\n",
       "      <td>0.000000</td>\n",
       "      <td>1996.223132</td>\n",
       "      <td>43.000000</td>\n",
       "      <td>1.000000</td>\n",
       "      <td>0.000000</td>\n",
       "      <td>0.000000</td>\n",
       "      <td>23234.830000</td>\n",
       "      <td>24563.650000</td>\n",
       "      <td>1574.429209</td>\n",
       "    </tr>\n",
       "    <tr>\n",
       "      <th>75%</th>\n",
       "      <td>1.000000</td>\n",
       "      <td>5320.665263</td>\n",
       "      <td>53.000000</td>\n",
       "      <td>1.000000</td>\n",
       "      <td>1.000000</td>\n",
       "      <td>0.000000</td>\n",
       "      <td>31330.237250</td>\n",
       "      <td>24825.186500</td>\n",
       "      <td>2689.368353</td>\n",
       "    </tr>\n",
       "    <tr>\n",
       "      <th>max</th>\n",
       "      <td>5.000000</td>\n",
       "      <td>401755.400475</td>\n",
       "      <td>75.000000</td>\n",
       "      <td>4.000000</td>\n",
       "      <td>4.000000</td>\n",
       "      <td>1.000000</td>\n",
       "      <td>362496.645000</td>\n",
       "      <td>24825.186500</td>\n",
       "      <td>365213.306266</td>\n",
       "    </tr>\n",
       "  </tbody>\n",
       "</table>\n",
       "</div>"
      ],
      "text/plain": [
       "           children  days_employed     dob_years  education_id  \\\n",
       "count  21454.000000   21454.000000  21454.000000  21454.000000   \n",
       "mean       0.491190   67059.271572     43.475046      0.817097   \n",
       "std        0.797313  139199.747434     12.213470      0.548674   \n",
       "min        0.000000      24.141633     19.000000      0.000000   \n",
       "25%        0.000000    1023.662702     33.000000      1.000000   \n",
       "50%        0.000000    1996.223132     43.000000      1.000000   \n",
       "75%        1.000000    5320.665263     53.000000      1.000000   \n",
       "max        5.000000  401755.400475     75.000000      4.000000   \n",
       "\n",
       "       family_status_id          debt   total_income          test  \\\n",
       "count      21454.000000  21454.000000   21454.000000   2103.000000   \n",
       "mean           0.973898      0.081150   26448.175726  23325.214831   \n",
       "std            1.421567      0.273072   15689.317737   1638.632896   \n",
       "min            0.000000      0.000000    3306.762000  18611.593500   \n",
       "25%            0.000000      0.000000   17219.817250  22056.771000   \n",
       "50%            0.000000      0.000000   23234.830000  24563.650000   \n",
       "75%            1.000000      0.000000   31330.237250  24825.186500   \n",
       "max            4.000000      1.000000  362496.645000  24825.186500   \n",
       "\n",
       "               test1  \n",
       "count    2103.000000  \n",
       "mean    68389.297777  \n",
       "std    140770.512812  \n",
       "min       520.848083  \n",
       "25%      1574.429209  \n",
       "50%      1574.429209  \n",
       "75%      2689.368353  \n",
       "max    365213.306266  "
      ]
     },
     "execution_count": 71,
     "metadata": {},
     "output_type": "execute_result"
    }
   ],
   "source": [
    "# Lihat semua data numerik di kolom yang Anda pilih untuk pengkategorian\n",
    "data.describe()"
   ]
  },
  {
   "cell_type": "code",
   "execution_count": 72,
   "id": "748d25e8",
   "metadata": {
    "scrolled": true
   },
   "outputs": [
    {
     "data": {
      "text/html": [
       "<div>\n",
       "<style scoped>\n",
       "    .dataframe tbody tr th:only-of-type {\n",
       "        vertical-align: middle;\n",
       "    }\n",
       "\n",
       "    .dataframe tbody tr th {\n",
       "        vertical-align: top;\n",
       "    }\n",
       "\n",
       "    .dataframe thead th {\n",
       "        text-align: right;\n",
       "    }\n",
       "</style>\n",
       "<table border=\"1\" class=\"dataframe\">\n",
       "  <thead>\n",
       "    <tr style=\"text-align: right;\">\n",
       "      <th></th>\n",
       "      <th>days_employed</th>\n",
       "      <th>year_employed</th>\n",
       "    </tr>\n",
       "    <tr>\n",
       "      <th>income_type</th>\n",
       "      <th></th>\n",
       "      <th></th>\n",
       "    </tr>\n",
       "  </thead>\n",
       "  <tbody>\n",
       "    <tr>\n",
       "      <th>business</th>\n",
       "      <td>2055.865629</td>\n",
       "      <td>5.632509</td>\n",
       "    </tr>\n",
       "    <tr>\n",
       "      <th>civil servant</th>\n",
       "      <td>3329.185413</td>\n",
       "      <td>9.121056</td>\n",
       "    </tr>\n",
       "    <tr>\n",
       "      <th>employee</th>\n",
       "      <td>2253.991805</td>\n",
       "      <td>6.175320</td>\n",
       "    </tr>\n",
       "    <tr>\n",
       "      <th>entrepreneur</th>\n",
       "      <td>520.848083</td>\n",
       "      <td>1.426981</td>\n",
       "    </tr>\n",
       "    <tr>\n",
       "      <th>retiree</th>\n",
       "      <td>365024.642615</td>\n",
       "      <td>1000.067514</td>\n",
       "    </tr>\n",
       "    <tr>\n",
       "      <th>student</th>\n",
       "      <td>578.751554</td>\n",
       "      <td>1.585621</td>\n",
       "    </tr>\n",
       "    <tr>\n",
       "      <th>unemployed</th>\n",
       "      <td>366413.652744</td>\n",
       "      <td>1003.873021</td>\n",
       "    </tr>\n",
       "  </tbody>\n",
       "</table>\n",
       "</div>"
      ],
      "text/plain": [
       "               days_employed  year_employed\n",
       "income_type                                \n",
       "business         2055.865629       5.632509\n",
       "civil servant    3329.185413       9.121056\n",
       "employee         2253.991805       6.175320\n",
       "entrepreneur      520.848083       1.426981\n",
       "retiree        365024.642615    1000.067514\n",
       "student           578.751554       1.585621\n",
       "unemployed     366413.652744    1003.873021"
      ]
     },
     "execution_count": 72,
     "metadata": {},
     "output_type": "execute_result"
    }
   ],
   "source": [
    "# Dapatkan kesimpulan statistik untuk kolomnya\n",
    "days_employed_avg_grouped = data.groupby('income_type').agg({'days_employed' : 'mean'})\n",
    "days_employed_avg_grouped['year_employed'] = days_employed_avg_grouped['days_employed'] / 365\n",
    "days_employed_avg_grouped"
   ]
  },
  {
   "cell_type": "markdown",
   "id": "7a0913e6",
   "metadata": {},
   "source": [
    "Setelah diperbaiki, data di kolom 'days_employed' masih memiliki nilai yang tidak wajar. Jika dikelompokan berdasarkan 'income_type', kelompok 'retiree' dan 'unemployed' memiliki rata - rata tahun bekerja yang sangat tinggi sehingga untuk kolom 'days_employed' tidak dapat digunakan untuk analisa dan pengelompokan data."
   ]
  },
  {
   "cell_type": "markdown",
   "id": "fc1944d2",
   "metadata": {},
   "source": [
    "Kolom data numerik yang dapat dikategorikan adalah kolom 'total_income' karena data ini memiliki rentang nilai minimum dan maximum yang wajar."
   ]
  },
  {
   "cell_type": "code",
   "execution_count": 73,
   "id": "10c6fddd",
   "metadata": {},
   "outputs": [],
   "source": [
    "# Buat fungsi yang melakukan pengkategorian menjadi kelompok numerik yang berbeda berdasarkan rentang\n",
    "\n",
    "def income_range(row):\n",
    "    income = row['total_income']\n",
    "    if income <= 10000:\n",
    "        return '1000 - 10000'\n",
    "    if income <= 20000:\n",
    "        return '10000 - 20000'\n",
    "    if income <= 30000:\n",
    "        return '20000 - 30000'\n",
    "    if income <= 40000:\n",
    "        return '30000 - 40000'\n",
    "    if income <= 50000:\n",
    "        return '40000 - 50000'\n",
    "    if income <= 60000:\n",
    "        return '50000 - 60000'\n",
    "    if income <= 70000:\n",
    "        return '60000 - 70000'\n",
    "    if income <= 80000:\n",
    "        return '70000 - 80000'\n",
    "    if income <= 90000:\n",
    "        return '80000 - 90000'\n",
    "    if income <= 100000:\n",
    "        return '90000 - 100000'\n",
    "    return 'over 100000'\n",
    "\n"
   ]
  },
  {
   "cell_type": "code",
   "execution_count": 74,
   "id": "d4199685",
   "metadata": {},
   "outputs": [],
   "source": [
    "# Buat kolom yang memuat kategori\n",
    "data['income_group'] = data.apply(income_range,axis=1)"
   ]
  },
  {
   "cell_type": "code",
   "execution_count": 75,
   "id": "ce3ffbbe",
   "metadata": {
    "scrolled": true
   },
   "outputs": [
    {
     "data": {
      "text/plain": [
       "income_group\n",
       "1000 - 10000       926\n",
       "10000 - 20000     6652\n",
       "20000 - 30000     7957\n",
       "30000 - 40000     3107\n",
       "40000 - 50000     1492\n",
       "50000 - 60000      648\n",
       "60000 - 70000      294\n",
       "70000 - 80000      156\n",
       "80000 - 90000       83\n",
       "90000 - 100000      40\n",
       "over 100000         99\n",
       "Name: purpose, dtype: int64"
      ]
     },
     "execution_count": 75,
     "metadata": {},
     "output_type": "execute_result"
    }
   ],
   "source": [
    "# Hitung setiap nilai kategori untuk melihat pendistribusiannya\n",
    "data.groupby('income_group')['purpose'].count()"
   ]
  },
  {
   "cell_type": "markdown",
   "id": "a9637418",
   "metadata": {},
   "source": [
    "# Memeriksa hipotesis\n"
   ]
  },
  {
   "cell_type": "markdown",
   "id": "26ad9f52",
   "metadata": {},
   "source": [
    "**Apakah terdapat korelasi antara memiliki anak dengan probabilitas melakukan gagal bayar pinjaman?**"
   ]
  },
  {
   "cell_type": "code",
   "execution_count": 76,
   "id": "397099f9",
   "metadata": {
    "scrolled": true
   },
   "outputs": [
    {
     "data": {
      "text/html": [
       "<div>\n",
       "<style scoped>\n",
       "    .dataframe tbody tr th:only-of-type {\n",
       "        vertical-align: middle;\n",
       "    }\n",
       "\n",
       "    .dataframe tbody tr th {\n",
       "        vertical-align: top;\n",
       "    }\n",
       "\n",
       "    .dataframe thead th {\n",
       "        text-align: right;\n",
       "    }\n",
       "</style>\n",
       "<table border=\"1\" class=\"dataframe\">\n",
       "  <thead>\n",
       "    <tr style=\"text-align: right;\">\n",
       "      <th>debt</th>\n",
       "      <th>0</th>\n",
       "      <th>1</th>\n",
       "      <th>All</th>\n",
       "      <th>debt %</th>\n",
       "    </tr>\n",
       "    <tr>\n",
       "      <th>children</th>\n",
       "      <th></th>\n",
       "      <th></th>\n",
       "      <th></th>\n",
       "      <th></th>\n",
       "    </tr>\n",
       "  </thead>\n",
       "  <tbody>\n",
       "    <tr>\n",
       "      <th>0</th>\n",
       "      <td>13028</td>\n",
       "      <td>1063</td>\n",
       "      <td>14091</td>\n",
       "      <td>7.54</td>\n",
       "    </tr>\n",
       "    <tr>\n",
       "      <th>1</th>\n",
       "      <td>4410</td>\n",
       "      <td>445</td>\n",
       "      <td>4855</td>\n",
       "      <td>9.17</td>\n",
       "    </tr>\n",
       "    <tr>\n",
       "      <th>2</th>\n",
       "      <td>1858</td>\n",
       "      <td>194</td>\n",
       "      <td>2052</td>\n",
       "      <td>9.45</td>\n",
       "    </tr>\n",
       "    <tr>\n",
       "      <th>3</th>\n",
       "      <td>303</td>\n",
       "      <td>27</td>\n",
       "      <td>330</td>\n",
       "      <td>8.18</td>\n",
       "    </tr>\n",
       "    <tr>\n",
       "      <th>4</th>\n",
       "      <td>37</td>\n",
       "      <td>4</td>\n",
       "      <td>41</td>\n",
       "      <td>9.76</td>\n",
       "    </tr>\n",
       "    <tr>\n",
       "      <th>5</th>\n",
       "      <td>77</td>\n",
       "      <td>8</td>\n",
       "      <td>85</td>\n",
       "      <td>9.41</td>\n",
       "    </tr>\n",
       "    <tr>\n",
       "      <th>All</th>\n",
       "      <td>19713</td>\n",
       "      <td>1741</td>\n",
       "      <td>21454</td>\n",
       "      <td>8.12</td>\n",
       "    </tr>\n",
       "  </tbody>\n",
       "</table>\n",
       "</div>"
      ],
      "text/plain": [
       "debt          0     1    All  debt %\n",
       "children                            \n",
       "0         13028  1063  14091    7.54\n",
       "1          4410   445   4855    9.17\n",
       "2          1858   194   2052    9.45\n",
       "3           303    27    330    8.18\n",
       "4            37     4     41    9.76\n",
       "5            77     8     85    9.41\n",
       "All       19713  1741  21454    8.12"
      ]
     },
     "execution_count": 76,
     "metadata": {},
     "output_type": "execute_result"
    }
   ],
   "source": [
    "# Periksa data anak dan data gagal bayar pinjaman\n",
    "child_pivot = data.pivot_table(\n",
    "    index='children',\n",
    "    columns='debt',\n",
    "    values='purpose',\n",
    "    aggfunc='count',\n",
    "    margins=True)\n",
    "\n",
    "# Hitung persentase gagal bayar berdasarkan jumlah anak\n",
    "child_pivot['debt %'] = round((child_pivot[1] / child_pivot['All'])*100,2)\n",
    "child_pivot"
   ]
  },
  {
   "cell_type": "markdown",
   "id": "88bbcd65",
   "metadata": {},
   "source": [
    "**Kesimpulan**\n",
    "\n",
    "Nasabah yang tidak memiliki anak ('children' = 0) memiliki kemungkinan gagal bayar yang paling kecil yaitu 7.54% daripada nasabah yang memiliki anak.\n"
   ]
  },
  {
   "cell_type": "markdown",
   "id": "7ebbb7d9",
   "metadata": {},
   "source": [
    "**Apakah terdapat korelasi antara status keluarga dengan probabilitas melakukan gagal bayar pinjaman?**"
   ]
  },
  {
   "cell_type": "code",
   "execution_count": 77,
   "id": "cb350ce1",
   "metadata": {},
   "outputs": [
    {
     "data": {
      "text/html": [
       "<div>\n",
       "<style scoped>\n",
       "    .dataframe tbody tr th:only-of-type {\n",
       "        vertical-align: middle;\n",
       "    }\n",
       "\n",
       "    .dataframe tbody tr th {\n",
       "        vertical-align: top;\n",
       "    }\n",
       "\n",
       "    .dataframe thead th {\n",
       "        text-align: right;\n",
       "    }\n",
       "</style>\n",
       "<table border=\"1\" class=\"dataframe\">\n",
       "  <thead>\n",
       "    <tr style=\"text-align: right;\">\n",
       "      <th>debt</th>\n",
       "      <th>0</th>\n",
       "      <th>1</th>\n",
       "      <th>All</th>\n",
       "      <th>debt %</th>\n",
       "    </tr>\n",
       "    <tr>\n",
       "      <th>family_status</th>\n",
       "      <th></th>\n",
       "      <th></th>\n",
       "      <th></th>\n",
       "      <th></th>\n",
       "    </tr>\n",
       "  </thead>\n",
       "  <tbody>\n",
       "    <tr>\n",
       "      <th>civil partnership</th>\n",
       "      <td>3763</td>\n",
       "      <td>388</td>\n",
       "      <td>4151</td>\n",
       "      <td>9.35</td>\n",
       "    </tr>\n",
       "    <tr>\n",
       "      <th>divorced</th>\n",
       "      <td>1110</td>\n",
       "      <td>85</td>\n",
       "      <td>1195</td>\n",
       "      <td>7.11</td>\n",
       "    </tr>\n",
       "    <tr>\n",
       "      <th>married</th>\n",
       "      <td>11408</td>\n",
       "      <td>931</td>\n",
       "      <td>12339</td>\n",
       "      <td>7.55</td>\n",
       "    </tr>\n",
       "    <tr>\n",
       "      <th>single</th>\n",
       "      <td>2536</td>\n",
       "      <td>274</td>\n",
       "      <td>2810</td>\n",
       "      <td>9.75</td>\n",
       "    </tr>\n",
       "    <tr>\n",
       "      <th>widow / widower</th>\n",
       "      <td>896</td>\n",
       "      <td>63</td>\n",
       "      <td>959</td>\n",
       "      <td>6.57</td>\n",
       "    </tr>\n",
       "    <tr>\n",
       "      <th>All</th>\n",
       "      <td>19713</td>\n",
       "      <td>1741</td>\n",
       "      <td>21454</td>\n",
       "      <td>8.12</td>\n",
       "    </tr>\n",
       "  </tbody>\n",
       "</table>\n",
       "</div>"
      ],
      "text/plain": [
       "debt                   0     1    All  debt %\n",
       "family_status                                \n",
       "civil partnership   3763   388   4151    9.35\n",
       "divorced            1110    85   1195    7.11\n",
       "married            11408   931  12339    7.55\n",
       "single              2536   274   2810    9.75\n",
       "widow / widower      896    63    959    6.57\n",
       "All                19713  1741  21454    8.12"
      ]
     },
     "execution_count": 77,
     "metadata": {},
     "output_type": "execute_result"
    }
   ],
   "source": [
    "# Periksa data status keluarga dan data gagal bayar pinjaman\n",
    "family_pivot = data.pivot_table(\n",
    "    index='family_status',\n",
    "    columns='debt',\n",
    "    values='purpose',\n",
    "    aggfunc='count',\n",
    "    margins=True)\n",
    "\n",
    "# Hitung persentase gagal bayar berdasarkan status keluarga\n",
    "family_pivot['debt %'] = round((family_pivot[1] / family_pivot['All'])*100,2)\n",
    "family_pivot\n"
   ]
  },
  {
   "cell_type": "markdown",
   "id": "444c8645",
   "metadata": {},
   "source": [
    "**Kesimpulan**\n",
    "\n",
    "Nasabah yang tidak menikah ('single') memiliki kemungkinan gagal bayar paling tinggi sebesar 9.75%\n"
   ]
  },
  {
   "cell_type": "markdown",
   "id": "00fcb5a0",
   "metadata": {},
   "source": [
    "**Apakah terdapat korelasi antara tingkat pendapatan dengan probabilitas melakukan gagal bayar pinjaman?**"
   ]
  },
  {
   "cell_type": "code",
   "execution_count": 78,
   "id": "37383c08",
   "metadata": {},
   "outputs": [
    {
     "data": {
      "text/html": [
       "<div>\n",
       "<style scoped>\n",
       "    .dataframe tbody tr th:only-of-type {\n",
       "        vertical-align: middle;\n",
       "    }\n",
       "\n",
       "    .dataframe tbody tr th {\n",
       "        vertical-align: top;\n",
       "    }\n",
       "\n",
       "    .dataframe thead th {\n",
       "        text-align: right;\n",
       "    }\n",
       "</style>\n",
       "<table border=\"1\" class=\"dataframe\">\n",
       "  <thead>\n",
       "    <tr style=\"text-align: right;\">\n",
       "      <th>debt</th>\n",
       "      <th>0</th>\n",
       "      <th>1</th>\n",
       "      <th>All</th>\n",
       "      <th>debt %</th>\n",
       "    </tr>\n",
       "    <tr>\n",
       "      <th>income_group</th>\n",
       "      <th></th>\n",
       "      <th></th>\n",
       "      <th></th>\n",
       "      <th></th>\n",
       "    </tr>\n",
       "  </thead>\n",
       "  <tbody>\n",
       "    <tr>\n",
       "      <th>1000 - 10000</th>\n",
       "      <td>868</td>\n",
       "      <td>58</td>\n",
       "      <td>926</td>\n",
       "      <td>6.26</td>\n",
       "    </tr>\n",
       "    <tr>\n",
       "      <th>10000 - 20000</th>\n",
       "      <td>6090</td>\n",
       "      <td>562</td>\n",
       "      <td>6652</td>\n",
       "      <td>8.45</td>\n",
       "    </tr>\n",
       "    <tr>\n",
       "      <th>20000 - 30000</th>\n",
       "      <td>7272</td>\n",
       "      <td>685</td>\n",
       "      <td>7957</td>\n",
       "      <td>8.61</td>\n",
       "    </tr>\n",
       "    <tr>\n",
       "      <th>30000 - 40000</th>\n",
       "      <td>2865</td>\n",
       "      <td>242</td>\n",
       "      <td>3107</td>\n",
       "      <td>7.79</td>\n",
       "    </tr>\n",
       "    <tr>\n",
       "      <th>40000 - 50000</th>\n",
       "      <td>1390</td>\n",
       "      <td>102</td>\n",
       "      <td>1492</td>\n",
       "      <td>6.84</td>\n",
       "    </tr>\n",
       "    <tr>\n",
       "      <th>50000 - 60000</th>\n",
       "      <td>594</td>\n",
       "      <td>54</td>\n",
       "      <td>648</td>\n",
       "      <td>8.33</td>\n",
       "    </tr>\n",
       "    <tr>\n",
       "      <th>60000 - 70000</th>\n",
       "      <td>278</td>\n",
       "      <td>16</td>\n",
       "      <td>294</td>\n",
       "      <td>5.44</td>\n",
       "    </tr>\n",
       "    <tr>\n",
       "      <th>70000 - 80000</th>\n",
       "      <td>148</td>\n",
       "      <td>8</td>\n",
       "      <td>156</td>\n",
       "      <td>5.13</td>\n",
       "    </tr>\n",
       "    <tr>\n",
       "      <th>80000 - 90000</th>\n",
       "      <td>77</td>\n",
       "      <td>6</td>\n",
       "      <td>83</td>\n",
       "      <td>7.23</td>\n",
       "    </tr>\n",
       "    <tr>\n",
       "      <th>90000 - 100000</th>\n",
       "      <td>38</td>\n",
       "      <td>2</td>\n",
       "      <td>40</td>\n",
       "      <td>5.00</td>\n",
       "    </tr>\n",
       "    <tr>\n",
       "      <th>over 100000</th>\n",
       "      <td>93</td>\n",
       "      <td>6</td>\n",
       "      <td>99</td>\n",
       "      <td>6.06</td>\n",
       "    </tr>\n",
       "    <tr>\n",
       "      <th>All</th>\n",
       "      <td>19713</td>\n",
       "      <td>1741</td>\n",
       "      <td>21454</td>\n",
       "      <td>8.12</td>\n",
       "    </tr>\n",
       "  </tbody>\n",
       "</table>\n",
       "</div>"
      ],
      "text/plain": [
       "debt                0     1    All  debt %\n",
       "income_group                              \n",
       "1000 - 10000      868    58    926    6.26\n",
       "10000 - 20000    6090   562   6652    8.45\n",
       "20000 - 30000    7272   685   7957    8.61\n",
       "30000 - 40000    2865   242   3107    7.79\n",
       "40000 - 50000    1390   102   1492    6.84\n",
       "50000 - 60000     594    54    648    8.33\n",
       "60000 - 70000     278    16    294    5.44\n",
       "70000 - 80000     148     8    156    5.13\n",
       "80000 - 90000      77     6     83    7.23\n",
       "90000 - 100000     38     2     40    5.00\n",
       "over 100000        93     6     99    6.06\n",
       "All             19713  1741  21454    8.12"
      ]
     },
     "execution_count": 78,
     "metadata": {},
     "output_type": "execute_result"
    }
   ],
   "source": [
    "# Periksa data tingkat pendapatan dan data gagal bayar pinjaman\n",
    "income_pivot = data.pivot_table(\n",
    "    index='income_group',\n",
    "    columns='debt',\n",
    "    values='purpose',\n",
    "    aggfunc='count',\n",
    "    margins=True)\n",
    "\n",
    "# Hitung persentase gagal bayar berdasarkan tingkat pendapatan\n",
    "income_pivot['debt %'] = round((income_pivot[1] / income_pivot['All'])*100,2)\n",
    "income_pivot\n",
    "\n"
   ]
  },
  {
   "cell_type": "markdown",
   "id": "e02f3c52",
   "metadata": {},
   "source": [
    "**Kesimpulan**\n",
    "\n",
    "Nasabah yang berpenghasilan 20000-30000 memiliki kemungkinan gagal bayar paling tinggi sebesar 8.61%."
   ]
  },
  {
   "cell_type": "markdown",
   "id": "81ad65e4",
   "metadata": {},
   "source": [
    "**Bagaimana tujuan kredit memengaruhi persentase gagal bayar?**"
   ]
  },
  {
   "cell_type": "code",
   "execution_count": 79,
   "id": "913ad32a",
   "metadata": {
    "scrolled": true
   },
   "outputs": [
    {
     "data": {
      "text/html": [
       "<div>\n",
       "<style scoped>\n",
       "    .dataframe tbody tr th:only-of-type {\n",
       "        vertical-align: middle;\n",
       "    }\n",
       "\n",
       "    .dataframe tbody tr th {\n",
       "        vertical-align: top;\n",
       "    }\n",
       "\n",
       "    .dataframe thead th {\n",
       "        text-align: right;\n",
       "    }\n",
       "</style>\n",
       "<table border=\"1\" class=\"dataframe\">\n",
       "  <thead>\n",
       "    <tr style=\"text-align: right;\">\n",
       "      <th>debt</th>\n",
       "      <th>0</th>\n",
       "      <th>1</th>\n",
       "      <th>All</th>\n",
       "      <th>debt %</th>\n",
       "    </tr>\n",
       "    <tr>\n",
       "      <th>purpose_group</th>\n",
       "      <th></th>\n",
       "      <th></th>\n",
       "      <th></th>\n",
       "      <th></th>\n",
       "    </tr>\n",
       "  </thead>\n",
       "  <tbody>\n",
       "    <tr>\n",
       "      <th>car loan</th>\n",
       "      <td>3903</td>\n",
       "      <td>403</td>\n",
       "      <td>4306</td>\n",
       "      <td>9.36</td>\n",
       "    </tr>\n",
       "    <tr>\n",
       "      <th>education loan</th>\n",
       "      <td>3643</td>\n",
       "      <td>370</td>\n",
       "      <td>4013</td>\n",
       "      <td>9.22</td>\n",
       "    </tr>\n",
       "    <tr>\n",
       "      <th>property loan</th>\n",
       "      <td>10029</td>\n",
       "      <td>782</td>\n",
       "      <td>10811</td>\n",
       "      <td>7.23</td>\n",
       "    </tr>\n",
       "    <tr>\n",
       "      <th>wedding loan</th>\n",
       "      <td>2138</td>\n",
       "      <td>186</td>\n",
       "      <td>2324</td>\n",
       "      <td>8.00</td>\n",
       "    </tr>\n",
       "    <tr>\n",
       "      <th>All</th>\n",
       "      <td>19713</td>\n",
       "      <td>1741</td>\n",
       "      <td>21454</td>\n",
       "      <td>8.12</td>\n",
       "    </tr>\n",
       "  </tbody>\n",
       "</table>\n",
       "</div>"
      ],
      "text/plain": [
       "debt                0     1    All  debt %\n",
       "purpose_group                             \n",
       "car loan         3903   403   4306    9.36\n",
       "education loan   3643   370   4013    9.22\n",
       "property loan   10029   782  10811    7.23\n",
       "wedding loan     2138   186   2324    8.00\n",
       "All             19713  1741  21454    8.12"
      ]
     },
     "execution_count": 79,
     "metadata": {},
     "output_type": "execute_result"
    }
   ],
   "source": [
    "# Periksa persentase tingkat gagal bayar untuk setiap tujuan kredit dan lakukan penganalisisan\n",
    "purpose_pivot = data.pivot_table(\n",
    "    index='purpose_group',\n",
    "    columns='debt',\n",
    "    values='purpose',\n",
    "    aggfunc='count',\n",
    "    margins=True)\n",
    "\n",
    "purpose_pivot['debt %'] = round((purpose_pivot[1] / purpose_pivot['All'])*100,2)\n",
    "purpose_pivot\n",
    "\n",
    "\n"
   ]
  },
  {
   "cell_type": "markdown",
   "id": "2add614b",
   "metadata": {},
   "source": [
    "**Kesimpulan**\n",
    "\n",
    "Tujuan pinjaman mobil ('car loan') memiliki kemungkinan gagal bayar paling tinggi yaitu 9.36%\n"
   ]
  },
  {
   "cell_type": "markdown",
   "id": "7c9bff53",
   "metadata": {},
   "source": [
    "# Kesimpulan umum \n",
    "\n",
    "Terdapat data yang memiliki nilai yang hilang dari dataset asli sebesar 10% dari total baris data.\n",
    "Data nilai yang hilang ini memiliki karakteristik kolom 'total_income' dan 'days_employed' bernilai Nan tiap barisnya.\n",
    "\n",
    "Data yang memiliki nilai yang hilang selain memiliki distribusi data di kategori 'income_type' yang sama dengan dataset asli, juga memiliki persentase nasabah gagal bayar yang serupa.\n",
    "Terdapat 2 kemungkinan terjadinya hal ini :\n",
    "\n",
    "1. Data di kolom 'days_employed' & 'total_income' tidak di input.\n",
    "2. Terjadi error dalam proses tarik data di dataset asli sehingga menimbulkan nilai Nan. Selain itu data di kolom 'days_employed' juga memiliki nilai negatif.\n",
    "\n",
    "Karena data yang memiliki nilai yang hilang ini tidak terjadi secara acak maka data ini tidak bisa dihapus.\n",
    "\n",
    "Untuk memperbaiki data yang memiliki nilai yang hilang dilakukan :\n",
    "\n",
    "1. 'total_income' di isi dengan nilai median penghasilan per 'age_group'.\n",
    "2. 'days_employed' di isi dengan nilai median hari kerja per 'income_type'.\n",
    "3. Memperbaiki nilai negatif pada data 'days_employed'.\n",
    "\n",
    "Dataset asli juga memiliki duplikat eksplisit sebanyak 71 baris. Data ini dihapus pada data yang akan di analisa.\n",
    "\n",
    "Selain itu, dilakukan pengelompokan pada informasi yang ada di dataset agar dapat lebih mudah di analisa.\n",
    "\n",
    "Berdasarkan pengujian yang dilakukan terhadap dataset ini, kemungkinan gagal bayar paling tinggi dimiliki oleh nasabah dengan karakteristik :\n",
    "\n",
    "1. Nasabah yang mempunyai anak, memiliki kemungkinan gagal bayar lebih tinggi daripada nasabah yang tidak mempunyai anak.\n",
    "2. Nasabah yang tidak menikah ('single') memiliki kemungkinan gagal bayar paling tinggi.\n",
    "3. Nasabah dengan rentang penghasilan 20000-30000 memiliki kemungkinan gagal bayar paling tinggi.\n",
    "4. Tujuan pinjaman nasabah yang memiliki kemungkinan gagal bayar tertinggi adalah pinjaman mobil ('car_loan').\n",
    "\n",
    "\n",
    "\n",
    "\n"
   ]
  },
  {
   "cell_type": "code",
   "execution_count": null,
   "id": "cd1ab73a",
   "metadata": {},
   "outputs": [],
   "source": []
  }
 ],
 "metadata": {
  "kernelspec": {
   "display_name": "Python 3 (ipykernel)",
   "language": "python",
   "name": "python3"
  },
  "language_info": {
   "codemirror_mode": {
    "name": "ipython",
    "version": 3
   },
   "file_extension": ".py",
   "mimetype": "text/x-python",
   "name": "python",
   "nbconvert_exporter": "python",
   "pygments_lexer": "ipython3",
   "version": "3.10.11"
  },
  "toc": {
   "base_numbering": 1,
   "nav_menu": {},
   "number_sections": true,
   "sideBar": true,
   "skip_h1_title": false,
   "title_cell": "Table of Contents",
   "title_sidebar": "Contents",
   "toc_cell": false,
   "toc_position": {
    "height": "calc(100% - 180px)",
    "left": "10px",
    "top": "150px",
    "width": "384px"
   },
   "toc_section_display": true,
   "toc_window_display": true
  }
 },
 "nbformat": 4,
 "nbformat_minor": 5
}
